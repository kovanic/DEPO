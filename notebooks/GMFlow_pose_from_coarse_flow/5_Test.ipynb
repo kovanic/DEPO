{
 "cells": [
  {
   "cell_type": "code",
   "execution_count": 1,
   "id": "19161acc-2995-4209-918f-3bc601b465fc",
   "metadata": {
    "tags": []
   },
   "outputs": [],
   "source": [
    "%load_ext autoreload\n",
    "%autoreload 2"
   ]
  },
  {
   "cell_type": "code",
   "execution_count": 2,
   "id": "decedb4d-afe7-40d6-81be-9edfbf15d955",
   "metadata": {
    "tags": []
   },
   "outputs": [],
   "source": [
    "import sys\n",
    "sys.path.append('../../src')"
   ]
  },
  {
   "cell_type": "code",
   "execution_count": 3,
   "id": "a7ca3437-a97d-4dbf-a5ed-635ab14464eb",
   "metadata": {
    "tags": []
   },
   "outputs": [],
   "source": [
    "import warnings\n",
    "warnings.filterwarnings('ignore')"
   ]
  },
  {
   "cell_type": "code",
   "execution_count": 4,
   "id": "011cdf9c-599d-4a97-a8db-6ebd0a12c186",
   "metadata": {
    "tags": []
   },
   "outputs": [
    {
     "name": "stdout",
     "output_type": "stream",
     "text": [
      "Jupyter environment detected. Enabling Open3D WebVisualizer.\n",
      "[Open3D INFO] WebRTC GUI backend enabled.\n",
      "[Open3D INFO] WebRTCWindowSystem: HTTP handshake server disabled.\n"
     ]
    }
   ],
   "source": [
    "import torch\n",
    "from torch.utils.data import DataLoader\n",
    "\n",
    "from data.scannet.utils_scannet import ScanNetDataset\n",
    "from matching.gmflow_dense.gmflow_dense import GMflowDensePoseDeterministic\n",
    "from flow_regressors.regressors import DensePoseRegressorV7\n",
    "\n",
    "from training.train_deterministic import test\n",
    "from utils.model import load_checkpoint, count_parameters\n",
    "from utils.metrics import mAA, rotation_angle_distance_batch, vector_angle_distance_batch, mAA_max, mAA_sep\n",
    "\n",
    "import numpy as np\n",
    "from numpy.linalg import norm\n",
    "\n",
    "import matplotlib.pyplot as plt\n",
    "import seaborn as sns\n",
    "from matplotlib import rc\n",
    "import pandas as pd \n",
    "\n",
    "from tqdm.auto import tqdm\n",
    "import pickle\n",
    "from pathlib import Path\n",
    "import time"
   ]
  },
  {
   "cell_type": "code",
   "execution_count": 5,
   "id": "0f910f7d-6cc9-4959-aafc-5f9669913198",
   "metadata": {
    "tags": []
   },
   "outputs": [],
   "source": [
    "device = torch.device('cuda:0' if torch.cuda.is_available() else 'cpu')"
   ]
  },
  {
   "cell_type": "markdown",
   "id": "a9bfd19c-0ef4-4edc-9497-3269196f27a4",
   "metadata": {
    "tags": []
   },
   "source": [
    "### 0. Data"
   ]
  },
  {
   "cell_type": "code",
   "execution_count": 6,
   "id": "be5ba0ac-f8fb-4f5a-8bf1-42a536b0e0d1",
   "metadata": {
    "tags": []
   },
   "outputs": [],
   "source": [
    "test_data = ScanNetDataset(\n",
    "    root_dir='/home/project/ScanNet/scannet_test_1500/',\n",
    "    npz_path='/home/project/ScanNet/test.npz',\n",
    "    intrinsics_path='/home/project/ScanNet/intrinsics_test.npz',\n",
    "    calculate_flow=True\n",
    ")\n",
    "\n",
    "test_loader = DataLoader(test_data, batch_size=1, shuffle=False, drop_last=False, pin_memory=True, num_workers=0)"
   ]
  },
  {
   "cell_type": "markdown",
   "id": "e213275c-6f31-4e5a-b905-0f6400c30bba",
   "metadata": {},
   "source": [
    "## 1. Metrics"
   ]
  },
  {
   "cell_type": "code",
   "execution_count": 5,
   "id": "9b0380e8-8596-4c83-a589-67f19847d646",
   "metadata": {
    "tags": []
   },
   "outputs": [],
   "source": [
    "metrics = {}\n",
    "\n",
    "if Path('/home/project/code/results/scannet/metrics_gmflow').is_file():\n",
    "    with open('/home/project/code/results/scannet/metrics_gmflow', 'rb') as f:\n",
    "        metrics = pickle.load(f)"
   ]
  },
  {
   "cell_type": "markdown",
   "id": "2b5b3e8e-45fe-4453-8f1a-a7a559a8c019",
   "metadata": {},
   "source": [
    "### 1. Without fine-tuning (on coarse flow)"
   ]
  },
  {
   "cell_type": "code",
   "execution_count": 8,
   "id": "99327e5c-129e-445d-9f01-7b72e2d1a246",
   "metadata": {
    "tags": []
   },
   "outputs": [],
   "source": [
    "checkpoint_gmflow = load_checkpoint(\n",
    "    '/home/project/code/src/matching/gmflow/weights/pretrained/gmflow_with_refine_kitti-8d3b9786.pth',\n",
    "    device)\n",
    "\n",
    "checkpoint_regressor = load_checkpoint(\n",
    "    '/home/project/code/src/weights/COARSE_FLOW_EXP_1_4.pth',\n",
    "    device)"
   ]
  },
  {
   "cell_type": "code",
   "execution_count": 9,
   "id": "5fcb5f1c-7994-4781-9e63-cf75dd580ca7",
   "metadata": {
    "tags": []
   },
   "outputs": [],
   "source": [
    "regressor = DensePoseRegressorV7(init_loss_weights=[0.0, -3.0, -3.0])\n",
    "regressor.load_state_dict(checkpoint_regressor['model'])\n",
    "\n",
    "model = GMflowDensePoseDeterministic(regressor, fine_tuning=False)\n",
    "model.flow_module.load_state_dict(checkpoint_gmflow['model'])\n",
    "\n",
    "model.to(torch.float32)\n",
    "model.to(device);"
   ]
  },
  {
   "cell_type": "code",
   "execution_count": 10,
   "id": "dc1d8846-0ef3-4259-afaa-8ae44c102f85",
   "metadata": {
    "tags": []
   },
   "outputs": [
    {
     "name": "stderr",
     "output_type": "stream",
     "text": [
      "100%|█████████████████████████████████████████████████████████████████████████████████████████████████████████████████████| 375/375 [04:14<00:00,  1.47it/s]\n"
     ]
    }
   ],
   "source": [
    "results = test(model, test_loader, device)"
   ]
  },
  {
   "cell_type": "code",
   "execution_count": 11,
   "id": "2dec66d1-7264-45d8-ab98-2a5a97d1223e",
   "metadata": {
    "tags": []
   },
   "outputs": [],
   "source": [
    "name = \"GMFlow pretrained + shallow, w/o ft\"\n",
    "metrics[name] = {\n",
    "    'R_angle_distances': rotation_angle_distance_batch(results['R_gt'], results['R']),\n",
    "    't_angle_distances': vector_angle_distance_batch(results['t_gt'], results['t']),\n",
    "    't_distances_l2': norm(results['t_gt'] - results['t'], ord=2, axis=1),\n",
    "    'R_gt_distances': rotation_angle_distance_batch(results['R_gt'], np.tile(np.eye(3, 3), (results['R_gt'].shape[0], 1, 1))),\n",
    "    't_gt_distances': norm(results['t_gt'], ord=2, axis=1)\n",
    "}"
   ]
  },
  {
   "cell_type": "code",
   "execution_count": 12,
   "id": "4c32cad1-2452-4135-bafe-c7f28a54575d",
   "metadata": {
    "tags": []
   },
   "outputs": [
    {
     "name": "stdout",
     "output_type": "stream",
     "text": [
      "mAA 5 rotation       0.0819\n",
      "mAA 10 rotation      0.2121\n",
      "mAA 20 rotation      0.3810\n"
     ]
    }
   ],
   "source": [
    "name = \"GMFlow pretrained + shallow, w/o ft\"\n",
    "print(f'{\"mAA 5 rotation\":<20} {mAA(metrics[name][\"R_angle_distances\"], metrics[name][\"t_distances_l2\"], thresh=(5, 0.2), N=10000):.4f}')\n",
    "print(f'{\"mAA 10 rotation\":<20} {mAA(metrics[name][\"R_angle_distances\"], metrics[name][\"t_distances_l2\"], thresh=(10, 0.5), N=10000):.4f}')\n",
    "print(f'{\"mAA 20 rotation\":<20} {mAA(metrics[name][\"R_angle_distances\"], metrics[name][\"t_distances_l2\"], thresh=(20, 1), N=10000):.4f}')"
   ]
  },
  {
   "cell_type": "markdown",
   "id": "fefadddc-e240-4e39-a40d-6f7b067fbc0f",
   "metadata": {},
   "source": [
    "### 2. With fine-tuning (only last 2 stages)"
   ]
  },
  {
   "cell_type": "code",
   "execution_count": 14,
   "id": "57445c3d-1ca9-4590-b4c9-57cb83e677e5",
   "metadata": {
    "tags": []
   },
   "outputs": [],
   "source": [
    "checkpoint = load_checkpoint('/home/project/code/src/weights/DETERMINISTIC_FT_4.pth',\n",
    "                             device)"
   ]
  },
  {
   "cell_type": "code",
   "execution_count": 15,
   "id": "da56996b-4228-46d7-9a44-f5452109a9c8",
   "metadata": {
    "tags": []
   },
   "outputs": [],
   "source": [
    "regressor = DensePoseRegressorV7(init_loss_weights=[0.0, -3.0, -3.0])\n",
    "model = GMflowDensePoseDeterministic(regressor, fine_tuning=False)\n",
    "model.load_state_dict(checkpoint['model'])\n",
    "\n",
    "model.to(torch.float32)\n",
    "model.to(device);"
   ]
  },
  {
   "cell_type": "code",
   "execution_count": 16,
   "id": "5c7f90fd-ae0f-44d3-8e82-e0121b150f92",
   "metadata": {
    "tags": []
   },
   "outputs": [
    {
     "name": "stderr",
     "output_type": "stream",
     "text": [
      "100%|█████████████████████████████████████████████████████████████████████████████████████████████████████████████████████| 375/375 [04:08<00:00,  1.51it/s]\n"
     ]
    }
   ],
   "source": [
    "results = test(model, test_loader, device)"
   ]
  },
  {
   "cell_type": "code",
   "execution_count": 17,
   "id": "630ee820-48f6-4db2-ae93-618926e7e57c",
   "metadata": {
    "tags": []
   },
   "outputs": [],
   "source": [
    "name = \"GMFlow pretrained + shallow, ft 2 stages\"\n",
    "metrics[name] = {\n",
    "    'R_angle_distances': rotation_angle_distance_batch(results['R_gt'], results['R']),\n",
    "    't_angle_distances': vector_angle_distance_batch(results['t_gt'], results['t']),\n",
    "    't_distances_l2': norm(results['t_gt'] - results['t'], ord=2, axis=1),\n",
    "    'R_gt_distances': rotation_angle_distance_batch(results['R_gt'], np.tile(np.eye(3, 3), (results['R_gt'].shape[0], 1, 1))),\n",
    "    't_gt_distances': norm(results['t_gt'], ord=2, axis=1)\n",
    "}"
   ]
  },
  {
   "cell_type": "code",
   "execution_count": 18,
   "id": "8abc91f7-118b-4268-b959-1382735289ed",
   "metadata": {
    "tags": []
   },
   "outputs": [
    {
     "name": "stdout",
     "output_type": "stream",
     "text": [
      "mAA 5 rotation       0.1245\n",
      "mAA 10 rotation      0.2895\n",
      "mAA 20 rotation      0.4681\n"
     ]
    }
   ],
   "source": [
    "name = \"GMFlow pretrained + shallow, ft 2 stages\"\n",
    "print(f'{\"mAA 5 rotation\":<20} {mAA(metrics[name][\"R_angle_distances\"], metrics[name][\"t_distances_l2\"], thresh=(5, 0.2), N=10000):.4f}')\n",
    "print(f'{\"mAA 10 rotation\":<20} {mAA(metrics[name][\"R_angle_distances\"], metrics[name][\"t_distances_l2\"], thresh=(10, 0.5), N=10000):.4f}')\n",
    "print(f'{\"mAA 20 rotation\":<20} {mAA(metrics[name][\"R_angle_distances\"], metrics[name][\"t_distances_l2\"], thresh=(20, 1), N=10000):.4f}')"
   ]
  },
  {
   "cell_type": "markdown",
   "id": "2254e574-b2a1-4b8c-a2a9-12a1851d97c6",
   "metadata": {},
   "source": [
    "### 2. With fine-tuning (all stages)"
   ]
  },
  {
   "cell_type": "code",
   "execution_count": 7,
   "id": "6bbf2859-720e-44f6-9b98-dd9be6a78f67",
   "metadata": {
    "tags": []
   },
   "outputs": [],
   "source": [
    "checkpoint = load_checkpoint('/home/project/code/src/weights/DETERMINISTIC_FT_part2_4.pth',\n",
    "                             device)"
   ]
  },
  {
   "cell_type": "code",
   "execution_count": 8,
   "id": "3c5e6f22-a810-411f-8844-c521c4614d86",
   "metadata": {
    "tags": []
   },
   "outputs": [],
   "source": [
    "regressor = DensePoseRegressorV7(init_loss_weights=[0.0, -3.0, -3.0])\n",
    "model = GMflowDensePoseDeterministic(regressor, fine_tuning=False)\n",
    "model.load_state_dict(checkpoint['model'])\n",
    "\n",
    "model.to(torch.float32)\n",
    "model.to(device);"
   ]
  },
  {
   "cell_type": "code",
   "execution_count": 21,
   "id": "1e01b135-2926-4ba5-9d04-7b9eda3ca0ef",
   "metadata": {
    "tags": []
   },
   "outputs": [
    {
     "name": "stderr",
     "output_type": "stream",
     "text": [
      "100%|█████████████████████████████████████████████████████████████████████████████████████████████████████████████████████| 375/375 [04:08<00:00,  1.51it/s]\n"
     ]
    }
   ],
   "source": [
    "results = test(model, test_loader, device)"
   ]
  },
  {
   "cell_type": "code",
   "execution_count": 22,
   "id": "e3fe5617-3ce0-4e96-8331-c3a81dbfcd1d",
   "metadata": {
    "tags": []
   },
   "outputs": [],
   "source": [
    "name = \"GMFlow pretrained + shallow, all stages\"\n",
    "metrics[name] = {\n",
    "    'R_angle_distances': rotation_angle_distance_batch(results['R_gt'], results['R']),\n",
    "    't_angle_distances': vector_angle_distance_batch(results['t_gt'], results['t']),\n",
    "    't_distances_l2': norm(results['t_gt'] - results['t'], ord=2, axis=1),\n",
    "    'R_gt_distances': rotation_angle_distance_batch(results['R_gt'], np.tile(np.eye(3, 3), (results['R_gt'].shape[0], 1, 1))),\n",
    "    't_gt_distances': norm(results['t_gt'], ord=2, axis=1)\n",
    "}"
   ]
  },
  {
   "cell_type": "code",
   "execution_count": 23,
   "id": "3aeb550d-55f9-4b20-8c72-75a2c9e3c64f",
   "metadata": {
    "tags": []
   },
   "outputs": [
    {
     "name": "stdout",
     "output_type": "stream",
     "text": [
      "mAA 5 rotation       0.1692\n",
      "mAA 10 rotation      0.3734\n",
      "mAA 20 rotation      0.5615\n"
     ]
    }
   ],
   "source": [
    "name = \"GMFlow pretrained + shallow, all stages\"\n",
    "print(f'{\"mAA 5 rotation\":<20} {mAA(metrics[name][\"R_angle_distances\"], metrics[name][\"t_distances_l2\"], thresh=(5, 0.2), N=10000):.4f}')\n",
    "print(f'{\"mAA 10 rotation\":<20} {mAA(metrics[name][\"R_angle_distances\"], metrics[name][\"t_distances_l2\"], thresh=(10, 0.5), N=10000):.4f}')\n",
    "print(f'{\"mAA 20 rotation\":<20} {mAA(metrics[name][\"R_angle_distances\"], metrics[name][\"t_distances_l2\"], thresh=(20, 1), N=10000):.4f}')"
   ]
  },
  {
   "cell_type": "markdown",
   "id": "71b626ed-e327-4215-b5d2-ce48a0a87c73",
   "metadata": {},
   "source": [
    "### Speed computation"
   ]
  },
  {
   "cell_type": "code",
   "execution_count": 10,
   "id": "31d7fddc-80e0-4ec3-8cc8-b292e2d806e2",
   "metadata": {},
   "outputs": [
    {
     "name": "stdout",
     "output_type": "stream",
     "text": [
      "Running time is 70.94841552734376 ms $\\pm$ 7.6239757330086935 ms\n"
     ]
    }
   ],
   "source": [
    "time_eval = []\n",
    "N=0\n",
    "model.eval()\n",
    "with torch.no_grad():\n",
    "    while N < 101:\n",
    "        N+=1\n",
    "        data = next(iter(test_loader))\n",
    "        for key in data.keys():\n",
    "            if key in ('image0', 'image1', 'K0', 'K1', 'flow_0to1', 'mask'):\n",
    "                data[key] = data[key].to(device)\n",
    "\n",
    "        start = time.time() * 1000                \n",
    "        _, q, t = model(\n",
    "            data['image0'],\n",
    "            data['image1'],\n",
    "            attn_splits_list=[2, 8],\n",
    "            corr_radius_list=[-1, 4],\n",
    "            prop_radius_list=[-1, 1],\n",
    "            K_q=data['K0'],\n",
    "            K_s=data['K1'],\n",
    "            scales_q=(0.25, 0.25),\n",
    "            scales_s=(0.25, 0.25))\n",
    "        end = time.time() * 1000\n",
    "        time_eval.append(end-start)\n",
    "\n",
    "    time_eval = np.array(time_eval)[1:]\n",
    "    print(f'Running time is {np.mean(time_eval)} ms $\\pm$ {np.std(time_eval)} ms')"
   ]
  },
  {
   "cell_type": "code",
   "execution_count": 25,
   "id": "10cb8065-fe64-4154-9379-35ce9fc94765",
   "metadata": {
    "tags": []
   },
   "outputs": [
    {
     "data": {
      "text/plain": [
       "16.59145"
      ]
     },
     "execution_count": 25,
     "metadata": {},
     "output_type": "execute_result"
    }
   ],
   "source": [
    "for name, p in model.named_parameters():\n",
    "    p.requires_grad = True\n",
    "count_parameters(model)"
   ]
  },
  {
   "cell_type": "markdown",
   "id": "9f1c6c87-02a6-425d-ad31-5c533b511af3",
   "metadata": {},
   "source": [
    "#### Saving metrics"
   ]
  },
  {
   "cell_type": "code",
   "execution_count": 24,
   "id": "d641089f-2eb9-4135-81e1-19bdec795063",
   "metadata": {
    "tags": []
   },
   "outputs": [],
   "source": [
    "with open('/home/project/code/results/scannet/metrics_gmflow', 'wb') as f:\n",
    "    pickle.dump(metrics, f)"
   ]
  },
  {
   "cell_type": "markdown",
   "id": "0786a0c0-821b-4820-a848-8d764d1939cb",
   "metadata": {},
   "source": [
    "# 2. Results\n",
    "### 2.1 Table form\n"
   ]
  },
  {
   "cell_type": "code",
   "execution_count": 25,
   "id": "05ab49dc-8aaf-46a7-b798-62be275bfa1b",
   "metadata": {
    "tags": []
   },
   "outputs": [
    {
     "data": {
      "text/html": [
       "<style type=\"text/css\">\n",
       "#T_416d2_row0_col0, #T_416d2_row0_col1, #T_416d2_row0_col2, #T_416d2_row0_col3, #T_416d2_row0_col4, #T_416d2_row0_col5, #T_416d2_row0_col6, #T_416d2_row0_col7, #T_416d2_row0_col8, #T_416d2_row0_col9, #T_416d2_row0_col10, #T_416d2_row0_col11 {\n",
       "  background-color: #a50026;\n",
       "  color: #f1f1f1;\n",
       "}\n",
       "#T_416d2_row1_col0 {\n",
       "  background-color: #afdd70;\n",
       "  color: #000000;\n",
       "}\n",
       "#T_416d2_row1_col1 {\n",
       "  background-color: #f1f9ac;\n",
       "  color: #000000;\n",
       "}\n",
       "#T_416d2_row1_col2 {\n",
       "  background-color: #fff7b2;\n",
       "  color: #000000;\n",
       "}\n",
       "#T_416d2_row1_col3 {\n",
       "  background-color: #fdc372;\n",
       "  color: #000000;\n",
       "}\n",
       "#T_416d2_row1_col4 {\n",
       "  background-color: #b9e176;\n",
       "  color: #000000;\n",
       "}\n",
       "#T_416d2_row1_col5 {\n",
       "  background-color: #d3ec87;\n",
       "  color: #000000;\n",
       "}\n",
       "#T_416d2_row1_col6 {\n",
       "  background-color: #fff5ae;\n",
       "  color: #000000;\n",
       "}\n",
       "#T_416d2_row1_col7 {\n",
       "  background-color: #fdc171;\n",
       "  color: #000000;\n",
       "}\n",
       "#T_416d2_row1_col8 {\n",
       "  background-color: #e3f399;\n",
       "  color: #000000;\n",
       "}\n",
       "#T_416d2_row1_col9 {\n",
       "  background-color: #fdfebc;\n",
       "  color: #000000;\n",
       "}\n",
       "#T_416d2_row1_col10 {\n",
       "  background-color: #feeda1;\n",
       "  color: #000000;\n",
       "}\n",
       "#T_416d2_row1_col11 {\n",
       "  background-color: #fdad60;\n",
       "  color: #000000;\n",
       "}\n",
       "#T_416d2_row2_col0, #T_416d2_row2_col1, #T_416d2_row2_col2, #T_416d2_row2_col3, #T_416d2_row2_col4, #T_416d2_row2_col5, #T_416d2_row2_col6, #T_416d2_row2_col7, #T_416d2_row2_col8, #T_416d2_row2_col9, #T_416d2_row2_col10, #T_416d2_row2_col11 {\n",
       "  background-color: #006837;\n",
       "  color: #f1f1f1;\n",
       "}\n",
       "</style>\n",
       "<table id=\"T_416d2\">\n",
       "  <thead>\n",
       "    <tr>\n",
       "      <th class=\"blank level0\" >&nbsp;</th>\n",
       "      <th id=\"T_416d2_level0_col0\" class=\"col_heading level0 col0\" >R_q=0.25</th>\n",
       "      <th id=\"T_416d2_level0_col1\" class=\"col_heading level0 col1\" >R_q=0.5</th>\n",
       "      <th id=\"T_416d2_level0_col2\" class=\"col_heading level0 col2\" >R_q=0.75</th>\n",
       "      <th id=\"T_416d2_level0_col3\" class=\"col_heading level0 col3\" >R_q=0.9</th>\n",
       "      <th id=\"T_416d2_level0_col4\" class=\"col_heading level0 col4\" >angle_t_q=0.25</th>\n",
       "      <th id=\"T_416d2_level0_col5\" class=\"col_heading level0 col5\" >angle_t_q=0.5</th>\n",
       "      <th id=\"T_416d2_level0_col6\" class=\"col_heading level0 col6\" >angle_t_q=0.75</th>\n",
       "      <th id=\"T_416d2_level0_col7\" class=\"col_heading level0 col7\" >angle_t_q=0.9</th>\n",
       "      <th id=\"T_416d2_level0_col8\" class=\"col_heading level0 col8\" >t_q=0.25</th>\n",
       "      <th id=\"T_416d2_level0_col9\" class=\"col_heading level0 col9\" >t_q=0.5</th>\n",
       "      <th id=\"T_416d2_level0_col10\" class=\"col_heading level0 col10\" >t_q=0.75</th>\n",
       "      <th id=\"T_416d2_level0_col11\" class=\"col_heading level0 col11\" >t_q=0.9</th>\n",
       "    </tr>\n",
       "  </thead>\n",
       "  <tbody>\n",
       "    <tr>\n",
       "      <th id=\"T_416d2_level0_row0\" class=\"row_heading level0 row0\" >GMFlow pretrained + shallow, w/o ft</th>\n",
       "      <td id=\"T_416d2_row0_col0\" class=\"data row0 col0\" >4.92</td>\n",
       "      <td id=\"T_416d2_row0_col1\" class=\"data row0 col1\" >10.74</td>\n",
       "      <td id=\"T_416d2_row0_col2\" class=\"data row0 col2\" >27.33</td>\n",
       "      <td id=\"T_416d2_row0_col3\" class=\"data row0 col3\" >56.05</td>\n",
       "      <td id=\"T_416d2_row0_col4\" class=\"data row0 col4\" >19.49</td>\n",
       "      <td id=\"T_416d2_row0_col5\" class=\"data row0 col5\" >39.43</td>\n",
       "      <td id=\"T_416d2_row0_col6\" class=\"data row0 col6\" >72.53</td>\n",
       "      <td id=\"T_416d2_row0_col7\" class=\"data row0 col7\" >115.68</td>\n",
       "      <td id=\"T_416d2_row0_col8\" class=\"data row0 col8\" >0.18</td>\n",
       "      <td id=\"T_416d2_row0_col9\" class=\"data row0 col9\" >0.45</td>\n",
       "      <td id=\"T_416d2_row0_col10\" class=\"data row0 col10\" >1.04</td>\n",
       "      <td id=\"T_416d2_row0_col11\" class=\"data row0 col11\" >1.94</td>\n",
       "    </tr>\n",
       "    <tr>\n",
       "      <th id=\"T_416d2_level0_row1\" class=\"row_heading level0 row1\" >GMFlow pretrained + shallow, ft 2 stages</th>\n",
       "      <td id=\"T_416d2_row1_col0\" class=\"data row1 col0\" >3.51</td>\n",
       "      <td id=\"T_416d2_row1_col1\" class=\"data row1 col1\" >8.04</td>\n",
       "      <td id=\"T_416d2_row1_col2\" class=\"data row1 col2\" >20.82</td>\n",
       "      <td id=\"T_416d2_row1_col3\" class=\"data row1 col3\" >48.42</td>\n",
       "      <td id=\"T_416d2_row1_col4\" class=\"data row1 col4\" >12.41</td>\n",
       "      <td id=\"T_416d2_row1_col5\" class=\"data row1 col5\" >26.12</td>\n",
       "      <td id=\"T_416d2_row1_col6\" class=\"data row1 col6\" >54.43</td>\n",
       "      <td id=\"T_416d2_row1_col7\" class=\"data row1 col7\" >97.42</td>\n",
       "      <td id=\"T_416d2_row1_col8\" class=\"data row1 col8\" >0.14</td>\n",
       "      <td id=\"T_416d2_row1_col9\" class=\"data row1 col9\" >0.35</td>\n",
       "      <td id=\"T_416d2_row1_col10\" class=\"data row1 col10\" >0.85</td>\n",
       "      <td id=\"T_416d2_row1_col11\" class=\"data row1 col11\" >1.79</td>\n",
       "    </tr>\n",
       "    <tr>\n",
       "      <th id=\"T_416d2_level0_row2\" class=\"row_heading level0 row2\" >GMFlow pretrained + shallow, all stages</th>\n",
       "      <td id=\"T_416d2_row2_col0\" class=\"data row2 col0\" >2.85</td>\n",
       "      <td id=\"T_416d2_row2_col1\" class=\"data row2 col1\" >5.71</td>\n",
       "      <td id=\"T_416d2_row2_col2\" class=\"data row2 col2\" >13.59</td>\n",
       "      <td id=\"T_416d2_row2_col3\" class=\"data row2 col3\" >33.69</td>\n",
       "      <td id=\"T_416d2_row2_col4\" class=\"data row2 col4\" >8.80</td>\n",
       "      <td id=\"T_416d2_row2_col5\" class=\"data row2 col5\" >17.71</td>\n",
       "      <td id=\"T_416d2_row2_col6\" class=\"data row2 col6\" >33.83</td>\n",
       "      <td id=\"T_416d2_row2_col7\" class=\"data row2 col7\" >61.57</td>\n",
       "      <td id=\"T_416d2_row2_col8\" class=\"data row2 col8\" >0.11</td>\n",
       "      <td id=\"T_416d2_row2_col9\" class=\"data row2 col9\" >0.25</td>\n",
       "      <td id=\"T_416d2_row2_col10\" class=\"data row2 col10\" >0.60</td>\n",
       "      <td id=\"T_416d2_row2_col11\" class=\"data row2 col11\" >1.43</td>\n",
       "    </tr>\n",
       "  </tbody>\n",
       "</table>\n"
      ],
      "text/plain": [
       "<pandas.io.formats.style.Styler at 0x7f88481f05b0>"
      ]
     },
     "execution_count": 25,
     "metadata": {},
     "output_type": "execute_result"
    }
   ],
   "source": [
    "df = pd.DataFrame(index=metrics.keys())\n",
    "\n",
    "for q in (0.25, 0.5, 0.75, 0.9):\n",
    "    df[f'R_q={q}'] = None\n",
    "    df[f't_q={q}'] = None\n",
    "    df[f'angle_t_q={q}'] = None\n",
    "    for key, val in metrics.items():\n",
    "        df.loc[key, f't_q={q}'] = np.quantile(val[\"t_distances_l2\"], q)\n",
    "        df.loc[key, f'R_q={q}'] = np.quantile(val[\"R_angle_distances\"], q)\n",
    "        df.loc[key, f'angle_t_q={q}'] = np.quantile(val[\"t_angle_distances\"], q)\n",
    "        d = df.style.format(precision=2)\n",
    "df.sort_index(axis=1, inplace=True)\n",
    "\n",
    "\n",
    "for col in df.columns:\n",
    "    d.background_gradient(cmap=\"RdYlGn_r\", subset=col)\n",
    "d"
   ]
  },
  {
   "cell_type": "code",
   "execution_count": 6,
   "id": "4114e173-85a1-45f1-8f36-519df5c072a7",
   "metadata": {
    "tags": []
   },
   "outputs": [
    {
     "data": {
      "text/html": [
       "<style type=\"text/css\">\n",
       "#T_42e75_row0_col0, #T_42e75_row0_col1, #T_42e75_row0_col2, #T_42e75_row0_col3, #T_42e75_row0_col4, #T_42e75_row0_col5, #T_42e75_row0_col6, #T_42e75_row0_col7, #T_42e75_row0_col8, #T_42e75_row0_col9, #T_42e75_row0_col10, #T_42e75_row0_col11 {\n",
       "  background-color: #006837;\n",
       "  color: #f1f1f1;\n",
       "}\n",
       "#T_42e75_row1_col0 {\n",
       "  background-color: #fffab6;\n",
       "  color: #000000;\n",
       "}\n",
       "#T_42e75_row1_col1 {\n",
       "  background-color: #fff5ae;\n",
       "  color: #000000;\n",
       "}\n",
       "#T_42e75_row1_col2, #T_42e75_row1_col10 {\n",
       "  background-color: #fff6b0;\n",
       "  color: #000000;\n",
       "}\n",
       "#T_42e75_row1_col3 {\n",
       "  background-color: #fdfebc;\n",
       "  color: #000000;\n",
       "}\n",
       "#T_42e75_row1_col4 {\n",
       "  background-color: #feec9f;\n",
       "  color: #000000;\n",
       "}\n",
       "#T_42e75_row1_col5 {\n",
       "  background-color: #fff3ac;\n",
       "  color: #000000;\n",
       "}\n",
       "#T_42e75_row1_col6 {\n",
       "  background-color: #feefa3;\n",
       "  color: #000000;\n",
       "}\n",
       "#T_42e75_row1_col7 {\n",
       "  background-color: #eef8a8;\n",
       "  color: #000000;\n",
       "}\n",
       "#T_42e75_row1_col8 {\n",
       "  background-color: #feeda1;\n",
       "  color: #000000;\n",
       "}\n",
       "#T_42e75_row1_col9 {\n",
       "  background-color: #fffbb8;\n",
       "  color: #000000;\n",
       "}\n",
       "#T_42e75_row1_col11 {\n",
       "  background-color: #fee18d;\n",
       "  color: #000000;\n",
       "}\n",
       "#T_42e75_row2_col0, #T_42e75_row2_col1, #T_42e75_row2_col2, #T_42e75_row2_col3, #T_42e75_row2_col4, #T_42e75_row2_col5, #T_42e75_row2_col6, #T_42e75_row2_col7, #T_42e75_row2_col8, #T_42e75_row2_col9, #T_42e75_row2_col10, #T_42e75_row2_col11 {\n",
       "  background-color: #a50026;\n",
       "  color: #f1f1f1;\n",
       "}\n",
       "</style>\n",
       "<table id=\"T_42e75\">\n",
       "  <thead>\n",
       "    <tr>\n",
       "      <th class=\"blank level0\" >&nbsp;</th>\n",
       "      <th id=\"T_42e75_level0_col0\" class=\"col_heading level0 col0\" >mAA_R_10</th>\n",
       "      <th id=\"T_42e75_level0_col1\" class=\"col_heading level0 col1\" >mAA_R_20</th>\n",
       "      <th id=\"T_42e75_level0_col2\" class=\"col_heading level0 col2\" >mAA_R_30</th>\n",
       "      <th id=\"T_42e75_level0_col3\" class=\"col_heading level0 col3\" >mAA_R_5</th>\n",
       "      <th id=\"T_42e75_level0_col4\" class=\"col_heading level0 col4\" >mAA_max_10</th>\n",
       "      <th id=\"T_42e75_level0_col5\" class=\"col_heading level0 col5\" >mAA_max_20</th>\n",
       "      <th id=\"T_42e75_level0_col6\" class=\"col_heading level0 col6\" >mAA_max_30</th>\n",
       "      <th id=\"T_42e75_level0_col7\" class=\"col_heading level0 col7\" >mAA_max_5</th>\n",
       "      <th id=\"T_42e75_level0_col8\" class=\"col_heading level0 col8\" >mAA_t_10</th>\n",
       "      <th id=\"T_42e75_level0_col9\" class=\"col_heading level0 col9\" >mAA_t_20</th>\n",
       "      <th id=\"T_42e75_level0_col10\" class=\"col_heading level0 col10\" >mAA_t_30</th>\n",
       "      <th id=\"T_42e75_level0_col11\" class=\"col_heading level0 col11\" >mAA_t_5</th>\n",
       "    </tr>\n",
       "  </thead>\n",
       "  <tbody>\n",
       "    <tr>\n",
       "      <th id=\"T_42e75_level0_row0\" class=\"row_heading level0 row0\" >GMFlow pretrained + shallow, all stages</th>\n",
       "      <td id=\"T_42e75_row0_col0\" class=\"data row0 col0\" >0.39</td>\n",
       "      <td id=\"T_42e75_row0_col1\" class=\"data row0 col1\" >0.57</td>\n",
       "      <td id=\"T_42e75_row0_col2\" class=\"data row0 col2\" >0.67</td>\n",
       "      <td id=\"T_42e75_row0_col3\" class=\"data row0 col3\" >0.20</td>\n",
       "      <td id=\"T_42e75_row0_col4\" class=\"data row0 col4\" >0.09</td>\n",
       "      <td id=\"T_42e75_row0_col5\" class=\"data row0 col5\" >0.24</td>\n",
       "      <td id=\"T_42e75_row0_col6\" class=\"data row0 col6\" >0.36</td>\n",
       "      <td id=\"T_42e75_row0_col7\" class=\"data row0 col7\" >0.02</td>\n",
       "      <td id=\"T_42e75_row0_col8\" class=\"data row0 col8\" >0.12</td>\n",
       "      <td id=\"T_42e75_row0_col9\" class=\"data row0 col9\" >0.27</td>\n",
       "      <td id=\"T_42e75_row0_col10\" class=\"data row0 col10\" >0.40</td>\n",
       "      <td id=\"T_42e75_row0_col11\" class=\"data row0 col11\" >0.04</td>\n",
       "    </tr>\n",
       "    <tr>\n",
       "      <th id=\"T_42e75_level0_row1\" class=\"row_heading level0 row1\" >GMFlow pretrained + shallow, ft 2 stages</th>\n",
       "      <td id=\"T_42e75_row1_col0\" class=\"data row1 col0\" >0.31</td>\n",
       "      <td id=\"T_42e75_row1_col1\" class=\"data row1 col1\" >0.49</td>\n",
       "      <td id=\"T_42e75_row1_col2\" class=\"data row1 col2\" >0.59</td>\n",
       "      <td id=\"T_42e75_row1_col3\" class=\"data row1 col3\" >0.16</td>\n",
       "      <td id=\"T_42e75_row1_col4\" class=\"data row1 col4\" >0.06</td>\n",
       "      <td id=\"T_42e75_row1_col5\" class=\"data row1 col5\" >0.16</td>\n",
       "      <td id=\"T_42e75_row1_col6\" class=\"data row1 col6\" >0.25</td>\n",
       "      <td id=\"T_42e75_row1_col7\" class=\"data row1 col7\" >0.01</td>\n",
       "      <td id=\"T_42e75_row1_col8\" class=\"data row1 col8\" >0.07</td>\n",
       "      <td id=\"T_42e75_row1_col9\" class=\"data row1 col9\" >0.19</td>\n",
       "      <td id=\"T_42e75_row1_col10\" class=\"data row1 col10\" >0.29</td>\n",
       "      <td id=\"T_42e75_row1_col11\" class=\"data row1 col11\" >0.02</td>\n",
       "    </tr>\n",
       "    <tr>\n",
       "      <th id=\"T_42e75_level0_row2\" class=\"row_heading level0 row2\" >GMFlow pretrained + shallow, w/o ft</th>\n",
       "      <td id=\"T_42e75_row2_col0\" class=\"data row2 col0\" >0.24</td>\n",
       "      <td id=\"T_42e75_row2_col1\" class=\"data row2 col1\" >0.41</td>\n",
       "      <td id=\"T_42e75_row2_col2\" class=\"data row2 col2\" >0.52</td>\n",
       "      <td id=\"T_42e75_row2_col3\" class=\"data row2 col3\" >0.11</td>\n",
       "      <td id=\"T_42e75_row2_col4\" class=\"data row2 col4\" >0.03</td>\n",
       "      <td id=\"T_42e75_row2_col5\" class=\"data row2 col5\" >0.09</td>\n",
       "      <td id=\"T_42e75_row2_col6\" class=\"data row2 col6\" >0.16</td>\n",
       "      <td id=\"T_42e75_row2_col7\" class=\"data row2 col7\" >0.01</td>\n",
       "      <td id=\"T_42e75_row2_col8\" class=\"data row2 col8\" >0.04</td>\n",
       "      <td id=\"T_42e75_row2_col9\" class=\"data row2 col9\" >0.11</td>\n",
       "      <td id=\"T_42e75_row2_col10\" class=\"data row2 col10\" >0.18</td>\n",
       "      <td id=\"T_42e75_row2_col11\" class=\"data row2 col11\" >0.01</td>\n",
       "    </tr>\n",
       "  </tbody>\n",
       "</table>\n"
      ],
      "text/plain": [
       "<pandas.io.formats.style.Styler at 0x7f2515ce4dc0>"
      ]
     },
     "execution_count": 6,
     "metadata": {},
     "output_type": "execute_result"
    }
   ],
   "source": [
    "df = pd.DataFrame(index=metrics.keys())\n",
    "\n",
    "for t in (5, 10, 20, 30):\n",
    "    df[f'mAA_R_{t}'] = None\n",
    "    df[f'mAA_t_{t}'] = None\n",
    "    df[f'mAA_max_{t}'] = None\n",
    "    for key, val in metrics.items():\n",
    "        df.loc[key, f'mAA_R_{t}'] = mAA_sep(val[\"R_angle_distances\"], t, 10000)\n",
    "        df.loc[key, f'mAA_t_{t}'] = mAA_sep(val[\"t_angle_distances\"], t, 10000)\n",
    "        df.loc[key, f'mAA_max_{t}'] = mAA_max(val[\"R_angle_distances\"], val[\"t_angle_distances\"], t, 10000)\n",
    "        d = df.style.format(precision=2)\n",
    "df.sort_index(axis=1, inplace=True)\n",
    "df.sort_index(axis=0, inplace=True)\n",
    "\n",
    "for col in df.columns:\n",
    "    d.background_gradient(cmap=\"RdYlGn\", subset=col)\n",
    "d"
   ]
  },
  {
   "cell_type": "markdown",
   "id": "aee68faf-cf0c-4a93-ba76-29bd7f14b60c",
   "metadata": {},
   "source": [
    "### 2.2 Plots"
   ]
  },
  {
   "cell_type": "code",
   "execution_count": 6,
   "id": "d2540881-f539-441c-af65-74ccc8e8b8e7",
   "metadata": {
    "tags": []
   },
   "outputs": [],
   "source": [
    "plt.style.use('default')\n",
    "\n",
    "rc('text', usetex=True)\n",
    "\n",
    "SMALL_SIZE = 8\n",
    "MEDIUM_SIZE = 10\n",
    "BIGGER_SIZE = 12\n",
    "\n",
    "rc('font', size=MEDIUM_SIZE)          # controls default text sizes\n",
    "rc('axes', titlesize=MEDIUM_SIZE)     # fontsize of the axes title\n",
    "rc('axes', labelsize=MEDIUM_SIZE)    # fontsize of the x and y labels\n",
    "rc('xtick', labelsize=MEDIUM_SIZE)    # fontsize of the tick labels\n",
    "rc('ytick', labelsize=MEDIUM_SIZE)    # fontsize of the tick labels\n",
    "rc('legend', fontsize=MEDIUM_SIZE)    # legend fontsize\n",
    "rc('figure', titlesize=BIGGER_SIZE)  # fontsize of the figure title\n"
   ]
  },
  {
   "cell_type": "code",
   "execution_count": 7,
   "id": "49270898-fa2e-4300-9e8b-598017b92039",
   "metadata": {
    "tags": []
   },
   "outputs": [],
   "source": [
    "def calculate_metric_on_subset(metric_values, values_dependent_on, agg_func, thresholds, sign):\n",
    "    thresholds_ = thresholds[:, None]\n",
    "    if sign == '>':\n",
    "        inliers_bool = values_dependent_on > thresholds_\n",
    "    else:\n",
    "        inliers_bool = values_dependent_on <= thresholds_\n",
    "    scores = np.array([agg_func(metric_values[subset]) for subset in inliers_bool])\n",
    "    return scores"
   ]
  },
  {
   "cell_type": "code",
   "execution_count": 8,
   "id": "b3f3e06a-c054-44bf-ae0b-a2ee07e22423",
   "metadata": {
    "tags": []
   },
   "outputs": [
    {
     "data": {
      "image/png": "[encoded data removed]",
      "text/plain": [
       "<Figure size 1000x800 with 6 Axes>"
      ]
     },
     "metadata": {},
     "output_type": "display_data"
    }
   ],
   "source": [
    "fig, ax = plt.subplots(2, 2, figsize=(10, 8))\n",
    "\n",
    "colors = ['b', 'darkorange' ,'g', '#8B008B',\n",
    "          '#A52A2A','#FFC0CB','#808080','#556B2F','#00FFFF',\n",
    "         '#FF00FF','#32CD32','#008080','#E6E6FA',\n",
    "         '#D2B48C','#FA8072','#FFD700', '#000080']\n",
    "\n",
    "exp_colors = {exp: col for  exp, col in zip(metrics.keys(), colors)}\n",
    "\n",
    "for exp, m in metrics.items():\n",
    "    sns.ecdfplot(x=m['R_angle_distances'], complementary=False, ax=ax[0,0], c=exp_colors[exp], linewidth=1)    \n",
    "\n",
    "    sns.ecdfplot(x=m['t_distances_l2'], complementary=False, ax=ax[0,1], c=exp_colors[exp], linewidth=1, log_scale=False)\n",
    "\n",
    "    R_on_gt = calculate_metric_on_subset(\n",
    "        m['R_angle_distances'], m['R_gt_distances'], np.mean, np.linspace(0, 180, 180), '<')\n",
    "    R_on_gt[np.isnan(R_on_gt)] = 0\n",
    "    ax[1, 0].plot(np.linspace(0, 180, 180), R_on_gt, label=exp, c=exp_colors[exp], linewidth=1)\n",
    "    \n",
    "    t_on_gt = calculate_metric_on_subset(\n",
    "        m['t_distances_l2'], m['t_gt_distances'], np.mean, np.linspace(0, 6.66, 100), '<')\n",
    "    t_on_gt[np.isnan(t_on_gt)] = 0\n",
    "    ax[1, 1].plot(np.linspace(0, 6.66, 100), t_on_gt, c=exp_colors[exp], linewidth=1)\n",
    "\n",
    "    \n",
    "    \n",
    "ax[0, 0].set_xlim([0., 50.])\n",
    "ax[0, 0].set_xticks(np.linspace(0, 50, 11, dtype='int'))\n",
    "ax[0, 0].set_yticks(np.linspace(0, 1, 11))\n",
    "ax[0, 0].set_ylabel('Fraction of observations')\n",
    "ax[0, 0].set_xlabel('Angle error, degrees')\n",
    "ax[0, 0].set_title('CDF of angle error')\n",
    "ax[0, 0].grid(alpha=0.5)\n",
    "\n",
    "\n",
    "ax[0, 1].set_xlim([0., 3.])\n",
    "ax[0, 1].set_yticks(np.linspace(0, 1, 11))\n",
    "ax[0, 1].set_ylabel('Fraction of observations')\n",
    "ax[0, 1].set_xlabel('$\\|t_{gt} - t\\|_2$, meters')\n",
    "ax[0, 1].set_title('CDF of translation error')\n",
    "ax[0, 1].grid(alpha=0.5)\n",
    "\n",
    "\n",
    "n_bins = 100 # number of bins for histogram calculation \n",
    "counts, bin_edges = np.histogram(np.sort(m['R_gt_distances']), bins=n_bins)\n",
    "cdf_values = np.cumsum(counts) / len(m['R_gt_distances'])\n",
    "bin_centers = (bin_edges[1:] + bin_edges[:-1]) / 2.\n",
    "ax_10 = ax[1, 0].twinx() # create secondary axis with shared x-axis  \n",
    "ax_10.step(bin_centers,cdf_values,'r', label='Fraction of observations')\n",
    "ax_10.set_ylabel('Fraction of observations')\n",
    "ax_10.set_yticks(np.linspace(0, 1, 11))\n",
    "ax_10.grid(alpha=0.5)\n",
    "ax[1, 0].set_xlabel('Ground-truth rotation distance $<$ than, degrees')\n",
    "ax[1, 0].set_ylabel('Mean error, degrees')\n",
    "ax[1, 0].set_title('Dependence of mean angle error on \\n ground-truth rotation distance')\n",
    "ax[1, 0].grid(axis='x', alpha=0.5)\n",
    "\n",
    "n_bins = 100 # number of bins for histogram calculation \n",
    "counts, bin_edges = np.histogram(np.sort(m['t_gt_distances']), bins=n_bins)\n",
    "cdf_values = np.cumsum(counts) / len(m['t_gt_distances'])\n",
    "bin_centers = (bin_edges[1:] + bin_edges[:-1]) / 2.\n",
    "ax_11 = ax[1, 1].twinx() # create secondary axis with shared x-axis  \n",
    "ax_11.step(bin_centers, cdf_values, 'r', label='Fraction of observations')\n",
    "ax_11.set_ylabel('Fraction of observations')\n",
    "ax_11.set_yticks(np.linspace(0, 1, 11))\n",
    "ax_11.grid(alpha=0.5)\n",
    "ax[1, 1].set_xticks(np.linspace(0, 6.5, 14))\n",
    "ax[1, 1].set_yticks(np.linspace(0, 0.9, 10))\n",
    "ax[1, 1].set_xlabel('Ground-truth $l_2$ distance $<$ than, meters')\n",
    "ax[1, 1].set_ylabel('Mean error, meters')\n",
    "ax[1, 1].set_title('Dependence of mean translation error on \\n ground-truth $l_2$ distance')\n",
    "ax[1, 1].grid(axis='x', alpha=0.5)\n",
    "\n",
    "\n",
    "handles, labels = ax[1, 0].get_legend_handles_labels()\n",
    "handles.extend(ax_11.get_legend_handles_labels()[0])\n",
    "labels.extend(ax_11.get_legend_handles_labels()[1])\n",
    "fig.legend(handles, labels, bbox_to_anchor=(.9, 0), borderaxespad=0.0, ncol=2)\n",
    "fig.tight_layout()\n",
    "plt.savefig('/home/project/code/results/images/scannet_cdfs_gmflow.pdf', bbox_inches='tight')"
   ]
  }
 ],
 "metadata": {
  "kernelspec": {
   "display_name": "Python 3 (ipykernel)",
   "language": "python",
   "name": "python3"
  },
  "language_info": {
   "codemirror_mode": {
    "name": "ipython",
    "version": 3
   },
   "file_extension": ".py",
   "mimetype": "text/x-python",
   "name": "python",
   "nbconvert_exporter": "python",
   "pygments_lexer": "ipython3",
   "version": "3.8.10"
  }
 },
 "nbformat": 4,
 "nbformat_minor": 5
}
