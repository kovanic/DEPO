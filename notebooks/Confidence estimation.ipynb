{
 "cells": [
  {
   "cell_type": "code",
   "execution_count": 5,
   "id": "d159902c-883b-4d8e-991e-2c194c81e1eb",
   "metadata": {
    "tags": []
   },
   "outputs": [],
   "source": [
    "import torch\n",
    "import torch.nn.functional as F\n",
    "from torch import nn\n",
    "\n",
    "import sys"
   ]
  },
  {
   "cell_type": "code",
   "execution_count": 17,
   "id": "6e389d3a-57cc-4336-a429-22d44020182f",
   "metadata": {
    "tags": []
   },
   "outputs": [
    {
     "data": {
      "text/plain": [
       "351.5625534057617"
      ]
     },
     "execution_count": 17,
     "metadata": {},
     "output_type": "execute_result"
    }
   ],
   "source": [
    "cost_volume = torch.rand(4, 60,  80, 60 * 80)\n",
    "sys.getsizeof(cost_volume.untyped_storage()) / 2 ** 20"
   ]
  },
  {
   "cell_type": "code",
   "execution_count": 21,
   "id": "b3a745d0-a615-4a92-a199-b82546317c53",
   "metadata": {
    "tags": []
   },
   "outputs": [],
   "source": [
    "cost_volume = cost_volume.reshape(4 * 60 * 80, 1, 60, 80)"
   ]
  },
  {
   "cell_type": "code",
   "execution_count": 22,
   "id": "1333d7ba-c146-4d3e-8890-30c90e8d151d",
   "metadata": {
    "tags": []
   },
   "outputs": [],
   "source": [
    "conf_module = nn.Sequential(\n",
    "    nn.Conv2d(1, 16, 5, stride=5)\n",
    ")"
   ]
  },
  {
   "cell_type": "code",
   "execution_count": 23,
   "id": "e826b386-364f-4814-ad16-783572eaae14",
   "metadata": {
    "tags": []
   },
   "outputs": [
    {
     "data": {
      "text/plain": [
       "torch.Size([19200, 16, 12, 16])"
      ]
     },
     "execution_count": 23,
     "metadata": {},
     "output_type": "execute_result"
    }
   ],
   "source": [
    "conf_module(cost_volume).shape"
   ]
  }
 ],
 "metadata": {
  "kernelspec": {
   "display_name": "Python 3 (ipykernel)",
   "language": "python",
   "name": "python3"
  },
  "language_info": {
   "codemirror_mode": {
    "name": "ipython",
    "version": 3
   },
   "file_extension": ".py",
   "mimetype": "text/x-python",
   "name": "python",
   "nbconvert_exporter": "python",
   "pygments_lexer": "ipython3",
   "version": "3.8.10"
  }
 },
 "nbformat": 4,
 "nbformat_minor": 5
}
