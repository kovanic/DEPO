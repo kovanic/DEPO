{
 "cells": [
  {
   "cell_type": "code",
   "execution_count": 5,
   "id": "19161acc-2995-4209-918f-3bc601b465fc",
   "metadata": {
    "tags": []
   },
   "outputs": [],
   "source": [
    "%load_ext autoreload\n",
    "%autoreload 2"
   ]
  },
  {
   "cell_type": "code",
   "execution_count": 6,
   "id": "decedb4d-afe7-40d6-81be-9edfbf15d955",
   "metadata": {
    "tags": []
   },
   "outputs": [],
   "source": [
    "import sys\n",
    "sys.path.append('../../src')"
   ]
  },
  {
   "cell_type": "code",
   "execution_count": 7,
   "id": "a7ca3437-a97d-4dbf-a5ed-635ab14464eb",
   "metadata": {
    "tags": []
   },
   "outputs": [],
   "source": [
    "import warnings\n",
    "warnings.filterwarnings('ignore')"
   ]
  },
  {
   "cell_type": "code",
   "execution_count": 8,
   "id": "011cdf9c-599d-4a97-a8db-6ebd0a12c186",
   "metadata": {
    "tags": []
   },
   "outputs": [],
   "source": [
    "import torch\n",
    "from torch.utils.data import DataLoader\n",
    "\n",
    "from data.scannet.flow import ScanNetFlow\n",
    "from flow_regressors.regressors import (\n",
    "    DensePoseRegressorV1, DensePoseRegressorV2, DensePoseRegressorV3, DensePoseRegressorV4, DensePoseRegressorV5,\n",
    "    DensePoseRegressorV6, DensePoseRegressorV7, DensePoseRegressorV8, DensePoseRegressorV9)\n",
    "\n",
    "from training.train_flow import test\n",
    "from training.train_flow_v1 import test as test_v1\n",
    "from utils.model import load_checkpoint\n",
    "from utils.metrics import mAA, rotation_angle_distance_batch, vector_angle_distance_batch, mAA_max, mAA_sep\n",
    "\n",
    "import numpy as np\n",
    "from numpy.linalg import norm\n",
    "\n",
    "import matplotlib.pyplot as plt\n",
    "import seaborn as sns\n",
    "from matplotlib import rc\n",
    "import pandas as pd \n",
    "\n",
    "from tqdm.auto import tqdm\n",
    "import pickle\n",
    "from pathlib import Path"
   ]
  },
  {
   "cell_type": "code",
   "execution_count": 5,
   "id": "0f910f7d-6cc9-4959-aafc-5f9669913198",
   "metadata": {
    "tags": []
   },
   "outputs": [],
   "source": [
    "device = torch.device('cuda:0' if torch.cuda.is_available() else 'cpu')"
   ]
  },
  {
   "cell_type": "markdown",
   "id": "a9bfd19c-0ef4-4edc-9497-3269196f27a4",
   "metadata": {
    "tags": []
   },
   "source": [
    "### 0. Data"
   ]
  },
  {
   "cell_type": "code",
   "execution_count": 6,
   "id": "be5ba0ac-f8fb-4f5a-8bf1-42a536b0e0d1",
   "metadata": {
    "tags": []
   },
   "outputs": [],
   "source": [
    "test_data = ScanNetFlow(\n",
    "    root_dir='/home/project/ScanNet/scannet_test_1500/',\n",
    "    npz_path='/home/project/ScanNet/test.npz',\n",
    "    intrinsics_path='/home/project/ScanNet/intrinsics_test.npz',\n",
    "    mode='test',\n",
    "    reduce=True\n",
    ")\n",
    "\n",
    "test_loader = DataLoader(test_data, batch_size=4, shuffle=False, drop_last=False, pin_memory=True, num_workers=0)"
   ]
  },
  {
   "cell_type": "markdown",
   "id": "e213275c-6f31-4e5a-b905-0f6400c30bba",
   "metadata": {},
   "source": [
    "## 1. Metrics"
   ]
  },
  {
   "cell_type": "code",
   "execution_count": 9,
   "id": "9b0380e8-8596-4c83-a589-67f19847d646",
   "metadata": {
    "tags": []
   },
   "outputs": [],
   "source": [
    "metrics = {}\n",
    "\n",
    "if Path('/home/project/code/results/scannet/metrics_flow').is_file():\n",
    "    with open('/home/project/code/results/scannet/metrics_flow', 'rb') as f:\n",
    "        metrics = pickle.load(f)"
   ]
  },
  {
   "cell_type": "markdown",
   "id": "2b5b3e8e-45fe-4453-8f1a-a7a559a8c019",
   "metadata": {},
   "source": [
    "### 1.1 Exp_1"
   ]
  },
  {
   "cell_type": "code",
   "execution_count": null,
   "id": "f99871b0-3a26-4189-bd47-a347658d638c",
   "metadata": {
    "tags": []
   },
   "outputs": [],
   "source": [
    "checkpoint = load_checkpoint('/home/project/code/src/weights/FLOW_TO_POSE_EXP_1_9.pth', device)\n",
    "model = DensePoseRegressorV1()\n",
    "model.load_state_dict(checkpoint['model'])\n",
    "model.to(device);"
   ]
  },
  {
   "cell_type": "code",
   "execution_count": null,
   "id": "dc1d8846-0ef3-4259-afaa-8ae44c102f85",
   "metadata": {
    "tags": []
   },
   "outputs": [],
   "source": [
    "results = test(model, test_loader, device)"
   ]
  },
  {
   "cell_type": "code",
   "execution_count": null,
   "id": "2dec66d1-7264-45d8-ab98-2a5a97d1223e",
   "metadata": {
    "tags": []
   },
   "outputs": [],
   "source": [
    "name = \"exp_1\"\n",
    "metrics[name] = {\n",
    "    'R_angle_distances': rotation_angle_distance_batch(results['R_gt'], results['R']),\n",
    "    't_angle_distances': vector_angle_distance_batch(results['t_gt'], results['t']),\n",
    "    't_distances_l2': norm(results['t_gt'] - results['t'], ord=2, axis=1),\n",
    "    'R_gt_distances': rotation_angle_distance_batch(results['R_gt'], np.tile(np.eye(3, 3), (results['R_gt'].shape[0], 1, 1))),\n",
    "    't_gt_distances': norm(results['t_gt'], ord=2, axis=1)\n",
    "}"
   ]
  },
  {
   "cell_type": "code",
   "execution_count": 18,
   "id": "4c32cad1-2452-4135-bafe-c7f28a54575d",
   "metadata": {
    "tags": []
   },
   "outputs": [
    {
     "name": "stdout",
     "output_type": "stream",
     "text": [
      "mAA 5 rotation       0.1819\n",
      "mAA 10 rotation      0.3975\n",
      "mAA 20 rotation      0.5946\n"
     ]
    }
   ],
   "source": [
    "name = \"exp_1\"\n",
    "print(f'{\"mAA 5 rotation\":<20} {mAA(metrics[name][\"R_angle_distances\"], metrics[name][\"t_distances_l2\"], thresh=(5, 0.2), N=10000):.4f}')\n",
    "print(f'{\"mAA 10 rotation\":<20} {mAA(metrics[name][\"R_angle_distances\"], metrics[name][\"t_distances_l2\"], thresh=(10, 0.5), N=10000):.4f}')\n",
    "print(f'{\"mAA 20 rotation\":<20} {mAA(metrics[name][\"R_angle_distances\"], metrics[name][\"t_distances_l2\"], thresh=(20, 1), N=10000):.4f}')"
   ]
  },
  {
   "cell_type": "markdown",
   "id": "8c9ae3e8-06f5-4294-a665-cf7924965ab5",
   "metadata": {},
   "source": [
    "### 1.2 Exp_2"
   ]
  },
  {
   "cell_type": "code",
   "execution_count": null,
   "id": "446ae97e-ce47-4ab9-a7c0-66a13b5eaef1",
   "metadata": {
    "tags": []
   },
   "outputs": [],
   "source": [
    "checkpoint = load_checkpoint('/home/project/code/src/weights/FLOW_TO_POSE_EXP_2_9.pth', device)\n",
    "model = DensePoseRegressorV1([0., 0., 0.])\n",
    "model.load_state_dict(checkpoint['model'])\n",
    "model.to(device);"
   ]
  },
  {
   "cell_type": "code",
   "execution_count": null,
   "id": "959f8d23-7c2a-48f9-82cf-0f2c7b6d85a1",
   "metadata": {
    "tags": []
   },
   "outputs": [],
   "source": [
    "results = test(model, test_loader, device)"
   ]
  },
  {
   "cell_type": "code",
   "execution_count": null,
   "id": "d353b3ae-f7e0-418b-a167-ac009b22c9cb",
   "metadata": {
    "tags": []
   },
   "outputs": [],
   "source": [
    "name = \"exp_2\"\n",
    "metrics[name] = {\n",
    "    'R_angle_distances': rotation_angle_distance_batch(results['R_gt'], results['R']),\n",
    "    't_angle_distances': vector_angle_distance_batch(results['t_gt'], results['t']),\n",
    "    't_distances_l2': norm(results['t_gt'] - results['t'], ord=2, axis=1),\n",
    "    'R_gt_distances': rotation_angle_distance_batch(results['R_gt'], np.tile(np.eye(3, 3), (results['R_gt'].shape[0], 1, 1))),\n",
    "    't_gt_distances': norm(results['t_gt'], ord=2, axis=1)\n",
    "}"
   ]
  },
  {
   "cell_type": "code",
   "execution_count": 19,
   "id": "8825f541-970e-49b8-a306-3deac53c75e3",
   "metadata": {
    "tags": []
   },
   "outputs": [
    {
     "name": "stdout",
     "output_type": "stream",
     "text": [
      "mAA 5 rotation       0.1903\n",
      "mAA 10 rotation      0.4044\n",
      "mAA 20 rotation      0.6050\n"
     ]
    }
   ],
   "source": [
    "name = \"exp_2\"\n",
    "print(f'{\"mAA 5 rotation\":<20} {mAA(metrics[name][\"R_angle_distances\"], metrics[name][\"t_distances_l2\"], thresh=(5, 0.2), N=10000):.4f}')\n",
    "print(f'{\"mAA 10 rotation\":<20} {mAA(metrics[name][\"R_angle_distances\"], metrics[name][\"t_distances_l2\"], thresh=(10, 0.5), N=10000):.4f}')\n",
    "print(f'{\"mAA 20 rotation\":<20} {mAA(metrics[name][\"R_angle_distances\"], metrics[name][\"t_distances_l2\"], thresh=(20, 1), N=10000):.4f}')"
   ]
  },
  {
   "cell_type": "markdown",
   "id": "74113457-2133-491d-831d-73120d3323f1",
   "metadata": {},
   "source": [
    "### 1.3Exp_3"
   ]
  },
  {
   "cell_type": "code",
   "execution_count": 11,
   "id": "7f320bd5-afa6-4665-aa6d-9b5ccdc1ad9c",
   "metadata": {
    "tags": []
   },
   "outputs": [],
   "source": [
    "checkpoint = load_checkpoint('/home/project/code/src/weights/FLOW_TO_POSE_EXP_3_9.pth', device)\n",
    "model = DensePoseRegressorV2()\n",
    "model.load_state_dict(checkpoint['model'])\n",
    "model.to(device);"
   ]
  },
  {
   "cell_type": "code",
   "execution_count": null,
   "id": "9859a806-46f8-4885-aa8d-24d940f01137",
   "metadata": {
    "tags": []
   },
   "outputs": [],
   "source": [
    "results = test(model, test_loader, device)"
   ]
  },
  {
   "cell_type": "code",
   "execution_count": null,
   "id": "fe63abfb-3ed8-4ef9-9b7b-96dbc77b3f55",
   "metadata": {
    "tags": []
   },
   "outputs": [],
   "source": [
    "name = \"exp_3\"\n",
    "metrics[name] = {\n",
    "    'R_angle_distances': rotation_angle_distance_batch(results['R_gt'], results['R']),\n",
    "    't_angle_distances': vector_angle_distance_batch(results['t_gt'], results['t']),\n",
    "    't_distances_l2': norm(results['t_gt'] - results['t'], ord=2, axis=1),\n",
    "    'R_gt_distances': rotation_angle_distance_batch(results['R_gt'], np.tile(np.eye(3, 3), (results['R_gt'].shape[0], 1, 1))),\n",
    "    't_gt_distances': norm(results['t_gt'], ord=2, axis=1)\n",
    "}"
   ]
  },
  {
   "cell_type": "code",
   "execution_count": 20,
   "id": "afdb0db0-a578-46b3-8dec-e202b12099c7",
   "metadata": {
    "tags": []
   },
   "outputs": [
    {
     "name": "stdout",
     "output_type": "stream",
     "text": [
      "mAA 5 rotation       0.2648\n",
      "mAA 10 rotation      0.4875\n",
      "mAA 20 rotation      0.6688\n"
     ]
    }
   ],
   "source": [
    "name = \"exp_3\"\n",
    "print(f'{\"mAA 5 rotation\":<20} {mAA(metrics[name][\"R_angle_distances\"], metrics[name][\"t_distances_l2\"], thresh=(5, 0.2), N=10000):.4f}')\n",
    "print(f'{\"mAA 10 rotation\":<20} {mAA(metrics[name][\"R_angle_distances\"], metrics[name][\"t_distances_l2\"], thresh=(10, 0.5), N=10000):.4f}')\n",
    "print(f'{\"mAA 20 rotation\":<20} {mAA(metrics[name][\"R_angle_distances\"], metrics[name][\"t_distances_l2\"], thresh=(20, 1), N=10000):.4f}')"
   ]
  },
  {
   "cell_type": "markdown",
   "id": "18ee4587-2e5e-45ad-b0ff-3f6e7f780d4f",
   "metadata": {},
   "source": [
    "### 1.4 Exp_4"
   ]
  },
  {
   "cell_type": "code",
   "execution_count": 23,
   "id": "2c54857e-4afe-48b9-a8ba-56c9b980fde0",
   "metadata": {
    "tags": []
   },
   "outputs": [],
   "source": [
    "checkpoint = load_checkpoint('/home/project/code/src/weights/FLOW_TO_POSE_EXP_4_9.pth', device)\n",
    "model = DensePoseRegressorV2(init_loss_weights=[0.0, -3.0, 0.0])\n",
    "model.load_state_dict(checkpoint['model'])\n",
    "model.to(device);"
   ]
  },
  {
   "cell_type": "code",
   "execution_count": 24,
   "id": "166981a4-25ce-437b-a669-777b50f4a445",
   "metadata": {
    "tags": []
   },
   "outputs": [
    {
     "name": "stderr",
     "output_type": "stream",
     "text": [
      "100%|█████████████████████████████████████████████████████████████████████████████████████████████████████████████████████| 375/375 [03:12<00:00,  1.94it/s]\n"
     ]
    }
   ],
   "source": [
    "results = test(model, test_loader, device)"
   ]
  },
  {
   "cell_type": "code",
   "execution_count": 25,
   "id": "228be784-5901-43e2-9b74-ddf98d633c79",
   "metadata": {
    "tags": []
   },
   "outputs": [],
   "source": [
    "name = \"exp_4\"\n",
    "metrics[name] = {\n",
    "    'R_angle_distances': rotation_angle_distance_batch(results['R_gt'], results['R']),\n",
    "    't_angle_distances': vector_angle_distance_batch(results['t_gt'], results['t']),\n",
    "    't_distances_l2': norm(results['t_gt'] - results['t'], ord=2, axis=1),\n",
    "    'R_gt_distances': rotation_angle_distance_batch(results['R_gt'], np.tile(np.eye(3, 3), (results['R_gt'].shape[0], 1, 1))),\n",
    "    't_gt_distances': norm(results['t_gt'], ord=2, axis=1)\n",
    "}"
   ]
  },
  {
   "cell_type": "code",
   "execution_count": 26,
   "id": "18fd6da5-ba8b-4281-adae-f672fb54d676",
   "metadata": {
    "tags": []
   },
   "outputs": [
    {
     "name": "stdout",
     "output_type": "stream",
     "text": [
      "mAA 5 rotation       0.2862\n",
      "mAA 10 rotation      0.4986\n",
      "mAA 20 rotation      0.6752\n"
     ]
    }
   ],
   "source": [
    "name = \"exp_4\"\n",
    "print(f'{\"mAA 5 rotation\":<20} {mAA(metrics[name][\"R_angle_distances\"], metrics[name][\"t_distances_l2\"], thresh=(5, 0.2), N=10000):.4f}')\n",
    "print(f'{\"mAA 10 rotation\":<20} {mAA(metrics[name][\"R_angle_distances\"], metrics[name][\"t_distances_l2\"], thresh=(10, 0.5), N=10000):.4f}')\n",
    "print(f'{\"mAA 20 rotation\":<20} {mAA(metrics[name][\"R_angle_distances\"], metrics[name][\"t_distances_l2\"], thresh=(20, 1), N=10000):.4f}')"
   ]
  },
  {
   "cell_type": "markdown",
   "id": "93d9d565-75da-411c-b27b-be3f7133f2ac",
   "metadata": {},
   "source": [
    "### 1.5 Exp_5"
   ]
  },
  {
   "cell_type": "code",
   "execution_count": 12,
   "id": "aeb5cdf0-39db-45a9-a4bd-6f3018ce56bc",
   "metadata": {
    "tags": []
   },
   "outputs": [],
   "source": [
    "checkpoint = load_checkpoint('/home/project/code/src/weights/FLOW_TO_POSE_EXP_5_9.pth', device)\n",
    "model = DensePoseRegressorV2(activation='relu')\n",
    "model.load_state_dict(checkpoint['model'])\n",
    "model.to(device);"
   ]
  },
  {
   "cell_type": "code",
   "execution_count": 13,
   "id": "a17465fa-ee34-44e8-bb73-15199ca035b1",
   "metadata": {
    "tags": []
   },
   "outputs": [
    {
     "name": "stderr",
     "output_type": "stream",
     "text": [
      "100%|█████████████████████████████████████████████████████████████████████████████████████████████████████████████████████| 375/375 [03:43<00:00,  1.68it/s]\n"
     ]
    }
   ],
   "source": [
    "results = test(model, test_loader, device)"
   ]
  },
  {
   "cell_type": "code",
   "execution_count": 14,
   "id": "6068347e-aed4-4944-a065-0aadfd194fcb",
   "metadata": {
    "tags": []
   },
   "outputs": [],
   "source": [
    "name = \"exp_5\"\n",
    "metrics[name] = {\n",
    "    'R_angle_distances': rotation_angle_distance_batch(results['R_gt'], results['R']),\n",
    "    't_angle_distances': vector_angle_distance_batch(results['t_gt'], results['t']),\n",
    "    't_distances_l2': norm(results['t_gt'] - results['t'], ord=2, axis=1),\n",
    "    'R_gt_distances': rotation_angle_distance_batch(results['R_gt'], np.tile(np.eye(3, 3), (results['R_gt'].shape[0], 1, 1))),\n",
    "    't_gt_distances': norm(results['t_gt'], ord=2, axis=1)\n",
    "}"
   ]
  },
  {
   "cell_type": "code",
   "execution_count": 15,
   "id": "ba7404a9-fba3-42ef-ad93-6b2c67dbc047",
   "metadata": {
    "tags": []
   },
   "outputs": [
    {
     "name": "stdout",
     "output_type": "stream",
     "text": [
      "mAA 5 rotation       0.2481\n",
      "mAA 10 rotation      0.4804\n",
      "mAA 20 rotation      0.6658\n"
     ]
    }
   ],
   "source": [
    "print(f'{\"mAA 5 rotation\":<20} {mAA(metrics[name][\"R_angle_distances\"], metrics[name][\"t_distances_l2\"], thresh=(5, 0.2), N=10000):.4f}')\n",
    "print(f'{\"mAA 10 rotation\":<20} {mAA(metrics[name][\"R_angle_distances\"], metrics[name][\"t_distances_l2\"], thresh=(10, 0.5), N=10000):.4f}')\n",
    "print(f'{\"mAA 20 rotation\":<20} {mAA(metrics[name][\"R_angle_distances\"], metrics[name][\"t_distances_l2\"], thresh=(20, 1), N=10000):.4f}')"
   ]
  },
  {
   "cell_type": "markdown",
   "id": "6ccef4a1-3f4d-421e-b738-d8005e0e51c9",
   "metadata": {},
   "source": [
    "### 1.6 Exp_6"
   ]
  },
  {
   "cell_type": "code",
   "execution_count": 27,
   "id": "a5522aed-b369-46ed-b6cb-c90108daa50e",
   "metadata": {
    "tags": []
   },
   "outputs": [],
   "source": [
    "checkpoint = load_checkpoint('/home/project/code/src/weights/FLOW_TO_POSE_EXP_6_9.pth', device)\n",
    "model = DensePoseRegressorV2(activation='relu', init_loss_weights=[0.0, 0.0, 0.0])\n",
    "model.load_state_dict(checkpoint['model'])\n",
    "model.to(device);"
   ]
  },
  {
   "cell_type": "code",
   "execution_count": 28,
   "id": "82f784d8-f06a-41d4-a10d-5dcf119b5805",
   "metadata": {
    "tags": []
   },
   "outputs": [
    {
     "name": "stderr",
     "output_type": "stream",
     "text": [
      "100%|█████████████████████████████████████████████████████████████████████████████████████████████████████████████████████| 375/375 [03:14<00:00,  1.93it/s]\n"
     ]
    }
   ],
   "source": [
    "results = test(model, test_loader, device)"
   ]
  },
  {
   "cell_type": "code",
   "execution_count": 29,
   "id": "7e1ba1d2-b2db-49ed-b7a2-8a3596d66b6a",
   "metadata": {
    "tags": []
   },
   "outputs": [],
   "source": [
    "name = \"exp_6\"\n",
    "metrics[name] = {\n",
    "    'R_angle_distances': rotation_angle_distance_batch(results['R_gt'], results['R']),\n",
    "    't_angle_distances': vector_angle_distance_batch(results['t_gt'], results['t']),\n",
    "    't_distances_l2': norm(results['t_gt'] - results['t'], ord=2, axis=1),\n",
    "    'R_gt_distances': rotation_angle_distance_batch(results['R_gt'], np.tile(np.eye(3, 3), (results['R_gt'].shape[0], 1, 1))),\n",
    "    't_gt_distances': norm(results['t_gt'], ord=2, axis=1)\n",
    "}"
   ]
  },
  {
   "cell_type": "code",
   "execution_count": 30,
   "id": "497ee53f-8a32-4779-ac7e-4a10f34b6cbd",
   "metadata": {
    "tags": []
   },
   "outputs": [
    {
     "name": "stdout",
     "output_type": "stream",
     "text": [
      "mAA 5 rotation       0.2435\n",
      "mAA 10 rotation      0.4625\n",
      "mAA 20 rotation      0.6483\n"
     ]
    }
   ],
   "source": [
    "name = \"exp_6\"\n",
    "print(f'{\"mAA 5 rotation\":<20} {mAA(metrics[name][\"R_angle_distances\"], metrics[name][\"t_distances_l2\"], thresh=(5, 0.2), N=10000):.4f}')\n",
    "print(f'{\"mAA 10 rotation\":<20} {mAA(metrics[name][\"R_angle_distances\"], metrics[name][\"t_distances_l2\"], thresh=(10, 0.5), N=10000):.4f}')\n",
    "print(f'{\"mAA 20 rotation\":<20} {mAA(metrics[name][\"R_angle_distances\"], metrics[name][\"t_distances_l2\"], thresh=(20, 1), N=10000):.4f}')"
   ]
  },
  {
   "cell_type": "markdown",
   "id": "edecc19d-f957-4c76-bdc3-a1e3dc14dc68",
   "metadata": {},
   "source": [
    "### 1.7 Exp_7"
   ]
  },
  {
   "cell_type": "code",
   "execution_count": 12,
   "id": "a862ae16-4bef-48c4-95ba-c644526e1423",
   "metadata": {
    "tags": []
   },
   "outputs": [],
   "source": [
    "checkpoint = load_checkpoint('/home/project/code/src/weights/FLOW_TO_POSE_EXP_7_9.pth', device)\n",
    "model = DensePoseRegressorV3(init_loss_weights=[0., -2.], dropout=0.1)\n",
    "model.load_state_dict(checkpoint['model'])\n",
    "model.to(device);"
   ]
  },
  {
   "cell_type": "code",
   "execution_count": 13,
   "id": "197f8bb7-29be-4407-b2e8-2c8f1499eb74",
   "metadata": {
    "tags": []
   },
   "outputs": [
    {
     "name": "stderr",
     "output_type": "stream",
     "text": [
      "100%|█████████████████████████████████████████████████████████████████████████████████████████████████████████████████████| 375/375 [03:42<00:00,  1.68it/s]\n"
     ]
    }
   ],
   "source": [
    "results = test(model, test_loader, device)"
   ]
  },
  {
   "cell_type": "code",
   "execution_count": 14,
   "id": "eded70c8-5869-4421-9fac-27356e3b6b83",
   "metadata": {
    "tags": []
   },
   "outputs": [],
   "source": [
    "name = \"exp_7\"\n",
    "metrics[name] = {\n",
    "    'R_angle_distances': rotation_angle_distance_batch(results['R_gt'], results['R']),\n",
    "    't_angle_distances': vector_angle_distance_batch(results['t_gt'], results['t']),\n",
    "    't_distances_l2': norm(results['t_gt'] - results['t'], ord=2, axis=1),\n",
    "    'R_gt_distances': rotation_angle_distance_batch(results['R_gt'], np.tile(np.eye(3, 3), (results['R_gt'].shape[0], 1, 1))),\n",
    "    't_gt_distances': norm(results['t_gt'], ord=2, axis=1)\n",
    "}"
   ]
  },
  {
   "cell_type": "code",
   "execution_count": 15,
   "id": "df539b3a-a119-4733-8c71-f457923101da",
   "metadata": {
    "tags": []
   },
   "outputs": [
    {
     "name": "stdout",
     "output_type": "stream",
     "text": [
      "mAA 5 rotation       0.2323\n",
      "mAA 10 rotation      0.4548\n",
      "mAA 20 rotation      0.6435\n"
     ]
    }
   ],
   "source": [
    "name = \"exp_7\"\n",
    "print(f'{\"mAA 5 rotation\":<20} {mAA(metrics[name][\"R_angle_distances\"], metrics[name][\"t_distances_l2\"], thresh=(5, 0.2), N=10000):.4f}')\n",
    "print(f'{\"mAA 10 rotation\":<20} {mAA(metrics[name][\"R_angle_distances\"], metrics[name][\"t_distances_l2\"], thresh=(10, 0.5), N=10000):.4f}')\n",
    "print(f'{\"mAA 20 rotation\":<20} {mAA(metrics[name][\"R_angle_distances\"], metrics[name][\"t_distances_l2\"], thresh=(20, 1), N=10000):.4f}')"
   ]
  },
  {
   "cell_type": "markdown",
   "id": "50536d3e-bb3f-4bbf-b0fe-eeede0b8a46a",
   "metadata": {},
   "source": [
    "### 1.8 Exp_8"
   ]
  },
  {
   "cell_type": "code",
   "execution_count": 16,
   "id": "df07abf2-752d-4848-8eaf-d2817c6ed882",
   "metadata": {
    "tags": []
   },
   "outputs": [],
   "source": [
    "checkpoint = load_checkpoint('/home/project/code/src/weights/FLOW_TO_POSE_EXP_8_9.pth', device)\n",
    "model = DensePoseRegressorV3(init_loss_weights=[0., -2., 0.], dropout=0.1)\n",
    "model.load_state_dict(checkpoint['model'])\n",
    "model.to(device);"
   ]
  },
  {
   "cell_type": "code",
   "execution_count": 17,
   "id": "5ba3b0cf-43ad-4809-94f4-33fb45836729",
   "metadata": {
    "tags": []
   },
   "outputs": [
    {
     "name": "stderr",
     "output_type": "stream",
     "text": [
      "100%|█████████████████████████████████████████████████████████████████████████████████████████████████████████████████████| 375/375 [03:18<00:00,  1.89it/s]\n"
     ]
    }
   ],
   "source": [
    "results = test(model, test_loader, device)"
   ]
  },
  {
   "cell_type": "code",
   "execution_count": 18,
   "id": "1c934447-87f3-4c2a-98c6-874de7f833af",
   "metadata": {
    "tags": []
   },
   "outputs": [],
   "source": [
    "name = \"exp_8\"\n",
    "metrics[name] = {\n",
    "    'R_angle_distances': rotation_angle_distance_batch(results['R_gt'], results['R']),\n",
    "    't_angle_distances': vector_angle_distance_batch(results['t_gt'], results['t']),\n",
    "    't_distances_l2': norm(results['t_gt'] - results['t'], ord=2, axis=1),\n",
    "    'R_gt_distances': rotation_angle_distance_batch(results['R_gt'], np.tile(np.eye(3, 3), (results['R_gt'].shape[0], 1, 1))),\n",
    "    't_gt_distances': norm(results['t_gt'], ord=2, axis=1)\n",
    "}"
   ]
  },
  {
   "cell_type": "code",
   "execution_count": 19,
   "id": "1154a16a-f267-4e96-a213-5409421b8215",
   "metadata": {
    "tags": []
   },
   "outputs": [
    {
     "name": "stdout",
     "output_type": "stream",
     "text": [
      "mAA 5 rotation       0.2332\n",
      "mAA 10 rotation      0.4502\n",
      "mAA 20 rotation      0.6340\n"
     ]
    }
   ],
   "source": [
    "name = \"exp_8\"\n",
    "print(f'{\"mAA 5 rotation\":<20} {mAA(metrics[name][\"R_angle_distances\"], metrics[name][\"t_distances_l2\"], thresh=(5, 0.2), N=10000):.4f}')\n",
    "print(f'{\"mAA 10 rotation\":<20} {mAA(metrics[name][\"R_angle_distances\"], metrics[name][\"t_distances_l2\"], thresh=(10, 0.5), N=10000):.4f}')\n",
    "print(f'{\"mAA 20 rotation\":<20} {mAA(metrics[name][\"R_angle_distances\"], metrics[name][\"t_distances_l2\"], thresh=(20, 1), N=10000):.4f}')"
   ]
  },
  {
   "cell_type": "markdown",
   "id": "01c3ecc5-eb0a-4b90-8d0b-8f83b3e79c65",
   "metadata": {},
   "source": [
    "### 1.9 Exp_9"
   ]
  },
  {
   "cell_type": "code",
   "execution_count": 20,
   "id": "ea9a7b57-61e0-4c3c-88b8-5ad3361797de",
   "metadata": {
    "tags": []
   },
   "outputs": [],
   "source": [
    "checkpoint = load_checkpoint('/home/project/code/src/weights/FLOW_TO_POSE_EXP_9_9.pth', device)\n",
    "model = DensePoseRegressorV3(init_loss_weights=[0., -2.], dropout=None)\n",
    "model.load_state_dict(checkpoint['model'])\n",
    "model.to(device);"
   ]
  },
  {
   "cell_type": "code",
   "execution_count": 21,
   "id": "a3b511a0-f07b-4838-a760-72f3ab415089",
   "metadata": {
    "tags": []
   },
   "outputs": [
    {
     "name": "stderr",
     "output_type": "stream",
     "text": [
      "100%|█████████████████████████████████████████████████████████████████████████████████████████████████████████████████████| 375/375 [03:15<00:00,  1.91it/s]\n"
     ]
    }
   ],
   "source": [
    "results = test(model, test_loader, device)"
   ]
  },
  {
   "cell_type": "code",
   "execution_count": 22,
   "id": "f018feae-959b-42cd-9f84-027dea3600fb",
   "metadata": {
    "tags": []
   },
   "outputs": [],
   "source": [
    "name = \"exp_9\"\n",
    "metrics[name] = {\n",
    "    'R_angle_distances': rotation_angle_distance_batch(results['R_gt'], results['R']),\n",
    "    't_angle_distances': vector_angle_distance_batch(results['t_gt'], results['t']),\n",
    "    't_distances_l2': norm(results['t_gt'] - results['t'], ord=2, axis=1),\n",
    "    'R_gt_distances': rotation_angle_distance_batch(results['R_gt'], np.tile(np.eye(3, 3), (results['R_gt'].shape[0], 1, 1))),\n",
    "    't_gt_distances': norm(results['t_gt'], ord=2, axis=1)\n",
    "}"
   ]
  },
  {
   "cell_type": "code",
   "execution_count": 23,
   "id": "400cd0c2-b591-428e-87dd-0f6516202dfb",
   "metadata": {
    "tags": []
   },
   "outputs": [
    {
     "name": "stdout",
     "output_type": "stream",
     "text": [
      "mAA 5 rotation       0.2879\n",
      "mAA 10 rotation      0.5022\n",
      "mAA 20 rotation      0.6711\n"
     ]
    }
   ],
   "source": [
    "name = \"exp_9\"\n",
    "print(f'{\"mAA 5 rotation\":<20} {mAA(metrics[name][\"R_angle_distances\"], metrics[name][\"t_distances_l2\"], thresh=(5, 0.2), N=10000):.4f}')\n",
    "print(f'{\"mAA 10 rotation\":<20} {mAA(metrics[name][\"R_angle_distances\"], metrics[name][\"t_distances_l2\"], thresh=(10, 0.5), N=10000):.4f}')\n",
    "print(f'{\"mAA 20 rotation\":<20} {mAA(metrics[name][\"R_angle_distances\"], metrics[name][\"t_distances_l2\"], thresh=(20, 1), N=10000):.4f}')"
   ]
  },
  {
   "cell_type": "markdown",
   "id": "de4bf6be-b90e-4254-a960-ca734cb0ee13",
   "metadata": {},
   "source": [
    "### 1.10 Exp_10"
   ]
  },
  {
   "cell_type": "code",
   "execution_count": 24,
   "id": "0926afe8-f5c3-4ba6-8026-b802df5d8398",
   "metadata": {
    "tags": []
   },
   "outputs": [],
   "source": [
    "checkpoint = load_checkpoint('/home/project/code/src/weights/FLOW_TO_POSE_EXP_10_9.pth', device)\n",
    "model = DensePoseRegressorV5(dropout=None)\n",
    "model.load_state_dict(checkpoint['model'])\n",
    "model.to(device);"
   ]
  },
  {
   "cell_type": "code",
   "execution_count": 25,
   "id": "dd6fe86f-692c-4f63-893e-7da340e9c598",
   "metadata": {
    "tags": []
   },
   "outputs": [
    {
     "name": "stderr",
     "output_type": "stream",
     "text": [
      "100%|█████████████████████████████████████████████████████████████████████████████████████████████████████████████████████| 375/375 [03:21<00:00,  1.86it/s]\n"
     ]
    }
   ],
   "source": [
    "results = test(model, test_loader, device)"
   ]
  },
  {
   "cell_type": "code",
   "execution_count": 26,
   "id": "6275d6b4-21e6-4fda-8108-3395ce9b6c69",
   "metadata": {
    "tags": []
   },
   "outputs": [],
   "source": [
    "name = \"exp_10\"\n",
    "metrics[name] = {\n",
    "    'R_angle_distances': rotation_angle_distance_batch(results['R_gt'], results['R']),\n",
    "    't_angle_distances': vector_angle_distance_batch(results['t_gt'], results['t']),\n",
    "    't_distances_l2': norm(results['t_gt'] - results['t'], ord=2, axis=1),\n",
    "    'R_gt_distances': rotation_angle_distance_batch(results['R_gt'], np.tile(np.eye(3, 3), (results['R_gt'].shape[0], 1, 1))),\n",
    "    't_gt_distances': norm(results['t_gt'], ord=2, axis=1)\n",
    "}"
   ]
  },
  {
   "cell_type": "code",
   "execution_count": 27,
   "id": "8f9f7acf-7666-408d-928a-7b8305978d2a",
   "metadata": {
    "tags": []
   },
   "outputs": [
    {
     "name": "stdout",
     "output_type": "stream",
     "text": [
      "mAA 5 rotation       0.2827\n",
      "mAA 10 rotation      0.4975\n",
      "mAA 20 rotation      0.6696\n"
     ]
    }
   ],
   "source": [
    "name = \"exp_10\"\n",
    "print(f'{\"mAA 5 rotation\":<20} {mAA(metrics[name][\"R_angle_distances\"], metrics[name][\"t_distances_l2\"], thresh=(5, 0.2), N=10000):.4f}')\n",
    "print(f'{\"mAA 10 rotation\":<20} {mAA(metrics[name][\"R_angle_distances\"], metrics[name][\"t_distances_l2\"], thresh=(10, 0.5), N=10000):.4f}')\n",
    "print(f'{\"mAA 20 rotation\":<20} {mAA(metrics[name][\"R_angle_distances\"], metrics[name][\"t_distances_l2\"], thresh=(20, 1), N=10000):.4f}')"
   ]
  },
  {
   "cell_type": "markdown",
   "id": "892a197a-bb78-4bd2-8452-12e304c6b2f1",
   "metadata": {},
   "source": [
    "### 1.11 Exp_11"
   ]
  },
  {
   "cell_type": "code",
   "execution_count": 28,
   "id": "c6ab3a45-8306-4987-b1ac-76610b99d872",
   "metadata": {
    "tags": []
   },
   "outputs": [],
   "source": [
    "checkpoint = load_checkpoint('/home/project/code/src/weights/FLOW_TO_POSE_EXP_11_9.pth', device)\n",
    "model = DensePoseRegressorV4(dropout=None)\n",
    "model.load_state_dict(checkpoint['model'])\n",
    "model.to(device);"
   ]
  },
  {
   "cell_type": "code",
   "execution_count": 30,
   "id": "1bdeef2d-2ff3-4770-83a6-1c27c4f8018c",
   "metadata": {
    "tags": []
   },
   "outputs": [
    {
     "name": "stderr",
     "output_type": "stream",
     "text": [
      "100%|█████████████████████████████████████████████████████████████████████████████████████████████████████████████████████| 375/375 [03:36<00:00,  1.73it/s]\n"
     ]
    }
   ],
   "source": [
    "results = test_v1(model, test_loader, device)"
   ]
  },
  {
   "cell_type": "code",
   "execution_count": 31,
   "id": "09538fe2-3e09-4477-9b8c-64acf449059b",
   "metadata": {
    "tags": []
   },
   "outputs": [],
   "source": [
    "name = \"exp_11\"\n",
    "metrics[name] = {\n",
    "    'R_angle_distances': rotation_angle_distance_batch(results['R_gt'], results['R']),\n",
    "    't_angle_distances': vector_angle_distance_batch(results['t_gt'], results['t']),\n",
    "    't_distances_l2': norm(results['t_gt'] - results['t'], ord=2, axis=1),\n",
    "    'R_gt_distances': rotation_angle_distance_batch(results['R_gt'], np.tile(np.eye(3, 3), (results['R_gt'].shape[0], 1, 1))),\n",
    "    't_gt_distances': norm(results['t_gt'], ord=2, axis=1)\n",
    "}"
   ]
  },
  {
   "cell_type": "code",
   "execution_count": 41,
   "id": "2010c36b-5975-480a-abb8-29abba9d2c87",
   "metadata": {
    "tags": []
   },
   "outputs": [
    {
     "name": "stdout",
     "output_type": "stream",
     "text": [
      "mAA 5 rotation       0.2229\n",
      "mAA 10 rotation      0.4542\n",
      "mAA 20 rotation      0.6455\n"
     ]
    }
   ],
   "source": [
    "name = \"exp_11\"\n",
    "print(f'{\"mAA 5 rotation\":<20} {mAA(metrics[name][\"R_angle_distances\"], metrics[name][\"t_distances_l2\"], thresh=(5, 0.2), N=10000):.4f}')\n",
    "print(f'{\"mAA 10 rotation\":<20} {mAA(metrics[name][\"R_angle_distances\"], metrics[name][\"t_distances_l2\"], thresh=(10, 0.5), N=10000):.4f}')\n",
    "print(f'{\"mAA 20 rotation\":<20} {mAA(metrics[name][\"R_angle_distances\"], metrics[name][\"t_distances_l2\"], thresh=(20, 1), N=10000):.4f}')"
   ]
  },
  {
   "cell_type": "markdown",
   "id": "5d5d56dc-be5b-4000-889a-7332fc96cd78",
   "metadata": {},
   "source": [
    "### 1.12 Exp_12"
   ]
  },
  {
   "cell_type": "code",
   "execution_count": 9,
   "id": "0e20a1c0-f134-4df8-afe4-fbf31c6daabb",
   "metadata": {
    "tags": []
   },
   "outputs": [],
   "source": [
    "checkpoint = load_checkpoint('/home/project/code/src/weights/FLOW_TO_POSE_EXP_12_9.pth', device)\n",
    "model = DensePoseRegressorV5(activation='relu', dropout=None)\n",
    "model.load_state_dict(checkpoint['model'])\n",
    "model.to(device);"
   ]
  },
  {
   "cell_type": "code",
   "execution_count": 10,
   "id": "98422861-b006-42a1-8916-a636526e9200",
   "metadata": {
    "tags": []
   },
   "outputs": [
    {
     "name": "stderr",
     "output_type": "stream",
     "text": [
      "100%|█████████████████████████████████████████████████████████████████████████████████████████████████████████████████████| 375/375 [04:09<00:00,  1.50it/s]\n"
     ]
    }
   ],
   "source": [
    "results = test(model, test_loader, device)"
   ]
  },
  {
   "cell_type": "code",
   "execution_count": 11,
   "id": "94307829-e615-4e27-8457-d21945f94382",
   "metadata": {
    "tags": []
   },
   "outputs": [],
   "source": [
    "name = \"exp_12\"\n",
    "metrics[name] = {\n",
    "    'R_angle_distances': rotation_angle_distance_batch(results['R_gt'], results['R']),\n",
    "    't_angle_distances': vector_angle_distance_batch(results['t_gt'], results['t']),\n",
    "    't_distances_l2': norm(results['t_gt'] - results['t'], ord=2, axis=1),\n",
    "    'R_gt_distances': rotation_angle_distance_batch(results['R_gt'], np.tile(np.eye(3, 3), (results['R_gt'].shape[0], 1, 1))),\n",
    "    't_gt_distances': norm(results['t_gt'], ord=2, axis=1)\n",
    "}"
   ]
  },
  {
   "cell_type": "code",
   "execution_count": 12,
   "id": "09991fcb-8456-481c-904e-fa1173ccbb58",
   "metadata": {
    "tags": []
   },
   "outputs": [
    {
     "name": "stdout",
     "output_type": "stream",
     "text": [
      "mAA 5 rotation       0.2311\n",
      "mAA 10 rotation      0.4559\n",
      "mAA 20 rotation      0.6413\n"
     ]
    }
   ],
   "source": [
    "name = \"exp_12\"\n",
    "print(f'{\"mAA 5 rotation\":<20} {mAA(metrics[name][\"R_angle_distances\"], metrics[name][\"t_distances_l2\"], thresh=(5, 0.2), N=10000):.4f}')\n",
    "print(f'{\"mAA 10 rotation\":<20} {mAA(metrics[name][\"R_angle_distances\"], metrics[name][\"t_distances_l2\"], thresh=(10, 0.5), N=10000):.4f}')\n",
    "print(f'{\"mAA 20 rotation\":<20} {mAA(metrics[name][\"R_angle_distances\"], metrics[name][\"t_distances_l2\"], thresh=(20, 1), N=10000):.4f}')"
   ]
  },
  {
   "cell_type": "markdown",
   "id": "63af8f84-ed79-4644-8833-32e2be3ee4d5",
   "metadata": {},
   "source": [
    "### 1.13 Exp_13"
   ]
  },
  {
   "cell_type": "code",
   "execution_count": 8,
   "id": "6572171f-eeb7-4995-b98d-5fb7eac16ad8",
   "metadata": {
    "tags": []
   },
   "outputs": [],
   "source": [
    "checkpoint = load_checkpoint('/home/project/code/src/weights/FLOW_TO_POSE_EXP_13_9.pth', device)\n",
    "model = DensePoseRegressorV7(init_loss_weights=[0.0, -3.0, 0.0])\n",
    "model.load_state_dict(checkpoint['model'])\n",
    "model.to(device);"
   ]
  },
  {
   "cell_type": "code",
   "execution_count": 9,
   "id": "a871dc35-439a-439c-877c-e1e21a8d4abc",
   "metadata": {
    "tags": []
   },
   "outputs": [
    {
     "name": "stderr",
     "output_type": "stream",
     "text": [
      "100%|█████████████████████████████████████████████████████████████████████████████████████████████████████████████████████| 375/375 [04:13<00:00,  1.48it/s]\n"
     ]
    }
   ],
   "source": [
    "results = test(model, test_loader, device)"
   ]
  },
  {
   "cell_type": "code",
   "execution_count": 10,
   "id": "2c2b442b-ec11-481a-9b17-1b0e9f96fb74",
   "metadata": {
    "tags": []
   },
   "outputs": [],
   "source": [
    "name = \"exp_13\"\n",
    "metrics[name] = {\n",
    "    'R_angle_distances': rotation_angle_distance_batch(results['R_gt'], results['R']),\n",
    "    't_angle_distances': vector_angle_distance_batch(results['t_gt'], results['t']),\n",
    "    't_distances_l2': norm(results['t_gt'] - results['t'], ord=2, axis=1),\n",
    "    'R_gt_distances': rotation_angle_distance_batch(results['R_gt'], np.tile(np.eye(3, 3), (results['R_gt'].shape[0], 1, 1))),\n",
    "    't_gt_distances': norm(results['t_gt'], ord=2, axis=1)\n",
    "}"
   ]
  },
  {
   "cell_type": "code",
   "execution_count": 11,
   "id": "a63edc81-6901-4e3d-9888-89340cb48c06",
   "metadata": {
    "tags": []
   },
   "outputs": [
    {
     "name": "stdout",
     "output_type": "stream",
     "text": [
      "mAA 5 rotation       0.2951\n",
      "mAA 10 rotation      0.5122\n",
      "mAA 20 rotation      0.6850\n"
     ]
    }
   ],
   "source": [
    "name = \"exp_13\"\n",
    "print(f'{\"mAA 5 rotation\":<20} {mAA(metrics[name][\"R_angle_distances\"], metrics[name][\"t_distances_l2\"], thresh=(5, 0.2), N=10000):.4f}')\n",
    "print(f'{\"mAA 10 rotation\":<20} {mAA(metrics[name][\"R_angle_distances\"], metrics[name][\"t_distances_l2\"], thresh=(10, 0.5), N=10000):.4f}')\n",
    "print(f'{\"mAA 20 rotation\":<20} {mAA(metrics[name][\"R_angle_distances\"], metrics[name][\"t_distances_l2\"], thresh=(20, 1), N=10000):.4f}')"
   ]
  },
  {
   "cell_type": "markdown",
   "id": "a19647fb-b91f-437b-8bfe-594ade2469ad",
   "metadata": {},
   "source": [
    "### 1.14 Exp_14"
   ]
  },
  {
   "cell_type": "code",
   "execution_count": 12,
   "id": "66f4520b-ecba-4336-a798-25f7df252b1c",
   "metadata": {
    "tags": []
   },
   "outputs": [],
   "source": [
    "checkpoint = load_checkpoint('/home/project/code/src/weights/FLOW_TO_POSE_EXP_14_9.pth', device)\n",
    "model = DensePoseRegressorV6()\n",
    "model.load_state_dict(checkpoint['model'])\n",
    "model.to(device);"
   ]
  },
  {
   "cell_type": "code",
   "execution_count": 13,
   "id": "efc7f30b-a38f-49b9-a85f-6de3a0fd5bf0",
   "metadata": {
    "tags": []
   },
   "outputs": [
    {
     "name": "stderr",
     "output_type": "stream",
     "text": [
      "100%|█████████████████████████████████████████████████████████████████████████████████████████████████████████████████████| 375/375 [03:54<00:00,  1.60it/s]\n"
     ]
    }
   ],
   "source": [
    "results = test(model, test_loader, device)"
   ]
  },
  {
   "cell_type": "code",
   "execution_count": 14,
   "id": "2deb3a27-6c41-474e-8429-02ad68e53b80",
   "metadata": {
    "tags": []
   },
   "outputs": [],
   "source": [
    "name = \"exp_14\"\n",
    "metrics[name] = {\n",
    "    'R_angle_distances': rotation_angle_distance_batch(results['R_gt'], results['R']),\n",
    "    't_angle_distances': vector_angle_distance_batch(results['t_gt'], results['t']),\n",
    "    't_distances_l2': norm(results['t_gt'] - results['t'], ord=2, axis=1),\n",
    "    'R_gt_distances': rotation_angle_distance_batch(results['R_gt'], np.tile(np.eye(3, 3), (results['R_gt'].shape[0], 1, 1))),\n",
    "    't_gt_distances': norm(results['t_gt'], ord=2, axis=1)\n",
    "}"
   ]
  },
  {
   "cell_type": "code",
   "execution_count": 15,
   "id": "f6359ed2-32e7-4e23-93d4-591d255452fb",
   "metadata": {
    "tags": []
   },
   "outputs": [
    {
     "name": "stdout",
     "output_type": "stream",
     "text": [
      "mAA 5 rotation       0.2952\n",
      "mAA 10 rotation      0.5128\n",
      "mAA 20 rotation      0.6817\n"
     ]
    }
   ],
   "source": [
    "name = \"exp_14\"\n",
    "print(f'{\"mAA 5 rotation\":<20} {mAA(metrics[name][\"R_angle_distances\"], metrics[name][\"t_distances_l2\"], thresh=(5, 0.2), N=10000):.4f}')\n",
    "print(f'{\"mAA 10 rotation\":<20} {mAA(metrics[name][\"R_angle_distances\"], metrics[name][\"t_distances_l2\"], thresh=(10, 0.5), N=10000):.4f}')\n",
    "print(f'{\"mAA 20 rotation\":<20} {mAA(metrics[name][\"R_angle_distances\"], metrics[name][\"t_distances_l2\"], thresh=(20, 1), N=10000):.4f}')"
   ]
  },
  {
   "cell_type": "markdown",
   "id": "e4620143-0021-4c15-a239-fb5d66e3199d",
   "metadata": {},
   "source": [
    "### 1.15 Exp_15"
   ]
  },
  {
   "cell_type": "code",
   "execution_count": 16,
   "id": "a63e516a-e679-41e7-b0b7-f63ff5bad2e6",
   "metadata": {
    "tags": []
   },
   "outputs": [],
   "source": [
    "checkpoint = load_checkpoint('/home/project/code/src/weights/FLOW_TO_POSE_EXP_15_9.pth', device)\n",
    "model = DensePoseRegressorV8()\n",
    "model.load_state_dict(checkpoint['model'])\n",
    "model.to(device);"
   ]
  },
  {
   "cell_type": "code",
   "execution_count": 17,
   "id": "b3db546f-7061-4e0d-9ae3-d0ecc148b6ec",
   "metadata": {
    "tags": []
   },
   "outputs": [
    {
     "name": "stderr",
     "output_type": "stream",
     "text": [
      "100%|█████████████████████████████████████████████████████████████████████████████████████████████████████████████████████| 375/375 [03:41<00:00,  1.69it/s]\n"
     ]
    }
   ],
   "source": [
    "results = test(model, test_loader, device)"
   ]
  },
  {
   "cell_type": "code",
   "execution_count": 18,
   "id": "82b79622-35b7-474d-92c0-7d3463cfc025",
   "metadata": {
    "tags": []
   },
   "outputs": [],
   "source": [
    "name = \"exp_15\"\n",
    "metrics[name] = {\n",
    "    'R_angle_distances': rotation_angle_distance_batch(results['R_gt'], results['R']),\n",
    "    't_angle_distances': vector_angle_distance_batch(results['t_gt'], results['t']),\n",
    "    't_distances_l2': norm(results['t_gt'] - results['t'], ord=2, axis=1),\n",
    "    'R_gt_distances': rotation_angle_distance_batch(results['R_gt'], np.tile(np.eye(3, 3), (results['R_gt'].shape[0], 1, 1))),\n",
    "    't_gt_distances': norm(results['t_gt'], ord=2, axis=1)\n",
    "}"
   ]
  },
  {
   "cell_type": "code",
   "execution_count": 19,
   "id": "d2588fdc-21be-462d-8a88-15410533f6a5",
   "metadata": {
    "tags": []
   },
   "outputs": [
    {
     "name": "stdout",
     "output_type": "stream",
     "text": [
      "mAA 5 rotation       0.2747\n",
      "mAA 10 rotation      0.4843\n",
      "mAA 20 rotation      0.6619\n"
     ]
    }
   ],
   "source": [
    "name = \"exp_15\"\n",
    "print(f'{\"mAA 5 rotation\":<20} {mAA(metrics[name][\"R_angle_distances\"], metrics[name][\"t_distances_l2\"], thresh=(5, 0.2), N=10000):.4f}')\n",
    "print(f'{\"mAA 10 rotation\":<20} {mAA(metrics[name][\"R_angle_distances\"], metrics[name][\"t_distances_l2\"], thresh=(10, 0.5), N=10000):.4f}')\n",
    "print(f'{\"mAA 20 rotation\":<20} {mAA(metrics[name][\"R_angle_distances\"], metrics[name][\"t_distances_l2\"], thresh=(20, 1), N=10000):.4f}')"
   ]
  },
  {
   "cell_type": "markdown",
   "id": "e6d52d1f-faa3-413b-9cbe-019cd9957482",
   "metadata": {},
   "source": [
    "### 1.16 Exp_16"
   ]
  },
  {
   "cell_type": "code",
   "execution_count": 8,
   "id": "6b19b5a1-6aae-4268-9df7-e858f0c4686b",
   "metadata": {
    "tags": []
   },
   "outputs": [],
   "source": [
    "checkpoint = load_checkpoint('/home/project/code/src/weights/FLOW_TO_POSE_EXP_16_9.pth', device)\n",
    "model = DensePoseRegressorV9(init_loss_weights=[0.0, -3.0, 0.0])\n",
    "model.load_state_dict(checkpoint['model'])\n",
    "model.to(device);"
   ]
  },
  {
   "cell_type": "code",
   "execution_count": 9,
   "id": "3b2960b4-211e-474d-af6c-14aac70b2a6c",
   "metadata": {
    "tags": []
   },
   "outputs": [
    {
     "name": "stderr",
     "output_type": "stream",
     "text": [
      "100%|█████████████████████████████████████████████████████████████████████████████████████████████████████████████████████| 375/375 [04:18<00:00,  1.45it/s]\n"
     ]
    }
   ],
   "source": [
    "results = test(model, test_loader, device)"
   ]
  },
  {
   "cell_type": "code",
   "execution_count": 11,
   "id": "6102e60b-a3db-4721-8bb2-bd419dfda859",
   "metadata": {
    "tags": []
   },
   "outputs": [],
   "source": [
    "name = \"exp_16\"\n",
    "metrics[name] = {\n",
    "    'R_angle_distances': rotation_angle_distance_batch(results['R_gt'], results['R']),\n",
    "    't_angle_distances': vector_angle_distance_batch(results['t_gt'], results['t']),\n",
    "    't_distances_l2': norm(results['t_gt'] - results['t'], ord=2, axis=1),\n",
    "    'R_gt_distances': rotation_angle_distance_batch(results['R_gt'], np.tile(np.eye(3, 3), (results['R_gt'].shape[0], 1, 1))),\n",
    "    't_gt_distances': norm(results['t_gt'], ord=2, axis=1)\n",
    "}"
   ]
  },
  {
   "cell_type": "code",
   "execution_count": 11,
   "id": "2b113a5b-da9a-4f29-8e89-ce8aad97f145",
   "metadata": {
    "tags": []
   },
   "outputs": [
    {
     "name": "stdout",
     "output_type": "stream",
     "text": [
      "mAA 5 rotation       0.3086\n",
      "mAA 10 rotation      0.5282\n",
      "mAA 20 rotation      0.6930\n"
     ]
    }
   ],
   "source": [
    "name = \"exp_16\"\n",
    "print(f'{\"mAA 5 rotation\":<20} {mAA(metrics[name][\"R_angle_distances\"], metrics[name][\"t_distances_l2\"], thresh=(5, 0.2), N=10000):.4f}')\n",
    "print(f'{\"mAA 10 rotation\":<20} {mAA(metrics[name][\"R_angle_distances\"], metrics[name][\"t_distances_l2\"], thresh=(10, 0.5), N=10000):.4f}')\n",
    "print(f'{\"mAA 20 rotation\":<20} {mAA(metrics[name][\"R_angle_distances\"], metrics[name][\"t_distances_l2\"], thresh=(20, 1), N=10000):.4f}')"
   ]
  },
  {
   "cell_type": "markdown",
   "id": "9f1c6c87-02a6-425d-ad31-5c533b511af3",
   "metadata": {},
   "source": [
    "#### Saving metrics"
   ]
  },
  {
   "cell_type": "code",
   "execution_count": 13,
   "id": "d641089f-2eb9-4135-81e1-19bdec795063",
   "metadata": {
    "tags": []
   },
   "outputs": [],
   "source": [
    "with open('/home/project/code/results/scannet/metrics_flow', 'wb') as f:\n",
    "    pickle.dump(metrics, f)"
   ]
  },
  {
   "cell_type": "markdown",
   "id": "0786a0c0-821b-4820-a848-8d764d1939cb",
   "metadata": {},
   "source": [
    "# 2. Results\n",
    "### 2.1 Table form\n"
   ]
  },
  {
   "cell_type": "code",
   "execution_count": null,
   "id": "1ee3277b-1c1a-4ff1-a1fa-a302a5e6ba4a",
   "metadata": {
    "tags": []
   },
   "outputs": [],
   "source": [
    "metrics_ = {}\n",
    "for key, val in metrics.items():\n",
    "    metrics_[int(key.split('_')[1])] = val"
   ]
  },
  {
   "cell_type": "code",
   "execution_count": 20,
   "id": "1ce0b332-fe53-4605-a9ad-a94dd3c4a2c9",
   "metadata": {
    "tags": []
   },
   "outputs": [],
   "source": [
    "exp_names = {\n",
    "1: '(1) Baseline, shared decoder, init loss weights = [0, -3]', \n",
    "2: '(2) = (1) + $l_2$, init loss weights = [0, -3., 0]',\n",
    "3: '(3) = (1) + LN',\n",
    "4: '(4) = (2) + LN',\n",
    "5: '(5) = (3) - LeakyReLU + ReLU',\n",
    "6: '(6) = (4) - LeakyReLU + ReLU, init loss weights = [0, 0, 0]',\n",
    "7: '(7) = (3) + Dropout, init loss weights = [0, -2]', \n",
    "8: '(8) = (4) + Dropout, init loss weights = [0, -2, 0.]',\n",
    "9: '(9) = (4) +  init loss weights = [0, -2, 0]',\n",
    "10: '(10) 2 separate heads, no weights in loss',\n",
    "11: '(11) 3 separate heads, no weights in loss',\n",
    "12: '(12) = (10) - LeakyReLU + ReLU',\n",
    "13: '(13) = (4) but with ResNet blocks',\n",
    "14: '(14) = (10) but with ResNet blocks',\n",
    "15: '(15) = (14) with separable convs',\n",
    "16: '(16) = (13) but first conv -> ASPP'\n",
    "}"
   ]
  },
  {
   "cell_type": "code",
   "execution_count": 22,
   "id": "05ab49dc-8aaf-46a7-b798-62be275bfa1b",
   "metadata": {
    "tags": []
   },
   "outputs": [
    {
     "data": {
      "text/html": [
       "<style type=\"text/css\">\n",
       "#T_cd61f_row0_col0 {\n",
       "  background-color: #c21c27;\n",
       "  color: #f1f1f1;\n",
       "}\n",
       "#T_cd61f_row0_col1 {\n",
       "  background-color: #b10b26;\n",
       "  color: #f1f1f1;\n",
       "}\n",
       "#T_cd61f_row0_col2, #T_cd61f_row0_col3, #T_cd61f_row0_col4, #T_cd61f_row0_col5, #T_cd61f_row0_col6, #T_cd61f_row0_col8, #T_cd61f_row0_col9, #T_cd61f_row0_col10, #T_cd61f_row0_col11, #T_cd61f_row1_col0, #T_cd61f_row1_col1, #T_cd61f_row6_col7 {\n",
       "  background-color: #a50026;\n",
       "  color: #f1f1f1;\n",
       "}\n",
       "#T_cd61f_row0_col7, #T_cd61f_row1_col2, #T_cd61f_row1_col3 {\n",
       "  background-color: #dc3b2c;\n",
       "  color: #f1f1f1;\n",
       "}\n",
       "#T_cd61f_row1_col4, #T_cd61f_row1_col9 {\n",
       "  background-color: #f67f4b;\n",
       "  color: #f1f1f1;\n",
       "}\n",
       "#T_cd61f_row1_col5, #T_cd61f_row2_col7 {\n",
       "  background-color: #fca55d;\n",
       "  color: #000000;\n",
       "}\n",
       "#T_cd61f_row1_col6, #T_cd61f_row1_col8 {\n",
       "  background-color: #f98e52;\n",
       "  color: #f1f1f1;\n",
       "}\n",
       "#T_cd61f_row1_col7 {\n",
       "  background-color: #fba35c;\n",
       "  color: #000000;\n",
       "}\n",
       "#T_cd61f_row1_col10 {\n",
       "  background-color: #f88950;\n",
       "  color: #f1f1f1;\n",
       "}\n",
       "#T_cd61f_row1_col11 {\n",
       "  background-color: #f5fbb2;\n",
       "  color: #000000;\n",
       "}\n",
       "#T_cd61f_row2_col0, #T_cd61f_row3_col1, #T_cd61f_row11_col8, #T_cd61f_row14_col9 {\n",
       "  background-color: #1e9a51;\n",
       "  color: #f1f1f1;\n",
       "}\n",
       "#T_cd61f_row2_col1 {\n",
       "  background-color: #3faa59;\n",
       "  color: #f1f1f1;\n",
       "}\n",
       "#T_cd61f_row2_col2, #T_cd61f_row11_col5 {\n",
       "  background-color: #4bb05c;\n",
       "  color: #f1f1f1;\n",
       "}\n",
       "#T_cd61f_row2_col3, #T_cd61f_row9_col6 {\n",
       "  background-color: #51b35e;\n",
       "  color: #f1f1f1;\n",
       "}\n",
       "#T_cd61f_row2_col4, #T_cd61f_row6_col10, #T_cd61f_row7_col1 {\n",
       "  background-color: #fee28f;\n",
       "  color: #000000;\n",
       "}\n",
       "#T_cd61f_row2_col5, #T_cd61f_row6_col1, #T_cd61f_row8_col3, #T_cd61f_row14_col3 {\n",
       "  background-color: #fff0a6;\n",
       "  color: #000000;\n",
       "}\n",
       "#T_cd61f_row2_col6 {\n",
       "  background-color: #fdc574;\n",
       "  color: #000000;\n",
       "}\n",
       "#T_cd61f_row2_col8 {\n",
       "  background-color: #feeda1;\n",
       "  color: #000000;\n",
       "}\n",
       "#T_cd61f_row2_col9, #T_cd61f_row11_col2 {\n",
       "  background-color: #fff3ac;\n",
       "  color: #000000;\n",
       "}\n",
       "#T_cd61f_row2_col10 {\n",
       "  background-color: #f7814c;\n",
       "  color: #f1f1f1;\n",
       "}\n",
       "#T_cd61f_row2_col11 {\n",
       "  background-color: #93d168;\n",
       "  color: #000000;\n",
       "}\n",
       "#T_cd61f_row3_col0, #T_cd61f_row12_col1 {\n",
       "  background-color: #199750;\n",
       "  color: #f1f1f1;\n",
       "}\n",
       "#T_cd61f_row3_col2 {\n",
       "  background-color: #0b7d42;\n",
       "  color: #f1f1f1;\n",
       "}\n",
       "#T_cd61f_row3_col3 {\n",
       "  background-color: #82c966;\n",
       "  color: #000000;\n",
       "}\n",
       "#T_cd61f_row3_col4, #T_cd61f_row15_col11 {\n",
       "  background-color: #57b65f;\n",
       "  color: #f1f1f1;\n",
       "}\n",
       "#T_cd61f_row3_col5, #T_cd61f_row14_col5 {\n",
       "  background-color: #33a456;\n",
       "  color: #f1f1f1;\n",
       "}\n",
       "#T_cd61f_row3_col6 {\n",
       "  background-color: #63bc62;\n",
       "  color: #f1f1f1;\n",
       "}\n",
       "#T_cd61f_row3_col7 {\n",
       "  background-color: #eef8a8;\n",
       "  color: #000000;\n",
       "}\n",
       "#T_cd61f_row3_col8, #T_cd61f_row12_col11 {\n",
       "  background-color: #249d53;\n",
       "  color: #f1f1f1;\n",
       "}\n",
       "#T_cd61f_row3_col9, #T_cd61f_row8_col10 {\n",
       "  background-color: #bbe278;\n",
       "  color: #000000;\n",
       "}\n",
       "#T_cd61f_row3_col10 {\n",
       "  background-color: #fdb163;\n",
       "  color: #000000;\n",
       "}\n",
       "#T_cd61f_row3_col11 {\n",
       "  background-color: #c3e67d;\n",
       "  color: #000000;\n",
       "}\n",
       "#T_cd61f_row4_col0, #T_cd61f_row12_col7 {\n",
       "  background-color: #d5ed88;\n",
       "  color: #000000;\n",
       "}\n",
       "#T_cd61f_row4_col1, #T_cd61f_row13_col1 {\n",
       "  background-color: #73c264;\n",
       "  color: #000000;\n",
       "}\n",
       "#T_cd61f_row4_col2, #T_cd61f_row12_col2, #T_cd61f_row13_col9, #T_cd61f_row13_col11 {\n",
       "  background-color: #097940;\n",
       "  color: #f1f1f1;\n",
       "}\n",
       "#T_cd61f_row4_col3, #T_cd61f_row5_col5, #T_cd61f_row5_col6, #T_cd61f_row5_col7, #T_cd61f_row5_col8, #T_cd61f_row5_col11, #T_cd61f_row9_col4, #T_cd61f_row9_col9, #T_cd61f_row9_col10, #T_cd61f_row15_col0, #T_cd61f_row15_col1, #T_cd61f_row15_col2 {\n",
       "  background-color: #006837;\n",
       "  color: #f1f1f1;\n",
       "}\n",
       "#T_cd61f_row4_col4 {\n",
       "  background-color: #fafdb8;\n",
       "  color: #000000;\n",
       "}\n",
       "#T_cd61f_row4_col5, #T_cd61f_row7_col7 {\n",
       "  background-color: #cfeb85;\n",
       "  color: #000000;\n",
       "}\n",
       "#T_cd61f_row4_col6, #T_cd61f_row5_col2 {\n",
       "  background-color: #f1f9ac;\n",
       "  color: #000000;\n",
       "}\n",
       "#T_cd61f_row4_col7 {\n",
       "  background-color: #f26841;\n",
       "  color: #f1f1f1;\n",
       "}\n",
       "#T_cd61f_row4_col8 {\n",
       "  background-color: #cbe982;\n",
       "  color: #000000;\n",
       "}\n",
       "#T_cd61f_row4_col9 {\n",
       "  background-color: #fbfdba;\n",
       "  color: #000000;\n",
       "}\n",
       "#T_cd61f_row4_col10 {\n",
       "  background-color: #f57748;\n",
       "  color: #f1f1f1;\n",
       "}\n",
       "#T_cd61f_row4_col11 {\n",
       "  background-color: #f7fcb4;\n",
       "  color: #000000;\n",
       "}\n",
       "#T_cd61f_row5_col0, #T_cd61f_row6_col0 {\n",
       "  background-color: #fdc171;\n",
       "  color: #000000;\n",
       "}\n",
       "#T_cd61f_row5_col1 {\n",
       "  background-color: #fff1a8;\n",
       "  color: #000000;\n",
       "}\n",
       "#T_cd61f_row5_col3, #T_cd61f_row7_col2 {\n",
       "  background-color: #feec9f;\n",
       "  color: #000000;\n",
       "}\n",
       "#T_cd61f_row5_col4, #T_cd61f_row5_col10, #T_cd61f_row13_col4 {\n",
       "  background-color: #08773f;\n",
       "  color: #f1f1f1;\n",
       "}\n",
       "#T_cd61f_row5_col9, #T_cd61f_row13_col10 {\n",
       "  background-color: #0e8245;\n",
       "  color: #f1f1f1;\n",
       "}\n",
       "#T_cd61f_row6_col2 {\n",
       "  background-color: #dff293;\n",
       "  color: #000000;\n",
       "}\n",
       "#T_cd61f_row6_col3 {\n",
       "  background-color: #f57245;\n",
       "  color: #f1f1f1;\n",
       "}\n",
       "#T_cd61f_row6_col4, #T_cd61f_row11_col7 {\n",
       "  background-color: #bfe47a;\n",
       "  color: #000000;\n",
       "}\n",
       "#T_cd61f_row6_col5 {\n",
       "  background-color: #d3ec87;\n",
       "  color: #000000;\n",
       "}\n",
       "#T_cd61f_row6_col6 {\n",
       "  background-color: #fece7c;\n",
       "  color: #000000;\n",
       "}\n",
       "#T_cd61f_row6_col8 {\n",
       "  background-color: #e6f59d;\n",
       "  color: #000000;\n",
       "}\n",
       "#T_cd61f_row6_col9, #T_cd61f_row13_col7 {\n",
       "  background-color: #e0f295;\n",
       "  color: #000000;\n",
       "}\n",
       "#T_cd61f_row6_col11 {\n",
       "  background-color: #fffebe;\n",
       "  color: #000000;\n",
       "}\n",
       "#T_cd61f_row7_col0 {\n",
       "  background-color: #fdbf6f;\n",
       "  color: #000000;\n",
       "}\n",
       "#T_cd61f_row7_col3 {\n",
       "  background-color: #feea9b;\n",
       "  color: #000000;\n",
       "}\n",
       "#T_cd61f_row7_col4 {\n",
       "  background-color: #b7e075;\n",
       "  color: #000000;\n",
       "}\n",
       "#T_cd61f_row7_col5, #T_cd61f_row7_col6 {\n",
       "  background-color: #a9da6c;\n",
       "  color: #000000;\n",
       "}\n",
       "#T_cd61f_row7_col8 {\n",
       "  background-color: #c1e57b;\n",
       "  color: #000000;\n",
       "}\n",
       "#T_cd61f_row7_col9 {\n",
       "  background-color: #ecf7a6;\n",
       "  color: #000000;\n",
       "}\n",
       "#T_cd61f_row7_col10 {\n",
       "  background-color: #fee491;\n",
       "  color: #000000;\n",
       "}\n",
       "#T_cd61f_row7_col11, #T_cd61f_row13_col0 {\n",
       "  background-color: #7fc866;\n",
       "  color: #000000;\n",
       "}\n",
       "#T_cd61f_row8_col0 {\n",
       "  background-color: #78c565;\n",
       "  color: #000000;\n",
       "}\n",
       "#T_cd61f_row8_col1, #T_cd61f_row11_col6 {\n",
       "  background-color: #87cb67;\n",
       "  color: #000000;\n",
       "}\n",
       "#T_cd61f_row8_col2, #T_cd61f_row10_col10, #T_cd61f_row14_col4 {\n",
       "  background-color: #2da155;\n",
       "  color: #f1f1f1;\n",
       "}\n",
       "#T_cd61f_row8_col4 {\n",
       "  background-color: #6ec064;\n",
       "  color: #000000;\n",
       "}\n",
       "#T_cd61f_row8_col5, #T_cd61f_row15_col10 {\n",
       "  background-color: #8ecf67;\n",
       "  color: #000000;\n",
       "}\n",
       "#T_cd61f_row8_col6 {\n",
       "  background-color: #e9f6a1;\n",
       "  color: #000000;\n",
       "}\n",
       "#T_cd61f_row8_col7 {\n",
       "  background-color: #f67c4a;\n",
       "  color: #f1f1f1;\n",
       "}\n",
       "#T_cd61f_row8_col8 {\n",
       "  background-color: #70c164;\n",
       "  color: #000000;\n",
       "}\n",
       "#T_cd61f_row8_col9, #T_cd61f_row12_col8 {\n",
       "  background-color: #6bbf64;\n",
       "  color: #000000;\n",
       "}\n",
       "#T_cd61f_row8_col11 {\n",
       "  background-color: #b9e176;\n",
       "  color: #000000;\n",
       "}\n",
       "#T_cd61f_row9_col0 {\n",
       "  background-color: #a5d86a;\n",
       "  color: #000000;\n",
       "}\n",
       "#T_cd61f_row9_col1 {\n",
       "  background-color: #96d268;\n",
       "  color: #000000;\n",
       "}\n",
       "#T_cd61f_row9_col2 {\n",
       "  background-color: #84ca66;\n",
       "  color: #000000;\n",
       "}\n",
       "#T_cd61f_row9_col3 {\n",
       "  background-color: #fee695;\n",
       "  color: #000000;\n",
       "}\n",
       "#T_cd61f_row9_col5 {\n",
       "  background-color: #0c7f43;\n",
       "  color: #f1f1f1;\n",
       "}\n",
       "#T_cd61f_row9_col7, #T_cd61f_row12_col3 {\n",
       "  background-color: #a7d96b;\n",
       "  color: #000000;\n",
       "}\n",
       "#T_cd61f_row9_col8 {\n",
       "  background-color: #06733d;\n",
       "  color: #f1f1f1;\n",
       "}\n",
       "#T_cd61f_row9_col11, #T_cd61f_row15_col5 {\n",
       "  background-color: #026c39;\n",
       "  color: #f1f1f1;\n",
       "}\n",
       "#T_cd61f_row10_col0 {\n",
       "  background-color: #d62f27;\n",
       "  color: #f1f1f1;\n",
       "}\n",
       "#T_cd61f_row10_col1 {\n",
       "  background-color: #fedc88;\n",
       "  color: #000000;\n",
       "}\n",
       "#T_cd61f_row10_col2 {\n",
       "  background-color: #e2f397;\n",
       "  color: #000000;\n",
       "}\n",
       "#T_cd61f_row10_col3 {\n",
       "  background-color: #fffcba;\n",
       "  color: #000000;\n",
       "}\n",
       "#T_cd61f_row10_col4 {\n",
       "  background-color: #b3df72;\n",
       "  color: #000000;\n",
       "}\n",
       "#T_cd61f_row10_col5 {\n",
       "  background-color: #69be63;\n",
       "  color: #f1f1f1;\n",
       "}\n",
       "#T_cd61f_row10_col6 {\n",
       "  background-color: #7dc765;\n",
       "  color: #000000;\n",
       "}\n",
       "#T_cd61f_row10_col7, #T_cd61f_row15_col7 {\n",
       "  background-color: #addc6f;\n",
       "  color: #000000;\n",
       "}\n",
       "#T_cd61f_row10_col8 {\n",
       "  background-color: #3ca959;\n",
       "  color: #f1f1f1;\n",
       "}\n",
       "#T_cd61f_row10_col9 {\n",
       "  background-color: #45ad5b;\n",
       "  color: #f1f1f1;\n",
       "}\n",
       "#T_cd61f_row10_col11 {\n",
       "  background-color: #2aa054;\n",
       "  color: #f1f1f1;\n",
       "}\n",
       "#T_cd61f_row11_col0 {\n",
       "  background-color: #f16640;\n",
       "  color: #f1f1f1;\n",
       "}\n",
       "#T_cd61f_row11_col1 {\n",
       "  background-color: #fed683;\n",
       "  color: #000000;\n",
       "}\n",
       "#T_cd61f_row11_col3 {\n",
       "  background-color: #b1de71;\n",
       "  color: #000000;\n",
       "}\n",
       "#T_cd61f_row11_col4, #T_cd61f_row11_col10 {\n",
       "  background-color: #39a758;\n",
       "  color: #f1f1f1;\n",
       "}\n",
       "#T_cd61f_row11_col9 {\n",
       "  background-color: #17934e;\n",
       "  color: #f1f1f1;\n",
       "}\n",
       "#T_cd61f_row11_col11 {\n",
       "  background-color: #1b9950;\n",
       "  color: #f1f1f1;\n",
       "}\n",
       "#T_cd61f_row12_col0 {\n",
       "  background-color: #36a657;\n",
       "  color: #f1f1f1;\n",
       "}\n",
       "#T_cd61f_row12_col4 {\n",
       "  background-color: #16914d;\n",
       "  color: #f1f1f1;\n",
       "}\n",
       "#T_cd61f_row12_col5 {\n",
       "  background-color: #219c52;\n",
       "  color: #f1f1f1;\n",
       "}\n",
       "#T_cd61f_row12_col6 {\n",
       "  background-color: #5ab760;\n",
       "  color: #f1f1f1;\n",
       "}\n",
       "#T_cd61f_row12_col9 {\n",
       "  background-color: #42ac5a;\n",
       "  color: #f1f1f1;\n",
       "}\n",
       "#T_cd61f_row12_col10 {\n",
       "  background-color: #7ac665;\n",
       "  color: #000000;\n",
       "}\n",
       "#T_cd61f_row13_col2, #T_cd61f_row15_col6 {\n",
       "  background-color: #128a49;\n",
       "  color: #f1f1f1;\n",
       "}\n",
       "#T_cd61f_row13_col3 {\n",
       "  background-color: #fffdbc;\n",
       "  color: #000000;\n",
       "}\n",
       "#T_cd61f_row13_col5, #T_cd61f_row15_col8 {\n",
       "  background-color: #148e4b;\n",
       "  color: #f1f1f1;\n",
       "}\n",
       "#T_cd61f_row13_col6 {\n",
       "  background-color: #66bd63;\n",
       "  color: #f1f1f1;\n",
       "}\n",
       "#T_cd61f_row13_col8 {\n",
       "  background-color: #15904c;\n",
       "  color: #f1f1f1;\n",
       "}\n",
       "#T_cd61f_row14_col0, #T_cd61f_row14_col7 {\n",
       "  background-color: #bde379;\n",
       "  color: #000000;\n",
       "}\n",
       "#T_cd61f_row14_col1 {\n",
       "  background-color: #dcf08f;\n",
       "  color: #000000;\n",
       "}\n",
       "#T_cd61f_row14_col2 {\n",
       "  background-color: #afdd70;\n",
       "  color: #000000;\n",
       "}\n",
       "#T_cd61f_row14_col6 {\n",
       "  background-color: #8ccd67;\n",
       "  color: #000000;\n",
       "}\n",
       "#T_cd61f_row14_col8 {\n",
       "  background-color: #279f53;\n",
       "  color: #f1f1f1;\n",
       "}\n",
       "#T_cd61f_row14_col10 {\n",
       "  background-color: #60ba62;\n",
       "  color: #f1f1f1;\n",
       "}\n",
       "#T_cd61f_row14_col11 {\n",
       "  background-color: #30a356;\n",
       "  color: #f1f1f1;\n",
       "}\n",
       "#T_cd61f_row15_col3 {\n",
       "  background-color: #9bd469;\n",
       "  color: #000000;\n",
       "}\n",
       "#T_cd61f_row15_col4 {\n",
       "  background-color: #07753e;\n",
       "  color: #f1f1f1;\n",
       "}\n",
       "#T_cd61f_row15_col9 {\n",
       "  background-color: #18954f;\n",
       "  color: #f1f1f1;\n",
       "}\n",
       "</style>\n",
       "<table id=\"T_cd61f\">\n",
       "  <thead>\n",
       "    <tr>\n",
       "      <th class=\"blank level0\" >&nbsp;</th>\n",
       "      <th id=\"T_cd61f_level0_col0\" class=\"col_heading level0 col0\" >R_q=0.25</th>\n",
       "      <th id=\"T_cd61f_level0_col1\" class=\"col_heading level0 col1\" >R_q=0.5</th>\n",
       "      <th id=\"T_cd61f_level0_col2\" class=\"col_heading level0 col2\" >R_q=0.75</th>\n",
       "      <th id=\"T_cd61f_level0_col3\" class=\"col_heading level0 col3\" >R_q=0.9</th>\n",
       "      <th id=\"T_cd61f_level0_col4\" class=\"col_heading level0 col4\" >angle_t_q=0.25</th>\n",
       "      <th id=\"T_cd61f_level0_col5\" class=\"col_heading level0 col5\" >angle_t_q=0.5</th>\n",
       "      <th id=\"T_cd61f_level0_col6\" class=\"col_heading level0 col6\" >angle_t_q=0.75</th>\n",
       "      <th id=\"T_cd61f_level0_col7\" class=\"col_heading level0 col7\" >angle_t_q=0.9</th>\n",
       "      <th id=\"T_cd61f_level0_col8\" class=\"col_heading level0 col8\" >t_q=0.25</th>\n",
       "      <th id=\"T_cd61f_level0_col9\" class=\"col_heading level0 col9\" >t_q=0.5</th>\n",
       "      <th id=\"T_cd61f_level0_col10\" class=\"col_heading level0 col10\" >t_q=0.75</th>\n",
       "      <th id=\"T_cd61f_level0_col11\" class=\"col_heading level0 col11\" >t_q=0.9</th>\n",
       "    </tr>\n",
       "  </thead>\n",
       "  <tbody>\n",
       "    <tr>\n",
       "      <th id=\"T_cd61f_level0_row0\" class=\"row_heading level0 row0\" >(1) Baseline, shared decoder, init loss weights = [0, -3]</th>\n",
       "      <td id=\"T_cd61f_row0_col0\" class=\"data row0 col0\" >2.42</td>\n",
       "      <td id=\"T_cd61f_row0_col1\" class=\"data row0 col1\" >5.09</td>\n",
       "      <td id=\"T_cd61f_row0_col2\" class=\"data row0 col2\" >11.50</td>\n",
       "      <td id=\"T_cd61f_row0_col3\" class=\"data row0 col3\" >29.16</td>\n",
       "      <td id=\"T_cd61f_row0_col4\" class=\"data row0 col4\" >10.03</td>\n",
       "      <td id=\"T_cd61f_row0_col5\" class=\"data row0 col5\" >19.02</td>\n",
       "      <td id=\"T_cd61f_row0_col6\" class=\"data row0 col6\" >35.26</td>\n",
       "      <td id=\"T_cd61f_row0_col7\" class=\"data row0 col7\" >62.94</td>\n",
       "      <td id=\"T_cd61f_row0_col8\" class=\"data row0 col8\" >0.13</td>\n",
       "      <td id=\"T_cd61f_row0_col9\" class=\"data row0 col9\" >0.26</td>\n",
       "      <td id=\"T_cd61f_row0_col10\" class=\"data row0 col10\" >0.60</td>\n",
       "      <td id=\"T_cd61f_row0_col11\" class=\"data row0 col11\" >1.58</td>\n",
       "    </tr>\n",
       "    <tr>\n",
       "      <th id=\"T_cd61f_level0_row1\" class=\"row_heading level0 row1\" >(2) = (1) + $l_2$, init loss weights = [0, -3., 0]</th>\n",
       "      <td id=\"T_cd61f_row1_col0\" class=\"data row1 col0\" >2.48</td>\n",
       "      <td id=\"T_cd61f_row1_col1\" class=\"data row1 col1\" >5.14</td>\n",
       "      <td id=\"T_cd61f_row1_col2\" class=\"data row1 col2\" >10.98</td>\n",
       "      <td id=\"T_cd61f_row1_col3\" class=\"data row1 col3\" >28.12</td>\n",
       "      <td id=\"T_cd61f_row1_col4\" class=\"data row1 col4\" >8.87</td>\n",
       "      <td id=\"T_cd61f_row1_col5\" class=\"data row1 col5\" >16.50</td>\n",
       "      <td id=\"T_cd61f_row1_col6\" class=\"data row1 col6\" >31.53</td>\n",
       "      <td id=\"T_cd61f_row1_col7\" class=\"data row1 col7\" >58.34</td>\n",
       "      <td id=\"T_cd61f_row1_col8\" class=\"data row1 col8\" >0.12</td>\n",
       "      <td id=\"T_cd61f_row1_col9\" class=\"data row1 col9\" >0.23</td>\n",
       "      <td id=\"T_cd61f_row1_col10\" class=\"data row1 col10\" >0.54</td>\n",
       "      <td id=\"T_cd61f_row1_col11\" class=\"data row1 col11\" >1.30</td>\n",
       "    </tr>\n",
       "    <tr>\n",
       "      <th id=\"T_cd61f_level0_row2\" class=\"row_heading level0 row2\" >(3) = (1) + LN</th>\n",
       "      <td id=\"T_cd61f_row2_col0\" class=\"data row2 col0\" >1.67</td>\n",
       "      <td id=\"T_cd61f_row2_col1\" class=\"data row2 col1\" >3.33</td>\n",
       "      <td id=\"T_cd61f_row2_col2\" class=\"data row2 col2\" >7.92</td>\n",
       "      <td id=\"T_cd61f_row2_col3\" class=\"data row2 col3\" >22.00</td>\n",
       "      <td id=\"T_cd61f_row2_col4\" class=\"data row2 col4\" >7.95</td>\n",
       "      <td id=\"T_cd61f_row2_col5\" class=\"data row2 col5\" >15.03</td>\n",
       "      <td id=\"T_cd61f_row2_col6\" class=\"data row2 col6\" >30.17</td>\n",
       "      <td id=\"T_cd61f_row2_col7\" class=\"data row2 col7\" >58.23</td>\n",
       "      <td id=\"T_cd61f_row2_col8\" class=\"data row2 col8\" >0.11</td>\n",
       "      <td id=\"T_cd61f_row2_col9\" class=\"data row2 col9\" >0.21</td>\n",
       "      <td id=\"T_cd61f_row2_col10\" class=\"data row2 col10\" >0.54</td>\n",
       "      <td id=\"T_cd61f_row2_col11\" class=\"data row2 col11\" >1.19</td>\n",
       "    </tr>\n",
       "    <tr>\n",
       "      <th id=\"T_cd61f_level0_row3\" class=\"row_heading level0 row3\" >(4) = (2) + LN</th>\n",
       "      <td id=\"T_cd61f_row3_col0\" class=\"data row3 col0\" >1.66</td>\n",
       "      <td id=\"T_cd61f_row3_col1\" class=\"data row3 col1\" >3.24</td>\n",
       "      <td id=\"T_cd61f_row3_col2\" class=\"data row3 col2\" >7.40</td>\n",
       "      <td id=\"T_cd61f_row3_col3\" class=\"data row3 col3\" >22.60</td>\n",
       "      <td id=\"T_cd61f_row3_col4\" class=\"data row3 col4\" >5.84</td>\n",
       "      <td id=\"T_cd61f_row3_col5\" class=\"data row3 col5\" >11.37</td>\n",
       "      <td id=\"T_cd61f_row3_col6\" class=\"data row3 col6\" >23.42</td>\n",
       "      <td id=\"T_cd61f_row3_col7\" class=\"data row3 col7\" >51.00</td>\n",
       "      <td id=\"T_cd61f_row3_col8\" class=\"data row3 col8\" >0.08</td>\n",
       "      <td id=\"T_cd61f_row3_col9\" class=\"data row3 col9\" >0.19</td>\n",
       "      <td id=\"T_cd61f_row3_col10\" class=\"data row3 col10\" >0.53</td>\n",
       "      <td id=\"T_cd61f_row3_col11\" class=\"data row3 col11\" >1.24</td>\n",
       "    </tr>\n",
       "    <tr>\n",
       "      <th id=\"T_cd61f_level0_row4\" class=\"row_heading level0 row4\" >(5) = (3) - LeakyReLU + ReLU</th>\n",
       "      <td id=\"T_cd61f_row4_col0\" class=\"data row4 col0\" >1.92</td>\n",
       "      <td id=\"T_cd61f_row4_col1\" class=\"data row4 col1\" >3.48</td>\n",
       "      <td id=\"T_cd61f_row4_col2\" class=\"data row4 col2\" >7.37</td>\n",
       "      <td id=\"T_cd61f_row4_col3\" class=\"data row4 col3\" >20.48</td>\n",
       "      <td id=\"T_cd61f_row4_col4\" class=\"data row4 col4\" >7.41</td>\n",
       "      <td id=\"T_cd61f_row4_col5\" class=\"data row4 col5\" >13.54</td>\n",
       "      <td id=\"T_cd61f_row4_col6\" class=\"data row4 col6\" >27.35</td>\n",
       "      <td id=\"T_cd61f_row4_col7\" class=\"data row4 col7\" >60.86</td>\n",
       "      <td id=\"T_cd61f_row4_col8\" class=\"data row4 col8\" >0.10</td>\n",
       "      <td id=\"T_cd61f_row4_col9\" class=\"data row4 col9\" >0.20</td>\n",
       "      <td id=\"T_cd61f_row4_col10\" class=\"data row4 col10\" >0.55</td>\n",
       "      <td id=\"T_cd61f_row4_col11\" class=\"data row4 col11\" >1.30</td>\n",
       "    </tr>\n",
       "    <tr>\n",
       "      <th id=\"T_cd61f_level0_row5\" class=\"row_heading level0 row5\" >(6) = (4) - LeakyReLU + ReLU, init loss weights = [0, 0, 0]</th>\n",
       "      <td id=\"T_cd61f_row5_col0\" class=\"data row5 col0\" >2.17</td>\n",
       "      <td id=\"T_cd61f_row5_col1\" class=\"data row5 col1\" >4.17</td>\n",
       "      <td id=\"T_cd61f_row5_col2\" class=\"data row5 col2\" >9.20</td>\n",
       "      <td id=\"T_cd61f_row5_col3\" class=\"data row5 col3\" >25.36</td>\n",
       "      <td id=\"T_cd61f_row5_col4\" class=\"data row5 col4\" >5.10</td>\n",
       "      <td id=\"T_cd61f_row5_col5\" class=\"data row5 col5\" >10.18</td>\n",
       "      <td id=\"T_cd61f_row5_col6\" class=\"data row5 col6\" >20.48</td>\n",
       "      <td id=\"T_cd61f_row5_col7\" class=\"data row5 col7\" >38.26</td>\n",
       "      <td id=\"T_cd61f_row5_col8\" class=\"data row5 col8\" >0.08</td>\n",
       "      <td id=\"T_cd61f_row5_col9\" class=\"data row5 col9\" >0.15</td>\n",
       "      <td id=\"T_cd61f_row5_col10\" class=\"data row5 col10\" >0.37</td>\n",
       "      <td id=\"T_cd61f_row5_col11\" class=\"data row5 col11\" >1.05</td>\n",
       "    </tr>\n",
       "    <tr>\n",
       "      <th id=\"T_cd61f_level0_row6\" class=\"row_heading level0 row6\" >(7) = (3) + Dropout, init loss weights = [0, -2]</th>\n",
       "      <td id=\"T_cd61f_row6_col0\" class=\"data row6 col0\" >2.17</td>\n",
       "      <td id=\"T_cd61f_row6_col1\" class=\"data row6 col1\" >4.18</td>\n",
       "      <td id=\"T_cd61f_row6_col2\" class=\"data row6 col2\" >8.99</td>\n",
       "      <td id=\"T_cd61f_row6_col3\" class=\"data row6 col3\" >27.35</td>\n",
       "      <td id=\"T_cd61f_row6_col4\" class=\"data row6 col4\" >6.71</td>\n",
       "      <td id=\"T_cd61f_row6_col5\" class=\"data row6 col5\" >13.63</td>\n",
       "      <td id=\"T_cd61f_row6_col6\" class=\"data row6 col6\" >29.87</td>\n",
       "      <td id=\"T_cd61f_row6_col7\" class=\"data row6 col7\" >66.28</td>\n",
       "      <td id=\"T_cd61f_row6_col8\" class=\"data row6 col8\" >0.10</td>\n",
       "      <td id=\"T_cd61f_row6_col9\" class=\"data row6 col9\" >0.19</td>\n",
       "      <td id=\"T_cd61f_row6_col10\" class=\"data row6 col10\" >0.50</td>\n",
       "      <td id=\"T_cd61f_row6_col11\" class=\"data row6 col11\" >1.32</td>\n",
       "    </tr>\n",
       "    <tr>\n",
       "      <th id=\"T_cd61f_level0_row7\" class=\"row_heading level0 row7\" >(8) = (4) + Dropout, init loss weights = [0, -2, 0.]</th>\n",
       "      <td id=\"T_cd61f_row7_col0\" class=\"data row7 col0\" >2.17</td>\n",
       "      <td id=\"T_cd61f_row7_col1\" class=\"data row7 col1\" >4.27</td>\n",
       "      <td id=\"T_cd61f_row7_col2\" class=\"data row7 col2\" >9.62</td>\n",
       "      <td id=\"T_cd61f_row7_col3\" class=\"data row7 col3\" >25.41</td>\n",
       "      <td id=\"T_cd61f_row7_col4\" class=\"data row7 col4\" >6.63</td>\n",
       "      <td id=\"T_cd61f_row7_col5\" class=\"data row7 col5\" >12.90</td>\n",
       "      <td id=\"T_cd61f_row7_col6\" class=\"data row7 col6\" >25.02</td>\n",
       "      <td id=\"T_cd61f_row7_col7\" class=\"data row7 col7\" >48.91</td>\n",
       "      <td id=\"T_cd61f_row7_col8\" class=\"data row7 col8\" >0.09</td>\n",
       "      <td id=\"T_cd61f_row7_col9\" class=\"data row7 col9\" >0.20</td>\n",
       "      <td id=\"T_cd61f_row7_col10\" class=\"data row7 col10\" >0.50</td>\n",
       "      <td id=\"T_cd61f_row7_col11\" class=\"data row7 col11\" >1.18</td>\n",
       "    </tr>\n",
       "    <tr>\n",
       "      <th id=\"T_cd61f_level0_row8\" class=\"row_heading level0 row8\" >(9) = (4) +  init loss weights = [0, -2, 0]</th>\n",
       "      <td id=\"T_cd61f_row8_col0\" class=\"data row8 col0\" >1.77</td>\n",
       "      <td id=\"T_cd61f_row8_col1\" class=\"data row8 col1\" >3.55</td>\n",
       "      <td id=\"T_cd61f_row8_col2\" class=\"data row8 col2\" >7.75</td>\n",
       "      <td id=\"T_cd61f_row8_col3\" class=\"data row8 col3\" >25.23</td>\n",
       "      <td id=\"T_cd61f_row8_col4\" class=\"data row8 col4\" >6.01</td>\n",
       "      <td id=\"T_cd61f_row8_col5\" class=\"data row8 col5\" >12.52</td>\n",
       "      <td id=\"T_cd61f_row8_col6\" class=\"data row8 col6\" >27.02</td>\n",
       "      <td id=\"T_cd61f_row8_col7\" class=\"data row8 col7\" >60.00</td>\n",
       "      <td id=\"T_cd61f_row8_col8\" class=\"data row8 col8\" >0.09</td>\n",
       "      <td id=\"T_cd61f_row8_col9\" class=\"data row8 col9\" >0.17</td>\n",
       "      <td id=\"T_cd61f_row8_col10\" class=\"data row8 col10\" >0.44</td>\n",
       "      <td id=\"T_cd61f_row8_col11\" class=\"data row8 col11\" >1.23</td>\n",
       "    </tr>\n",
       "    <tr>\n",
       "      <th id=\"T_cd61f_level0_row9\" class=\"row_heading level0 row9\" >(10) 2 separate heads, no weights in loss</th>\n",
       "      <td id=\"T_cd61f_row9_col0\" class=\"data row9 col0\" >1.84</td>\n",
       "      <td id=\"T_cd61f_row9_col1\" class=\"data row9 col1\" >3.60</td>\n",
       "      <td id=\"T_cd61f_row9_col2\" class=\"data row9 col2\" >8.26</td>\n",
       "      <td id=\"T_cd61f_row9_col3\" class=\"data row9 col3\" >25.53</td>\n",
       "      <td id=\"T_cd61f_row9_col4\" class=\"data row9 col4\" >4.93</td>\n",
       "      <td id=\"T_cd61f_row9_col5\" class=\"data row9 col5\" >10.62</td>\n",
       "      <td id=\"T_cd61f_row9_col6\" class=\"data row9 col6\" >23.07</td>\n",
       "      <td id=\"T_cd61f_row9_col7\" class=\"data row9 col7\" >46.74</td>\n",
       "      <td id=\"T_cd61f_row9_col8\" class=\"data row9 col8\" >0.08</td>\n",
       "      <td id=\"T_cd61f_row9_col9\" class=\"data row9 col9\" >0.15</td>\n",
       "      <td id=\"T_cd61f_row9_col10\" class=\"data row9 col10\" >0.36</td>\n",
       "      <td id=\"T_cd61f_row9_col11\" class=\"data row9 col11\" >1.06</td>\n",
       "    </tr>\n",
       "    <tr>\n",
       "      <th id=\"T_cd61f_level0_row10\" class=\"row_heading level0 row10\" >(11) 3 separate heads, no weights in loss</th>\n",
       "      <td id=\"T_cd61f_row10_col0\" class=\"data row10 col0\" >2.39</td>\n",
       "      <td id=\"T_cd61f_row10_col1\" class=\"data row10 col1\" >4.30</td>\n",
       "      <td id=\"T_cd61f_row10_col2\" class=\"data row10 col2\" >9.03</td>\n",
       "      <td id=\"T_cd61f_row10_col3\" class=\"data row10 col3\" >24.89</td>\n",
       "      <td id=\"T_cd61f_row10_col4\" class=\"data row10 col4\" >6.59</td>\n",
       "      <td id=\"T_cd61f_row10_col5\" class=\"data row10 col5\" >12.00</td>\n",
       "      <td id=\"T_cd61f_row10_col6\" class=\"data row10 col6\" >23.96</td>\n",
       "      <td id=\"T_cd61f_row10_col7\" class=\"data row10 col7\" >47.11</td>\n",
       "      <td id=\"T_cd61f_row10_col8\" class=\"data row10 col8\" >0.08</td>\n",
       "      <td id=\"T_cd61f_row10_col9\" class=\"data row10 col9\" >0.16</td>\n",
       "      <td id=\"T_cd61f_row10_col10\" class=\"data row10 col10\" >0.39</td>\n",
       "      <td id=\"T_cd61f_row10_col11\" class=\"data row10 col11\" >1.12</td>\n",
       "    </tr>\n",
       "    <tr>\n",
       "      <th id=\"T_cd61f_level0_row11\" class=\"row_heading level0 row11\" >(12) = (10) - LeakyReLU + ReLU</th>\n",
       "      <td id=\"T_cd61f_row11_col0\" class=\"data row11 col0\" >2.30</td>\n",
       "      <td id=\"T_cd61f_row11_col1\" class=\"data row11 col1\" >4.33</td>\n",
       "      <td id=\"T_cd61f_row11_col2\" class=\"data row11 col2\" >9.51</td>\n",
       "      <td id=\"T_cd61f_row11_col3\" class=\"data row11 col3\" >23.27</td>\n",
       "      <td id=\"T_cd61f_row11_col4\" class=\"data row11 col4\" >5.66</td>\n",
       "      <td id=\"T_cd61f_row11_col5\" class=\"data row11 col5\" >11.64</td>\n",
       "      <td id=\"T_cd61f_row11_col6\" class=\"data row11 col6\" >24.23</td>\n",
       "      <td id=\"T_cd61f_row11_col7\" class=\"data row11 col7\" >48.06</td>\n",
       "      <td id=\"T_cd61f_row11_col8\" class=\"data row11 col8\" >0.08</td>\n",
       "      <td id=\"T_cd61f_row11_col9\" class=\"data row11 col9\" >0.16</td>\n",
       "      <td id=\"T_cd61f_row11_col10\" class=\"data row11 col10\" >0.39</td>\n",
       "      <td id=\"T_cd61f_row11_col11\" class=\"data row11 col11\" >1.11</td>\n",
       "    </tr>\n",
       "    <tr>\n",
       "      <th id=\"T_cd61f_level0_row12\" class=\"row_heading level0 row12\" >(13) = (4) but with ResNet blocks</th>\n",
       "      <td id=\"T_cd61f_row12_col0\" class=\"data row12 col0\" >1.69</td>\n",
       "      <td id=\"T_cd61f_row12_col1\" class=\"data row12 col1\" >3.22</td>\n",
       "      <td id=\"T_cd61f_row12_col2\" class=\"data row12 col2\" >7.37</td>\n",
       "      <td id=\"T_cd61f_row12_col3\" class=\"data row12 col3\" >23.10</td>\n",
       "      <td id=\"T_cd61f_row12_col4\" class=\"data row12 col4\" >5.38</td>\n",
       "      <td id=\"T_cd61f_row12_col5\" class=\"data row12 col5\" >11.17</td>\n",
       "      <td id=\"T_cd61f_row12_col6\" class=\"data row12 col6\" >23.20</td>\n",
       "      <td id=\"T_cd61f_row12_col7\" class=\"data row12 col7\" >49.27</td>\n",
       "      <td id=\"T_cd61f_row12_col8\" class=\"data row12 col8\" >0.09</td>\n",
       "      <td id=\"T_cd61f_row12_col9\" class=\"data row12 col9\" >0.16</td>\n",
       "      <td id=\"T_cd61f_row12_col10\" class=\"data row12 col10\" >0.42</td>\n",
       "      <td id=\"T_cd61f_row12_col11\" class=\"data row12 col11\" >1.11</td>\n",
       "    </tr>\n",
       "    <tr>\n",
       "      <th id=\"T_cd61f_level0_row13\" class=\"row_heading level0 row13\" >(14) = (10) but with ResNet blocks</th>\n",
       "      <td id=\"T_cd61f_row13_col0\" class=\"data row13 col0\" >1.79</td>\n",
       "      <td id=\"T_cd61f_row13_col1\" class=\"data row13 col1\" >3.48</td>\n",
       "      <td id=\"T_cd61f_row13_col2\" class=\"data row13 col2\" >7.52</td>\n",
       "      <td id=\"T_cd61f_row13_col3\" class=\"data row13 col3\" >24.88</td>\n",
       "      <td id=\"T_cd61f_row13_col4\" class=\"data row13 col4\" >5.09</td>\n",
       "      <td id=\"T_cd61f_row13_col5\" class=\"data row13 col5\" >10.88</td>\n",
       "      <td id=\"T_cd61f_row13_col6\" class=\"data row13 col6\" >23.47</td>\n",
       "      <td id=\"T_cd61f_row13_col7\" class=\"data row13 col7\" >50.03</td>\n",
       "      <td id=\"T_cd61f_row13_col8\" class=\"data row13 col8\" >0.08</td>\n",
       "      <td id=\"T_cd61f_row13_col9\" class=\"data row13 col9\" >0.15</td>\n",
       "      <td id=\"T_cd61f_row13_col10\" class=\"data row13 col10\" >0.37</td>\n",
       "      <td id=\"T_cd61f_row13_col11\" class=\"data row13 col11\" >1.07</td>\n",
       "    </tr>\n",
       "    <tr>\n",
       "      <th id=\"T_cd61f_level0_row14\" class=\"row_heading level0 row14\" >(15) = (14) with separable convs</th>\n",
       "      <td id=\"T_cd61f_row14_col0\" class=\"data row14 col0\" >1.88</td>\n",
       "      <td id=\"T_cd61f_row14_col1\" class=\"data row14 col1\" >3.88</td>\n",
       "      <td id=\"T_cd61f_row14_col2\" class=\"data row14 col2\" >8.57</td>\n",
       "      <td id=\"T_cd61f_row14_col3\" class=\"data row14 col3\" >25.25</td>\n",
       "      <td id=\"T_cd61f_row14_col4\" class=\"data row14 col4\" >5.56</td>\n",
       "      <td id=\"T_cd61f_row14_col5\" class=\"data row14 col5\" >11.39</td>\n",
       "      <td id=\"T_cd61f_row14_col6\" class=\"data row14 col6\" >24.34</td>\n",
       "      <td id=\"T_cd61f_row14_col7\" class=\"data row14 col7\" >47.91</td>\n",
       "      <td id=\"T_cd61f_row14_col8\" class=\"data row14 col8\" >0.08</td>\n",
       "      <td id=\"T_cd61f_row14_col9\" class=\"data row14 col9\" >0.16</td>\n",
       "      <td id=\"T_cd61f_row14_col10\" class=\"data row14 col10\" >0.41</td>\n",
       "      <td id=\"T_cd61f_row14_col11\" class=\"data row14 col11\" >1.12</td>\n",
       "    </tr>\n",
       "    <tr>\n",
       "      <th id=\"T_cd61f_level0_row15\" class=\"row_heading level0 row15\" >(16) = (13) but first conv -> ASPP</th>\n",
       "      <td id=\"T_cd61f_row15_col0\" class=\"data row15 col0\" >1.57</td>\n",
       "      <td id=\"T_cd61f_row15_col1\" class=\"data row15 col1\" >3.01</td>\n",
       "      <td id=\"T_cd61f_row15_col2\" class=\"data row15 col2\" >7.21</td>\n",
       "      <td id=\"T_cd61f_row15_col3\" class=\"data row15 col3\" >22.95</td>\n",
       "      <td id=\"T_cd61f_row15_col4\" class=\"data row15 col4\" >5.07</td>\n",
       "      <td id=\"T_cd61f_row15_col5\" class=\"data row15 col5\" >10.28</td>\n",
       "      <td id=\"T_cd61f_row15_col6\" class=\"data row15 col6\" >21.54</td>\n",
       "      <td id=\"T_cd61f_row15_col7\" class=\"data row15 col7\" >47.06</td>\n",
       "      <td id=\"T_cd61f_row15_col8\" class=\"data row15 col8\" >0.08</td>\n",
       "      <td id=\"T_cd61f_row15_col9\" class=\"data row15 col9\" >0.16</td>\n",
       "      <td id=\"T_cd61f_row15_col10\" class=\"data row15 col10\" >0.42</td>\n",
       "      <td id=\"T_cd61f_row15_col11\" class=\"data row15 col11\" >1.15</td>\n",
       "    </tr>\n",
       "  </tbody>\n",
       "</table>\n"
      ],
      "text/plain": [
       "<pandas.io.formats.style.Styler at 0x7fe4ce295a60>"
      ]
     },
     "execution_count": 22,
     "metadata": {},
     "output_type": "execute_result"
    }
   ],
   "source": [
    "df = pd.DataFrame(index=metrics_.keys())\n",
    "\n",
    "for q in (0.25, 0.5, 0.75, 0.9):\n",
    "    df[f'R_q={q}'] = None\n",
    "    df[f't_q={q}'] = None\n",
    "    df[f'angle_t_q={q}'] = None\n",
    "    for key, val in metrics_.items():\n",
    "        df.loc[key, f't_q={q}'] = np.quantile(val[\"t_distances_l2\"], q)\n",
    "        df.loc[key, f'R_q={q}'] = np.quantile(val[\"R_angle_distances\"], q)\n",
    "        df.loc[key, f'angle_t_q={q}'] = np.quantile(val[\"t_angle_distances\"], q)\n",
    "        d = df.style.format(precision=2)\n",
    "df.sort_index(axis=1, inplace=True)\n",
    "df.sort_index(axis=0, inplace=True)\n",
    "\n",
    "df.index = [exp_names[exp] for exp in df.index]\n",
    "\n",
    "for col in df.columns:\n",
    "    d.background_gradient(cmap=\"RdYlGn_r\", subset=col)\n",
    "d"
   ]
  },
  {
   "cell_type": "code",
   "execution_count": 21,
   "id": "4114e173-85a1-45f1-8f36-519df5c072a7",
   "metadata": {
    "tags": []
   },
   "outputs": [
    {
     "data": {
      "text/html": [
       "<style type=\"text/css\">\n",
       "#T_ec665_row0_col0 {\n",
       "  background-color: #a70226;\n",
       "  color: #f1f1f1;\n",
       "}\n",
       "#T_ec665_row0_col1, #T_ec665_row0_col2, #T_ec665_row0_col4, #T_ec665_row0_col5, #T_ec665_row0_col6, #T_ec665_row0_col7, #T_ec665_row0_col8, #T_ec665_row0_col9, #T_ec665_row0_col10, #T_ec665_row0_col11, #T_ec665_row1_col0, #T_ec665_row1_col3 {\n",
       "  background-color: #a50026;\n",
       "  color: #f1f1f1;\n",
       "}\n",
       "#T_ec665_row0_col3 {\n",
       "  background-color: #b30d26;\n",
       "  color: #f1f1f1;\n",
       "}\n",
       "#T_ec665_row1_col1 {\n",
       "  background-color: #ad0826;\n",
       "  color: #f1f1f1;\n",
       "}\n",
       "#T_ec665_row1_col2 {\n",
       "  background-color: #b10b26;\n",
       "  color: #f1f1f1;\n",
       "}\n",
       "#T_ec665_row1_col4 {\n",
       "  background-color: #dd3d2d;\n",
       "  color: #f1f1f1;\n",
       "}\n",
       "#T_ec665_row1_col5 {\n",
       "  background-color: #ee613e;\n",
       "  color: #f1f1f1;\n",
       "}\n",
       "#T_ec665_row1_col6, #T_ec665_row11_col3 {\n",
       "  background-color: #f46d43;\n",
       "  color: #f1f1f1;\n",
       "}\n",
       "#T_ec665_row1_col7 {\n",
       "  background-color: #ce2827;\n",
       "  color: #f1f1f1;\n",
       "}\n",
       "#T_ec665_row1_col8 {\n",
       "  background-color: #e95538;\n",
       "  color: #f1f1f1;\n",
       "}\n",
       "#T_ec665_row1_col9 {\n",
       "  background-color: #f36b42;\n",
       "  color: #f1f1f1;\n",
       "}\n",
       "#T_ec665_row1_col10 {\n",
       "  background-color: #f57547;\n",
       "  color: #f1f1f1;\n",
       "}\n",
       "#T_ec665_row1_col11 {\n",
       "  background-color: #e34933;\n",
       "  color: #f1f1f1;\n",
       "}\n",
       "#T_ec665_row2_col0, #T_ec665_row12_col11 {\n",
       "  background-color: #6bbf64;\n",
       "  color: #000000;\n",
       "}\n",
       "#T_ec665_row2_col1, #T_ec665_row3_col5 {\n",
       "  background-color: #57b65f;\n",
       "  color: #f1f1f1;\n",
       "}\n",
       "#T_ec665_row2_col2, #T_ec665_row12_col5, #T_ec665_row13_col11 {\n",
       "  background-color: #3ca959;\n",
       "  color: #f1f1f1;\n",
       "}\n",
       "#T_ec665_row2_col3, #T_ec665_row3_col4 {\n",
       "  background-color: #75c465;\n",
       "  color: #000000;\n",
       "}\n",
       "#T_ec665_row2_col4 {\n",
       "  background-color: #fed27f;\n",
       "  color: #000000;\n",
       "}\n",
       "#T_ec665_row2_col5, #T_ec665_row4_col8, #T_ec665_row6_col0 {\n",
       "  background-color: #fee593;\n",
       "  color: #000000;\n",
       "}\n",
       "#T_ec665_row2_col6 {\n",
       "  background-color: #fee491;\n",
       "  color: #000000;\n",
       "}\n",
       "#T_ec665_row2_col7 {\n",
       "  background-color: #fdc372;\n",
       "  color: #000000;\n",
       "}\n",
       "#T_ec665_row2_col8, #T_ec665_row4_col11 {\n",
       "  background-color: #fdb96a;\n",
       "  color: #000000;\n",
       "}\n",
       "#T_ec665_row2_col9, #T_ec665_row5_col0 {\n",
       "  background-color: #fed07e;\n",
       "  color: #000000;\n",
       "}\n",
       "#T_ec665_row2_col10 {\n",
       "  background-color: #feca79;\n",
       "  color: #000000;\n",
       "}\n",
       "#T_ec665_row2_col11 {\n",
       "  background-color: #fa9b58;\n",
       "  color: #000000;\n",
       "}\n",
       "#T_ec665_row3_col0, #T_ec665_row9_col5, #T_ec665_row9_col6 {\n",
       "  background-color: #279f53;\n",
       "  color: #f1f1f1;\n",
       "}\n",
       "#T_ec665_row3_col1 {\n",
       "  background-color: #18954f;\n",
       "  color: #f1f1f1;\n",
       "}\n",
       "#T_ec665_row3_col2 {\n",
       "  background-color: #199750;\n",
       "  color: #f1f1f1;\n",
       "}\n",
       "#T_ec665_row3_col3 {\n",
       "  background-color: #42ac5a;\n",
       "  color: #f1f1f1;\n",
       "}\n",
       "#T_ec665_row3_col6, #T_ec665_row11_col11 {\n",
       "  background-color: #45ad5b;\n",
       "  color: #f1f1f1;\n",
       "}\n",
       "#T_ec665_row3_col7, #T_ec665_row4_col3 {\n",
       "  background-color: #cdea83;\n",
       "  color: #000000;\n",
       "}\n",
       "#T_ec665_row3_col8, #T_ec665_row8_col0 {\n",
       "  background-color: #82c966;\n",
       "  color: #000000;\n",
       "}\n",
       "#T_ec665_row3_col9, #T_ec665_row11_col10 {\n",
       "  background-color: #69be63;\n",
       "  color: #f1f1f1;\n",
       "}\n",
       "#T_ec665_row3_col10 {\n",
       "  background-color: #70c164;\n",
       "  color: #000000;\n",
       "}\n",
       "#T_ec665_row3_col11, #T_ec665_row10_col8 {\n",
       "  background-color: #eef8a8;\n",
       "  color: #000000;\n",
       "}\n",
       "#T_ec665_row4_col0 {\n",
       "  background-color: #7ac665;\n",
       "  color: #000000;\n",
       "}\n",
       "#T_ec665_row4_col1 {\n",
       "  background-color: #2aa054;\n",
       "  color: #f1f1f1;\n",
       "}\n",
       "#T_ec665_row4_col2, #T_ec665_row13_col4 {\n",
       "  background-color: #15904c;\n",
       "  color: #f1f1f1;\n",
       "}\n",
       "#T_ec665_row4_col4, #T_ec665_row11_col2 {\n",
       "  background-color: #fff2aa;\n",
       "  color: #000000;\n",
       "}\n",
       "#T_ec665_row4_col5 {\n",
       "  background-color: #ecf7a6;\n",
       "  color: #000000;\n",
       "}\n",
       "#T_ec665_row4_col6 {\n",
       "  background-color: #e5f49b;\n",
       "  color: #000000;\n",
       "}\n",
       "#T_ec665_row4_col7 {\n",
       "  background-color: #fed683;\n",
       "  color: #000000;\n",
       "}\n",
       "#T_ec665_row4_col9, #T_ec665_row6_col6 {\n",
       "  background-color: #fbfdba;\n",
       "  color: #000000;\n",
       "}\n",
       "#T_ec665_row4_col10 {\n",
       "  background-color: #f7fcb4;\n",
       "  color: #000000;\n",
       "}\n",
       "#T_ec665_row5_col1 {\n",
       "  background-color: #feeb9d;\n",
       "  color: #000000;\n",
       "}\n",
       "#T_ec665_row5_col2, #T_ec665_row6_col2 {\n",
       "  background-color: #fff0a6;\n",
       "  color: #000000;\n",
       "}\n",
       "#T_ec665_row5_col3, #T_ec665_row7_col3 {\n",
       "  background-color: #fca85e;\n",
       "  color: #000000;\n",
       "}\n",
       "#T_ec665_row5_col4 {\n",
       "  background-color: #3faa59;\n",
       "  color: #f1f1f1;\n",
       "}\n",
       "#T_ec665_row5_col5 {\n",
       "  background-color: #128a49;\n",
       "  color: #f1f1f1;\n",
       "}\n",
       "#T_ec665_row5_col6, #T_ec665_row5_col8 {\n",
       "  background-color: #036e3a;\n",
       "  color: #f1f1f1;\n",
       "}\n",
       "#T_ec665_row5_col7 {\n",
       "  background-color: #b7e075;\n",
       "  color: #000000;\n",
       "}\n",
       "#T_ec665_row5_col9, #T_ec665_row5_col10, #T_ec665_row9_col8, #T_ec665_row9_col11, #T_ec665_row15_col0, #T_ec665_row15_col1, #T_ec665_row15_col2, #T_ec665_row15_col3, #T_ec665_row15_col4, #T_ec665_row15_col5, #T_ec665_row15_col6, #T_ec665_row15_col7 {\n",
       "  background-color: #006837;\n",
       "  color: #f1f1f1;\n",
       "}\n",
       "#T_ec665_row5_col11, #T_ec665_row12_col8, #T_ec665_row13_col10 {\n",
       "  background-color: #39a758;\n",
       "  color: #f1f1f1;\n",
       "}\n",
       "#T_ec665_row6_col1 {\n",
       "  background-color: #fff5ae;\n",
       "  color: #000000;\n",
       "}\n",
       "#T_ec665_row6_col3 {\n",
       "  background-color: #fdbd6d;\n",
       "  color: #000000;\n",
       "}\n",
       "#T_ec665_row6_col4 {\n",
       "  background-color: #fff8b4;\n",
       "  color: #000000;\n",
       "}\n",
       "#T_ec665_row6_col5, #T_ec665_row6_col8 {\n",
       "  background-color: #f8fcb6;\n",
       "  color: #000000;\n",
       "}\n",
       "#T_ec665_row6_col7, #T_ec665_row7_col0, #T_ec665_row10_col0 {\n",
       "  background-color: #fdbf6f;\n",
       "  color: #000000;\n",
       "}\n",
       "#T_ec665_row6_col9 {\n",
       "  background-color: #f1f9ac;\n",
       "  color: #000000;\n",
       "}\n",
       "#T_ec665_row6_col10 {\n",
       "  background-color: #fdfebc;\n",
       "  color: #000000;\n",
       "}\n",
       "#T_ec665_row6_col11 {\n",
       "  background-color: #feda86;\n",
       "  color: #000000;\n",
       "}\n",
       "#T_ec665_row7_col1 {\n",
       "  background-color: #fed884;\n",
       "  color: #000000;\n",
       "}\n",
       "#T_ec665_row7_col2 {\n",
       "  background-color: #fede89;\n",
       "  color: #000000;\n",
       "}\n",
       "#T_ec665_row7_col4, #T_ec665_row10_col4 {\n",
       "  background-color: #f5fbb2;\n",
       "  color: #000000;\n",
       "}\n",
       "#T_ec665_row7_col5, #T_ec665_row14_col2 {\n",
       "  background-color: #d7ee8a;\n",
       "  color: #000000;\n",
       "}\n",
       "#T_ec665_row7_col6 {\n",
       "  background-color: #bfe47a;\n",
       "  color: #000000;\n",
       "}\n",
       "#T_ec665_row7_col7, #T_ec665_row10_col2 {\n",
       "  background-color: #feeda1;\n",
       "  color: #000000;\n",
       "}\n",
       "#T_ec665_row7_col8 {\n",
       "  background-color: #dff293;\n",
       "  color: #000000;\n",
       "}\n",
       "#T_ec665_row7_col9 {\n",
       "  background-color: #c7e77f;\n",
       "  color: #000000;\n",
       "}\n",
       "#T_ec665_row7_col10, #T_ec665_row9_col2, #T_ec665_row14_col7 {\n",
       "  background-color: #c1e57b;\n",
       "  color: #000000;\n",
       "}\n",
       "#T_ec665_row7_col11 {\n",
       "  background-color: #fffebe;\n",
       "  color: #000000;\n",
       "}\n",
       "#T_ec665_row8_col1, #T_ec665_row13_col2 {\n",
       "  background-color: #6ec064;\n",
       "  color: #000000;\n",
       "}\n",
       "#T_ec665_row8_col2 {\n",
       "  background-color: #7fc866;\n",
       "  color: #000000;\n",
       "}\n",
       "#T_ec665_row8_col3 {\n",
       "  background-color: #b1de71;\n",
       "  color: #000000;\n",
       "}\n",
       "#T_ec665_row8_col4 {\n",
       "  background-color: #a7d96b;\n",
       "  color: #000000;\n",
       "}\n",
       "#T_ec665_row8_col5 {\n",
       "  background-color: #a2d76a;\n",
       "  color: #000000;\n",
       "}\n",
       "#T_ec665_row8_col6, #T_ec665_row8_col9, #T_ec665_row10_col5, #T_ec665_row10_col9 {\n",
       "  background-color: #afdd70;\n",
       "  color: #000000;\n",
       "}\n",
       "#T_ec665_row8_col7, #T_ec665_row14_col1 {\n",
       "  background-color: #d3ec87;\n",
       "  color: #000000;\n",
       "}\n",
       "#T_ec665_row8_col8 {\n",
       "  background-color: #a5d86a;\n",
       "  color: #000000;\n",
       "}\n",
       "#T_ec665_row8_col10 {\n",
       "  background-color: #c3e67d;\n",
       "  color: #000000;\n",
       "}\n",
       "#T_ec665_row8_col11, #T_ec665_row9_col0 {\n",
       "  background-color: #c5e67e;\n",
       "  color: #000000;\n",
       "}\n",
       "#T_ec665_row9_col1 {\n",
       "  background-color: #b5df74;\n",
       "  color: #000000;\n",
       "}\n",
       "#T_ec665_row9_col3 {\n",
       "  background-color: #d1ec86;\n",
       "  color: #000000;\n",
       "}\n",
       "#T_ec665_row9_col4, #T_ec665_row13_col6 {\n",
       "  background-color: #1b9950;\n",
       "  color: #f1f1f1;\n",
       "}\n",
       "#T_ec665_row9_col7, #T_ec665_row12_col4 {\n",
       "  background-color: #33a456;\n",
       "  color: #f1f1f1;\n",
       "}\n",
       "#T_ec665_row9_col9, #T_ec665_row13_col8 {\n",
       "  background-color: #0f8446;\n",
       "  color: #f1f1f1;\n",
       "}\n",
       "#T_ec665_row9_col10, #T_ec665_row12_col0 {\n",
       "  background-color: #1e9a51;\n",
       "  color: #f1f1f1;\n",
       "}\n",
       "#T_ec665_row10_col1 {\n",
       "  background-color: #fee695;\n",
       "  color: #000000;\n",
       "}\n",
       "#T_ec665_row10_col3 {\n",
       "  background-color: #ed5f3c;\n",
       "  color: #f1f1f1;\n",
       "}\n",
       "#T_ec665_row10_col6 {\n",
       "  background-color: #87cb67;\n",
       "  color: #000000;\n",
       "}\n",
       "#T_ec665_row10_col7 {\n",
       "  background-color: #fdb365;\n",
       "  color: #000000;\n",
       "}\n",
       "#T_ec665_row10_col10, #T_ec665_row11_col4 {\n",
       "  background-color: #9dd569;\n",
       "  color: #000000;\n",
       "}\n",
       "#T_ec665_row10_col11 {\n",
       "  background-color: #fdc171;\n",
       "  color: #000000;\n",
       "}\n",
       "#T_ec665_row11_col0 {\n",
       "  background-color: #fdbb6c;\n",
       "  color: #000000;\n",
       "}\n",
       "#T_ec665_row11_col1 {\n",
       "  background-color: #fee28f;\n",
       "  color: #000000;\n",
       "}\n",
       "#T_ec665_row11_col5 {\n",
       "  background-color: #7dc765;\n",
       "  color: #000000;\n",
       "}\n",
       "#T_ec665_row11_col6, #T_ec665_row14_col4 {\n",
       "  background-color: #73c264;\n",
       "  color: #000000;\n",
       "}\n",
       "#T_ec665_row11_col7 {\n",
       "  background-color: #daf08d;\n",
       "  color: #000000;\n",
       "}\n",
       "#T_ec665_row11_col8, #T_ec665_row11_col9, #T_ec665_row13_col7, #T_ec665_row14_col6 {\n",
       "  background-color: #51b35e;\n",
       "  color: #f1f1f1;\n",
       "}\n",
       "#T_ec665_row12_col1 {\n",
       "  background-color: #138c4a;\n",
       "  color: #f1f1f1;\n",
       "}\n",
       "#T_ec665_row12_col2 {\n",
       "  background-color: #118848;\n",
       "  color: #f1f1f1;\n",
       "}\n",
       "#T_ec665_row12_col3 {\n",
       "  background-color: #4bb05c;\n",
       "  color: #f1f1f1;\n",
       "}\n",
       "#T_ec665_row12_col6 {\n",
       "  background-color: #30a356;\n",
       "  color: #f1f1f1;\n",
       "}\n",
       "#T_ec665_row12_col7, #T_ec665_row14_col10 {\n",
       "  background-color: #5db961;\n",
       "  color: #f1f1f1;\n",
       "}\n",
       "#T_ec665_row12_col9, #T_ec665_row14_col9 {\n",
       "  background-color: #48ae5c;\n",
       "  color: #f1f1f1;\n",
       "}\n",
       "#T_ec665_row12_col10, #T_ec665_row14_col5 {\n",
       "  background-color: #54b45f;\n",
       "  color: #f1f1f1;\n",
       "}\n",
       "#T_ec665_row13_col0 {\n",
       "  background-color: #66bd63;\n",
       "  color: #f1f1f1;\n",
       "}\n",
       "#T_ec665_row13_col1 {\n",
       "  background-color: #5ab760;\n",
       "  color: #f1f1f1;\n",
       "}\n",
       "#T_ec665_row13_col3 {\n",
       "  background-color: #96d268;\n",
       "  color: #000000;\n",
       "}\n",
       "#T_ec665_row13_col5, #T_ec665_row13_col9 {\n",
       "  background-color: #17934e;\n",
       "  color: #f1f1f1;\n",
       "}\n",
       "#T_ec665_row14_col0 {\n",
       "  background-color: #e2f397;\n",
       "  color: #000000;\n",
       "}\n",
       "#T_ec665_row14_col3 {\n",
       "  background-color: #f2faae;\n",
       "  color: #000000;\n",
       "}\n",
       "#T_ec665_row14_col8 {\n",
       "  background-color: #4eb15d;\n",
       "  color: #f1f1f1;\n",
       "}\n",
       "#T_ec665_row14_col11 {\n",
       "  background-color: #89cc67;\n",
       "  color: #000000;\n",
       "}\n",
       "#T_ec665_row15_col8 {\n",
       "  background-color: #08773f;\n",
       "  color: #f1f1f1;\n",
       "}\n",
       "#T_ec665_row15_col9 {\n",
       "  background-color: #05713c;\n",
       "  color: #f1f1f1;\n",
       "}\n",
       "#T_ec665_row15_col10 {\n",
       "  background-color: #0c7f43;\n",
       "  color: #f1f1f1;\n",
       "}\n",
       "#T_ec665_row15_col11 {\n",
       "  background-color: #2da155;\n",
       "  color: #f1f1f1;\n",
       "}\n",
       "</style>\n",
       "<table id=\"T_ec665\">\n",
       "  <thead>\n",
       "    <tr>\n",
       "      <th class=\"blank level0\" >&nbsp;</th>\n",
       "      <th id=\"T_ec665_level0_col0\" class=\"col_heading level0 col0\" >mAA_R_10</th>\n",
       "      <th id=\"T_ec665_level0_col1\" class=\"col_heading level0 col1\" >mAA_R_20</th>\n",
       "      <th id=\"T_ec665_level0_col2\" class=\"col_heading level0 col2\" >mAA_R_30</th>\n",
       "      <th id=\"T_ec665_level0_col3\" class=\"col_heading level0 col3\" >mAA_R_5</th>\n",
       "      <th id=\"T_ec665_level0_col4\" class=\"col_heading level0 col4\" >mAA_max_10</th>\n",
       "      <th id=\"T_ec665_level0_col5\" class=\"col_heading level0 col5\" >mAA_max_20</th>\n",
       "      <th id=\"T_ec665_level0_col6\" class=\"col_heading level0 col6\" >mAA_max_30</th>\n",
       "      <th id=\"T_ec665_level0_col7\" class=\"col_heading level0 col7\" >mAA_max_5</th>\n",
       "      <th id=\"T_ec665_level0_col8\" class=\"col_heading level0 col8\" >mAA_t_10</th>\n",
       "      <th id=\"T_ec665_level0_col9\" class=\"col_heading level0 col9\" >mAA_t_20</th>\n",
       "      <th id=\"T_ec665_level0_col10\" class=\"col_heading level0 col10\" >mAA_t_30</th>\n",
       "      <th id=\"T_ec665_level0_col11\" class=\"col_heading level0 col11\" >mAA_t_5</th>\n",
       "    </tr>\n",
       "  </thead>\n",
       "  <tbody>\n",
       "    <tr>\n",
       "      <th id=\"T_ec665_level0_row0\" class=\"row_heading level0 row0\" >(1) Baseline, shared decoder, init loss weights = [0, -3]</th>\n",
       "      <td id=\"T_ec665_row0_col0\" class=\"data row0 col0\" >0.43</td>\n",
       "      <td id=\"T_ec665_row0_col1\" class=\"data row0 col1\" >0.62</td>\n",
       "      <td id=\"T_ec665_row0_col2\" class=\"data row0 col2\" >0.71</td>\n",
       "      <td id=\"T_ec665_row0_col3\" class=\"data row0 col3\" >0.24</td>\n",
       "      <td id=\"T_ec665_row0_col4\" class=\"data row0 col4\" >0.08</td>\n",
       "      <td id=\"T_ec665_row0_col5\" class=\"data row0 col5\" >0.22</td>\n",
       "      <td id=\"T_ec665_row0_col6\" class=\"data row0 col6\" >0.34</td>\n",
       "      <td id=\"T_ec665_row0_col7\" class=\"data row0 col7\" >0.02</td>\n",
       "      <td id=\"T_ec665_row0_col8\" class=\"data row0 col8\" >0.10</td>\n",
       "      <td id=\"T_ec665_row0_col9\" class=\"data row0 col9\" >0.25</td>\n",
       "      <td id=\"T_ec665_row0_col10\" class=\"data row0 col10\" >0.37</td>\n",
       "      <td id=\"T_ec665_row0_col11\" class=\"data row0 col11\" >0.03</td>\n",
       "    </tr>\n",
       "    <tr>\n",
       "      <th id=\"T_ec665_level0_row1\" class=\"row_heading level0 row1\" >(2) = (1) + $l_2$, init loss weights = [0, -3., 0]</th>\n",
       "      <td id=\"T_ec665_row1_col0\" class=\"data row1 col0\" >0.43</td>\n",
       "      <td id=\"T_ec665_row1_col1\" class=\"data row1 col1\" >0.62</td>\n",
       "      <td id=\"T_ec665_row1_col2\" class=\"data row1 col2\" >0.71</td>\n",
       "      <td id=\"T_ec665_row1_col3\" class=\"data row1 col3\" >0.24</td>\n",
       "      <td id=\"T_ec665_row1_col4\" class=\"data row1 col4\" >0.09</td>\n",
       "      <td id=\"T_ec665_row1_col5\" class=\"data row1 col5\" >0.26</td>\n",
       "      <td id=\"T_ec665_row1_col6\" class=\"data row1 col6\" >0.38</td>\n",
       "      <td id=\"T_ec665_row1_col7\" class=\"data row1 col7\" >0.02</td>\n",
       "      <td id=\"T_ec665_row1_col8\" class=\"data row1 col8\" >0.12</td>\n",
       "      <td id=\"T_ec665_row1_col9\" class=\"data row1 col9\" >0.28</td>\n",
       "      <td id=\"T_ec665_row1_col10\" class=\"data row1 col10\" >0.41</td>\n",
       "      <td id=\"T_ec665_row1_col11\" class=\"data row1 col11\" >0.04</td>\n",
       "    </tr>\n",
       "    <tr>\n",
       "      <th id=\"T_ec665_level0_row2\" class=\"row_heading level0 row2\" >(3) = (1) + LN</th>\n",
       "      <td id=\"T_ec665_row2_col0\" class=\"data row2 col0\" >0.54</td>\n",
       "      <td id=\"T_ec665_row2_col1\" class=\"data row2 col1\" >0.69</td>\n",
       "      <td id=\"T_ec665_row2_col2\" class=\"data row2 col2\" >0.77</td>\n",
       "      <td id=\"T_ec665_row2_col3\" class=\"data row2 col3\" >0.35</td>\n",
       "      <td id=\"T_ec665_row2_col4\" class=\"data row2 col4\" >0.13</td>\n",
       "      <td id=\"T_ec665_row2_col5\" class=\"data row2 col5\" >0.30</td>\n",
       "      <td id=\"T_ec665_row2_col6\" class=\"data row2 col6\" >0.42</td>\n",
       "      <td id=\"T_ec665_row2_col7\" class=\"data row2 col7\" >0.04</td>\n",
       "      <td id=\"T_ec665_row2_col8\" class=\"data row2 col8\" >0.14</td>\n",
       "      <td id=\"T_ec665_row2_col9\" class=\"data row2 col9\" >0.32</td>\n",
       "      <td id=\"T_ec665_row2_col10\" class=\"data row2 col10\" >0.44</td>\n",
       "      <td id=\"T_ec665_row2_col11\" class=\"data row2 col11\" >0.05</td>\n",
       "    </tr>\n",
       "    <tr>\n",
       "      <th id=\"T_ec665_level0_row3\" class=\"row_heading level0 row3\" >(4) = (2) + LN</th>\n",
       "      <td id=\"T_ec665_row3_col0\" class=\"data row3 col0\" >0.55</td>\n",
       "      <td id=\"T_ec665_row3_col1\" class=\"data row3 col1\" >0.70</td>\n",
       "      <td id=\"T_ec665_row3_col2\" class=\"data row3 col2\" >0.77</td>\n",
       "      <td id=\"T_ec665_row3_col3\" class=\"data row3 col3\" >0.36</td>\n",
       "      <td id=\"T_ec665_row3_col4\" class=\"data row3 col4\" >0.19</td>\n",
       "      <td id=\"T_ec665_row3_col5\" class=\"data row3 col5\" >0.38</td>\n",
       "      <td id=\"T_ec665_row3_col6\" class=\"data row3 col6\" >0.50</td>\n",
       "      <td id=\"T_ec665_row3_col7\" class=\"data row3 col7\" >0.06</td>\n",
       "      <td id=\"T_ec665_row3_col8\" class=\"data row3 col8\" >0.21</td>\n",
       "      <td id=\"T_ec665_row3_col9\" class=\"data row3 col9\" >0.40</td>\n",
       "      <td id=\"T_ec665_row3_col10\" class=\"data row3 col10\" >0.52</td>\n",
       "      <td id=\"T_ec665_row3_col11\" class=\"data row3 col11\" >0.07</td>\n",
       "    </tr>\n",
       "    <tr>\n",
       "      <th id=\"T_ec665_level0_row4\" class=\"row_heading level0 row4\" >(5) = (3) - LeakyReLU + ReLU</th>\n",
       "      <td id=\"T_ec665_row4_col0\" class=\"data row4 col0\" >0.53</td>\n",
       "      <td id=\"T_ec665_row4_col1\" class=\"data row4 col1\" >0.70</td>\n",
       "      <td id=\"T_ec665_row4_col2\" class=\"data row4 col2\" >0.77</td>\n",
       "      <td id=\"T_ec665_row4_col3\" class=\"data row4 col3\" >0.33</td>\n",
       "      <td id=\"T_ec665_row4_col4\" class=\"data row4 col4\" >0.14</td>\n",
       "      <td id=\"T_ec665_row4_col5\" class=\"data row4 col5\" >0.33</td>\n",
       "      <td id=\"T_ec665_row4_col6\" class=\"data row4 col6\" >0.45</td>\n",
       "      <td id=\"T_ec665_row4_col7\" class=\"data row4 col7\" >0.04</td>\n",
       "      <td id=\"T_ec665_row4_col8\" class=\"data row4 col8\" >0.16</td>\n",
       "      <td id=\"T_ec665_row4_col9\" class=\"data row4 col9\" >0.34</td>\n",
       "      <td id=\"T_ec665_row4_col10\" class=\"data row4 col10\" >0.47</td>\n",
       "      <td id=\"T_ec665_row4_col11\" class=\"data row4 col11\" >0.05</td>\n",
       "    </tr>\n",
       "    <tr>\n",
       "      <th id=\"T_ec665_level0_row5\" class=\"row_heading level0 row5\" >(6) = (4) - LeakyReLU + ReLU, init loss weights = [0, 0, 0]</th>\n",
       "      <td id=\"T_ec665_row5_col0\" class=\"data row5 col0\" >0.48</td>\n",
       "      <td id=\"T_ec665_row5_col1\" class=\"data row5 col1\" >0.66</td>\n",
       "      <td id=\"T_ec665_row5_col2\" class=\"data row5 col2\" >0.74</td>\n",
       "      <td id=\"T_ec665_row5_col3\" class=\"data row5 col3\" >0.28</td>\n",
       "      <td id=\"T_ec665_row5_col4\" class=\"data row5 col4\" >0.20</td>\n",
       "      <td id=\"T_ec665_row5_col5\" class=\"data row5 col5\" >0.40</td>\n",
       "      <td id=\"T_ec665_row5_col6\" class=\"data row5 col6\" >0.53</td>\n",
       "      <td id=\"T_ec665_row5_col7\" class=\"data row5 col7\" >0.06</td>\n",
       "      <td id=\"T_ec665_row5_col8\" class=\"data row5 col8\" >0.24</td>\n",
       "      <td id=\"T_ec665_row5_col9\" class=\"data row5 col9\" >0.44</td>\n",
       "      <td id=\"T_ec665_row5_col10\" class=\"data row5 col10\" >0.56</td>\n",
       "      <td id=\"T_ec665_row5_col11\" class=\"data row5 col11\" >0.10</td>\n",
       "    </tr>\n",
       "    <tr>\n",
       "      <th id=\"T_ec665_level0_row6\" class=\"row_heading level0 row6\" >(7) = (3) + Dropout, init loss weights = [0, -2]</th>\n",
       "      <td id=\"T_ec665_row6_col0\" class=\"data row6 col0\" >0.49</td>\n",
       "      <td id=\"T_ec665_row6_col1\" class=\"data row6 col1\" >0.66</td>\n",
       "      <td id=\"T_ec665_row6_col2\" class=\"data row6 col2\" >0.74</td>\n",
       "      <td id=\"T_ec665_row6_col3\" class=\"data row6 col3\" >0.29</td>\n",
       "      <td id=\"T_ec665_row6_col4\" class=\"data row6 col4\" >0.14</td>\n",
       "      <td id=\"T_ec665_row6_col5\" class=\"data row6 col5\" >0.32</td>\n",
       "      <td id=\"T_ec665_row6_col6\" class=\"data row6 col6\" >0.44</td>\n",
       "      <td id=\"T_ec665_row6_col7\" class=\"data row6 col7\" >0.04</td>\n",
       "      <td id=\"T_ec665_row6_col8\" class=\"data row6 col8\" >0.17</td>\n",
       "      <td id=\"T_ec665_row6_col9\" class=\"data row6 col9\" >0.35</td>\n",
       "      <td id=\"T_ec665_row6_col10\" class=\"data row6 col10\" >0.47</td>\n",
       "      <td id=\"T_ec665_row6_col11\" class=\"data row6 col11\" >0.06</td>\n",
       "    </tr>\n",
       "    <tr>\n",
       "      <th id=\"T_ec665_level0_row7\" class=\"row_heading level0 row7\" >(8) = (4) + Dropout, init loss weights = [0, -2, 0.]</th>\n",
       "      <td id=\"T_ec665_row7_col0\" class=\"data row7 col0\" >0.48</td>\n",
       "      <td id=\"T_ec665_row7_col1\" class=\"data row7 col1\" >0.65</td>\n",
       "      <td id=\"T_ec665_row7_col2\" class=\"data row7 col2\" >0.73</td>\n",
       "      <td id=\"T_ec665_row7_col3\" class=\"data row7 col3\" >0.28</td>\n",
       "      <td id=\"T_ec665_row7_col4\" class=\"data row7 col4\" >0.15</td>\n",
       "      <td id=\"T_ec665_row7_col5\" class=\"data row7 col5\" >0.34</td>\n",
       "      <td id=\"T_ec665_row7_col6\" class=\"data row7 col6\" >0.47</td>\n",
       "      <td id=\"T_ec665_row7_col7\" class=\"data row7 col7\" >0.04</td>\n",
       "      <td id=\"T_ec665_row7_col8\" class=\"data row7 col8\" >0.18</td>\n",
       "      <td id=\"T_ec665_row7_col9\" class=\"data row7 col9\" >0.37</td>\n",
       "      <td id=\"T_ec665_row7_col10\" class=\"data row7 col10\" >0.49</td>\n",
       "      <td id=\"T_ec665_row7_col11\" class=\"data row7 col11\" >0.07</td>\n",
       "    </tr>\n",
       "    <tr>\n",
       "      <th id=\"T_ec665_level0_row8\" class=\"row_heading level0 row8\" >(9) = (4) +  init loss weights = [0, -2, 0]</th>\n",
       "      <td id=\"T_ec665_row8_col0\" class=\"data row8 col0\" >0.53</td>\n",
       "      <td id=\"T_ec665_row8_col1\" class=\"data row8 col1\" >0.69</td>\n",
       "      <td id=\"T_ec665_row8_col2\" class=\"data row8 col2\" >0.76</td>\n",
       "      <td id=\"T_ec665_row8_col3\" class=\"data row8 col3\" >0.33</td>\n",
       "      <td id=\"T_ec665_row8_col4\" class=\"data row8 col4\" >0.18</td>\n",
       "      <td id=\"T_ec665_row8_col5\" class=\"data row8 col5\" >0.36</td>\n",
       "      <td id=\"T_ec665_row8_col6\" class=\"data row8 col6\" >0.47</td>\n",
       "      <td id=\"T_ec665_row8_col7\" class=\"data row8 col7\" >0.06</td>\n",
       "      <td id=\"T_ec665_row8_col8\" class=\"data row8 col8\" >0.20</td>\n",
       "      <td id=\"T_ec665_row8_col9\" class=\"data row8 col9\" >0.38</td>\n",
       "      <td id=\"T_ec665_row8_col10\" class=\"data row8 col10\" >0.49</td>\n",
       "      <td id=\"T_ec665_row8_col11\" class=\"data row8 col11\" >0.08</td>\n",
       "    </tr>\n",
       "    <tr>\n",
       "      <th id=\"T_ec665_level0_row9\" class=\"row_heading level0 row9\" >(10) 2 separate heads, no weights in loss</th>\n",
       "      <td id=\"T_ec665_row9_col0\" class=\"data row9 col0\" >0.52</td>\n",
       "      <td id=\"T_ec665_row9_col1\" class=\"data row9 col1\" >0.68</td>\n",
       "      <td id=\"T_ec665_row9_col2\" class=\"data row9 col2\" >0.75</td>\n",
       "      <td id=\"T_ec665_row9_col3\" class=\"data row9 col3\" >0.32</td>\n",
       "      <td id=\"T_ec665_row9_col4\" class=\"data row9 col4\" >0.21</td>\n",
       "      <td id=\"T_ec665_row9_col5\" class=\"data row9 col5\" >0.39</td>\n",
       "      <td id=\"T_ec665_row9_col6\" class=\"data row9 col6\" >0.51</td>\n",
       "      <td id=\"T_ec665_row9_col7\" class=\"data row9 col7\" >0.07</td>\n",
       "      <td id=\"T_ec665_row9_col8\" class=\"data row9 col8\" >0.24</td>\n",
       "      <td id=\"T_ec665_row9_col9\" class=\"data row9 col9\" >0.43</td>\n",
       "      <td id=\"T_ec665_row9_col10\" class=\"data row9 col10\" >0.54</td>\n",
       "      <td id=\"T_ec665_row9_col11\" class=\"data row9 col11\" >0.11</td>\n",
       "    </tr>\n",
       "    <tr>\n",
       "      <th id=\"T_ec665_level0_row10\" class=\"row_heading level0 row10\" >(11) 3 separate heads, no weights in loss</th>\n",
       "      <td id=\"T_ec665_row10_col0\" class=\"data row10 col0\" >0.48</td>\n",
       "      <td id=\"T_ec665_row10_col1\" class=\"data row10 col1\" >0.66</td>\n",
       "      <td id=\"T_ec665_row10_col2\" class=\"data row10 col2\" >0.74</td>\n",
       "      <td id=\"T_ec665_row10_col3\" class=\"data row10 col3\" >0.26</td>\n",
       "      <td id=\"T_ec665_row10_col4\" class=\"data row10 col4\" >0.15</td>\n",
       "      <td id=\"T_ec665_row10_col5\" class=\"data row10 col5\" >0.35</td>\n",
       "      <td id=\"T_ec665_row10_col6\" class=\"data row10 col6\" >0.48</td>\n",
       "      <td id=\"T_ec665_row10_col7\" class=\"data row10 col7\" >0.04</td>\n",
       "      <td id=\"T_ec665_row10_col8\" class=\"data row10 col8\" >0.18</td>\n",
       "      <td id=\"T_ec665_row10_col9\" class=\"data row10 col9\" >0.38</td>\n",
       "      <td id=\"T_ec665_row10_col10\" class=\"data row10 col10\" >0.51</td>\n",
       "      <td id=\"T_ec665_row10_col11\" class=\"data row10 col11\" >0.06</td>\n",
       "    </tr>\n",
       "    <tr>\n",
       "      <th id=\"T_ec665_level0_row11\" class=\"row_heading level0 row11\" >(12) = (10) - LeakyReLU + ReLU</th>\n",
       "      <td id=\"T_ec665_row11_col0\" class=\"data row11 col0\" >0.48</td>\n",
       "      <td id=\"T_ec665_row11_col1\" class=\"data row11 col1\" >0.66</td>\n",
       "      <td id=\"T_ec665_row11_col2\" class=\"data row11 col2\" >0.74</td>\n",
       "      <td id=\"T_ec665_row11_col3\" class=\"data row11 col3\" >0.27</td>\n",
       "      <td id=\"T_ec665_row11_col4\" class=\"data row11 col4\" >0.18</td>\n",
       "      <td id=\"T_ec665_row11_col5\" class=\"data row11 col5\" >0.37</td>\n",
       "      <td id=\"T_ec665_row11_col6\" class=\"data row11 col6\" >0.49</td>\n",
       "      <td id=\"T_ec665_row11_col7\" class=\"data row11 col7\" >0.05</td>\n",
       "      <td id=\"T_ec665_row11_col8\" class=\"data row11 col8\" >0.22</td>\n",
       "      <td id=\"T_ec665_row11_col9\" class=\"data row11 col9\" >0.40</td>\n",
       "      <td id=\"T_ec665_row11_col10\" class=\"data row11 col10\" >0.52</td>\n",
       "      <td id=\"T_ec665_row11_col11\" class=\"data row11 col11\" >0.09</td>\n",
       "    </tr>\n",
       "    <tr>\n",
       "      <th id=\"T_ec665_level0_row12\" class=\"row_heading level0 row12\" >(13) = (4) but with ResNet blocks</th>\n",
       "      <td id=\"T_ec665_row12_col0\" class=\"data row12 col0\" >0.55</td>\n",
       "      <td id=\"T_ec665_row12_col1\" class=\"data row12 col1\" >0.70</td>\n",
       "      <td id=\"T_ec665_row12_col2\" class=\"data row12 col2\" >0.77</td>\n",
       "      <td id=\"T_ec665_row12_col3\" class=\"data row12 col3\" >0.36</td>\n",
       "      <td id=\"T_ec665_row12_col4\" class=\"data row12 col4\" >0.20</td>\n",
       "      <td id=\"T_ec665_row12_col5\" class=\"data row12 col5\" >0.39</td>\n",
       "      <td id=\"T_ec665_row12_col6\" class=\"data row12 col6\" >0.51</td>\n",
       "      <td id=\"T_ec665_row12_col7\" class=\"data row12 col7\" >0.07</td>\n",
       "      <td id=\"T_ec665_row12_col8\" class=\"data row12 col8\" >0.22</td>\n",
       "      <td id=\"T_ec665_row12_col9\" class=\"data row12 col9\" >0.41</td>\n",
       "      <td id=\"T_ec665_row12_col10\" class=\"data row12 col10\" >0.53</td>\n",
       "      <td id=\"T_ec665_row12_col11\" class=\"data row12 col11\" >0.09</td>\n",
       "    </tr>\n",
       "    <tr>\n",
       "      <th id=\"T_ec665_level0_row13\" class=\"row_heading level0 row13\" >(14) = (10) but with ResNet blocks</th>\n",
       "      <td id=\"T_ec665_row13_col0\" class=\"data row13 col0\" >0.54</td>\n",
       "      <td id=\"T_ec665_row13_col1\" class=\"data row13 col1\" >0.69</td>\n",
       "      <td id=\"T_ec665_row13_col2\" class=\"data row13 col2\" >0.76</td>\n",
       "      <td id=\"T_ec665_row13_col3\" class=\"data row13 col3\" >0.34</td>\n",
       "      <td id=\"T_ec665_row13_col4\" class=\"data row13 col4\" >0.21</td>\n",
       "      <td id=\"T_ec665_row13_col5\" class=\"data row13 col5\" >0.40</td>\n",
       "      <td id=\"T_ec665_row13_col6\" class=\"data row13 col6\" >0.51</td>\n",
       "      <td id=\"T_ec665_row13_col7\" class=\"data row13 col7\" >0.07</td>\n",
       "      <td id=\"T_ec665_row13_col8\" class=\"data row13 col8\" >0.23</td>\n",
       "      <td id=\"T_ec665_row13_col9\" class=\"data row13 col9\" >0.42</td>\n",
       "      <td id=\"T_ec665_row13_col10\" class=\"data row13 col10\" >0.53</td>\n",
       "      <td id=\"T_ec665_row13_col11\" class=\"data row13 col11\" >0.09</td>\n",
       "    </tr>\n",
       "    <tr>\n",
       "      <th id=\"T_ec665_level0_row14\" class=\"row_heading level0 row14\" >(15) = (14) with separable convs</th>\n",
       "      <td id=\"T_ec665_row14_col0\" class=\"data row14 col0\" >0.51</td>\n",
       "      <td id=\"T_ec665_row14_col1\" class=\"data row14 col1\" >0.67</td>\n",
       "      <td id=\"T_ec665_row14_col2\" class=\"data row14 col2\" >0.75</td>\n",
       "      <td id=\"T_ec665_row14_col3\" class=\"data row14 col3\" >0.31</td>\n",
       "      <td id=\"T_ec665_row14_col4\" class=\"data row14 col4\" >0.19</td>\n",
       "      <td id=\"T_ec665_row14_col5\" class=\"data row14 col5\" >0.38</td>\n",
       "      <td id=\"T_ec665_row14_col6\" class=\"data row14 col6\" >0.50</td>\n",
       "      <td id=\"T_ec665_row14_col7\" class=\"data row14 col7\" >0.06</td>\n",
       "      <td id=\"T_ec665_row14_col8\" class=\"data row14 col8\" >0.22</td>\n",
       "      <td id=\"T_ec665_row14_col9\" class=\"data row14 col9\" >0.41</td>\n",
       "      <td id=\"T_ec665_row14_col10\" class=\"data row14 col10\" >0.52</td>\n",
       "      <td id=\"T_ec665_row14_col11\" class=\"data row14 col11\" >0.09</td>\n",
       "    </tr>\n",
       "    <tr>\n",
       "      <th id=\"T_ec665_level0_row15\" class=\"row_heading level0 row15\" >(16) = (13) but first conv -> ASPP</th>\n",
       "      <td id=\"T_ec665_row15_col0\" class=\"data row15 col0\" >0.56</td>\n",
       "      <td id=\"T_ec665_row15_col1\" class=\"data row15 col1\" >0.71</td>\n",
       "      <td id=\"T_ec665_row15_col2\" class=\"data row15 col2\" >0.78</td>\n",
       "      <td id=\"T_ec665_row15_col3\" class=\"data row15 col3\" >0.38</td>\n",
       "      <td id=\"T_ec665_row15_col4\" class=\"data row15 col4\" >0.22</td>\n",
       "      <td id=\"T_ec665_row15_col5\" class=\"data row15 col5\" >0.42</td>\n",
       "      <td id=\"T_ec665_row15_col6\" class=\"data row15 col6\" >0.53</td>\n",
       "      <td id=\"T_ec665_row15_col7\" class=\"data row15 col7\" >0.08</td>\n",
       "      <td id=\"T_ec665_row15_col8\" class=\"data row15 col8\" >0.24</td>\n",
       "      <td id=\"T_ec665_row15_col9\" class=\"data row15 col9\" >0.43</td>\n",
       "      <td id=\"T_ec665_row15_col10\" class=\"data row15 col10\" >0.55</td>\n",
       "      <td id=\"T_ec665_row15_col11\" class=\"data row15 col11\" >0.10</td>\n",
       "    </tr>\n",
       "  </tbody>\n",
       "</table>\n"
      ],
      "text/plain": [
       "<pandas.io.formats.style.Styler at 0x7fe4ce123130>"
      ]
     },
     "execution_count": 21,
     "metadata": {},
     "output_type": "execute_result"
    }
   ],
   "source": [
    "df = pd.DataFrame(index=metrics_.keys())\n",
    "\n",
    "for t in (5, 10, 20, 30):\n",
    "    df[f'mAA_R_{t}'] = None\n",
    "    df[f'mAA_t_{t}'] = None\n",
    "    df[f'mAA_max_{t}'] = None\n",
    "    for key, val in metrics_.items():\n",
    "        df.loc[key, f'mAA_R_{t}'] = mAA_sep(val[\"R_angle_distances\"], t, 10000)\n",
    "        df.loc[key, f'mAA_t_{t}'] = mAA_sep(val[\"t_angle_distances\"], t, 10000)\n",
    "        df.loc[key, f'mAA_max_{t}'] = mAA_max(val[\"R_angle_distances\"], val[\"t_angle_distances\"], t, 10000)\n",
    "        d = df.style.format(precision=2)\n",
    "df.sort_index(axis=1, inplace=True)\n",
    "df.sort_index(axis=0, inplace=True)\n",
    "\n",
    "df.index = [exp_names[exp] for exp in df.index]\n",
    "\n",
    "for col in df.columns:\n",
    "    d.background_gradient(cmap=\"RdYlGn\", subset=col)\n",
    "d"
   ]
  },
  {
   "cell_type": "markdown",
   "id": "aee68faf-cf0c-4a93-ba76-29bd7f14b60c",
   "metadata": {},
   "source": [
    "### 2.2 Plots"
   ]
  },
  {
   "cell_type": "code",
   "execution_count": 15,
   "id": "d2540881-f539-441c-af65-74ccc8e8b8e7",
   "metadata": {
    "tags": []
   },
   "outputs": [],
   "source": [
    "plt.style.use('default')\n",
    "\n",
    "rc('text', usetex=True)\n",
    "\n",
    "SMALL_SIZE = 8\n",
    "MEDIUM_SIZE = 10\n",
    "BIGGER_SIZE = 12\n",
    "\n",
    "rc('font', size=MEDIUM_SIZE)          # controls default text sizes\n",
    "rc('axes', titlesize=MEDIUM_SIZE)     # fontsize of the axes title\n",
    "rc('axes', labelsize=MEDIUM_SIZE)    # fontsize of the x and y labels\n",
    "rc('xtick', labelsize=MEDIUM_SIZE)    # fontsize of the tick labels\n",
    "rc('ytick', labelsize=MEDIUM_SIZE)    # fontsize of the tick labels\n",
    "rc('legend', fontsize=MEDIUM_SIZE)    # legend fontsize\n",
    "rc('figure', titlesize=BIGGER_SIZE)  # fontsize of the figure title\n"
   ]
  },
  {
   "cell_type": "code",
   "execution_count": 16,
   "id": "49270898-fa2e-4300-9e8b-598017b92039",
   "metadata": {
    "tags": []
   },
   "outputs": [],
   "source": [
    "def calculate_metric_on_subset(metric_values, values_dependent_on, agg_func, thresholds, sign):\n",
    "    thresholds_ = thresholds[:, None]\n",
    "    if sign == '>':\n",
    "        inliers_bool = values_dependent_on > thresholds_\n",
    "    else:\n",
    "        inliers_bool = values_dependent_on <= thresholds_\n",
    "    scores = np.array([agg_func(metric_values[subset]) for subset in inliers_bool])\n",
    "    return scores"
   ]
  },
  {
   "cell_type": "code",
   "execution_count": 17,
   "id": "b3f3e06a-c054-44bf-ae0b-a2ee07e22423",
   "metadata": {
    "tags": []
   },
   "outputs": [
    {
     "data": {
      "image/png": "[encoded data removed]",
      "text/plain": [
       "<Figure size 800x800 with 4 Axes>"
      ]
     },
     "metadata": {},
     "output_type": "display_data"
    }
   ],
   "source": [
    "fig, ax = plt.subplots(2, 2, figsize=(8, 8))\n",
    "\n",
    "colors = ['b', 'darkorange' ,'g' ,'r' ,  '#8B008B',\n",
    "          '#A52A2A','#FFC0CB','#808080','#556B2F','#00FFFF',\n",
    "         '#FF00FF','#32CD32','#008080','#E6E6FA',\n",
    "         '#D2B48C','#FA8072','#FFD700', '#000080']\n",
    "\n",
    "exp_colors = {exp: col for  exp, col in zip(metrics.keys(), colors)}\n",
    "\n",
    "for exp, m in metrics.items():\n",
    "    sns.ecdfplot(x=m['R_angle_distances'], complementary=False, ax=ax[0,0], c=exp_colors[exp], linewidth=1)\n",
    "    ax[0, 0].set_xlim([0., 50.])\n",
    "    sns.ecdfplot(x=m['t_distances_l2'], complementary=False, ax=ax[0,1], c=exp_colors[exp], linewidth=1, log_scale=False)\n",
    "    ax[0, 1].set_xlim([0., 3.])\n",
    "    R_on_gt = calculate_metric_on_subset(\n",
    "        m['R_angle_distances'], m['R_gt_distances'], np.mean, np.linspace(0, 180, 180), '<')\n",
    "    R_on_gt[np.isnan(R_on_gt)] = 0\n",
    "    ax[1, 0].plot(np.linspace(0, 180, 180), R_on_gt, label=exp, c=exp_colors[exp], linewidth=1)\n",
    "    \n",
    "    t_on_gt = calculate_metric_on_subset(\n",
    "        m['t_distances_l2'], m['t_gt_distances'], np.mean, np.linspace(0, 6.66, 100), '<')\n",
    "    t_on_gt[np.isnan(t_on_gt)] = 0\n",
    "    ax[1, 1].plot(np.linspace(0, 6.66, 100), t_on_gt, c=exp_colors[exp], linewidth=1)\n",
    "    \n",
    "    \n",
    "# ax[0, 0].vlines([5, 10, 20, 30], ymin=0, ymax=1)\n",
    "ax[0, 0].set_xlabel('Angle error, degrees')\n",
    "ax[0, 0].set_title('CDF of angle error')\n",
    "ax[0, 0].grid()\n",
    "\n",
    "\n",
    "# ax[0, 1].vlines([0.25, 0.5, 5], ymin=0, ymax=1)\n",
    "ax[0, 1].set_xlabel('$\\|t_{gt} - t\\|_2$, meters')\n",
    "ax[0, 1].set_title('CDF of translation error')\n",
    "ax[0, 1].grid()\n",
    "\n",
    "ax[1, 0].set_xlabel('Ground-truth rotation distance $<$ than, degrees')\n",
    "ax[1, 0].set_ylabel('Mean error')\n",
    "ax[1, 0].set_title('Dependence of mean angle error on \\n ground-truth rotation distance')\n",
    "ax[1, 0].grid()\n",
    "\n",
    "\n",
    "ax[1, 1].set_xlabel('Ground-truth $l_2$ distance $<$ than, meters')\n",
    "ax[1, 1].set_title('Mean error, meters')\n",
    "ax[1, 1].set_title('Dependence of mean translation error on \\n ground-truth $l_2$ distance')\n",
    "ax[1, 1].grid()\n",
    "\n",
    "\n",
    "handles, labels = ax[1, 0].get_legend_handles_labels()\n",
    "fig.legend(handles, labels, bbox_to_anchor=(.9, 0), borderaxespad=0.0, ncol=5)\n",
    "fig.tight_layout()\n",
    "plt.savefig('/home/project/code/results/images/scannet_cdfs_gt_flow.pdf', bbox_inches='tight')"
   ]
  }
 ],
 "metadata": {
  "kernelspec": {
   "display_name": "Python 3 (ipykernel)",
   "language": "python",
   "name": "python3"
  },
  "language_info": {
   "codemirror_mode": {
    "name": "ipython",
    "version": 3
   },
   "file_extension": ".py",
   "mimetype": "text/x-python",
   "name": "python",
   "nbconvert_exporter": "python",
   "pygments_lexer": "ipython3",
   "version": "3.8.10"
  }
 },
 "nbformat": 4,
 "nbformat_minor": 5
}
