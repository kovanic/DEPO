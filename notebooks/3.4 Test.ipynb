{
 "cells": [
  {
   "cell_type": "code",
   "execution_count": 1,
   "id": "19161acc-2995-4209-918f-3bc601b465fc",
   "metadata": {
    "tags": []
   },
   "outputs": [],
   "source": [
    "%load_ext autoreload\n",
    "%autoreload 2"
   ]
  },
  {
   "cell_type": "code",
   "execution_count": 2,
   "id": "decedb4d-afe7-40d6-81be-9edfbf15d955",
   "metadata": {
    "tags": []
   },
   "outputs": [],
   "source": [
    "import sys\n",
    "sys.path.append('../src')"
   ]
  },
  {
   "cell_type": "code",
   "execution_count": 3,
   "id": "a7ca3437-a97d-4dbf-a5ed-635ab14464eb",
   "metadata": {
    "tags": []
   },
   "outputs": [],
   "source": [
    "import warnings\n",
    "warnings.filterwarnings('ignore')"
   ]
  },
  {
   "cell_type": "code",
   "execution_count": 4,
   "id": "011cdf9c-599d-4a97-a8db-6ebd0a12c186",
   "metadata": {
    "tags": []
   },
   "outputs": [
    {
     "name": "stdout",
     "output_type": "stream",
     "text": [
      "Jupyter environment detected. Enabling Open3D WebVisualizer.\n",
      "[Open3D INFO] WebRTC GUI backend enabled.\n",
      "[Open3D INFO] WebRTCWindowSystem: HTTP handshake server disabled.\n"
     ]
    }
   ],
   "source": [
    "import torch\n",
    "from torch.utils.data import DataLoader\n",
    "\n",
    "from data.scannet.utils_scannet import ScanNetDataset\n",
    "from matching.gmflow_dense.gmflow_dense import GMflowDensePose\n",
    "from matching.gmflow_essential.gmflow_with_essential import GMFlowEssential\n",
    "from utils.model import load_checkpoint\n",
    "from utils.metrics import mAA, rotation_angle_distance_batch, vector_angle_distance_batch\n",
    "\n",
    "from training.train_dense import test\n",
    "from training.train_essential import test_ess\n",
    "\n",
    "from tqdm.auto import tqdm\n",
    "import matplotlib.pyplot as plt\n",
    "import seaborn as sns\n",
    "from matplotlib import rc\n",
    "\n",
    "import numpy as np\n",
    "from numpy.linalg import norm\n",
    "\n",
    "import pickle"
   ]
  },
  {
   "cell_type": "code",
   "execution_count": 5,
   "id": "0f910f7d-6cc9-4959-aafc-5f9669913198",
   "metadata": {
    "tags": []
   },
   "outputs": [],
   "source": [
    "device = torch.device('cuda:0' if torch.cuda.is_available() else 'cpu')"
   ]
  },
  {
   "cell_type": "markdown",
   "id": "a9bfd19c-0ef4-4edc-9497-3269196f27a4",
   "metadata": {
    "tags": []
   },
   "source": [
    "### 0. Data"
   ]
  },
  {
   "cell_type": "code",
   "execution_count": 8,
   "id": "be5ba0ac-f8fb-4f5a-8bf1-42a536b0e0d1",
   "metadata": {
    "tags": []
   },
   "outputs": [],
   "source": [
    "test_data = ScanNetDataset(\n",
    "    root_dir='/home/project/ScanNet/scannet_test_1500/',\n",
    "    npz_path='/home/project/ScanNet/test.npz',\n",
    "    intrinsics_path='/home/project/ScanNet/intrinsics_test.npz',\n",
    "    mode='test'\n",
    ")\n",
    "\n",
    "test_loader = DataLoader(test_data, batch_size=3, shuffle=False, drop_last=False, pin_memory=True, num_workers=1)\n"
   ]
  },
  {
   "cell_type": "markdown",
   "id": "e213275c-6f31-4e5a-b905-0f6400c30bba",
   "metadata": {},
   "source": [
    "## 1. Metrics"
   ]
  },
  {
   "cell_type": "code",
   "execution_count": 6,
   "id": "9b0380e8-8596-4c83-a589-67f19847d646",
   "metadata": {
    "tags": []
   },
   "outputs": [],
   "source": [
    "metrics = {}\n",
    "with open('/home/project/code/results/scannet/metrics', 'rb') as f:\n",
    "    metrics = pickle.load(f)"
   ]
  },
  {
   "cell_type": "markdown",
   "id": "2b5b3e8e-45fe-4453-8f1a-a7a559a8c019",
   "metadata": {},
   "source": [
    "### 1.1 GMFlow + dense"
   ]
  },
  {
   "cell_type": "code",
   "execution_count": 8,
   "id": "f99871b0-3a26-4189-bd47-a347658d638c",
   "metadata": {
    "tags": []
   },
   "outputs": [],
   "source": [
    "checkpoint = load_checkpoint('/home/project/code/src/weights/2_gmflow_dense_wo_conf_part2_3.pth', device)\n",
    "model = GMflowDensePose()\n",
    "model.load_state_dict(checkpoint['model'])\n",
    "model.to(device);"
   ]
  },
  {
   "cell_type": "code",
   "execution_count": 9,
   "id": "dc1d8846-0ef3-4259-afaa-8ae44c102f85",
   "metadata": {
    "tags": []
   },
   "outputs": [
    {
     "name": "stderr",
     "output_type": "stream",
     "text": [
      "  0%|                                                                                           | 0/500 [00:00<?, ?it/s]/usr/local/lib/python3.8/dist-packages/torch/functional.py:504: UserWarning: torch.meshgrid: in an upcoming release, it will be required to pass the indexing argument. (Triggered internally at ../aten/src/ATen/native/TensorShape.cpp:3483.)\n",
      "  return _VF.meshgrid(tensors, **kwargs)  # type: ignore[attr-defined]\n",
      "100%|█████████████████████████████████████████████████████████████████████████████████| 500/500 [03:35<00:00,  2.32it/s]\n"
     ]
    }
   ],
   "source": [
    "results = test(model, test_loader, device)"
   ]
  },
  {
   "cell_type": "code",
   "execution_count": 11,
   "id": "2dec66d1-7264-45d8-ab98-2a5a97d1223e",
   "metadata": {
    "tags": []
   },
   "outputs": [],
   "source": [
    "name = \"GMFlow + dense\"\n",
    "metrics[name] = {\n",
    "    'R_angle_distances': rotation_angle_distance_batch(results['R_gt'], results['R']),\n",
    "    't_angle_distances': vector_angle_distance_batch(results['t_gt'], results['t']),\n",
    "    't_distances_l1': norm(results['t_gt'] - results['t'], ord=1, axis=1),\n",
    "    'R_gt_distances': rotation_angle_distance_batch(results['R_gt'], np.tile(np.eye(3, 3), (results['R_gt'].shape[0], 1, 1))),\n",
    "    't_gt_distances': norm(results['t_gt'], ord=1, axis=1)\n",
    "}"
   ]
  },
  {
   "cell_type": "code",
   "execution_count": 12,
   "id": "4c32cad1-2452-4135-bafe-c7f28a54575d",
   "metadata": {
    "tags": []
   },
   "outputs": [
    {
     "name": "stdout",
     "output_type": "stream",
     "text": [
      "mAA 5 rotation       0.0587\n",
      "mAA 10 rotation      0.1770\n",
      "mAA 20 rotation      0.3631\n"
     ]
    }
   ],
   "source": [
    "print(f'{\"mAA 5 rotation\":<20} {mAA(metrics[name][\"R_angle_distances\"], metrics[name][\"R_angle_distances\"], thresh=5, N=10000):.4f}')\n",
    "print(f'{\"mAA 10 rotation\":<20} {mAA(metrics[name][\"R_angle_distances\"], metrics[name][\"R_angle_distances\"], thresh=10, N=10000):.4f}')\n",
    "print(f'{\"mAA 20 rotation\":<20} {mAA(metrics[name][\"R_angle_distances\"], metrics[name][\"R_angle_distances\"], thresh=20, N=10000):.4f}')"
   ]
  },
  {
   "cell_type": "markdown",
   "id": "b19c43c9-c18d-4e5a-9c45-e3139331fd9b",
   "metadata": {},
   "source": [
    "### 1.2 GMFlow + conf + dense"
   ]
  },
  {
   "cell_type": "code",
   "execution_count": 13,
   "id": "0bd8fd1f-07e9-4cd9-8d4d-8465adc916d5",
   "metadata": {
    "tags": []
   },
   "outputs": [],
   "source": [
    "checkpoint = load_checkpoint('/home/project/code/src/weights/3_gmflow_dense_with_conf_part2_2.pth', device)\n",
    "model = GMflowDensePose(conf_module=True)\n",
    "model.load_state_dict(checkpoint['model'])\n",
    "model.to(device);"
   ]
  },
  {
   "cell_type": "code",
   "execution_count": 14,
   "id": "09e06852-c222-4407-97c5-4edadb7a0d40",
   "metadata": {
    "tags": []
   },
   "outputs": [
    {
     "name": "stderr",
     "output_type": "stream",
     "text": [
      "100%|█████████████████████████████████████████████████████████████████████████████████| 500/500 [03:21<00:00,  2.48it/s]\n"
     ]
    }
   ],
   "source": [
    "results = test(model, test_loader, device)"
   ]
  },
  {
   "cell_type": "code",
   "execution_count": 16,
   "id": "5c448212-8030-47d8-8467-7bd0bef8b240",
   "metadata": {
    "tags": []
   },
   "outputs": [],
   "source": [
    "name = \"GMFlow + conf.module + dense\"\n",
    "metrics[name] = {\n",
    "    'R_angle_distances': rotation_angle_distance_batch(results['R_gt'], results['R']),\n",
    "    't_angle_distances': vector_angle_distance_batch(results['t_gt'], results['t']),\n",
    "    't_distances_l1': norm(results['t_gt'] - results['t'], ord=1, axis=1),\n",
    "    'R_gt_distances': rotation_angle_distance_batch(results['R_gt'], np.tile(np.eye(3, 3), (results['R_gt'].shape[0], 1, 1))),\n",
    "    't_gt_distances': norm(results['t_gt'], ord=1, axis=1)\n",
    "}"
   ]
  },
  {
   "cell_type": "code",
   "execution_count": 17,
   "id": "666b7fec-4437-444d-a6c5-ef56822ffc30",
   "metadata": {
    "tags": []
   },
   "outputs": [
    {
     "name": "stdout",
     "output_type": "stream",
     "text": [
      "mAA 5 rotation       0.0459\n",
      "mAA 10 rotation      0.1561\n",
      "mAA 20 rotation      0.3382\n"
     ]
    }
   ],
   "source": [
    "print(f'{\"mAA 5 rotation\":<20} {mAA(metrics[name][\"R_angle_distances\"], metrics[name][\"R_angle_distances\"], thresh=5, N=10000):.4f}')\n",
    "print(f'{\"mAA 10 rotation\":<20} {mAA(metrics[name][\"R_angle_distances\"], metrics[name][\"R_angle_distances\"], thresh=10, N=10000):.4f}')\n",
    "print(f'{\"mAA 20 rotation\":<20} {mAA(metrics[name][\"R_angle_distances\"], metrics[name][\"R_angle_distances\"], thresh=20, N=10000):.4f}')"
   ]
  },
  {
   "cell_type": "markdown",
   "id": "554bd033-7759-4e98-83e3-5637e79d54b7",
   "metadata": {},
   "source": [
    "### 1.3 GMFlow + dense + l2"
   ]
  },
  {
   "cell_type": "code",
   "execution_count": 27,
   "id": "3d26af8c-15e9-454d-b5d8-2607da44f907",
   "metadata": {
    "tags": []
   },
   "outputs": [],
   "source": [
    "checkpoint = load_checkpoint('/home/project/code/src/weights/6_gmflow_dense_wo_conf_l2_3channels_4.pth', device)\n",
    "model = GMflowDensePose(init_loss_weights=[0.0, 3.0, 0.0])\n",
    "model.load_state_dict(checkpoint['model'])\n",
    "model.to(device);"
   ]
  },
  {
   "cell_type": "code",
   "execution_count": 28,
   "id": "5a4f2d89-cede-4c6a-882b-5b21ba8523f8",
   "metadata": {
    "tags": []
   },
   "outputs": [
    {
     "name": "stderr",
     "output_type": "stream",
     "text": [
      "100%|█████████████████████████████████████████████████████████████████████████████████| 500/500 [03:20<00:00,  2.49it/s]\n"
     ]
    }
   ],
   "source": [
    "results = test(model, test_loader, device)"
   ]
  },
  {
   "cell_type": "code",
   "execution_count": 29,
   "id": "5a53a7da-be40-43bc-a386-8f60c76d3761",
   "metadata": {
    "tags": []
   },
   "outputs": [],
   "source": [
    "name = \"GMFlow + dense + l2\"\n",
    "metrics[name] = {\n",
    "    'R_angle_distances': rotation_angle_distance_batch(results['R_gt'], results['R']),\n",
    "    't_angle_distances': vector_angle_distance_batch(results['t_gt'], results['t']),\n",
    "    't_distances_l1': norm(results['t_gt'] - results['t'], ord=1, axis=1),\n",
    "    'R_gt_distances': rotation_angle_distance_batch(results['R_gt'], np.tile(np.eye(3, 3), (results['R_gt'].shape[0], 1, 1))),\n",
    "    't_gt_distances': norm(results['t_gt'], ord=1, axis=1)\n",
    "}"
   ]
  },
  {
   "cell_type": "code",
   "execution_count": 30,
   "id": "ebc30884-7b27-4223-a98c-a61ef33eb125",
   "metadata": {
    "tags": []
   },
   "outputs": [
    {
     "name": "stdout",
     "output_type": "stream",
     "text": [
      "mAA 5 rotation       0.0666\n",
      "mAA 10 rotation      0.1833\n",
      "mAA 20 rotation      0.3613\n"
     ]
    }
   ],
   "source": [
    "print(f'{\"mAA 5 rotation\":<20} {mAA(metrics[name][\"R_angle_distances\"], metrics[name][\"R_angle_distances\"], thresh=5, N=10000):.4f}')\n",
    "print(f'{\"mAA 10 rotation\":<20} {mAA(metrics[name][\"R_angle_distances\"], metrics[name][\"R_angle_distances\"], thresh=10, N=10000):.4f}')\n",
    "print(f'{\"mAA 20 rotation\":<20} {mAA(metrics[name][\"R_angle_distances\"], metrics[name][\"R_angle_distances\"], thresh=20, N=10000):.4f}')"
   ]
  },
  {
   "cell_type": "markdown",
   "id": "8ac2d98a-2e51-4556-b026-fef1d39e0fc3",
   "metadata": {},
   "source": [
    "### 1.4 GMFLow + conf + F.est"
   ]
  },
  {
   "cell_type": "code",
   "execution_count": 11,
   "id": "43f1f06d-fece-4212-a51e-79627266d36d",
   "metadata": {
    "tags": []
   },
   "outputs": [],
   "source": [
    "checkpoint = load_checkpoint('/home/project/code/src/weights/4_gmflow_with_conf_and_essential_4.pth', device)\n",
    "model = GMFlowEssential()\n",
    "model.load_state_dict(checkpoint['model'])\n",
    "model.to(device);"
   ]
  },
  {
   "cell_type": "code",
   "execution_count": 23,
   "id": "13581445-1b7e-42c0-ac99-423c062b7687",
   "metadata": {
    "tags": []
   },
   "outputs": [
    {
     "name": "stderr",
     "output_type": "stream",
     "text": [
      "100%|█████████████████████████████████████████████████████████████████████████████████████████████████████████████████████| 500/500 [03:27<00:00,  2.41it/s]\n"
     ]
    }
   ],
   "source": [
    "results = test_ess(model, test_loader, device)"
   ]
  },
  {
   "cell_type": "code",
   "execution_count": 36,
   "id": "d1b85897-37ae-4e01-8d16-083a05f19d12",
   "metadata": {
    "tags": []
   },
   "outputs": [],
   "source": [
    "angle_distance = np.minimum(rotation_angle_distance_batch(results['R_gt'], results['R1']), rotation_angle_distance_batch(results['R_gt'], results['R2']))\n",
    "t_angle_distance = np.minimum(vector_angle_distance_batch(results['t_gt'], results['t']), vector_angle_distance_batch(results['t_gt'], -results['t']))"
   ]
  },
  {
   "cell_type": "code",
   "execution_count": 40,
   "id": "09db60cb-bba5-4836-81ef-6a9c23b7fcd5",
   "metadata": {
    "tags": []
   },
   "outputs": [
    {
     "name": "stdout",
     "output_type": "stream",
     "text": [
      "mAA 5 rotation       0.0000\n",
      "mAA 10 rotation      0.0000\n",
      "mAA 20 rotation      0.0000\n"
     ]
    }
   ],
   "source": [
    "print(f'{\"mAA 5 rotation\":<20} {mAA(angle_distance, t_angle_distance, thresh=5, N=10000):.4f}')\n",
    "print(f'{\"mAA 10 rotation\":<20} {mAA(angle_distance, t_angle_distance, thresh=10, N=10000):.4f}')\n",
    "print(f'{\"mAA 20 rotation\":<20} {mAA(angle_distance, t_angle_distance, thresh=20, N=10000):.4f}')"
   ]
  },
  {
   "cell_type": "markdown",
   "id": "9f1c6c87-02a6-425d-ad31-5c533b511af3",
   "metadata": {},
   "source": [
    "#### Saving metrics"
   ]
  },
  {
   "cell_type": "code",
   "execution_count": 120,
   "id": "d641089f-2eb9-4135-81e1-19bdec795063",
   "metadata": {},
   "outputs": [],
   "source": [
    "with open('metrics', 'wb') as f:\n",
    "    pickle.dump(metrics, f)"
   ]
  },
  {
   "cell_type": "markdown",
   "id": "aee68faf-cf0c-4a93-ba76-29bd7f14b60c",
   "metadata": {},
   "source": [
    "# Plots"
   ]
  },
  {
   "cell_type": "code",
   "execution_count": 7,
   "id": "d2540881-f539-441c-af65-74ccc8e8b8e7",
   "metadata": {
    "tags": []
   },
   "outputs": [],
   "source": [
    "plt.style.use('default')\n",
    "\n",
    "rc('text', usetex=True)\n",
    "\n",
    "SMALL_SIZE = 8\n",
    "MEDIUM_SIZE = 10\n",
    "BIGGER_SIZE = 12\n",
    "\n",
    "rc('font', size=MEDIUM_SIZE)          # controls default text sizes\n",
    "rc('axes', titlesize=MEDIUM_SIZE)     # fontsize of the axes title\n",
    "rc('axes', labelsize=MEDIUM_SIZE)    # fontsize of the x and y labels\n",
    "rc('xtick', labelsize=MEDIUM_SIZE)    # fontsize of the tick labels\n",
    "rc('ytick', labelsize=MEDIUM_SIZE)    # fontsize of the tick labels\n",
    "rc('legend', fontsize=MEDIUM_SIZE)    # legend fontsize\n",
    "rc('figure', titlesize=BIGGER_SIZE)  # fontsize of the figure title\n"
   ]
  },
  {
   "cell_type": "code",
   "execution_count": 8,
   "id": "49270898-fa2e-4300-9e8b-598017b92039",
   "metadata": {
    "tags": []
   },
   "outputs": [],
   "source": [
    "def calculate_metric_on_subset(metric_values, values_dependent_on, agg_func, thresholds, sign):\n",
    "    thresholds_ = thresholds[:, None]\n",
    "    if sign == '>':\n",
    "        inliers_bool = values_dependent_on > thresholds_\n",
    "    else:\n",
    "        inliers_bool = values_dependent_on <= thresholds_\n",
    "    scores = np.array([agg_func(metric_values[subset]) for subset in inliers_bool])\n",
    "    return scores"
   ]
  },
  {
   "cell_type": "code",
   "execution_count": 12,
   "id": "17f404d4-bec9-4c64-9854-682ba7c867e0",
   "metadata": {
    "tags": []
   },
   "outputs": [
    {
     "data": {
      "text/plain": [
       "dict_keys(['R_angle_distances', 't_angle_distances', 't_distance_l1', 'R_gt_distance', 't_gt_distacne', 'R_gt_distances', 't_gt_distances'])"
      ]
     },
     "execution_count": 12,
     "metadata": {},
     "output_type": "execute_result"
    }
   ],
   "source": [
    "metrics['GMFlow + dense'].keys()"
   ]
  },
  {
   "cell_type": "code",
   "execution_count": 10,
   "id": "b3f3e06a-c054-44bf-ae0b-a2ee07e22423",
   "metadata": {
    "tags": []
   },
   "outputs": [
    {
     "ename": "KeyError",
     "evalue": "'t_distances_l2'",
     "output_type": "error",
     "traceback": [
      "\u001b[0;31m---------------------------------------------------------------------------\u001b[0m",
      "\u001b[0;31mKeyError\u001b[0m                                  Traceback (most recent call last)",
      "Cell \u001b[0;32mIn[10], line 13\u001b[0m\n\u001b[1;32m     10\u001b[0m \u001b[38;5;28;01mfor\u001b[39;00m exp, m \u001b[38;5;129;01min\u001b[39;00m metrics\u001b[38;5;241m.\u001b[39mitems():\n\u001b[1;32m     11\u001b[0m     sns\u001b[38;5;241m.\u001b[39mecdfplot(x\u001b[38;5;241m=\u001b[39mm[\u001b[38;5;124m'\u001b[39m\u001b[38;5;124mR_angle_distances\u001b[39m\u001b[38;5;124m'\u001b[39m], complementary\u001b[38;5;241m=\u001b[39m\u001b[38;5;28;01mFalse\u001b[39;00m, ax\u001b[38;5;241m=\u001b[39max[\u001b[38;5;241m0\u001b[39m,\u001b[38;5;241m0\u001b[39m], c\u001b[38;5;241m=\u001b[39mexp_colors[exp], linewidth\u001b[38;5;241m=\u001b[39m\u001b[38;5;241m1\u001b[39m)    \n\u001b[0;32m---> 13\u001b[0m     sns\u001b[38;5;241m.\u001b[39mecdfplot(x\u001b[38;5;241m=\u001b[39m\u001b[43mm\u001b[49m\u001b[43m[\u001b[49m\u001b[38;5;124;43m'\u001b[39;49m\u001b[38;5;124;43mt_distances_l2\u001b[39;49m\u001b[38;5;124;43m'\u001b[39;49m\u001b[43m]\u001b[49m, complementary\u001b[38;5;241m=\u001b[39m\u001b[38;5;28;01mFalse\u001b[39;00m, ax\u001b[38;5;241m=\u001b[39max[\u001b[38;5;241m0\u001b[39m,\u001b[38;5;241m1\u001b[39m], c\u001b[38;5;241m=\u001b[39mexp_colors[exp], linewidth\u001b[38;5;241m=\u001b[39m\u001b[38;5;241m1\u001b[39m, log_scale\u001b[38;5;241m=\u001b[39m\u001b[38;5;28;01mFalse\u001b[39;00m)\n\u001b[1;32m     15\u001b[0m     R_on_gt \u001b[38;5;241m=\u001b[39m calculate_metric_on_subset(\n\u001b[1;32m     16\u001b[0m         m[\u001b[38;5;124m'\u001b[39m\u001b[38;5;124mR_angle_distances\u001b[39m\u001b[38;5;124m'\u001b[39m], m[\u001b[38;5;124m'\u001b[39m\u001b[38;5;124mR_gt_distances\u001b[39m\u001b[38;5;124m'\u001b[39m], np\u001b[38;5;241m.\u001b[39mmean, np\u001b[38;5;241m.\u001b[39mlinspace(\u001b[38;5;241m0\u001b[39m, \u001b[38;5;241m180\u001b[39m, \u001b[38;5;241m180\u001b[39m), \u001b[38;5;124m'\u001b[39m\u001b[38;5;124m<\u001b[39m\u001b[38;5;124m'\u001b[39m)\n\u001b[1;32m     17\u001b[0m     R_on_gt[np\u001b[38;5;241m.\u001b[39misnan(R_on_gt)] \u001b[38;5;241m=\u001b[39m \u001b[38;5;241m0\u001b[39m\n",
      "\u001b[0;31mKeyError\u001b[0m: 't_distances_l2'"
     ]
    },
    {
     "data": {
      "image/png": "[encoded data removed]",
      "text/plain": [
       "<Figure size 1000x800 with 4 Axes>"
      ]
     },
     "metadata": {},
     "output_type": "display_data"
    }
   ],
   "source": [
    "fig, ax = plt.subplots(2, 2, figsize=(10, 8))\n",
    "\n",
    "colors = ['b', 'darkorange' ,'g', '#8B008B',\n",
    "          '#A52A2A','#FFC0CB','#808080','#556B2F','#00FFFF',\n",
    "         '#FF00FF','#32CD32','#008080','#E6E6FA',\n",
    "         '#D2B48C','#FA8072','#FFD700', '#000080']\n",
    "\n",
    "exp_colors = {exp: col for  exp, col in zip(metrics.keys(), colors)}\n",
    "\n",
    "for exp, m in metrics.items():\n",
    "    sns.ecdfplot(x=m['R_angle_distances'], complementary=False, ax=ax[0,0], c=exp_colors[exp], linewidth=1)    \n",
    "\n",
    "    sns.ecdfplot(x=m['t_distances_l2'], complementary=False, ax=ax[0,1], c=exp_colors[exp], linewidth=1, log_scale=False)\n",
    "\n",
    "    R_on_gt = calculate_metric_on_subset(\n",
    "        m['R_angle_distances'], m['R_gt_distances'], np.mean, np.linspace(0, 180, 180), '<')\n",
    "    R_on_gt[np.isnan(R_on_gt)] = 0\n",
    "    ax[1, 0].plot(np.linspace(0, 180, 180), R_on_gt, label=exp, c=exp_colors[exp], linewidth=1)\n",
    "    \n",
    "    t_on_gt = calculate_metric_on_subset(\n",
    "        m['t_distances_l2'], m['t_gt_distances'], np.mean, np.linspace(0, 6.66, 100), '<')\n",
    "    t_on_gt[np.isnan(t_on_gt)] = 0\n",
    "    ax[1, 1].plot(np.linspace(0, 6.66, 100), t_on_gt, c=exp_colors[exp], linewidth=1)\n",
    "\n",
    "    \n",
    "    \n",
    "ax[0, 0].set_xlim([0., 50.])\n",
    "ax[0, 0].set_xticks(np.linspace(0, 50, 11, dtype='int'))\n",
    "ax[0, 0].set_yticks(np.linspace(0, 1, 11))\n",
    "ax[0, 0].set_ylabel('Fraction of observations')\n",
    "ax[0, 0].set_xlabel('Angle error, degrees')\n",
    "ax[0, 0].set_title('CDF of angle error')\n",
    "ax[0, 0].grid(alpha=0.5)\n",
    "\n",
    "\n",
    "ax[0, 1].set_xlim([0., 3.])\n",
    "ax[0, 1].set_yticks(np.linspace(0, 1, 11))\n",
    "ax[0, 1].set_ylabel('Fraction of observations')\n",
    "ax[0, 1].set_xlabel('$\\|t_{gt} - t\\|_2$, meters')\n",
    "ax[0, 1].set_title('CDF of translation error')\n",
    "ax[0, 1].grid(alpha=0.5)\n",
    "\n",
    "\n",
    "n_bins = 100 # number of bins for histogram calculation \n",
    "counts, bin_edges = np.histogram(np.sort(m['R_gt_distances']), bins=n_bins)\n",
    "cdf_values = np.cumsum(counts) / len(m['R_gt_distances'])\n",
    "bin_centers = (bin_edges[1:] + bin_edges[:-1]) / 2.\n",
    "ax_10 = ax[1, 0].twinx() # create secondary axis with shared x-axis  \n",
    "ax_10.step(bin_centers,cdf_values,'r', label='Fraction of observations')\n",
    "ax_10.set_ylabel('Fraction of observations')\n",
    "ax_10.set_yticks(np.linspace(0, 1, 11))\n",
    "ax_10.grid(alpha=0.5)\n",
    "ax[1, 0].set_xlabel('Ground-truth rotation distance $<$ than, degrees')\n",
    "ax[1, 0].set_ylabel('Mean error, degrees')\n",
    "ax[1, 0].set_title('Dependence of mean angle error on \\n ground-truth rotation distance')\n",
    "ax[1, 0].grid(axis='x', alpha=0.5)\n",
    "\n",
    "n_bins = 100 # number of bins for histogram calculation \n",
    "counts, bin_edges = np.histogram(np.sort(m['t_gt_distances']), bins=n_bins)\n",
    "cdf_values = np.cumsum(counts) / len(m['t_gt_distances'])\n",
    "bin_centers = (bin_edges[1:] + bin_edges[:-1]) / 2.\n",
    "ax_11 = ax[1, 1].twinx() # create secondary axis with shared x-axis  \n",
    "ax_11.step(bin_centers, cdf_values, 'r', label='Fraction of observations')\n",
    "ax_11.set_ylabel('Fraction of observations')\n",
    "ax_11.set_yticks(np.linspace(0, 1, 11))\n",
    "ax_11.grid(alpha=0.5)\n",
    "ax[1, 1].set_xticks(np.linspace(0, 6.5, 14))\n",
    "ax[1, 1].set_yticks(np.linspace(0, 0.9, 10))\n",
    "ax[1, 1].set_xlabel('Ground-truth $l_2$ distance $<$ than, meters')\n",
    "ax[1, 1].set_ylabel('Mean error, meters')\n",
    "ax[1, 1].set_title('Dependence of mean translation error on \\n ground-truth $l_2$ distance')\n",
    "ax[1, 1].grid(axis='x', alpha=0.5)\n",
    "\n",
    "\n",
    "handles, labels = ax[1, 0].get_legend_handles_labels()\n",
    "handles.extend(ax_11.get_legend_handles_labels()[0])\n",
    "labels.extend(ax_11.get_legend_handles_labels()[1])\n",
    "fig.legend(handles, labels, bbox_to_anchor=(.9, 0), borderaxespad=0.0, ncol=2)\n",
    "fig.tight_layout()\n",
    "plt.savefig('/home/project/code/results/images/scannet_cdfs_gmflow.pdf', bbox_inches='tight')"
   ]
  },
  {
   "cell_type": "code",
   "execution_count": null,
   "id": "b62a6fe4-ef03-4c16-b9ec-0fa0c6db0002",
   "metadata": {},
   "outputs": [],
   "source": []
  },
  {
   "cell_type": "code",
   "execution_count": null,
   "id": "edd010ed-52a1-438f-aa88-86c0277523bb",
   "metadata": {},
   "outputs": [],
   "source": []
  },
  {
   "cell_type": "code",
   "execution_count": null,
   "id": "e0d50a13-8dc6-4fd7-9396-6f5b01966fe7",
   "metadata": {},
   "outputs": [],
   "source": []
  }
 ],
 "metadata": {
  "kernelspec": {
   "display_name": "Python 3 (ipykernel)",
   "language": "python",
   "name": "python3"
  },
  "language_info": {
   "codemirror_mode": {
    "name": "ipython",
    "version": 3
   },
   "file_extension": ".py",
   "mimetype": "text/x-python",
   "name": "python",
   "nbconvert_exporter": "python",
   "pygments_lexer": "ipython3",
   "version": "3.8.10"
  }
 },
 "nbformat": 4,
 "nbformat_minor": 5
}
