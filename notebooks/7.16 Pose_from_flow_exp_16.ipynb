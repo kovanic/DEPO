{
 "cells": [
  {
   "cell_type": "markdown",
   "id": "92c36880-8c2c-4bc2-98ac-3038f0846728",
   "metadata": {},
   "source": [
    "The 13th experiment, but first convolution was changed to ASPP block"
   ]
  },
  {
   "cell_type": "code",
   "execution_count": 1,
   "id": "4f13918e-7760-4a5b-bcf2-cbf6648d2c0b",
   "metadata": {
    "tags": []
   },
   "outputs": [],
   "source": [
    "%load_ext autoreload\n",
    "%autoreload 2"
   ]
  },
  {
   "cell_type": "code",
   "execution_count": 2,
   "id": "7e22089f-68c0-45ac-bf90-da50b8e39c5f",
   "metadata": {
    "tags": []
   },
   "outputs": [],
   "source": [
    "import sys\n",
    "sys.path.append('../src')"
   ]
  },
  {
   "cell_type": "code",
   "execution_count": 3,
   "id": "f015570c-5bd0-47d2-9d14-1082300eb57a",
   "metadata": {
    "tags": []
   },
   "outputs": [
    {
     "name": "stderr",
     "output_type": "stream",
     "text": [
      "/usr/local/lib/python3.8/dist-packages/tqdm/auto.py:21: TqdmWarning: IProgress not found. Please update jupyter and ipywidgets. See https://ipywidgets.readthedocs.io/en/stable/user_install.html\n",
      "  from .autonotebook import tqdm as notebook_tqdm\n"
     ]
    }
   ],
   "source": [
    "import torch\n",
    "from torch.utils.data import DataLoader\n",
    "\n",
    "from flow_regressors.flow_dataset import FlowDataset\n",
    "from flow_regressors.regressors import DensePoseRegressorV9\n",
    "\n",
    "from training.train_flow import train\n",
    "from training.loss_pose import LossPose\n",
    "\n",
    "from tqdm.auto import tqdm"
   ]
  },
  {
   "cell_type": "markdown",
   "id": "ec3b3e27-42d7-4948-9e6d-fe9bcb57660c",
   "metadata": {},
   "source": [
    "### 1. Data"
   ]
  },
  {
   "cell_type": "code",
   "execution_count": 4,
   "id": "e9e56e90-0f59-4783-983f-285908579fb8",
   "metadata": {
    "tags": []
   },
   "outputs": [],
   "source": [
    "train_data = FlowDataset(\n",
    "    root_path='/home/project/data_sample/flow/train',\n",
    "    intrinsics_path='/home/project/ScanNet/scannet_indices/intrinsics.npz'\n",
    "    )\n",
    "\n",
    "train_loader = DataLoader(train_data, batch_size=80, shuffle=True, drop_last=True, pin_memory=True, num_workers=0)\n",
    "\n",
    "val_data = FlowDataset(\n",
    "    root_path='/home/project/data_sample/flow/val',\n",
    "    intrinsics_path='/home/project/ScanNet/scannet_indices/intrinsics.npz'\n",
    "    )\n",
    "\n",
    "val_loader = DataLoader(val_data, batch_size=80, shuffle=False, drop_last=False, pin_memory=True, num_workers=0)"
   ]
  },
  {
   "cell_type": "markdown",
   "id": "e65a073e-ede2-42d1-a318-f555c64cf0e1",
   "metadata": {},
   "source": [
    "### 2. Configuration"
   ]
  },
  {
   "cell_type": "code",
   "execution_count": 5,
   "id": "71c19557-48de-4b50-8395-acef29081c50",
   "metadata": {
    "tags": []
   },
   "outputs": [],
   "source": [
    "torch.backends.cuda.matmul.allow_tf32 = False\n",
    "torch.backends.cudnn.allow_tf32 = False\n",
    "\n",
    "config = dict(\n",
    "    general = dict(\n",
    "        experiment_name='FLOW_TO_POSE_EXP_16',\n",
    "        device=torch.device('cuda:0' if torch.cuda.is_available() else 'cpu'),\n",
    "        \n",
    "        n_epochs=10,\n",
    "        n_steps_per_epoch=len(train_loader.dataset) // train_loader.batch_size,\n",
    "        n_accum_steps=1,\n",
    "        batch_size=train_loader.batch_size,\n",
    "        \n",
    "        swa=False,\n",
    "        n_epochs_swa=None,\n",
    "        n_steps_between_swa_updates=None,\n",
    "          \n",
    "        repeat_val_epoch=1,\n",
    "        repeat_save_epoch=5,\n",
    "          \n",
    "        model_save_path='../src/weights/FLOW_TO_POSE_EXP_16'\n",
    "    )\n",
    ")"
   ]
  },
  {
   "cell_type": "markdown",
   "id": "ed2f9fd5-e251-42e3-9067-b797eececdfd",
   "metadata": {},
   "source": [
    "### 3. Model"
   ]
  },
  {
   "cell_type": "code",
   "execution_count": 6,
   "id": "3a7e605a-5b10-4c6a-a6d9-6cfb5529d1a9",
   "metadata": {
    "tags": []
   },
   "outputs": [],
   "source": [
    "# Inference on (120, 160) input:\n",
    "\n",
    "model = DensePoseRegressorV9(init_loss_weights=[0.0, -3.0, 0.0])\n",
    "model.to(config['general']['device']);"
   ]
  },
  {
   "cell_type": "code",
   "execution_count": 7,
   "id": "2b4ba3ed-89f4-4fd7-9635-124f8c5c5961",
   "metadata": {
    "tags": []
   },
   "outputs": [],
   "source": [
    "# data = train_data[0]\n",
    "# data['flow'] = torch.from_numpy(data['flow']).cuda().unsqueeze(0) \n",
    "# data['K_q'] = torch.from_numpy(data['K_q']).cuda().unsqueeze(0) \n",
    "# data['K_s'] = torch.from_numpy(data['K_s']).cuda().unsqueeze(0) \n",
    "# model.eval();"
   ]
  },
  {
   "cell_type": "code",
   "execution_count": 8,
   "id": "021590db-695e-4938-84ea-235b77b155d8",
   "metadata": {
    "tags": []
   },
   "outputs": [],
   "source": [
    "# %%timeit\n",
    "\n",
    "# with torch.no_grad():\n",
    "#     q, t = model(\n",
    "#         data['flow'], data['K_q'], data['K_s'], (0.25, 0.25), (0.25, 0.25)\n",
    "#        )"
   ]
  },
  {
   "cell_type": "markdown",
   "id": "2f9231c9-a661-4169-b7ea-329fd21f870d",
   "metadata": {},
   "source": [
    "### 4. Loss, optimizer, scheduler"
   ]
  },
  {
   "cell_type": "code",
   "execution_count": 9,
   "id": "7b6e7aa3-8426-450b-a611-ab05ebb86468",
   "metadata": {},
   "outputs": [],
   "source": [
    "train_loss = LossPose(agg_type='mean')\n",
    "val_loss = LossPose()"
   ]
  },
  {
   "cell_type": "code",
   "execution_count": 10,
   "id": "0404e842-ad97-4ac7-a2e1-51af0b9a71f6",
   "metadata": {
    "tags": []
   },
   "outputs": [],
   "source": [
    "optimizer = torch.optim.AdamW(model.parameters(), lr=1e-4, weight_decay=1e-6)\n",
    "config['optimizer'] = optimizer.__dict__['defaults']"
   ]
  },
  {
   "cell_type": "code",
   "execution_count": 11,
   "id": "ecaedfe6-d3a2-41b5-ba94-c2ad90bc3f35",
   "metadata": {
    "tags": []
   },
   "outputs": [],
   "source": [
    "scheduler = torch.optim.lr_scheduler.StepLR(optimizer,\n",
    "                   step_size=2,\n",
    "                   gamma=0.8)"
   ]
  },
  {
   "cell_type": "markdown",
   "id": "39b20ffe-caae-4cbd-9026-2f8f34a471f6",
   "metadata": {},
   "source": [
    "### 6. Experiment"
   ]
  },
  {
   "cell_type": "code",
   "execution_count": null,
   "id": "ca7e847c-0faa-4d04-ace8-03ee36794503",
   "metadata": {
    "tags": []
   },
   "outputs": [
    {
     "name": "stderr",
     "output_type": "stream",
     "text": [
      "\u001b[34m\u001b[1mwandb\u001b[0m: Currently logged in as: \u001b[33mkovanic\u001b[0m. Use \u001b[1m`wandb login --relogin`\u001b[0m to force relogin\n"
     ]
    },
    {
     "data": {
      "text/html": [
       "wandb version 0.15.1 is available!  To upgrade, please run:\n",
       " $ pip install wandb --upgrade"
      ],
      "text/plain": [
       "<IPython.core.display.HTML object>"
      ]
     },
     "metadata": {},
     "output_type": "display_data"
    },
    {
     "data": {
      "text/html": [
       "Tracking run with wandb version 0.14.0"
      ],
      "text/plain": [
       "<IPython.core.display.HTML object>"
      ]
     },
     "metadata": {},
     "output_type": "display_data"
    },
    {
     "data": {
      "text/html": [
       "Run data is saved locally in <code>/home/project/code/notebooks/wandb/run-20230505_100628-r92ruvu0</code>"
      ],
      "text/plain": [
       "<IPython.core.display.HTML object>"
      ]
     },
     "metadata": {},
     "output_type": "display_data"
    },
    {
     "data": {
      "text/html": [
       "Syncing run <strong><a href='https://wandb.ai/kovanic/Diploma/runs/r92ruvu0' target=\"_blank\">FLOW_TO_POSE_EXP_16</a></strong> to <a href='https://wandb.ai/kovanic/Diploma' target=\"_blank\">Weights & Biases</a> (<a href='https://wandb.me/run' target=\"_blank\">docs</a>)<br/>"
      ],
      "text/plain": [
       "<IPython.core.display.HTML object>"
      ]
     },
     "metadata": {},
     "output_type": "display_data"
    },
    {
     "data": {
      "text/html": [
       " View project at <a href='https://wandb.ai/kovanic/Diploma' target=\"_blank\">https://wandb.ai/kovanic/Diploma</a>"
      ],
      "text/plain": [
       "<IPython.core.display.HTML object>"
      ]
     },
     "metadata": {},
     "output_type": "display_data"
    },
    {
     "data": {
      "text/html": [
       " View run at <a href='https://wandb.ai/kovanic/Diploma/runs/r92ruvu0' target=\"_blank\">https://wandb.ai/kovanic/Diploma/runs/r92ruvu0</a>"
      ],
      "text/plain": [
       "<IPython.core.display.HTML object>"
      ]
     },
     "metadata": {},
     "output_type": "display_data"
    },
    {
     "name": "stderr",
     "output_type": "stream",
     "text": [
      "100%|███████████████████████████████████████████████████████████████████████████████████████████████████████████████████| 1241/1241 [22:04<00:00,  1.07s/it]\n",
      "100%|█████████████████████████████████████████████████████████████████████████████████████████████████████████████████████| 533/533 [05:52<00:00,  1.51it/s]\n"
     ]
    },
    {
     "name": "stdout",
     "output_type": "stream",
     "text": [
      "epoch 0: train loss=-9.959187431067441, val loss(q)=0.09935822039239671, val loss(t)=0.44940204976866704\n"
     ]
    },
    {
     "name": "stderr",
     "output_type": "stream",
     "text": [
      "100%|███████████████████████████████████████████████████████████████████████████████████████████████████████████████████| 1241/1241 [22:06<00:00,  1.07s/it]\n",
      "100%|█████████████████████████████████████████████████████████████████████████████████████████████████████████████████████| 533/533 [05:52<00:00,  1.51it/s]\n"
     ]
    },
    {
     "name": "stdout",
     "output_type": "stream",
     "text": [
      "epoch 1: train loss=-11.819368775278894, val loss(q)=0.08519965318033111, val loss(t)=0.3973937454202851\n"
     ]
    },
    {
     "name": "stderr",
     "output_type": "stream",
     "text": [
      "100%|███████████████████████████████████████████████████████████████████████████████████████████████████████████████████| 1241/1241 [22:06<00:00,  1.07s/it]\n",
      "100%|█████████████████████████████████████████████████████████████████████████████████████████████████████████████████████| 533/533 [05:52<00:00,  1.51it/s]\n"
     ]
    },
    {
     "name": "stdout",
     "output_type": "stream",
     "text": [
      "epoch 2: train loss=-12.98376739179628, val loss(q)=0.08196040142091986, val loss(t)=0.3785779208134515\n"
     ]
    },
    {
     "name": "stderr",
     "output_type": "stream",
     "text": [
      "100%|███████████████████████████████████████████████████████████████████████████████████████████████████████████████████| 1241/1241 [22:08<00:00,  1.07s/it]\n",
      "100%|█████████████████████████████████████████████████████████████████████████████████████████████████████████████████████| 533/533 [05:52<00:00,  1.51it/s]\n"
     ]
    },
    {
     "name": "stdout",
     "output_type": "stream",
     "text": [
      "epoch 3: train loss=-13.879299960643255, val loss(q)=0.07230652952740971, val loss(t)=0.35569639921674157\n"
     ]
    },
    {
     "name": "stderr",
     "output_type": "stream",
     "text": [
      "100%|███████████████████████████████████████████████████████████████████████████████████████████████████████████████████| 1241/1241 [22:06<00:00,  1.07s/it]\n",
      "100%|█████████████████████████████████████████████████████████████████████████████████████████████████████████████████████| 533/533 [05:53<00:00,  1.51it/s]\n"
     ]
    },
    {
     "name": "stdout",
     "output_type": "stream",
     "text": [
      "epoch 4: train loss=-14.763895731123199, val loss(q)=0.07154835441138095, val loss(t)=0.3521860386930105\n"
     ]
    },
    {
     "name": "stderr",
     "output_type": "stream",
     "text": [
      "100%|███████████████████████████████████████████████████████████████████████████████████████████████████████████████████| 1241/1241 [22:07<00:00,  1.07s/it]\n",
      "100%|█████████████████████████████████████████████████████████████████████████████████████████████████████████████████████| 533/533 [05:53<00:00,  1.51it/s]\n"
     ]
    },
    {
     "name": "stdout",
     "output_type": "stream",
     "text": [
      "epoch 5: train loss=-15.47466940835992, val loss(q)=0.07174248278097102, val loss(t)=0.3510239231877299\n"
     ]
    },
    {
     "name": "stderr",
     "output_type": "stream",
     "text": [
      "100%|███████████████████████████████████████████████████████████████████████████████████████████████████████████████████| 1241/1241 [22:07<00:00,  1.07s/it]\n",
      "100%|█████████████████████████████████████████████████████████████████████████████████████████████████████████████████████| 533/533 [05:52<00:00,  1.51it/s]\n"
     ]
    },
    {
     "name": "stdout",
     "output_type": "stream",
     "text": [
      "epoch 6: train loss=-16.186108030512308, val loss(q)=0.06610250849205787, val loss(t)=0.3272446438075068\n"
     ]
    },
    {
     "name": "stderr",
     "output_type": "stream",
     "text": [
      "100%|███████████████████████████████████████████████████████████████████████████████████████████████████████████████████| 1241/1241 [22:06<00:00,  1.07s/it]\n",
      "100%|█████████████████████████████████████████████████████████████████████████████████████████████████████████████████████| 533/533 [05:54<00:00,  1.50it/s]\n"
     ]
    },
    {
     "name": "stdout",
     "output_type": "stream",
     "text": [
      "epoch 7: train loss=-16.746912982785318, val loss(q)=0.06590670742429738, val loss(t)=0.3252693614200636\n"
     ]
    },
    {
     "name": "stderr",
     "output_type": "stream",
     "text": [
      " 31%|███████████████████████████████████▊                                                                                | 383/1241 [06:49<15:12,  1.06s/it]"
     ]
    }
   ],
   "source": [
    "train(model, optimizer, scheduler, train_loss, val_loss, train_loader, val_loader, config, **config['general'])"
   ]
  }
 ],
 "metadata": {
  "kernelspec": {
   "display_name": "Python 3 (ipykernel)",
   "language": "python",
   "name": "python3"
  },
  "language_info": {
   "codemirror_mode": {
    "name": "ipython",
    "version": 3
   },
   "file_extension": ".py",
   "mimetype": "text/x-python",
   "name": "python",
   "nbconvert_exporter": "python",
   "pygments_lexer": "ipython3",
   "version": "3.8.10"
  }
 },
 "nbformat": 4,
 "nbformat_minor": 5
}
