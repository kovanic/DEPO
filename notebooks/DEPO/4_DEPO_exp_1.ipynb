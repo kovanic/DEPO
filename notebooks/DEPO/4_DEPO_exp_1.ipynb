{
 "cells": [
  {
   "cell_type": "markdown",
   "id": "2ab9c26a-0b0e-4899-a274-ba01f01dbe2b",
   "metadata": {
    "tags": []
   },
   "source": [
    "### Exp 1\n",
    "\n",
    "Twins-PCPVT-L + QuadTree(B) + pose (deterministic)"
   ]
  },
  {
   "cell_type": "code",
   "execution_count": 1,
   "id": "8336d20d-54e8-409c-90bd-418339aaf4e7",
   "metadata": {
    "tags": []
   },
   "outputs": [],
   "source": [
    "%load_ext autoreload\n",
    "%autoreload 2"
   ]
  },
  {
   "cell_type": "code",
   "execution_count": 2,
   "id": "b87bc024-e818-418f-a5f8-b57b8fd4c218",
   "metadata": {
    "tags": []
   },
   "outputs": [],
   "source": [
    "import sys\n",
    "sys.path.append('../../src')"
   ]
  },
  {
   "cell_type": "code",
   "execution_count": 3,
   "id": "319dce6d-c8e2-4f2a-a836-34797394333a",
   "metadata": {
    "tags": []
   },
   "outputs": [
    {
     "name": "stderr",
     "output_type": "stream",
     "text": [
      "/usr/local/lib/python3.8/dist-packages/tqdm/auto.py:21: TqdmWarning: IProgress not found. Please update jupyter and ipywidgets. See https://ipywidgets.readthedocs.io/en/stable/user_install.html\n",
      "  from .autonotebook import tqdm as notebook_tqdm\n"
     ]
    }
   ],
   "source": [
    "import torch\n",
    "\n",
    "from torch.utils.data import DataLoader\n",
    "\n",
    "from data.scannet.utils_scannet import ScanNetDataset\n",
    "from DEPO.depo import depo_v1\n",
    "from training.train_depo_pose import train\n",
    "from training.loss_depo import LossPoseDetermininstic\n",
    "\n",
    "from transformers import get_scheduler"
   ]
  },
  {
   "cell_type": "markdown",
   "id": "7781fb26-35f8-43b2-94e7-b70b6b9eb2fb",
   "metadata": {
    "tags": []
   },
   "source": [
    "#### Data"
   ]
  },
  {
   "cell_type": "code",
   "execution_count": 4,
   "id": "18a18e0f-e3c6-41c9-ae43-bdce3addb399",
   "metadata": {
    "tags": []
   },
   "outputs": [],
   "source": [
    "train_data = ScanNetDataset(\n",
    "    root_dir='/home/project/data/scans/',\n",
    "    npz_path='/home/project/code/data/scannet_splits/smart_sample_train_ft.npz',\n",
    "    intrinsics_path='/home/project/ScanNet/scannet_indices/intrinsics.npz',\n",
    "    calculate_flow=True\n",
    ")\n",
    "\n",
    "train_loader = DataLoader(train_data, batch_size=64, shuffle=True, drop_last=True, pin_memory=True, num_workers=0)\n",
    "\n",
    "val_data = ScanNetDataset(\n",
    "    root_dir='/home/project/data/scans/',\n",
    "    npz_path='/home/project/code/data/scannet_splits/smart_sample_val.npz',\n",
    "    intrinsics_path='/home/project/ScanNet/scannet_indices/intrinsics.npz',\n",
    "    calculate_flow=True\n",
    ")\n",
    "\n",
    "val_loader = DataLoader(val_data, batch_size=64, shuffle=False, drop_last=False, pin_memory=True, num_workers=0)"
   ]
  },
  {
   "cell_type": "markdown",
   "id": "282493d3-ba87-429f-8a70-816282714c5d",
   "metadata": {},
   "source": [
    "#### Config"
   ]
  },
  {
   "cell_type": "code",
   "execution_count": 5,
   "id": "836ef7bc-2fde-46d9-855c-383f8de76e46",
   "metadata": {
    "tags": []
   },
   "outputs": [],
   "source": [
    "torch.backends.cuda.matmul.allow_tf32 = True\n",
    "torch.backends.cudnn.allow_tf32 = True\n",
    "\n",
    "config = dict(\n",
    "    experiment_name='DEPO_0',\n",
    "    device=torch.device('cuda:0' if torch.cuda.is_available() else 'cpu'),\n",
    "\n",
    "    n_epochs=10,\n",
    "    n_steps_per_epoch=len(train_loader.dataset) // train_loader.batch_size,\n",
    "    n_accum_steps=1,\n",
    "    batch_size=train_loader.batch_size,\n",
    "\n",
    "    swa=False,\n",
    "    n_epochs_swa=None,\n",
    "    n_steps_between_swa_updates=None,\n",
    "\n",
    "    repeat_val_epoch=1,\n",
    "    repeat_save_epoch=2,\n",
    "\n",
    "    model_save_path='../../src/weights/DEPO_0'\n",
    ")\n",
    "\n",
    "config['n_warmup_steps'] = int(config['n_steps_per_epoch'] * 0.5)"
   ]
  },
  {
   "cell_type": "markdown",
   "id": "8c60dd77-a302-4449-94e6-f1df9d4cd9b1",
   "metadata": {},
   "source": [
    "#### Model"
   ]
  },
  {
   "cell_type": "code",
   "execution_count": 6,
   "id": "31bdf0d7-42f9-4d73-a4ec-5f92f96ffe45",
   "metadata": {
    "tags": []
   },
   "outputs": [],
   "source": [
    "model = depo_v0().to(config['device'])\n",
    "\n",
    "for name, p in model.named_parameters():\n",
    "    if 'self_encoder' in name:\n",
    "        p.requires_grad = False\n",
    "    else:\n",
    "        p.requires_grad = True"
   ]
  },
  {
   "cell_type": "markdown",
   "id": "a1f93586-ea65-4ef8-b5bf-b9d73a2d04c4",
   "metadata": {
    "tags": []
   },
   "source": [
    "#### Loss & Optimizer & Scheduler"
   ]
  },
  {
   "cell_type": "code",
   "execution_count": 7,
   "id": "64af6fe6-50e3-449a-850f-fa7c4c2d90b7",
   "metadata": {
    "tags": []
   },
   "outputs": [],
   "source": [
    "val_loss = LossMixedDetermininstic(mode='val')\n",
    "train_loss = LossMixedDetermininstic(mode='train')"
   ]
  },
  {
   "cell_type": "code",
   "execution_count": 8,
   "id": "6d7fb856-86c0-4f36-ab4f-13e334825fae",
   "metadata": {
    "tags": []
   },
   "outputs": [],
   "source": [
    "optimizer = torch.optim.AdamW(model.parameters(), lr=3e-4, weight_decay=1e-6)"
   ]
  },
  {
   "cell_type": "code",
   "execution_count": 9,
   "id": "c36f7b7e-719b-4b4e-a6fc-c0959d6037c5",
   "metadata": {},
   "outputs": [],
   "source": [
    "scheduler = get_scheduler(\n",
    "    \"cosine\",    \n",
    "    optimizer=optimizer,\n",
    "    num_warmup_steps=config['n_warmup_steps'],\n",
    "    num_training_steps=config['n_steps_per_epoch'] * config['n_epochs']\n",
    ")"
   ]
  },
  {
   "cell_type": "markdown",
   "id": "a277733b-2356-45be-ac93-9de2d1933d1a",
   "metadata": {},
   "source": [
    "#### Train & val"
   ]
  },
  {
   "cell_type": "code",
   "execution_count": 10,
   "id": "32873ff1-67e8-4598-ab0e-9c4ba069d9ff",
   "metadata": {
    "tags": []
   },
   "outputs": [],
   "source": [
    "# data=next(iter(train_loader))\n",
    "# for key in data.keys():\n",
    "#     if key in ('image0', 'image1', 'K0', 'K1', 'flow_0to1', 'mask'):\n",
    "#         data[key] = data[key].to(config['device'])\n",
    "\n",
    "# B = data['image0'].size(0)\n",
    "# out = model(\n",
    "#     img_q=data['image0'], img_s=data['image1'],\n",
    "#     K_q=data['K0'], K_s=data['K1'],\n",
    "#     scales_q=0.125 * torch.ones((B, 2), device=config['device']),\n",
    "#     scales_s=0.125 * torch.ones((B, 2), device=config['device']),\n",
    "#     H=60, W=80)"
   ]
  },
  {
   "cell_type": "code",
   "execution_count": null,
   "id": "65ad928b-2f17-43d7-98ab-9b46a4c85d7f",
   "metadata": {
    "tags": []
   },
   "outputs": [
    {
     "name": "stderr",
     "output_type": "stream",
     "text": [
      "\u001b[34m\u001b[1mwandb\u001b[0m: Currently logged in as: \u001b[33mkovanic\u001b[0m. Use \u001b[1m`wandb login --relogin`\u001b[0m to force relogin\n"
     ]
    },
    {
     "data": {
      "text/html": [
       "wandb version 0.15.2 is available!  To upgrade, please run:\n",
       " $ pip install wandb --upgrade"
      ],
      "text/plain": [
       "<IPython.core.display.HTML object>"
      ]
     },
     "metadata": {},
     "output_type": "display_data"
    },
    {
     "data": {
      "text/html": [
       "Tracking run with wandb version 0.14.0"
      ],
      "text/plain": [
       "<IPython.core.display.HTML object>"
      ]
     },
     "metadata": {},
     "output_type": "display_data"
    },
    {
     "data": {
      "text/html": [
       "Run data is saved locally in <code>/home/project/code/notebooks/DEPO/wandb/run-20230514_195315-7l8mpak8</code>"
      ],
      "text/plain": [
       "<IPython.core.display.HTML object>"
      ]
     },
     "metadata": {},
     "output_type": "display_data"
    },
    {
     "data": {
      "text/html": [
       "Syncing run <strong><a href='https://wandb.ai/kovanic/Diploma/runs/7l8mpak8' target=\"_blank\">DEPO_0</a></strong> to <a href='https://wandb.ai/kovanic/Diploma' target=\"_blank\">Weights & Biases</a> (<a href='https://wandb.me/run' target=\"_blank\">docs</a>)<br/>"
      ],
      "text/plain": [
       "<IPython.core.display.HTML object>"
      ]
     },
     "metadata": {},
     "output_type": "display_data"
    },
    {
     "data": {
      "text/html": [
       " View project at <a href='https://wandb.ai/kovanic/Diploma' target=\"_blank\">https://wandb.ai/kovanic/Diploma</a>"
      ],
      "text/plain": [
       "<IPython.core.display.HTML object>"
      ]
     },
     "metadata": {},
     "output_type": "display_data"
    },
    {
     "data": {
      "text/html": [
       " View run at <a href='https://wandb.ai/kovanic/Diploma/runs/7l8mpak8' target=\"_blank\">https://wandb.ai/kovanic/Diploma/runs/7l8mpak8</a>"
      ],
      "text/plain": [
       "<IPython.core.display.HTML object>"
      ]
     },
     "metadata": {},
     "output_type": "display_data"
    },
    {
     "name": "stderr",
     "output_type": "stream",
     "text": [
      "  3%|███▍                                                                                                               | 46/1562 [06:59<3:50:35,  9.13s/it]"
     ]
    }
   ],
   "source": [
    "train(model, optimizer, scheduler, train_loss, val_loss, train_loader, val_loader, config, **config)"
   ]
  },
  {
   "cell_type": "code",
   "execution_count": null,
   "id": "80ce5341-b352-44aa-a86e-ad2d2e0e0d12",
   "metadata": {},
   "outputs": [],
   "source": []
  },
  {
   "cell_type": "code",
   "execution_count": null,
   "id": "f4741888-a47f-491b-a9a5-c54d128113cd",
   "metadata": {},
   "outputs": [],
   "source": []
  },
  {
   "cell_type": "code",
   "execution_count": null,
   "id": "22b8c778-7cfc-485d-b4cb-9f6defcf5a17",
   "metadata": {},
   "outputs": [],
   "source": []
  },
  {
   "cell_type": "code",
   "execution_count": null,
   "id": "9e2362fe-363e-4ae2-b199-39bfc8720e41",
   "metadata": {},
   "outputs": [],
   "source": []
  },
  {
   "cell_type": "markdown",
   "id": "4807c2f6-19b5-4ad7-afe0-6e23ff57d970",
   "metadata": {
    "tags": []
   },
   "source": [
    "### Exp 1\n",
    "\n",
    "Twins-PCPVT-L + QuadTree(B) + pose (deterministic)"
   ]
  },
  {
   "cell_type": "code",
   "execution_count": null,
   "id": "5233ac98-181e-4c18-aa30-f9785efdd6bf",
   "metadata": {
    "tags": []
   },
   "outputs": [],
   "source": [
    "# model = depo_v1().cuda()"
   ]
  },
  {
   "cell_type": "markdown",
   "id": "09b3c30e-d5dc-4f3a-a174-794b472115e9",
   "metadata": {
    "tags": []
   },
   "source": [
    "### Exp 2\n",
    "\n",
    "Twins-PCPVT-L + QuadTree(B) + flow -> pose (deterministic)"
   ]
  },
  {
   "cell_type": "code",
   "execution_count": null,
   "id": "ab840d36-3b86-4ece-bb06-82b8ed83ad28",
   "metadata": {
    "tags": []
   },
   "outputs": [],
   "source": [
    "# model = depo_v2().cuda()"
   ]
  },
  {
   "cell_type": "code",
   "execution_count": null,
   "id": "5f402d9a-b60d-46af-a965-03f8627dfca6",
   "metadata": {
    "tags": []
   },
   "outputs": [],
   "source": [
    "# torch.Tensor([1., 2.], device='cpu')"
   ]
  }
 ],
 "metadata": {
  "kernelspec": {
   "display_name": "Python 3 (ipykernel)",
   "language": "python",
   "name": "python3"
  },
  "language_info": {
   "codemirror_mode": {
    "name": "ipython",
    "version": 3
   },
   "file_extension": ".py",
   "mimetype": "text/x-python",
   "name": "python",
   "nbconvert_exporter": "python",
   "pygments_lexer": "ipython3",
   "version": "3.8.10"
  }
 },
 "nbformat": 4,
 "nbformat_minor": 5
}
