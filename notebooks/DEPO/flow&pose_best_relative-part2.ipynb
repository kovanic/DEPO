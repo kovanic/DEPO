{
 "cells": [
  {
   "cell_type": "code",
   "execution_count": 1,
   "id": "8336d20d-54e8-409c-90bd-418339aaf4e7",
   "metadata": {
    "tags": []
   },
   "outputs": [],
   "source": [
    "# %load_ext autoreload\n",
    "# %autoreload 2"
   ]
  },
  {
   "cell_type": "code",
   "execution_count": 1,
   "id": "b87bc024-e818-418f-a5f8-b57b8fd4c218",
   "metadata": {
    "tags": []
   },
   "outputs": [],
   "source": [
    "import sys\n",
    "sys.path.append('../../src')"
   ]
  },
  {
   "cell_type": "code",
   "execution_count": 2,
   "id": "319dce6d-c8e2-4f2a-a836-34797394333a",
   "metadata": {
    "tags": []
   },
   "outputs": [],
   "source": [
    "import torch\n",
    "\n",
    "from torch.utils.data import DataLoader\n",
    "from data.scannet.utils_scannet_fast import ScanNetDataset\n",
    "from DEPO.depo import depo_best\n",
    "from training.train_depo_pose_and_flow_weighted import train, validate\n",
    "from training.loss_depo import LossMixedRelativeWeighted\n",
    "from utils.model import load_checkpoint, plot_schedule\n",
    "import numpy as np\n",
    "\n",
    "from transformers import get_scheduler"
   ]
  },
  {
   "cell_type": "markdown",
   "id": "7781fb26-35f8-43b2-94e7-b70b6b9eb2fb",
   "metadata": {
    "tags": []
   },
   "source": [
    "#### Data"
   ]
  },
  {
   "cell_type": "code",
   "execution_count": 4,
   "id": "18a18e0f-e3c6-41c9-ae43-bdce3addb399",
   "metadata": {
    "tags": []
   },
   "outputs": [],
   "source": [
    "train_data = ScanNetDataset(\n",
    "    root_dir='/home/project/data/scans/',\n",
    "    npz_path='/home/project/code/data/scannet_splits/smart_sample_train_ft.npz',\n",
    "    intrinsics_path='/home/project/ScanNet/scannet_indices/intrinsics.npz',\n",
    "    calculate_flow=True\n",
    ")\n",
    "\n",
    "train_loader = DataLoader(train_data, batch_size=8, shuffle=True, drop_last=True, pin_memory=True, num_workers=4)\n",
    "\n",
    "val_data = ScanNetDataset(\n",
    "    root_dir='/home/project/data/scans/',\n",
    "    npz_path='/home/project/code/data/scannet_splits/smart_sample_val.npz',\n",
    "    intrinsics_path='/home/project/ScanNet/scannet_indices/intrinsics.npz',\n",
    "    calculate_flow=False\n",
    ")\n",
    "\n",
    "val_loader = DataLoader(val_data, batch_size=8, shuffle=False, drop_last=False, pin_memory=True, num_workers=4)"
   ]
  },
  {
   "cell_type": "markdown",
   "id": "282493d3-ba87-429f-8a70-816282714c5d",
   "metadata": {},
   "source": [
    "#### Config"
   ]
  },
  {
   "cell_type": "code",
   "execution_count": 5,
   "id": "836ef7bc-2fde-46d9-855c-383f8de76e46",
   "metadata": {
    "tags": []
   },
   "outputs": [],
   "source": [
    "torch.backends.cuda.matmul.allow_tf32 = True\n",
    "torch.backends.cudnn.allow_tf32 = True\n",
    "\n",
    "config = dict(\n",
    "    experiment_name='flow_and_pose_best_relative:2',\n",
    "    device=torch.device('cuda:0' if torch.cuda.is_available() else 'cpu'),\n",
    "    n_epochs=5,\n",
    "    n_accum_steps=8,\n",
    "    batch_size=train_loader.batch_size,\n",
    "    n_steps_per_epoch=len(train_loader.dataset) // train_loader.batch_size,\n",
    "    swa=False,\n",
    "    n_epochs_swa=None,\n",
    "    n_steps_between_swa_updates=None,\n",
    "    repeat_val_epoch=1,\n",
    "    repeat_save_epoch=1,\n",
    "    model_save_path='../../src/weights/flow_and_pose_best_relative_part2'\n",
    ")\n",
    "\n",
    "config['n_effective_steps_per_epoch'] = np.ceil(len(train_loader.dataset) / (train_loader.batch_size * config['n_accum_steps'])) \n",
    "config['n_warmup_steps'] = int(config['n_effective_steps_per_epoch'] * 0.2)\n",
    "config['n_training_steps'] = int(config['n_effective_steps_per_epoch'] * config['n_epochs'])"
   ]
  },
  {
   "cell_type": "markdown",
   "id": "8c60dd77-a302-4449-94e6-f1df9d4cd9b1",
   "metadata": {},
   "source": [
    "#### Model"
   ]
  },
  {
   "cell_type": "code",
   "execution_count": 8,
   "id": "31bdf0d7-42f9-4d73-a4ec-5f92f96ffe45",
   "metadata": {
    "tags": []
   },
   "outputs": [],
   "source": [
    "checkpoint = load_checkpoint(\n",
    "    '/home/project/code/src/weights/flow_and_pose_best_relative_2.pth',\n",
    "    config['device'])\n",
    "\n",
    "model = depo_best()\n",
    "model.load_state_dict(checkpoint['model'])\n",
    "model.to(config['device']);"
   ]
  },
  {
   "cell_type": "markdown",
   "id": "a1f93586-ea65-4ef8-b5bf-b9d73a2d04c4",
   "metadata": {
    "tags": []
   },
   "source": [
    "#### Loss & Optimizer & Scheduler"
   ]
  },
  {
   "cell_type": "code",
   "execution_count": 9,
   "id": "64af6fe6-50e3-449a-850f-fa7c4c2d90b7",
   "metadata": {
    "tags": []
   },
   "outputs": [],
   "source": [
    "val_loss = LossMixedRelativeWeighted(mode='val')\n",
    "train_loss = LossMixedRelativeWeighted(mode='train', weights=[0., 0., 0.])\n",
    "train_loss.weights.requires_grad = False"
   ]
  },
  {
   "cell_type": "code",
   "execution_count": 10,
   "id": "563ec8d4-6a56-4161-8886-aa6b35b47b4f",
   "metadata": {
    "tags": []
   },
   "outputs": [],
   "source": [
    "opt_parameters = []\n",
    "for name, module in model.named_parameters():\n",
    "    if 'self_encoder' in name:\n",
    "        lr = 5e-5\n",
    "    else:\n",
    "        lr = 5e-4\n",
    "    opt_parameters.append({\n",
    "        'params': module,\n",
    "        'weight_decay': 0.0 if ('bias' in name) else 1e-6,\n",
    "        'lr': lr\n",
    "    })\n",
    "\n",
    "optimizer = torch.optim.AdamW(opt_parameters)\n",
    "optimizer.load_state_dict(checkpoint['optimizer'])\n",
    "weights_optimizer = torch.optim.SGD([train_loss.weights], lr=1e-4)"
   ]
  },
  {
   "cell_type": "code",
   "execution_count": 11,
   "id": "c36f7b7e-719b-4b4e-a6fc-c0959d6037c5",
   "metadata": {
    "tags": []
   },
   "outputs": [],
   "source": [
    "# scheduler = get_scheduler(\n",
    "#     \"cosine\",    \n",
    "#     optimizer=optimizer,\n",
    "#     num_warmup_steps=config['n_warmup_steps'],\n",
    "#     num_training_steps=config['n_training_steps']\n",
    "# )\n",
    "scheduler = checkpoint['lr_sched']"
   ]
  },
  {
   "cell_type": "markdown",
   "id": "a277733b-2356-45be-ac93-9de2d1933d1a",
   "metadata": {},
   "source": [
    "#### Train & val"
   ]
  },
  {
   "cell_type": "code",
   "execution_count": 12,
   "id": "65ad928b-2f17-43d7-98ab-9b46a4c85d7f",
   "metadata": {
    "tags": []
   },
   "outputs": [
    {
     "name": "stderr",
     "output_type": "stream",
     "text": [
      "\u001b[34m\u001b[1mwandb\u001b[0m: Currently logged in as: \u001b[33mkovanic\u001b[0m. Use \u001b[1m`wandb login --relogin`\u001b[0m to force relogin\n"
     ]
    },
    {
     "data": {
      "text/html": [
       "wandb version 0.15.3 is available!  To upgrade, please run:\n",
       " $ pip install wandb --upgrade"
      ],
      "text/plain": [
       "<IPython.core.display.HTML object>"
      ]
     },
     "metadata": {},
     "output_type": "display_data"
    },
    {
     "data": {
      "text/html": [
       "Tracking run with wandb version 0.14.0"
      ],
      "text/plain": [
       "<IPython.core.display.HTML object>"
      ]
     },
     "metadata": {},
     "output_type": "display_data"
    },
    {
     "data": {
      "text/html": [
       "Run data is saved locally in <code>/home/project/code/notebooks/DEPO/wandb/run-20230531_234955-cku0ddq4</code>"
      ],
      "text/plain": [
       "<IPython.core.display.HTML object>"
      ]
     },
     "metadata": {},
     "output_type": "display_data"
    },
    {
     "data": {
      "text/html": [
       "Syncing run <strong><a href='https://wandb.ai/kovanic/Diploma/runs/cku0ddq4' target=\"_blank\">flow_and_pose_best_relative:2</a></strong> to <a href='https://wandb.ai/kovanic/Diploma' target=\"_blank\">Weights & Biases</a> (<a href='https://wandb.me/run' target=\"_blank\">docs</a>)<br/>"
      ],
      "text/plain": [
       "<IPython.core.display.HTML object>"
      ]
     },
     "metadata": {},
     "output_type": "display_data"
    },
    {
     "data": {
      "text/html": [
       " View project at <a href='https://wandb.ai/kovanic/Diploma' target=\"_blank\">https://wandb.ai/kovanic/Diploma</a>"
      ],
      "text/plain": [
       "<IPython.core.display.HTML object>"
      ]
     },
     "metadata": {},
     "output_type": "display_data"
    },
    {
     "data": {
      "text/html": [
       " View run at <a href='https://wandb.ai/kovanic/Diploma/runs/cku0ddq4' target=\"_blank\">https://wandb.ai/kovanic/Diploma/runs/cku0ddq4</a>"
      ],
      "text/plain": [
       "<IPython.core.display.HTML object>"
      ]
     },
     "metadata": {},
     "output_type": "display_data"
    },
    {
     "data": {
      "application/vnd.jupyter.widget-view+json": {
       "model_id": "1df47068445247fb892f36ba557c1077",
       "version_major": 2,
       "version_minor": 0
      },
      "text/plain": [
       "  0%|          | 0/12500 [00:00<?, ?it/s]"
      ]
     },
     "metadata": {},
     "output_type": "display_data"
    },
    {
     "data": {
      "application/vnd.jupyter.widget-view+json": {
       "model_id": "08a4c858092d459b87e0b29e4baca7ac",
       "version_major": 2,
       "version_minor": 0
      },
      "text/plain": [
       "  0%|          | 0/5000 [00:00<?, ?it/s]"
      ]
     },
     "metadata": {},
     "output_type": "display_data"
    },
    {
     "name": "stdout",
     "output_type": "stream",
     "text": [
      "epoch 0: val loss(flow)=None,\n",
      " val loss(q)=0.04760650121175809, val loss(t)=0.2552890590518713\n"
     ]
    },
    {
     "data": {
      "application/vnd.jupyter.widget-view+json": {
       "model_id": "cabb90cbf44c4b8eacf261e6086287f3",
       "version_major": 2,
       "version_minor": 0
      },
      "text/plain": [
       "  0%|          | 0/12500 [00:00<?, ?it/s]"
      ]
     },
     "metadata": {},
     "output_type": "display_data"
    },
    {
     "data": {
      "application/vnd.jupyter.widget-view+json": {
       "model_id": "c70ab4552986491594d7bb24cbd6e92b",
       "version_major": 2,
       "version_minor": 0
      },
      "text/plain": [
       "  0%|          | 0/5000 [00:00<?, ?it/s]"
      ]
     },
     "metadata": {},
     "output_type": "display_data"
    },
    {
     "name": "stdout",
     "output_type": "stream",
     "text": [
      "epoch 1: val loss(flow)=None,\n",
      " val loss(q)=0.04949806845308814, val loss(t)=0.2665364249430597\n"
     ]
    },
    {
     "data": {
      "application/vnd.jupyter.widget-view+json": {
       "model_id": "28699c2805734a81b88d8019a49fccbf",
       "version_major": 2,
       "version_minor": 0
      },
      "text/plain": [
       "  0%|          | 0/12500 [00:00<?, ?it/s]"
      ]
     },
     "metadata": {},
     "output_type": "display_data"
    },
    {
     "data": {
      "application/vnd.jupyter.widget-view+json": {
       "model_id": "0beeae74330d4d549412e916450b6196",
       "version_major": 2,
       "version_minor": 0
      },
      "text/plain": [
       "  0%|          | 0/5000 [00:00<?, ?it/s]"
      ]
     },
     "metadata": {},
     "output_type": "display_data"
    },
    {
     "name": "stdout",
     "output_type": "stream",
     "text": [
      "epoch 2: val loss(flow)=None,\n",
      " val loss(q)=0.04993301642691726, val loss(t)=0.26271077171340584\n"
     ]
    },
    {
     "data": {
      "application/vnd.jupyter.widget-view+json": {
       "model_id": "7a256c7f78c148398732e7a367cfc1e7",
       "version_major": 2,
       "version_minor": 0
      },
      "text/plain": [
       "  0%|          | 0/12500 [00:00<?, ?it/s]"
      ]
     },
     "metadata": {},
     "output_type": "display_data"
    },
    {
     "data": {
      "text/html": [
       "Waiting for W&B process to finish... <strong style=\"color:red\">(failed 1).</strong> Press Control-C to abort syncing."
      ],
      "text/plain": [
       "<IPython.core.display.HTML object>"
      ]
     },
     "metadata": {},
     "output_type": "display_data"
    },
    {
     "data": {
      "application/vnd.jupyter.widget-view+json": {
       "model_id": "a548bb8ec4134fc18dfd7b7aa0358e1e",
       "version_major": 2,
       "version_minor": 0
      },
      "text/plain": [
       "VBox(children=(Label(value='0.008 MB of 0.008 MB uploaded (0.000 MB deduped)\\r'), FloatProgress(value=1.0, max…"
      ]
     },
     "metadata": {},
     "output_type": "display_data"
    },
    {
     "data": {
      "text/html": [
       "<style>\n",
       "    table.wandb td:nth-child(1) { padding: 0 10px; text-align: left ; width: auto;} td:nth-child(2) {text-align: left ; width: 100%}\n",
       "    .wandb-row { display: flex; flex-direction: row; flex-wrap: wrap; justify-content: flex-start; width: 100% }\n",
       "    .wandb-col { display: flex; flex-direction: column; flex-basis: 100%; flex: 1; padding: 10px; }\n",
       "    </style>\n",
       "<div class=\"wandb-row\"><div class=\"wandb-col\"><h3>Run history:</h3><br/><table class=\"wandb\"><tr><td>Train batch loss (flow)</td><td>▅▃▃▅▅▄▃▅█▄▃▂▇▆▅▅▅▃▂▃▄▂▄▃▂▂▅▃▁▅▃▃▃▂▂▂▄▃▁▄</td></tr><tr><td>Train batch loss (q)</td><td>▄▃▃█▆▄▂▅▇▃▆▄▇▃▃▃▄▂▆▂▅▅▂▁▁▄▃▅▂▆▂▅▅▅▆▅▅▅▄▄</td></tr><tr><td>Train batch loss (t)</td><td>▅▇▇▇█▅▁▄▂▆▅▆█▂▆▃▃▃▆▅▅▅▅▆▄▆▄▅▄▃▄▇▂▄▄▄▄▅▇▅</td></tr><tr><td>Train batch loss (total)</td><td>▅▃▃▅▆▄▃▅█▄▃▃▇▆▆▅▅▃▂▃▄▂▄▃▂▂▅▃▁▅▃▃▃▂▂▂▄▃▁▄</td></tr><tr><td>Train loss epoch (flow)</td><td>█▃▁</td></tr><tr><td>Train loss epoch (q)</td><td>▁▅█</td></tr><tr><td>Train loss epoch (t)</td><td>█▄▁</td></tr><tr><td>Train loss epoch (total)</td><td>█▃▁</td></tr><tr><td>Val loss epoch(q)</td><td>▁▇█</td></tr><tr><td>Val loss epoch(t)</td><td>▁█▆</td></tr></table><br/></div><div class=\"wandb-col\"><h3>Run summary:</h3><br/><table class=\"wandb\"><tr><td>Train batch loss (flow)</td><td>7.8406</td></tr><tr><td>Train batch loss (q)</td><td>0.03998</td></tr><tr><td>Train batch loss (t)</td><td>0.33977</td></tr><tr><td>Train batch loss (total)</td><td>8.22034</td></tr><tr><td>Train loss epoch (flow)</td><td>9.05301</td></tr><tr><td>Train loss epoch (q)</td><td>0.03971</td></tr><tr><td>Train loss epoch (t)</td><td>0.27316</td></tr><tr><td>Train loss epoch (total)</td><td>9.36589</td></tr><tr><td>Val loss epoch(q)</td><td>0.04993</td></tr><tr><td>Val loss epoch(t)</td><td>0.26271</td></tr></table><br/></div></div>"
      ],
      "text/plain": [
       "<IPython.core.display.HTML object>"
      ]
     },
     "metadata": {},
     "output_type": "display_data"
    },
    {
     "data": {
      "text/html": [
       " View run <strong style=\"color:#cdcd00\">flow_and_pose_best_relative:2</strong> at: <a href='https://wandb.ai/kovanic/Diploma/runs/cku0ddq4' target=\"_blank\">https://wandb.ai/kovanic/Diploma/runs/cku0ddq4</a><br/>Synced 5 W&B file(s), 0 media file(s), 0 artifact file(s) and 0 other file(s)"
      ],
      "text/plain": [
       "<IPython.core.display.HTML object>"
      ]
     },
     "metadata": {},
     "output_type": "display_data"
    },
    {
     "data": {
      "text/html": [
       "Find logs at: <code>./wandb/run-20230531_234955-cku0ddq4/logs</code>"
      ],
      "text/plain": [
       "<IPython.core.display.HTML object>"
      ]
     },
     "metadata": {},
     "output_type": "display_data"
    },
    {
     "ename": "KeyboardInterrupt",
     "evalue": "",
     "output_type": "error",
     "traceback": [
      "\u001b[0;31m---------------------------------------------------------------------------\u001b[0m",
      "\u001b[0;31mKeyboardInterrupt\u001b[0m                         Traceback (most recent call last)",
      "Cell \u001b[0;32mIn[12], line 1\u001b[0m\n\u001b[0;32m----> 1\u001b[0m \u001b[43mtrain\u001b[49m\u001b[43m(\u001b[49m\u001b[43mmodel\u001b[49m\u001b[43m,\u001b[49m\u001b[43m \u001b[49m\u001b[43moptimizer\u001b[49m\u001b[43m,\u001b[49m\u001b[43m \u001b[49m\u001b[43mweights_optimizer\u001b[49m\u001b[43m,\u001b[49m\u001b[43m \u001b[49m\u001b[43mscheduler\u001b[49m\u001b[43m,\u001b[49m\u001b[43m \u001b[49m\u001b[43mtrain_loss\u001b[49m\u001b[43m,\u001b[49m\u001b[43m \u001b[49m\u001b[43mval_loss\u001b[49m\u001b[43m,\u001b[49m\u001b[43m \u001b[49m\u001b[43mtrain_loader\u001b[49m\u001b[43m,\u001b[49m\u001b[43m \u001b[49m\u001b[43mval_loader\u001b[49m\u001b[43m,\u001b[49m\u001b[43m \u001b[49m\u001b[43mconfig\u001b[49m\u001b[43m,\u001b[49m\u001b[43m \u001b[49m\u001b[38;5;241;43m*\u001b[39;49m\u001b[38;5;241;43m*\u001b[39;49m\u001b[43mconfig\u001b[49m\u001b[43m)\u001b[49m\n",
      "File \u001b[0;32m/home/project/code/notebooks/DEPO/../../src/training/train_depo_pose_and_flow_weighted.py:118\u001b[0m, in \u001b[0;36mtrain\u001b[0;34m(model, optimizer, weights_optimizer, scheduler, train_loss, val_loss, train_loader, val_loader, config, experiment_name, device, n_epochs, n_steps_per_epoch, n_accum_steps, swa, n_epochs_swa, n_steps_between_swa_updates, repeat_val_epoch, repeat_save_epoch, batch_size, model_save_path, **args)\u001b[0m\n\u001b[1;32m    115\u001b[0m loss \u001b[38;5;241m=\u001b[39m loss \u001b[38;5;241m/\u001b[39m n_accum_steps\n\u001b[1;32m    116\u001b[0m loss\u001b[38;5;241m.\u001b[39mbackward()\n\u001b[0;32m--> 118\u001b[0m train_batch_loss[\u001b[38;5;124m'\u001b[39m\u001b[38;5;124mtotal\u001b[39m\u001b[38;5;124m'\u001b[39m] \u001b[38;5;241m+\u001b[39m\u001b[38;5;241m=\u001b[39m \u001b[43mloss\u001b[49m\u001b[38;5;241;43m.\u001b[39;49m\u001b[43mitem\u001b[49m\u001b[43m(\u001b[49m\u001b[43m)\u001b[49m \u001b[38;5;241m*\u001b[39m n_accum_steps \u001b[38;5;241m*\u001b[39m batch_size\n\u001b[1;32m    119\u001b[0m train_batch_loss[\u001b[38;5;124m'\u001b[39m\u001b[38;5;124mflow\u001b[39m\u001b[38;5;124m'\u001b[39m] \u001b[38;5;241m+\u001b[39m\u001b[38;5;241m=\u001b[39m flow_loss\u001b[38;5;241m.\u001b[39mitem() \u001b[38;5;241m*\u001b[39m batch_size\n\u001b[1;32m    120\u001b[0m train_batch_loss[\u001b[38;5;124m'\u001b[39m\u001b[38;5;124mq\u001b[39m\u001b[38;5;124m'\u001b[39m] \u001b[38;5;241m+\u001b[39m\u001b[38;5;241m=\u001b[39m q_loss\u001b[38;5;241m.\u001b[39mitem() \u001b[38;5;241m*\u001b[39m batch_size\n",
      "\u001b[0;31mKeyboardInterrupt\u001b[0m: "
     ]
    }
   ],
   "source": [
    "train(model, optimizer, weights_optimizer, scheduler, train_loss, val_loss, train_loader, val_loader, config, **config)"
   ]
  }
 ],
 "metadata": {
  "kernelspec": {
   "display_name": "Python 3 (ipykernel)",
   "language": "python",
   "name": "python3"
  },
  "language_info": {
   "codemirror_mode": {
    "name": "ipython",
    "version": 3
   },
   "file_extension": ".py",
   "mimetype": "text/x-python",
   "name": "python",
   "nbconvert_exporter": "python",
   "pygments_lexer": "ipython3",
   "version": "3.8.10"
  }
 },
 "nbformat": 4,
 "nbformat_minor": 5
}
