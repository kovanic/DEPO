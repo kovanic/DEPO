{
 "cells": [
  {
   "cell_type": "markdown",
   "id": "e31bcb96-ba98-4c64-bd29-bcb845ba790f",
   "metadata": {},
   "source": [
    "LaDEPO pose: PCPVT-L + QuadTree-B + pose latent (deterministic l1 + l1)"
   ]
  },
  {
   "cell_type": "code",
   "execution_count": 1,
   "id": "8336d20d-54e8-409c-90bd-418339aaf4e7",
   "metadata": {
    "tags": []
   },
   "outputs": [],
   "source": [
    "# %load_ext autoreload\n",
    "# %autoreload 2"
   ]
  },
  {
   "cell_type": "code",
   "execution_count": 2,
   "id": "b87bc024-e818-418f-a5f8-b57b8fd4c218",
   "metadata": {
    "tags": []
   },
   "outputs": [],
   "source": [
    "import sys\n",
    "sys.path.append('../../src')"
   ]
  },
  {
   "cell_type": "code",
   "execution_count": 3,
   "id": "319dce6d-c8e2-4f2a-a836-34797394333a",
   "metadata": {
    "tags": []
   },
   "outputs": [
    {
     "name": "stderr",
     "output_type": "stream",
     "text": [
      "/usr/local/lib/python3.8/dist-packages/tqdm/auto.py:21: TqdmWarning: IProgress not found. Please update jupyter and ipywidgets. See https://ipywidgets.readthedocs.io/en/stable/user_install.html\n",
      "  from .autonotebook import tqdm as notebook_tqdm\n"
     ]
    }
   ],
   "source": [
    "import torch\n",
    "\n",
    "from torch.utils.data import DataLoader\n",
    "\n",
    "from data.scannet.utils_scannet_fast import ScanNetDataset\n",
    "from DEPO.depo import depo_v8\n",
    "from training.train_depo_pose_and_flow import train, validate\n",
    "from training.loss_pose import LossPose\n",
    "from utils.model import load_checkpoint\n",
    "import numpy as np\n",
    "\n",
    "from transformers import get_scheduler"
   ]
  },
  {
   "cell_type": "markdown",
   "id": "7781fb26-35f8-43b2-94e7-b70b6b9eb2fb",
   "metadata": {
    "tags": []
   },
   "source": [
    "#### Data"
   ]
  },
  {
   "cell_type": "code",
   "execution_count": 4,
   "id": "18a18e0f-e3c6-41c9-ae43-bdce3addb399",
   "metadata": {
    "tags": []
   },
   "outputs": [],
   "source": [
    "train_data = ScanNetDataset(\n",
    "    root_dir='/home/project/data/scans/',\n",
    "    npz_path='/home/project/code/data/scannet_splits/smart_sample_train_ft.npz',\n",
    "    intrinsics_path='/home/project/ScanNet/scannet_indices/intrinsics.npz',\n",
    "    calculate_flow=False\n",
    ")\n",
    "\n",
    "train_loader = DataLoader(train_data, batch_size=32, shuffle=True, drop_last=True, pin_memory=True, num_workers=4)\n",
    "\n",
    "val_data = ScanNetDataset(\n",
    "    root_dir='/home/project/data/scans/',\n",
    "    npz_path='/home/project/code/data/scannet_splits/smart_sample_val.npz',\n",
    "    intrinsics_path='/home/project/ScanNet/scannet_indices/intrinsics.npz',\n",
    "    calculate_flow=False\n",
    ")\n",
    "\n",
    "val_loader = DataLoader(val_data, batch_size=32, shuffle=False, drop_last=False, pin_memory=True, num_workers=4)"
   ]
  },
  {
   "cell_type": "markdown",
   "id": "282493d3-ba87-429f-8a70-816282714c5d",
   "metadata": {},
   "source": [
    "#### Config"
   ]
  },
  {
   "cell_type": "code",
   "execution_count": 5,
   "id": "836ef7bc-2fde-46d9-855c-383f8de76e46",
   "metadata": {
    "tags": []
   },
   "outputs": [],
   "source": [
    "torch.backends.cuda.matmul.allow_tf32 = True\n",
    "torch.backends.cudnn.allow_tf32 = True\n",
    "\n",
    "config = dict(\n",
    "    experiment_name='ladepo_pose',\n",
    "    device=torch.device('cuda:0' if torch.cuda.is_available() else 'cpu'),\n",
    "    n_epochs=10,\n",
    "    n_accum_steps=8,\n",
    "    scheduler_step='step',\n",
    "    batch_size=train_loader.batch_size,\n",
    "    n_steps_per_epoch=len(train_loader.dataset) // train_loader.batch_size,\n",
    "    swa=False,\n",
    "    n_epochs_swa=None,\n",
    "    n_steps_between_swa_updates=None,\n",
    "    repeat_val_epoch=1,\n",
    "    repeat_save_epoch=1,\n",
    "    model_save_path='../../src/weights/ladepo_pose'\n",
    ")\n",
    "\n",
    "config['n_effective_steps_per_epoch'] = np.ceil(len(train_loader.dataset) / (train_loader.batch_size * config['n_accum_steps'])) \n",
    "config['n_warmup_steps'] = config['n_effective_steps_per_epoch']\n",
    "config['n_training_steps'] = int(config['n_effective_steps_per_epoch'] * config['n_epochs'])"
   ]
  },
  {
   "cell_type": "markdown",
   "id": "8c60dd77-a302-4449-94e6-f1df9d4cd9b1",
   "metadata": {},
   "source": [
    "#### Model"
   ]
  },
  {
   "cell_type": "code",
   "execution_count": 6,
   "id": "31bdf0d7-42f9-4d73-a4ec-5f92f96ffe45",
   "metadata": {
    "tags": []
   },
   "outputs": [],
   "source": [
    "model = depo_v8().to(config['device'])\n",
    "\n",
    "for name, p in model.named_parameters():\n",
    "    if 'self_encoder' in name:\n",
    "        p.requires_grad = False\n",
    "    else:\n",
    "        p.requires_grad = True"
   ]
  },
  {
   "cell_type": "markdown",
   "id": "a1f93586-ea65-4ef8-b5bf-b9d73a2d04c4",
   "metadata": {
    "tags": []
   },
   "source": [
    "#### Loss & Optimizer & Scheduler"
   ]
  },
  {
   "cell_type": "code",
   "execution_count": 7,
   "id": "64af6fe6-50e3-449a-850f-fa7c4c2d90b7",
   "metadata": {
    "tags": []
   },
   "outputs": [],
   "source": [
    "val_loss = LossPose(agg_type=None, t_norm='l2')\n",
    "train_loss = LossPose(agg_type='mean', t_norm='l1')"
   ]
  },
  {
   "cell_type": "code",
   "execution_count": 8,
   "id": "6d7fb856-86c0-4f36-ab4f-13e334825fae",
   "metadata": {
    "tags": []
   },
   "outputs": [],
   "source": [
    "optimizer = torch.optim.AdamW(model.parameters(), lr=1e-3, weight_decay=1e-6)"
   ]
  },
  {
   "cell_type": "code",
   "execution_count": 9,
   "id": "c36f7b7e-719b-4b4e-a6fc-c0959d6037c5",
   "metadata": {},
   "outputs": [],
   "source": [
    "scheduler = get_scheduler(\n",
    "    \"cosine\",    \n",
    "    optimizer=optimizer,\n",
    "    num_warmup_steps=config['n_warmup_steps'],\n",
    "    num_training_steps=config['n_training_steps']\n",
    ")"
   ]
  },
  {
   "cell_type": "markdown",
   "id": "a277733b-2356-45be-ac93-9de2d1933d1a",
   "metadata": {},
   "source": [
    "#### Train & val"
   ]
  },
  {
   "cell_type": "code",
   "execution_count": null,
   "id": "65ad928b-2f17-43d7-98ab-9b46a4c85d7f",
   "metadata": {
    "tags": []
   },
   "outputs": [
    {
     "name": "stderr",
     "output_type": "stream",
     "text": [
      "\u001b[34m\u001b[1mwandb\u001b[0m: Currently logged in as: \u001b[33mkovanic\u001b[0m. Use \u001b[1m`wandb login --relogin`\u001b[0m to force relogin\n"
     ]
    },
    {
     "data": {
      "text/html": [
       "wandb version 0.15.3 is available!  To upgrade, please run:\n",
       " $ pip install wandb --upgrade"
      ],
      "text/plain": [
       "<IPython.core.display.HTML object>"
      ]
     },
     "metadata": {},
     "output_type": "display_data"
    },
    {
     "data": {
      "text/html": [
       "Tracking run with wandb version 0.14.0"
      ],
      "text/plain": [
       "<IPython.core.display.HTML object>"
      ]
     },
     "metadata": {},
     "output_type": "display_data"
    },
    {
     "data": {
      "text/html": [
       "Run data is saved locally in <code>/home/project/code/notebooks/DEPO/wandb/run-20230521_160824-qbypmsq4</code>"
      ],
      "text/plain": [
       "<IPython.core.display.HTML object>"
      ]
     },
     "metadata": {},
     "output_type": "display_data"
    },
    {
     "data": {
      "text/html": [
       "Syncing run <strong><a href='https://wandb.ai/kovanic/Diploma/runs/qbypmsq4' target=\"_blank\">flow_and_pose_v9</a></strong> to <a href='https://wandb.ai/kovanic/Diploma' target=\"_blank\">Weights & Biases</a> (<a href='https://wandb.me/run' target=\"_blank\">docs</a>)<br/>"
      ],
      "text/plain": [
       "<IPython.core.display.HTML object>"
      ]
     },
     "metadata": {},
     "output_type": "display_data"
    },
    {
     "data": {
      "text/html": [
       " View project at <a href='https://wandb.ai/kovanic/Diploma' target=\"_blank\">https://wandb.ai/kovanic/Diploma</a>"
      ],
      "text/plain": [
       "<IPython.core.display.HTML object>"
      ]
     },
     "metadata": {},
     "output_type": "display_data"
    },
    {
     "data": {
      "text/html": [
       " View run at <a href='https://wandb.ai/kovanic/Diploma/runs/qbypmsq4' target=\"_blank\">https://wandb.ai/kovanic/Diploma/runs/qbypmsq4</a>"
      ],
      "text/plain": [
       "<IPython.core.display.HTML object>"
      ]
     },
     "metadata": {},
     "output_type": "display_data"
    },
    {
     "name": "stderr",
     "output_type": "stream",
     "text": [
      "  2%|██▎                                                                                                               | 130/6250 [03:41<2:56:33,  1.73s/it]"
     ]
    }
   ],
   "source": [
    "train(model, optimizer, scheduler, train_loss, val_loss, train_loader, val_loader, config, **config)"
   ]
  }
 ],
 "metadata": {
  "kernelspec": {
   "display_name": "Python 3 (ipykernel)",
   "language": "python",
   "name": "python3"
  },
  "language_info": {
   "codemirror_mode": {
    "name": "ipython",
    "version": 3
   },
   "file_extension": ".py",
   "mimetype": "text/x-python",
   "name": "python",
   "nbconvert_exporter": "python",
   "pygments_lexer": "ipython3",
   "version": "3.8.10"
  }
 },
 "nbformat": 4,
 "nbformat_minor": 5
}
