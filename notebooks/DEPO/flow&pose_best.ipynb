{
 "cells": [
  {
   "cell_type": "code",
   "execution_count": 1,
   "id": "8336d20d-54e8-409c-90bd-418339aaf4e7",
   "metadata": {
    "tags": []
   },
   "outputs": [],
   "source": [
    "# %load_ext autoreload\n",
    "# %autoreload 2"
   ]
  },
  {
   "cell_type": "code",
   "execution_count": 2,
   "id": "b87bc024-e818-418f-a5f8-b57b8fd4c218",
   "metadata": {
    "tags": []
   },
   "outputs": [],
   "source": [
    "import sys\n",
    "sys.path.append('../../src')"
   ]
  },
  {
   "cell_type": "code",
   "execution_count": 3,
   "id": "319dce6d-c8e2-4f2a-a836-34797394333a",
   "metadata": {
    "tags": []
   },
   "outputs": [
    {
     "name": "stderr",
     "output_type": "stream",
     "text": [
      "/usr/local/lib/python3.8/dist-packages/tqdm/auto.py:21: TqdmWarning: IProgress not found. Please update jupyter and ipywidgets. See https://ipywidgets.readthedocs.io/en/stable/user_install.html\n",
      "  from .autonotebook import tqdm as notebook_tqdm\n"
     ]
    }
   ],
   "source": [
    "import torch\n",
    "\n",
    "from torch.utils.data import DataLoader\n",
    "from torch.optim.swa_utils import SWALR\n",
    "from data.scannet.utils_scannet_fast import ScanNetDataset\n",
    "from DEPO.depo import depo_v3 as best_model\n",
    "from training.train_depo_pose_and_flow import train, validate\n",
    "from training.loss_depo import LossMixedDetermininstic\n",
    "from utils.model import load_checkpoint\n",
    "import numpy as np\n",
    "\n",
    "from transformers import get_scheduler"
   ]
  },
  {
   "cell_type": "markdown",
   "id": "7781fb26-35f8-43b2-94e7-b70b6b9eb2fb",
   "metadata": {
    "tags": []
   },
   "source": [
    "#### Data"
   ]
  },
  {
   "cell_type": "code",
   "execution_count": 4,
   "id": "18a18e0f-e3c6-41c9-ae43-bdce3addb399",
   "metadata": {
    "tags": []
   },
   "outputs": [],
   "source": [
    "train_data = ScanNetDataset(\n",
    "    root_dir='/home/project/data/scans/',\n",
    "    npz_path='/home/project/code/data/scannet_splits/smart_sample_train.npz',\n",
    "    intrinsics_path='/home/project/ScanNet/scannet_indices/intrinsics.npz',\n",
    "    calculate_flow=True\n",
    ")\n",
    "\n",
    "train_loader = DataLoader(train_data, batch_size=32, shuffle=True, drop_last=True, pin_memory=True, num_workers=4)\n",
    "\n",
    "val_data = ScanNetDataset(\n",
    "    root_dir='/home/project/data/scans/',\n",
    "    npz_path='/home/project/code/data/scannet_splits/smart_sample_val.npz',\n",
    "    intrinsics_path='/home/project/ScanNet/scannet_indices/intrinsics.npz',\n",
    "    calculate_flow=False\n",
    ")\n",
    "\n",
    "val_loader = DataLoader(val_data, batch_size=32, shuffle=False, drop_last=False, pin_memory=True, num_workers=4)"
   ]
  },
  {
   "cell_type": "markdown",
   "id": "282493d3-ba87-429f-8a70-816282714c5d",
   "metadata": {},
   "source": [
    "#### Config"
   ]
  },
  {
   "cell_type": "code",
   "execution_count": 5,
   "id": "836ef7bc-2fde-46d9-855c-383f8de76e46",
   "metadata": {
    "tags": []
   },
   "outputs": [],
   "source": [
    "torch.backends.cuda.matmul.allow_tf32 = True\n",
    "torch.backends.cudnn.allow_tf32 = True\n",
    "\n",
    "config = dict(\n",
    "    experiment_name='flow_and_pose_best',\n",
    "    device=torch.device('cuda:0' if torch.cuda.is_available() else 'cpu'),\n",
    "    n_epochs=5,\n",
    "    n_accum_steps=4,\n",
    "    batch_size=train_loader.batch_size,\n",
    "    n_steps_per_epoch=len(train_loader.dataset) // train_loader.batch_size,\n",
    "    swa=True,\n",
    "    swa_lr=1e-4,\n",
    "    n_epochs_swa=1,\n",
    "    repeat_val_epoch=1,\n",
    "    repeat_save_epoch=1,\n",
    "    model_save_path='../../src/weights/flow_and_pose_best'\n",
    ")\n",
    "\n",
    "config['n_effective_steps_per_epoch'] = np.ceil(len(train_loader.dataset) / (train_loader.batch_size * config['n_accum_steps'])) \n",
    "config['n_warmup_steps'] = int(config['n_effective_steps_per_epoch'] * 0.2)\n",
    "config['n_training_steps'] = int(config['n_effective_steps_per_epoch'] * config['n_epochs'])\n",
    "config['swa_anneal_steps'] = int(config['n_effective_steps_per_epoch'] * 0.1)\n",
    "config['n_steps_between_swa_updates'] = (config['n_effective_steps_per_epoch'] - config['swa_anneal_steps']) // 20\n"
   ]
  },
  {
   "cell_type": "markdown",
   "id": "8c60dd77-a302-4449-94e6-f1df9d4cd9b1",
   "metadata": {},
   "source": [
    "#### Model"
   ]
  },
  {
   "cell_type": "code",
   "execution_count": 6,
   "id": "31bdf0d7-42f9-4d73-a4ec-5f92f96ffe45",
   "metadata": {
    "tags": []
   },
   "outputs": [],
   "source": [
    "model = best_model().to(config['device'])"
   ]
  },
  {
   "cell_type": "markdown",
   "id": "a1f93586-ea65-4ef8-b5bf-b9d73a2d04c4",
   "metadata": {
    "tags": []
   },
   "source": [
    "#### Loss & Optimizer & Scheduler"
   ]
  },
  {
   "cell_type": "code",
   "execution_count": 7,
   "id": "64af6fe6-50e3-449a-850f-fa7c4c2d90b7",
   "metadata": {
    "tags": []
   },
   "outputs": [],
   "source": [
    "val_loss = LossMixedDetermininstic(mode='val')\n",
    "train_loss = LossMixedDetermininstic(mode='train')"
   ]
  },
  {
   "cell_type": "code",
   "execution_count": null,
   "id": "563ec8d4-6a56-4161-8886-aa6b35b47b4f",
   "metadata": {
    "tags": []
   },
   "outputs": [],
   "source": [
    "#### opt_parameters = []\n",
    "for name, module in model.named_parameters():\n",
    "    if 'self_encoder' in name:\n",
    "        lr = 5e-5\n",
    "    else:\n",
    "        lr = 1e-3\n",
    "    opt_parameters.append({\n",
    "        'params': module,\n",
    "        'weight_decay': 0.0 if ('bias' in name) else 1e-6,\n",
    "        'lr': lr\n",
    "    })\n",
    "    \n",
    "optimizer = torch.optim.AdamW(opt_parameters)"
   ]
  },
  {
   "cell_type": "code",
   "execution_count": null,
   "id": "8235436d-0a76-439d-ba70-c2c4adf42a85",
   "metadata": {},
   "outputs": [],
   "source": [
    "class CustomSheduler:\n",
    "    def __init__(self, base_scheduler, swa_scheduler, steps_per_epoch, n_epochs, swa, n_epochs_swa, **args):\n",
    "        self.num_epochs = num_epochs \n",
    "        self.steps_per_epoch = steps_per_epoch\n",
    "        self.base_scheduler = base_scheduler\n",
    "        self.swa_scheduler = swa_scheduler\n",
    "        self.swa = swa\n",
    "        self.num_epochs_swa = num_epochs_swa\n",
    "        self.epoch = 0\n",
    "        self.step_ = 0\n",
    "    \n",
    "    def get_scheduler(self):\n",
    "        if self.swa and (self.epoch >= self.num_epochs - self.num_epochs_swa):\n",
    "            self.scheduler = self.swa_scheduler\n",
    "        else:\n",
    "            self.scheduler = self.base_scheduler\n",
    "            \n",
    "    def step(self):\n",
    "        self.get_scheduler()\n",
    "        self.scheduler.step()\n",
    "        self.step_ += 1\n",
    "        self.epoch = self.step_ // self.steps_per_epoch\n",
    "        \n",
    "    def get_last_lr(self):\n",
    "        return self.scheduler.get_last_lr()"
   ]
  },
  {
   "cell_type": "code",
   "execution_count": 25,
   "id": "367bb635-473d-4e11-bdcc-005bcfcf6eac",
   "metadata": {
    "tags": []
   },
   "outputs": [],
   "source": [
    "# for name,p in model.named_parameters():\n",
    "#     print(p)"
   ]
  },
  {
   "cell_type": "code",
   "execution_count": 8,
   "id": "c36f7b7e-719b-4b4e-a6fc-c0959d6037c5",
   "metadata": {
    "tags": []
   },
   "outputs": [],
   "source": [
    "scheduler = get_scheduler(\n",
    "    \"cosine\",    \n",
    "    optimizer=optimizer,\n",
    "    num_warmup_steps=config['n_warmup_steps'],\n",
    "    num_training_steps=config['n_training_steps'])\n",
    "\n",
    "\n",
    "# swa_scheduler = SWALR(\n",
    "#     optimizer,\n",
    "#     swa_lr=config['swa_lr'],\n",
    "#     anneal_epochs=config['swa_anneal_steps'])\n",
    "\n",
    "# #define scheduler\n",
    "# scheduler = CustomSheduler(\n",
    "#     base_scheduler,\n",
    "#     swa_scheduler,\n",
    "#     steps_per_epoch=steps_per_epoch, \n",
    "#     num_epochs=['n_epochs'],\n",
    "#     swa=config['general']['swa'],\n",
    "#     num_epochs_swa=config['general']['n_epochs_swa'] \n",
    "# )"
   ]
  },
  {
   "cell_type": "code",
   "execution_count": 17,
   "id": "d6fdf334-0450-4333-be8a-26bf74a94748",
   "metadata": {
    "tags": []
   },
   "outputs": [
    {
     "name": "stderr",
     "output_type": "stream",
     "text": [
      "/usr/local/lib/python3.8/dist-packages/torch/optim/lr_scheduler.py:129: UserWarning: Detected call of `lr_scheduler.step()` before `optimizer.step()`. In PyTorch 1.1.0 and later, you should call them in the opposite order: `optimizer.step()` before `lr_scheduler.step()`.  Failure to do this will result in PyTorch skipping the first value of the learning rate schedule. See more details at https://pytorch.org/docs/stable/optim.html#how-to-adjust-learning-rate\n",
      "  warnings.warn(\"Detected call of `lr_scheduler.step()` before `optimizer.step()`. \"\n"
     ]
    }
   ],
   "source": [
    "for _ in range(config['n_steps_per_epoch']):\n",
    "    scheduler.step()"
   ]
  },
  {
   "cell_type": "code",
   "execution_count": 26,
   "id": "b83bb76d-05ef-40d6-a456-00a21596f64d",
   "metadata": {
    "tags": []
   },
   "outputs": [
    {
     "data": {
      "text/plain": [
       "39419"
      ]
     },
     "execution_count": 26,
     "metadata": {},
     "output_type": "execute_result"
    }
   ],
   "source": [
    "scheduler.__dict__.keys()\n",
    "scheduler.last_epoch"
   ]
  },
  {
   "cell_type": "code",
   "execution_count": 18,
   "id": "cfd38082-5e42-4b27-b41a-1a1bb3b69a30",
   "metadata": {
    "tags": []
   },
   "outputs": [
    {
     "data": {
      "text/plain": [
       "39420"
      ]
     },
     "execution_count": 18,
     "metadata": {},
     "output_type": "execute_result"
    }
   ],
   "source": [
    "scheduler._step_count"
   ]
  },
  {
   "cell_type": "markdown",
   "id": "a277733b-2356-45be-ac93-9de2d1933d1a",
   "metadata": {},
   "source": [
    "#### Train & val"
   ]
  },
  {
   "cell_type": "code",
   "execution_count": null,
   "id": "65ad928b-2f17-43d7-98ab-9b46a4c85d7f",
   "metadata": {
    "tags": []
   },
   "outputs": [
    {
     "name": "stderr",
     "output_type": "stream",
     "text": [
      "\u001b[34m\u001b[1mwandb\u001b[0m: Currently logged in as: \u001b[33mkovanic\u001b[0m. Use \u001b[1m`wandb login --relogin`\u001b[0m to force relogin\n"
     ]
    },
    {
     "data": {
      "text/html": [
       "wandb version 0.15.3 is available!  To upgrade, please run:\n",
       " $ pip install wandb --upgrade"
      ],
      "text/plain": [
       "<IPython.core.display.HTML object>"
      ]
     },
     "metadata": {},
     "output_type": "display_data"
    },
    {
     "data": {
      "text/html": [
       "Tracking run with wandb version 0.14.0"
      ],
      "text/plain": [
       "<IPython.core.display.HTML object>"
      ]
     },
     "metadata": {},
     "output_type": "display_data"
    },
    {
     "data": {
      "text/html": [
       "Run data is saved locally in <code>/home/project/code/notebooks/DEPO/wandb/run-20230521_084018-wrs4ivbe</code>"
      ],
      "text/plain": [
       "<IPython.core.display.HTML object>"
      ]
     },
     "metadata": {},
     "output_type": "display_data"
    },
    {
     "data": {
      "text/html": [
       "Syncing run <strong><a href='https://wandb.ai/kovanic/Diploma/runs/wrs4ivbe' target=\"_blank\">flow_and_pose_v9</a></strong> to <a href='https://wandb.ai/kovanic/Diploma' target=\"_blank\">Weights & Biases</a> (<a href='https://wandb.me/run' target=\"_blank\">docs</a>)<br/>"
      ],
      "text/plain": [
       "<IPython.core.display.HTML object>"
      ]
     },
     "metadata": {},
     "output_type": "display_data"
    },
    {
     "data": {
      "text/html": [
       " View project at <a href='https://wandb.ai/kovanic/Diploma' target=\"_blank\">https://wandb.ai/kovanic/Diploma</a>"
      ],
      "text/plain": [
       "<IPython.core.display.HTML object>"
      ]
     },
     "metadata": {},
     "output_type": "display_data"
    },
    {
     "data": {
      "text/html": [
       " View run at <a href='https://wandb.ai/kovanic/Diploma/runs/wrs4ivbe' target=\"_blank\">https://wandb.ai/kovanic/Diploma/runs/wrs4ivbe</a>"
      ],
      "text/plain": [
       "<IPython.core.display.HTML object>"
      ]
     },
     "metadata": {},
     "output_type": "display_data"
    },
    {
     "name": "stderr",
     "output_type": "stream",
     "text": [
      " 11%|████████████▋                                                                                                     | 697/6250 [20:16<2:46:28,  1.80s/it]"
     ]
    }
   ],
   "source": [
    "train(model, optimizer, scheduler, train_loss, val_loss, train_loader, val_loader, config, **config)"
   ]
  }
 ],
 "metadata": {
  "kernelspec": {
   "display_name": "Python 3 (ipykernel)",
   "language": "python",
   "name": "python3"
  },
  "language_info": {
   "codemirror_mode": {
    "name": "ipython",
    "version": 3
   },
   "file_extension": ".py",
   "mimetype": "text/x-python",
   "name": "python",
   "nbconvert_exporter": "python",
   "pygments_lexer": "ipython3",
   "version": "3.8.10"
  }
 },
 "nbformat": 4,
 "nbformat_minor": 5
}
