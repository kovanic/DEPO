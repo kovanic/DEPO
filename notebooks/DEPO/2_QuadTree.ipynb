{
 "cells": [
  {
   "cell_type": "code",
   "execution_count": 1,
   "id": "639f97aa-5155-4c17-aa20-a6600e6d4504",
   "metadata": {
    "tags": []
   },
   "outputs": [],
   "source": [
    "%load_ext autoreload\n",
    "%autoreload 2"
   ]
  },
  {
   "cell_type": "code",
   "execution_count": 2,
   "id": "23d8c2e9-7d3f-46c6-b143-1b8da1b8a273",
   "metadata": {
    "tags": []
   },
   "outputs": [],
   "source": [
    "import sys\n",
    "sys.path.append('../../src')"
   ]
  },
  {
   "cell_type": "code",
   "execution_count": 4,
   "id": "36078965-cc92-44ce-b81f-4686d9b052a9",
   "metadata": {
    "tags": []
   },
   "outputs": [],
   "source": [
    "import torch\n",
    "from DEPO.quadtree_attention import QuadtreeAttention"
   ]
  },
  {
   "cell_type": "code",
   "execution_count": 4,
   "id": "9cfbc79a-0479-4329-a419-45df31ba65a8",
   "metadata": {
    "tags": []
   },
   "outputs": [],
   "source": [
    "x = torch.rand(1, 60 * 80, 128).cuda()\n",
    "y = torch.rand(1, 60 * 80, 128).cuda()"
   ]
  },
  {
   "cell_type": "code",
   "execution_count": 12,
   "id": "40fccae8-cc52-4387-87ff-3f22d25bcaaa",
   "metadata": {
    "tags": []
   },
   "outputs": [],
   "source": [
    "qa = QuadtreeAttention(dim=128, num_heads=8, topks=[16, 16, 8], scale=3).cuda()"
   ]
  },
  {
   "cell_type": "code",
   "execution_count": 13,
   "id": "d1ac1372-8244-45fe-bf7c-62e61c68ff27",
   "metadata": {
    "tags": []
   },
   "outputs": [
    {
     "name": "stdout",
     "output_type": "stream",
     "text": [
      "1.79 ms ± 3.17 µs per loop (mean ± std. dev. of 7 runs, 1,000 loops each)\n"
     ]
    }
   ],
   "source": [
    "%%timeit\n",
    "with torch.no_grad():\n",
    "    out = qa(x, y, 60, 80)"
   ]
  }
 ],
 "metadata": {
  "kernelspec": {
   "display_name": "Python 3 (ipykernel)",
   "language": "python",
   "name": "python3"
  },
  "language_info": {
   "codemirror_mode": {
    "name": "ipython",
    "version": 3
   },
   "file_extension": ".py",
   "mimetype": "text/x-python",
   "name": "python",
   "nbconvert_exporter": "python",
   "pygments_lexer": "ipython3",
   "version": "3.8.10"
  }
 },
 "nbformat": 4,
 "nbformat_minor": 5
}
