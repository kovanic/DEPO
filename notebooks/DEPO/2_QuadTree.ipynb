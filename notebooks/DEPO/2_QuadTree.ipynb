{
 "cells": [
  {
   "cell_type": "code",
   "execution_count": 1,
   "id": "f3dfe7b5-b780-4465-9fbe-9e7d5992fc93",
   "metadata": {
    "tags": []
   },
   "outputs": [],
   "source": [
    "import gdown"
   ]
  },
  {
   "cell_type": "code",
   "execution_count": 2,
   "id": "1cc76736-5ec2-4fd9-8b79-beeae27dd64b",
   "metadata": {
    "tags": []
   },
   "outputs": [
    {
     "name": "stderr",
     "output_type": "stream",
     "text": [
      "Downloading...\n",
      "From (uriginal): https://drive.google.com/uc?id=1pSK_8GP1WkqKL5m7J4aHvhFixdLP6Yfa\n",
      "From (redirected): https://drive.google.com/uc?id=1pSK_8GP1WkqKL5m7J4aHvhFixdLP6Yfa&confirm=t&uuid=22a118b2-43d6-4a2e-85bf-a04cfe1a28c3\n",
      "To: /home/project/code/src/DEPO/weights_external/quadtree.ckpt\n",
      "100%|████████████████████████████████████████████████████████████████████████████████████████████████████████████████████| 153M/153M [00:04<00:00, 37.5MB/s]\n"
     ]
    },
    {
     "data": {
      "text/plain": [
       "'../../src/DEPO/weights_external/quadtree.ckpt'"
      ]
     },
     "execution_count": 2,
     "metadata": {},
     "output_type": "execute_result"
    }
   ],
   "source": [
    "gdown.download(id='1pSK_8GP1WkqKL5m7J4aHvhFixdLP6Yfa', output='../../src/DEPO/weights_external/quadtree.ckpt')"
   ]
  }
 ],
 "metadata": {
  "kernelspec": {
   "display_name": "Python 3 (ipykernel)",
   "language": "python",
   "name": "python3"
  },
  "language_info": {
   "codemirror_mode": {
    "name": "ipython",
    "version": 3
   },
   "file_extension": ".py",
   "mimetype": "text/x-python",
   "name": "python",
   "nbconvert_exporter": "python",
   "pygments_lexer": "ipython3",
   "version": "3.8.10"
  }
 },
 "nbformat": 4,
 "nbformat_minor": 5
}
