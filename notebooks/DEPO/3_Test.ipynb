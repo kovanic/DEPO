{
 "cells": [
  {
   "cell_type": "code",
   "execution_count": 1,
   "id": "19161acc-2995-4209-918f-3bc601b465fc",
   "metadata": {
    "tags": []
   },
   "outputs": [],
   "source": [
    "%load_ext autoreload\n",
    "%autoreload 2"
   ]
  },
  {
   "cell_type": "code",
   "execution_count": 2,
   "id": "decedb4d-afe7-40d6-81be-9edfbf15d955",
   "metadata": {
    "tags": []
   },
   "outputs": [],
   "source": [
    "import sys\n",
    "sys.path.append('../../src')"
   ]
  },
  {
   "cell_type": "code",
   "execution_count": 3,
   "id": "a7ca3437-a97d-4dbf-a5ed-635ab14464eb",
   "metadata": {
    "tags": []
   },
   "outputs": [],
   "source": [
    "import warnings\n",
    "warnings.filterwarnings('ignore')"
   ]
  },
  {
   "cell_type": "code",
   "execution_count": 4,
   "id": "011cdf9c-599d-4a97-a8db-6ebd0a12c186",
   "metadata": {
    "tags": []
   },
   "outputs": [],
   "source": [
    "import torch\n",
    "from torch.utils.data import DataLoader\n",
    "\n",
    "from data.scannet.utils_scannet_fast import ScanNetDataset\n",
    "from DEPO.depo import depo_v2, depo_v3, depo_v4, depo_v6\n",
    "\n",
    "from training.train_depo_pose import test as test_pose\n",
    "from training.train_depo_pose_and_flow import test as test_pose_and_flow\n",
    "\n",
    "from utils.model import load_checkpoint\n",
    "from utils.metrics import mAA, rotation_angle_distance_batch, vector_angle_distance_batch, mAA_max, mAA_sep\n",
    "\n",
    "import numpy as np\n",
    "from numpy.linalg import norm\n",
    "\n",
    "import matplotlib.pyplot as plt\n",
    "import seaborn as sns\n",
    "from matplotlib import rc\n",
    "import pandas as pd \n",
    "\n",
    "from tqdm.auto import tqdm\n",
    "import pickle\n",
    "from pathlib import Path"
   ]
  },
  {
   "cell_type": "code",
   "execution_count": 5,
   "id": "0f910f7d-6cc9-4959-aafc-5f9669913198",
   "metadata": {
    "tags": []
   },
   "outputs": [],
   "source": [
    "device = torch.device('cuda:0' if torch.cuda.is_available() else 'cpu')"
   ]
  },
  {
   "cell_type": "markdown",
   "id": "a9bfd19c-0ef4-4edc-9497-3269196f27a4",
   "metadata": {
    "tags": []
   },
   "source": [
    "### 0. Data"
   ]
  },
  {
   "cell_type": "code",
   "execution_count": 6,
   "id": "be5ba0ac-f8fb-4f5a-8bf1-42a536b0e0d1",
   "metadata": {
    "tags": []
   },
   "outputs": [],
   "source": [
    "test_data = ScanNetDataset(\n",
    "    root_dir='/home/project/ScanNet/scannet_test_1500/',\n",
    "    npz_path='/home/project/ScanNet/test.npz',\n",
    "    intrinsics_path='/home/project/ScanNet/intrinsics_test.npz',\n",
    "    calculate_flow=True\n",
    ")\n",
    "\n",
    "test_loader = DataLoader(test_data, batch_size=4, shuffle=False, drop_last=False, pin_memory=True, num_workers=0)"
   ]
  },
  {
   "cell_type": "markdown",
   "id": "e213275c-6f31-4e5a-b905-0f6400c30bba",
   "metadata": {},
   "source": [
    "## 1. Metrics"
   ]
  },
  {
   "cell_type": "code",
   "execution_count": 5,
   "id": "9b0380e8-8596-4c83-a589-67f19847d646",
   "metadata": {
    "tags": []
   },
   "outputs": [],
   "source": [
    "metrics = {}\n",
    "\n",
    "if Path('/home/project/code/results/scannet/metrics_depo').is_file():\n",
    "    with open('/home/project/code/results/scannet/metrics_depo', 'rb') as f:\n",
    "        metrics = pickle.load(f)"
   ]
  },
  {
   "cell_type": "markdown",
   "id": "2b5b3e8e-45fe-4453-8f1a-a7a559a8c019",
   "metadata": {},
   "source": [
    "### 1. DEPO-A: PCPVT-L + QT-B + Spatial. pred. "
   ]
  },
  {
   "cell_type": "code",
   "execution_count": 8,
   "id": "99327e5c-129e-445d-9f01-7b72e2d1a246",
   "metadata": {
    "tags": []
   },
   "outputs": [],
   "source": [
    "checkpoint = load_checkpoint(\n",
    "    '/home/project/code/src/weights/flow_to_pose_v2_8.pth',\n",
    "    device)"
   ]
  },
  {
   "cell_type": "code",
   "execution_count": 9,
   "id": "5fcb5f1c-7994-4781-9e63-cf75dd580ca7",
   "metadata": {
    "tags": []
   },
   "outputs": [],
   "source": [
    "model = depo_v2()\n",
    "model.load_state_dict(checkpoint['model'])\n",
    "model.to(device);"
   ]
  },
  {
   "cell_type": "code",
   "execution_count": 13,
   "id": "dc1d8846-0ef3-4259-afaa-8ae44c102f85",
   "metadata": {
    "tags": []
   },
   "outputs": [
    {
     "name": "stderr",
     "output_type": "stream",
     "text": [
      "100%|█████████████████████████████████████████████████████████████████████████████████████████████████████████████████████| 375/375 [04:08<00:00,  1.51it/s]\n"
     ]
    }
   ],
   "source": [
    "results = test_pose_and_flow(model, test_loader, device)"
   ]
  },
  {
   "cell_type": "code",
   "execution_count": 17,
   "id": "2dec66d1-7264-45d8-ab98-2a5a97d1223e",
   "metadata": {
    "tags": []
   },
   "outputs": [],
   "source": [
    "name = \"DEPO-A: PCPVT-L + QT-B + Spatial pred.\"\n",
    "metrics[name] = {\n",
    "    'R_angle_distances': rotation_angle_distance_batch(results['R_gt'], results['R']),\n",
    "    't_angle_distances': vector_angle_distance_batch(results['t_gt'], results['t']),\n",
    "    't_distances_l2': norm(results['t_gt'] - results['t'], ord=2, axis=1),\n",
    "    'R_gt_distances': rotation_angle_distance_batch(results['R_gt'], np.tile(np.eye(3, 3), (results['R_gt'].shape[0], 1, 1))),\n",
    "    't_gt_distances': norm(results['t_gt'], ord=2, axis=1)\n",
    "}"
   ]
  },
  {
   "cell_type": "code",
   "execution_count": 18,
   "id": "4c32cad1-2452-4135-bafe-c7f28a54575d",
   "metadata": {
    "tags": []
   },
   "outputs": [
    {
     "name": "stdout",
     "output_type": "stream",
     "text": [
      "mAA 5 rotation       0.0223\n",
      "mAA 10 rotation      0.1120\n",
      "mAA 20 rotation      0.3018\n"
     ]
    }
   ],
   "source": [
    "name = \"DEPO-A: PCPVT-L + QT-B + Spatial pred.\"\n",
    "print(f'{\"mAA 5 rotation\":<20} {mAA(metrics[name][\"R_angle_distances\"], metrics[name][\"t_distances_l2\"], thresh=(5, 0.2), N=10000):.4f}')\n",
    "print(f'{\"mAA 10 rotation\":<20} {mAA(metrics[name][\"R_angle_distances\"], metrics[name][\"t_distances_l2\"], thresh=(10, 0.5), N=10000):.4f}')\n",
    "print(f'{\"mAA 20 rotation\":<20} {mAA(metrics[name][\"R_angle_distances\"], metrics[name][\"t_distances_l2\"], thresh=(20, 1), N=10000):.4f}')"
   ]
  },
  {
   "cell_type": "markdown",
   "id": "2ac07e01-d3ed-4258-bfd1-c2fecac429bf",
   "metadata": {},
   "source": [
    "### 2. DEPO-B: PCPVT-L + QT-B + Spatial. pred. "
   ]
  },
  {
   "cell_type": "code",
   "execution_count": 19,
   "id": "a80f962a-cac5-4c05-87d2-56aecd818508",
   "metadata": {
    "tags": []
   },
   "outputs": [],
   "source": [
    "checkpoint = load_checkpoint(\n",
    "    '/home/project/code/src/weights/pose_v6_9.pth',\n",
    "    device)"
   ]
  },
  {
   "cell_type": "code",
   "execution_count": 20,
   "id": "45439e37-78c4-4183-af07-9edf4a22c2fa",
   "metadata": {
    "tags": []
   },
   "outputs": [],
   "source": [
    "model = depo_v6()\n",
    "model.load_state_dict(checkpoint['model'])\n",
    "model.to(device);"
   ]
  },
  {
   "cell_type": "code",
   "execution_count": 21,
   "id": "18971f0c-291b-45c3-8b92-51d63f9ce39c",
   "metadata": {
    "tags": []
   },
   "outputs": [
    {
     "name": "stderr",
     "output_type": "stream",
     "text": [
      "100%|█████████████████████████████████████████████████████████████████████████████████████████████████████████████████████| 375/375 [04:05<00:00,  1.53it/s]\n"
     ]
    }
   ],
   "source": [
    "results = test_pose(model, test_loader, device)"
   ]
  },
  {
   "cell_type": "code",
   "execution_count": 22,
   "id": "492e1880-42ca-4dba-a33c-e0921207577e",
   "metadata": {
    "tags": []
   },
   "outputs": [],
   "source": [
    "name = \"DEPO-B: PCPVT-L + QT-B + Spatial pred.\"\n",
    "metrics[name] = {\n",
    "    'R_angle_distances': rotation_angle_distance_batch(results['R_gt'], results['R']),\n",
    "    't_angle_distances': vector_angle_distance_batch(results['t_gt'], results['t']),\n",
    "    't_distances_l2': norm(results['t_gt'] - results['t'], ord=2, axis=1),\n",
    "    'R_gt_distances': rotation_angle_distance_batch(results['R_gt'], np.tile(np.eye(3, 3), (results['R_gt'].shape[0], 1, 1))),\n",
    "    't_gt_distances': norm(results['t_gt'], ord=2, axis=1)\n",
    "}"
   ]
  },
  {
   "cell_type": "code",
   "execution_count": 23,
   "id": "e65aa3f9-55a5-40fe-adbb-352a1913a76e",
   "metadata": {
    "tags": []
   },
   "outputs": [
    {
     "name": "stdout",
     "output_type": "stream",
     "text": [
      "mAA 5 rotation       0.0242\n",
      "mAA 10 rotation      0.1395\n",
      "mAA 20 rotation      0.3435\n"
     ]
    }
   ],
   "source": [
    "name = \"DEPO-B: PCPVT-L + QT-B + Spatial pred.\"\n",
    "print(f'{\"mAA 5 rotation\":<20} {mAA(metrics[name][\"R_angle_distances\"], metrics[name][\"t_distances_l2\"], thresh=(5, 0.2), N=10000):.4f}')\n",
    "print(f'{\"mAA 10 rotation\":<20} {mAA(metrics[name][\"R_angle_distances\"], metrics[name][\"t_distances_l2\"], thresh=(10, 0.5), N=10000):.4f}')\n",
    "print(f'{\"mAA 20 rotation\":<20} {mAA(metrics[name][\"R_angle_distances\"], metrics[name][\"t_distances_l2\"], thresh=(20, 1), N=10000):.4f}')"
   ]
  },
  {
   "cell_type": "markdown",
   "id": "cd9cc3f0-ac63-47ec-911b-15296bb4175c",
   "metadata": {},
   "source": [
    "### 3. DEPO-C: PCPVT-L + QT-B + Spatial. pred. "
   ]
  },
  {
   "cell_type": "code",
   "execution_count": 24,
   "id": "b8807aa6-5d2b-4895-b781-7191a9a253c6",
   "metadata": {
    "tags": []
   },
   "outputs": [],
   "source": [
    "checkpoint = load_checkpoint(\n",
    "    '/home/project/code/src/weights/flow_and_pose_v3_4_5.pth',\n",
    "    device)"
   ]
  },
  {
   "cell_type": "code",
   "execution_count": 25,
   "id": "c9c0d13e-2f8f-4024-80ad-a7349c4ed698",
   "metadata": {
    "tags": []
   },
   "outputs": [],
   "source": [
    "model = depo_v3()\n",
    "model.load_state_dict(checkpoint['model'])\n",
    "model.to(device);"
   ]
  },
  {
   "cell_type": "code",
   "execution_count": 26,
   "id": "907b0122-473d-4feb-99dc-ecac999f4678",
   "metadata": {
    "tags": []
   },
   "outputs": [
    {
     "name": "stderr",
     "output_type": "stream",
     "text": [
      "100%|█████████████████████████████████████████████████████████████████████████████████████████████████████████████████████| 375/375 [04:05<00:00,  1.52it/s]\n"
     ]
    }
   ],
   "source": [
    "results = test_pose_and_flow(model, test_loader, device)"
   ]
  },
  {
   "cell_type": "code",
   "execution_count": 27,
   "id": "e7149682-b881-4d51-8c5b-15a1ac491590",
   "metadata": {
    "tags": []
   },
   "outputs": [],
   "source": [
    "name = \"DEPO-C: PCPVT-L + QT-B + Spatial pred.\"\n",
    "metrics[name] = {\n",
    "    'R_angle_distances': rotation_angle_distance_batch(results['R_gt'], results['R']),\n",
    "    't_angle_distances': vector_angle_distance_batch(results['t_gt'], results['t']),\n",
    "    't_distances_l2': norm(results['t_gt'] - results['t'], ord=2, axis=1),\n",
    "    'R_gt_distances': rotation_angle_distance_batch(results['R_gt'], np.tile(np.eye(3, 3), (results['R_gt'].shape[0], 1, 1))),\n",
    "    't_gt_distances': norm(results['t_gt'], ord=2, axis=1)\n",
    "}"
   ]
  },
  {
   "cell_type": "code",
   "execution_count": 28,
   "id": "03f4a119-1d5e-4915-b23c-163538ed0904",
   "metadata": {
    "tags": []
   },
   "outputs": [
    {
     "name": "stdout",
     "output_type": "stream",
     "text": [
      "mAA 5 rotation       0.0565\n",
      "mAA 10 rotation      0.2258\n",
      "mAA 20 rotation      0.4624\n"
     ]
    }
   ],
   "source": [
    "name = \"DEPO-C: PCPVT-L + QT-B + Spatial. pred.\"\n",
    "print(f'{\"mAA 5 rotation\":<20} {mAA(metrics[name][\"R_angle_distances\"], metrics[name][\"t_distances_l2\"], thresh=(5, 0.2), N=10000):.4f}')\n",
    "print(f'{\"mAA 10 rotation\":<20} {mAA(metrics[name][\"R_angle_distances\"], metrics[name][\"t_distances_l2\"], thresh=(10, 0.5), N=10000):.4f}')\n",
    "print(f'{\"mAA 20 rotation\":<20} {mAA(metrics[name][\"R_angle_distances\"], metrics[name][\"t_distances_l2\"], thresh=(20, 1), N=10000):.4f}')"
   ]
  },
  {
   "cell_type": "markdown",
   "id": "c35c1afe-fcba-43a9-afbb-fa31be7cc542",
   "metadata": {},
   "source": [
    "### 4. DEPO-C: PVT-L + QT-B + Spatial. pred. "
   ]
  },
  {
   "cell_type": "code",
   "execution_count": 29,
   "id": "b773a9b4-f01a-4223-9747-33444bc7d6d6",
   "metadata": {
    "tags": []
   },
   "outputs": [],
   "source": [
    "checkpoint = load_checkpoint(\n",
    "    '/home/project/code/src/weights/flow_and_pose_v4_9.pth',\n",
    "    device)"
   ]
  },
  {
   "cell_type": "code",
   "execution_count": 31,
   "id": "0eac0516-d37e-42dc-ab78-cdcc407d10fc",
   "metadata": {
    "tags": []
   },
   "outputs": [],
   "source": [
    "model = depo_v4()\n",
    "model.load_state_dict(checkpoint['model'])\n",
    "model.to(device);"
   ]
  },
  {
   "cell_type": "code",
   "execution_count": 32,
   "id": "1188eb4b-0c65-4b59-b120-d3112ae5d0bc",
   "metadata": {
    "tags": []
   },
   "outputs": [
    {
     "name": "stderr",
     "output_type": "stream",
     "text": [
      "100%|█████████████████████████████████████████████████████████████████████████████████████████████████████████████████████| 375/375 [04:06<00:00,  1.52it/s]\n"
     ]
    }
   ],
   "source": [
    "results = test_pose_and_flow(model, test_loader, device)"
   ]
  },
  {
   "cell_type": "code",
   "execution_count": 33,
   "id": "97686375-d529-4186-a593-cd9a61f9a70b",
   "metadata": {
    "tags": []
   },
   "outputs": [],
   "source": [
    "name = \"DEPO-C: PVT-L + QT-B + Spatial pred.\"\n",
    "metrics[name] = {\n",
    "    'R_angle_distances': rotation_angle_distance_batch(results['R_gt'], results['R']),\n",
    "    't_angle_distances': vector_angle_distance_batch(results['t_gt'], results['t']),\n",
    "    't_distances_l2': norm(results['t_gt'] - results['t'], ord=2, axis=1),\n",
    "    'R_gt_distances': rotation_angle_distance_batch(results['R_gt'], np.tile(np.eye(3, 3), (results['R_gt'].shape[0], 1, 1))),\n",
    "    't_gt_distances': norm(results['t_gt'], ord=2, axis=1)\n",
    "}"
   ]
  },
  {
   "cell_type": "code",
   "execution_count": 34,
   "id": "eeffd0ae-bae4-484d-a4ba-76821af060f5",
   "metadata": {
    "tags": []
   },
   "outputs": [
    {
     "name": "stdout",
     "output_type": "stream",
     "text": [
      "mAA 5 rotation       0.0588\n",
      "mAA 10 rotation      0.2075\n",
      "mAA 20 rotation      0.4310\n"
     ]
    }
   ],
   "source": [
    "name = \"DEPO-C: PVT-L + QT-B + Spatial pred.\"\n",
    "print(f'{\"mAA 5 rotation\":<20} {mAA(metrics[name][\"R_angle_distances\"], metrics[name][\"t_distances_l2\"], thresh=(5, 0.2), N=10000):.4f}')\n",
    "print(f'{\"mAA 10 rotation\":<20} {mAA(metrics[name][\"R_angle_distances\"], metrics[name][\"t_distances_l2\"], thresh=(10, 0.5), N=10000):.4f}')\n",
    "print(f'{\"mAA 20 rotation\":<20} {mAA(metrics[name][\"R_angle_distances\"], metrics[name][\"t_distances_l2\"], thresh=(20, 1), N=10000):.4f}')"
   ]
  },
  {
   "cell_type": "markdown",
   "id": "9f1c6c87-02a6-425d-ad31-5c533b511af3",
   "metadata": {},
   "source": [
    "#### Saving metrics"
   ]
  },
  {
   "cell_type": "code",
   "execution_count": 35,
   "id": "d641089f-2eb9-4135-81e1-19bdec795063",
   "metadata": {
    "tags": []
   },
   "outputs": [],
   "source": [
    "with open('/home/project/code/results/scannet/metrics_depo', 'wb') as f:\n",
    "    pickle.dump(metrics, f)"
   ]
  },
  {
   "cell_type": "markdown",
   "id": "0786a0c0-821b-4820-a848-8d764d1939cb",
   "metadata": {},
   "source": [
    "# 2. Results\n",
    "### 2.1 Table form\n"
   ]
  },
  {
   "cell_type": "code",
   "execution_count": 36,
   "id": "05ab49dc-8aaf-46a7-b798-62be275bfa1b",
   "metadata": {
    "tags": []
   },
   "outputs": [
    {
     "data": {
      "text/html": [
       "<style type=\"text/css\">\n",
       "#T_b26e9_row0_col0, #T_b26e9_row0_col1, #T_b26e9_row0_col2, #T_b26e9_row0_col3, #T_b26e9_row0_col4, #T_b26e9_row0_col5, #T_b26e9_row0_col6, #T_b26e9_row0_col7, #T_b26e9_row0_col8, #T_b26e9_row0_col9, #T_b26e9_row0_col10, #T_b26e9_row0_col11 {\n",
       "  background-color: #a50026;\n",
       "  color: #f1f1f1;\n",
       "}\n",
       "#T_b26e9_row1_col0 {\n",
       "  background-color: #fca55d;\n",
       "  color: #000000;\n",
       "}\n",
       "#T_b26e9_row1_col1 {\n",
       "  background-color: #f98e52;\n",
       "  color: #f1f1f1;\n",
       "}\n",
       "#T_b26e9_row1_col2 {\n",
       "  background-color: #ed5f3c;\n",
       "  color: #f1f1f1;\n",
       "}\n",
       "#T_b26e9_row1_col3 {\n",
       "  background-color: #e65036;\n",
       "  color: #f1f1f1;\n",
       "}\n",
       "#T_b26e9_row1_col4 {\n",
       "  background-color: #feefa3;\n",
       "  color: #000000;\n",
       "}\n",
       "#T_b26e9_row1_col5 {\n",
       "  background-color: #fffdbc;\n",
       "  color: #000000;\n",
       "}\n",
       "#T_b26e9_row1_col6 {\n",
       "  background-color: #fffbb8;\n",
       "  color: #000000;\n",
       "}\n",
       "#T_b26e9_row1_col7 {\n",
       "  background-color: #fff2aa;\n",
       "  color: #000000;\n",
       "}\n",
       "#T_b26e9_row1_col8 {\n",
       "  background-color: #fec877;\n",
       "  color: #000000;\n",
       "}\n",
       "#T_b26e9_row1_col9 {\n",
       "  background-color: #fffab6;\n",
       "  color: #000000;\n",
       "}\n",
       "#T_b26e9_row1_col10 {\n",
       "  background-color: #feec9f;\n",
       "  color: #000000;\n",
       "}\n",
       "#T_b26e9_row1_col11 {\n",
       "  background-color: #fffcba;\n",
       "  color: #000000;\n",
       "}\n",
       "#T_b26e9_row2_col0, #T_b26e9_row2_col1, #T_b26e9_row2_col2, #T_b26e9_row2_col4, #T_b26e9_row2_col9, #T_b26e9_row3_col3, #T_b26e9_row3_col5, #T_b26e9_row3_col6, #T_b26e9_row3_col7, #T_b26e9_row3_col8, #T_b26e9_row3_col10, #T_b26e9_row3_col11 {\n",
       "  background-color: #006837;\n",
       "  color: #f1f1f1;\n",
       "}\n",
       "#T_b26e9_row2_col3 {\n",
       "  background-color: #30a356;\n",
       "  color: #f1f1f1;\n",
       "}\n",
       "#T_b26e9_row2_col5 {\n",
       "  background-color: #097940;\n",
       "  color: #f1f1f1;\n",
       "}\n",
       "#T_b26e9_row2_col6 {\n",
       "  background-color: #0f8446;\n",
       "  color: #f1f1f1;\n",
       "}\n",
       "#T_b26e9_row2_col7 {\n",
       "  background-color: #04703b;\n",
       "  color: #f1f1f1;\n",
       "}\n",
       "#T_b26e9_row2_col8 {\n",
       "  background-color: #08773f;\n",
       "  color: #f1f1f1;\n",
       "}\n",
       "#T_b26e9_row2_col10 {\n",
       "  background-color: #128a49;\n",
       "  color: #f1f1f1;\n",
       "}\n",
       "#T_b26e9_row2_col11 {\n",
       "  background-color: #6bbf64;\n",
       "  color: #000000;\n",
       "}\n",
       "#T_b26e9_row3_col0 {\n",
       "  background-color: #51b35e;\n",
       "  color: #f1f1f1;\n",
       "}\n",
       "#T_b26e9_row3_col1 {\n",
       "  background-color: #7ac665;\n",
       "  color: #000000;\n",
       "}\n",
       "#T_b26e9_row3_col2 {\n",
       "  background-color: #afdd70;\n",
       "  color: #000000;\n",
       "}\n",
       "#T_b26e9_row3_col4 {\n",
       "  background-color: #06733d;\n",
       "  color: #f1f1f1;\n",
       "}\n",
       "#T_b26e9_row3_col9 {\n",
       "  background-color: #05713c;\n",
       "  color: #f1f1f1;\n",
       "}\n",
       "</style>\n",
       "<table id=\"T_b26e9\">\n",
       "  <thead>\n",
       "    <tr>\n",
       "      <th class=\"blank level0\" >&nbsp;</th>\n",
       "      <th id=\"T_b26e9_level0_col0\" class=\"col_heading level0 col0\" >R_q=0.25</th>\n",
       "      <th id=\"T_b26e9_level0_col1\" class=\"col_heading level0 col1\" >R_q=0.5</th>\n",
       "      <th id=\"T_b26e9_level0_col2\" class=\"col_heading level0 col2\" >R_q=0.75</th>\n",
       "      <th id=\"T_b26e9_level0_col3\" class=\"col_heading level0 col3\" >R_q=0.9</th>\n",
       "      <th id=\"T_b26e9_level0_col4\" class=\"col_heading level0 col4\" >angle_t_q=0.25</th>\n",
       "      <th id=\"T_b26e9_level0_col5\" class=\"col_heading level0 col5\" >angle_t_q=0.5</th>\n",
       "      <th id=\"T_b26e9_level0_col6\" class=\"col_heading level0 col6\" >angle_t_q=0.75</th>\n",
       "      <th id=\"T_b26e9_level0_col7\" class=\"col_heading level0 col7\" >angle_t_q=0.9</th>\n",
       "      <th id=\"T_b26e9_level0_col8\" class=\"col_heading level0 col8\" >t_q=0.25</th>\n",
       "      <th id=\"T_b26e9_level0_col9\" class=\"col_heading level0 col9\" >t_q=0.5</th>\n",
       "      <th id=\"T_b26e9_level0_col10\" class=\"col_heading level0 col10\" >t_q=0.75</th>\n",
       "      <th id=\"T_b26e9_level0_col11\" class=\"col_heading level0 col11\" >t_q=0.9</th>\n",
       "    </tr>\n",
       "  </thead>\n",
       "  <tbody>\n",
       "    <tr>\n",
       "      <th id=\"T_b26e9_level0_row0\" class=\"row_heading level0 row0\" >DEPO-A: PCPVT-L + QT-B + Spatial. pred.</th>\n",
       "      <td id=\"T_b26e9_row0_col0\" class=\"data row0 col0\" >7.18</td>\n",
       "      <td id=\"T_b26e9_row0_col1\" class=\"data row0 col1\" >13.70</td>\n",
       "      <td id=\"T_b26e9_row0_col2\" class=\"data row0 col2\" >27.76</td>\n",
       "      <td id=\"T_b26e9_row0_col3\" class=\"data row0 col3\" >57.63</td>\n",
       "      <td id=\"T_b26e9_row0_col4\" class=\"data row0 col4\" >36.93</td>\n",
       "      <td id=\"T_b26e9_row0_col5\" class=\"data row0 col5\" >64.14</td>\n",
       "      <td id=\"T_b26e9_row0_col6\" class=\"data row0 col6\" >100.29</td>\n",
       "      <td id=\"T_b26e9_row0_col7\" class=\"data row0 col7\" >134.73</td>\n",
       "      <td id=\"T_b26e9_row0_col8\" class=\"data row0 col8\" >0.27</td>\n",
       "      <td id=\"T_b26e9_row0_col9\" class=\"data row0 col9\" >0.57</td>\n",
       "      <td id=\"T_b26e9_row0_col10\" class=\"data row0 col10\" >1.11</td>\n",
       "      <td id=\"T_b26e9_row0_col11\" class=\"data row0 col11\" >1.96</td>\n",
       "    </tr>\n",
       "    <tr>\n",
       "      <th id=\"T_b26e9_level0_row1\" class=\"row_heading level0 row1\" >DEPO-B: PCPVT-L + QT-B + Spatial. pred.</th>\n",
       "      <td id=\"T_b26e9_row1_col0\" class=\"data row1 col0\" >6.45</td>\n",
       "      <td id=\"T_b26e9_row1_col1\" class=\"data row1 col1\" >12.29</td>\n",
       "      <td id=\"T_b26e9_row1_col2\" class=\"data row1 col2\" >25.68</td>\n",
       "      <td id=\"T_b26e9_row1_col3\" class=\"data row1 col3\" >55.30</td>\n",
       "      <td id=\"T_b26e9_row1_col4\" class=\"data row1 col4\" >28.85</td>\n",
       "      <td id=\"T_b26e9_row1_col5\" class=\"data row1 col5\" >50.66</td>\n",
       "      <td id=\"T_b26e9_row1_col6\" class=\"data row1 col6\" >82.64</td>\n",
       "      <td id=\"T_b26e9_row1_col7\" class=\"data row1 col7\" >118.23</td>\n",
       "      <td id=\"T_b26e9_row1_col8\" class=\"data row1 col8\" >0.24</td>\n",
       "      <td id=\"T_b26e9_row1_col9\" class=\"data row1 col9\" >0.50</td>\n",
       "      <td id=\"T_b26e9_row1_col10\" class=\"data row1 col10\" >0.99</td>\n",
       "      <td id=\"T_b26e9_row1_col11\" class=\"data row1 col11\" >1.84</td>\n",
       "    </tr>\n",
       "    <tr>\n",
       "      <th id=\"T_b26e9_level0_row2\" class=\"row_heading level0 row2\" >DEPO-C: PCPVT-L + QT-B + Spatial. pred.</th>\n",
       "      <td id=\"T_b26e9_row2_col0\" class=\"data row2 col0\" >4.65</td>\n",
       "      <td id=\"T_b26e9_row2_col1\" class=\"data row2 col1\" >8.11</td>\n",
       "      <td id=\"T_b26e9_row2_col2\" class=\"data row2 col2\" >16.08</td>\n",
       "      <td id=\"T_b26e9_row2_col3\" class=\"data row2 col3\" >44.58</td>\n",
       "      <td id=\"T_b26e9_row2_col4\" class=\"data row2 col4\" >18.87</td>\n",
       "      <td id=\"T_b26e9_row2_col5\" class=\"data row2 col5\" >37.98</td>\n",
       "      <td id=\"T_b26e9_row2_col6\" class=\"data row2 col6\" >66.28</td>\n",
       "      <td id=\"T_b26e9_row2_col7\" class=\"data row2 col7\" >99.36</td>\n",
       "      <td id=\"T_b26e9_row2_col8\" class=\"data row2 col8\" >0.20</td>\n",
       "      <td id=\"T_b26e9_row2_col9\" class=\"data row2 col9\" >0.42</td>\n",
       "      <td id=\"T_b26e9_row2_col10\" class=\"data row2 col10\" >0.87</td>\n",
       "      <td id=\"T_b26e9_row2_col11\" class=\"data row2 col11\" >1.76</td>\n",
       "    </tr>\n",
       "    <tr>\n",
       "      <th id=\"T_b26e9_level0_row3\" class=\"row_heading level0 row3\" >DEPO-C: PVT-L + QT-B + Spatial. pred.</th>\n",
       "      <td id=\"T_b26e9_row3_col0\" class=\"data row3 col0\" >5.09</td>\n",
       "      <td id=\"T_b26e9_row3_col1\" class=\"data row3 col1\" >9.40</td>\n",
       "      <td id=\"T_b26e9_row3_col2\" class=\"data row3 col2\" >19.79</td>\n",
       "      <td id=\"T_b26e9_row3_col3\" class=\"data row3 col3\" >42.60</td>\n",
       "      <td id=\"T_b26e9_row3_col4\" class=\"data row3 col4\" >19.33</td>\n",
       "      <td id=\"T_b26e9_row3_col5\" class=\"data row3 col5\" >36.95</td>\n",
       "      <td id=\"T_b26e9_row3_col6\" class=\"data row3 col6\" >64.09</td>\n",
       "      <td id=\"T_b26e9_row3_col7\" class=\"data row3 col7\" >98.71</td>\n",
       "      <td id=\"T_b26e9_row3_col8\" class=\"data row3 col8\" >0.20</td>\n",
       "      <td id=\"T_b26e9_row3_col9\" class=\"data row3 col9\" >0.42</td>\n",
       "      <td id=\"T_b26e9_row3_col10\" class=\"data row3 col10\" >0.85</td>\n",
       "      <td id=\"T_b26e9_row3_col11\" class=\"data row3 col11\" >1.70</td>\n",
       "    </tr>\n",
       "  </tbody>\n",
       "</table>\n"
      ],
      "text/plain": [
       "<pandas.io.formats.style.Styler at 0x7fdb0f19e760>"
      ]
     },
     "execution_count": 36,
     "metadata": {},
     "output_type": "execute_result"
    }
   ],
   "source": [
    "df = pd.DataFrame(index=metrics.keys())\n",
    "\n",
    "for q in (0.25, 0.5, 0.75, 0.9):\n",
    "    df[f'R_q={q}'] = None\n",
    "    df[f't_q={q}'] = None\n",
    "    df[f'angle_t_q={q}'] = None\n",
    "    for key, val in metrics.items():\n",
    "        df.loc[key, f't_q={q}'] = np.quantile(val[\"t_distances_l2\"], q)\n",
    "        df.loc[key, f'R_q={q}'] = np.quantile(val[\"R_angle_distances\"], q)\n",
    "        df.loc[key, f'angle_t_q={q}'] = np.quantile(val[\"t_angle_distances\"], q)\n",
    "        d = df.style.format(precision=2)\n",
    "df.sort_index(axis=1, inplace=True)\n",
    "\n",
    "\n",
    "for col in df.columns:\n",
    "    d.background_gradient(cmap=\"RdYlGn_r\", subset=col)\n",
    "d"
   ]
  },
  {
   "cell_type": "code",
   "execution_count": 37,
   "id": "4114e173-85a1-45f1-8f36-519df5c072a7",
   "metadata": {
    "tags": []
   },
   "outputs": [
    {
     "data": {
      "text/html": [
       "<style type=\"text/css\">\n",
       "#T_32117_row0_col0, #T_32117_row0_col1, #T_32117_row0_col2, #T_32117_row0_col3, #T_32117_row0_col4, #T_32117_row0_col5, #T_32117_row0_col6, #T_32117_row0_col7, #T_32117_row0_col8, #T_32117_row0_col9, #T_32117_row0_col10, #T_32117_row0_col11 {\n",
       "  background-color: #a50026;\n",
       "  color: #f1f1f1;\n",
       "}\n",
       "#T_32117_row1_col0 {\n",
       "  background-color: #ee613e;\n",
       "  color: #f1f1f1;\n",
       "}\n",
       "#T_32117_row1_col1 {\n",
       "  background-color: #ef633f;\n",
       "  color: #f1f1f1;\n",
       "}\n",
       "#T_32117_row1_col2 {\n",
       "  background-color: #ec5c3b;\n",
       "  color: #f1f1f1;\n",
       "}\n",
       "#T_32117_row1_col3 {\n",
       "  background-color: #e24731;\n",
       "  color: #f1f1f1;\n",
       "}\n",
       "#T_32117_row1_col4 {\n",
       "  background-color: #f57245;\n",
       "  color: #f1f1f1;\n",
       "}\n",
       "#T_32117_row1_col5 {\n",
       "  background-color: #fba35c;\n",
       "  color: #000000;\n",
       "}\n",
       "#T_32117_row1_col6 {\n",
       "  background-color: #fdc574;\n",
       "  color: #000000;\n",
       "}\n",
       "#T_32117_row1_col7 {\n",
       "  background-color: #c01a27;\n",
       "  color: #f1f1f1;\n",
       "}\n",
       "#T_32117_row1_col8, #T_32117_row1_col9 {\n",
       "  background-color: #fba05b;\n",
       "  color: #000000;\n",
       "}\n",
       "#T_32117_row1_col10 {\n",
       "  background-color: #fdbd6d;\n",
       "  color: #000000;\n",
       "}\n",
       "#T_32117_row1_col11 {\n",
       "  background-color: #f99355;\n",
       "  color: #000000;\n",
       "}\n",
       "#T_32117_row2_col0, #T_32117_row2_col1, #T_32117_row2_col2, #T_32117_row2_col3, #T_32117_row2_col4, #T_32117_row2_col5, #T_32117_row2_col6, #T_32117_row2_col7, #T_32117_row2_col9, #T_32117_row3_col6, #T_32117_row3_col8, #T_32117_row3_col10, #T_32117_row3_col11 {\n",
       "  background-color: #006837;\n",
       "  color: #f1f1f1;\n",
       "}\n",
       "#T_32117_row2_col8 {\n",
       "  background-color: #04703b;\n",
       "  color: #f1f1f1;\n",
       "}\n",
       "#T_32117_row2_col10 {\n",
       "  background-color: #026c39;\n",
       "  color: #f1f1f1;\n",
       "}\n",
       "#T_32117_row2_col11 {\n",
       "  background-color: #0d8044;\n",
       "  color: #f1f1f1;\n",
       "}\n",
       "#T_32117_row3_col0 {\n",
       "  background-color: #9dd569;\n",
       "  color: #000000;\n",
       "}\n",
       "#T_32117_row3_col1 {\n",
       "  background-color: #a2d76a;\n",
       "  color: #000000;\n",
       "}\n",
       "#T_32117_row3_col2 {\n",
       "  background-color: #a5d86a;\n",
       "  color: #000000;\n",
       "}\n",
       "#T_32117_row3_col3 {\n",
       "  background-color: #78c565;\n",
       "  color: #000000;\n",
       "}\n",
       "#T_32117_row3_col4 {\n",
       "  background-color: #36a657;\n",
       "  color: #f1f1f1;\n",
       "}\n",
       "#T_32117_row3_col5 {\n",
       "  background-color: #0e8245;\n",
       "  color: #f1f1f1;\n",
       "}\n",
       "#T_32117_row3_col7 {\n",
       "  background-color: #a0d669;\n",
       "  color: #000000;\n",
       "}\n",
       "#T_32117_row3_col9 {\n",
       "  background-color: #07753e;\n",
       "  color: #f1f1f1;\n",
       "}\n",
       "</style>\n",
       "<table id=\"T_32117\">\n",
       "  <thead>\n",
       "    <tr>\n",
       "      <th class=\"blank level0\" >&nbsp;</th>\n",
       "      <th id=\"T_32117_level0_col0\" class=\"col_heading level0 col0\" >mAA_R_10</th>\n",
       "      <th id=\"T_32117_level0_col1\" class=\"col_heading level0 col1\" >mAA_R_20</th>\n",
       "      <th id=\"T_32117_level0_col2\" class=\"col_heading level0 col2\" >mAA_R_30</th>\n",
       "      <th id=\"T_32117_level0_col3\" class=\"col_heading level0 col3\" >mAA_R_5</th>\n",
       "      <th id=\"T_32117_level0_col4\" class=\"col_heading level0 col4\" >mAA_max_10</th>\n",
       "      <th id=\"T_32117_level0_col5\" class=\"col_heading level0 col5\" >mAA_max_20</th>\n",
       "      <th id=\"T_32117_level0_col6\" class=\"col_heading level0 col6\" >mAA_max_30</th>\n",
       "      <th id=\"T_32117_level0_col7\" class=\"col_heading level0 col7\" >mAA_max_5</th>\n",
       "      <th id=\"T_32117_level0_col8\" class=\"col_heading level0 col8\" >mAA_t_10</th>\n",
       "      <th id=\"T_32117_level0_col9\" class=\"col_heading level0 col9\" >mAA_t_20</th>\n",
       "      <th id=\"T_32117_level0_col10\" class=\"col_heading level0 col10\" >mAA_t_30</th>\n",
       "      <th id=\"T_32117_level0_col11\" class=\"col_heading level0 col11\" >mAA_t_5</th>\n",
       "    </tr>\n",
       "  </thead>\n",
       "  <tbody>\n",
       "    <tr>\n",
       "      <th id=\"T_32117_level0_row0\" class=\"row_heading level0 row0\" >DEPO-A: PCPVT-L + QT-B + Spatial. pred.</th>\n",
       "      <td id=\"T_32117_row0_col0\" class=\"data row0 col0\" >0.15</td>\n",
       "      <td id=\"T_32117_row0_col1\" class=\"data row0 col1\" >0.34</td>\n",
       "      <td id=\"T_32117_row0_col2\" class=\"data row0 col2\" >0.47</td>\n",
       "      <td id=\"T_32117_row0_col3\" class=\"data row0 col3\" >0.04</td>\n",
       "      <td id=\"T_32117_row0_col4\" class=\"data row0 col4\" >0.00</td>\n",
       "      <td id=\"T_32117_row0_col5\" class=\"data row0 col5\" >0.02</td>\n",
       "      <td id=\"T_32117_row0_col6\" class=\"data row0 col6\" >0.04</td>\n",
       "      <td id=\"T_32117_row0_col7\" class=\"data row0 col7\" >0.00</td>\n",
       "      <td id=\"T_32117_row0_col8\" class=\"data row0 col8\" >0.01</td>\n",
       "      <td id=\"T_32117_row0_col9\" class=\"data row0 col9\" >0.03</td>\n",
       "      <td id=\"T_32117_row0_col10\" class=\"data row0 col10\" >0.07</td>\n",
       "      <td id=\"T_32117_row0_col11\" class=\"data row0 col11\" >0.00</td>\n",
       "    </tr>\n",
       "    <tr>\n",
       "      <th id=\"T_32117_level0_row1\" class=\"row_heading level0 row1\" >DEPO-B: PCPVT-L + QT-B + Spatial. pred.</th>\n",
       "      <td id=\"T_32117_row1_col0\" class=\"data row1 col0\" >0.18</td>\n",
       "      <td id=\"T_32117_row1_col1\" class=\"data row1 col1\" >0.37</td>\n",
       "      <td id=\"T_32117_row1_col2\" class=\"data row1 col2\" >0.49</td>\n",
       "      <td id=\"T_32117_row1_col3\" class=\"data row1 col3\" >0.05</td>\n",
       "      <td id=\"T_32117_row1_col4\" class=\"data row1 col4\" >0.01</td>\n",
       "      <td id=\"T_32117_row1_col5\" class=\"data row1 col5\" >0.04</td>\n",
       "      <td id=\"T_32117_row1_col6\" class=\"data row1 col6\" >0.08</td>\n",
       "      <td id=\"T_32117_row1_col7\" class=\"data row1 col7\" >0.00</td>\n",
       "      <td id=\"T_32117_row1_col8\" class=\"data row1 col8\" >0.02</td>\n",
       "      <td id=\"T_32117_row1_col9\" class=\"data row1 col9\" >0.06</td>\n",
       "      <td id=\"T_32117_row1_col10\" class=\"data row1 col10\" >0.11</td>\n",
       "      <td id=\"T_32117_row1_col11\" class=\"data row1 col11\" >0.00</td>\n",
       "    </tr>\n",
       "    <tr>\n",
       "      <th id=\"T_32117_level0_row2\" class=\"row_heading level0 row2\" >DEPO-C: PCPVT-L + QT-B + Spatial. pred.</th>\n",
       "      <td id=\"T_32117_row2_col0\" class=\"data row2 col0\" >0.28</td>\n",
       "      <td id=\"T_32117_row2_col1\" class=\"data row2 col1\" >0.50</td>\n",
       "      <td id=\"T_32117_row2_col2\" class=\"data row2 col2\" >0.61</td>\n",
       "      <td id=\"T_32117_row2_col3\" class=\"data row2 col3\" >0.10</td>\n",
       "      <td id=\"T_32117_row2_col4\" class=\"data row2 col4\" >0.02</td>\n",
       "      <td id=\"T_32117_row2_col5\" class=\"data row2 col5\" >0.08</td>\n",
       "      <td id=\"T_32117_row2_col6\" class=\"data row2 col6\" >0.15</td>\n",
       "      <td id=\"T_32117_row2_col7\" class=\"data row2 col7\" >0.00</td>\n",
       "      <td id=\"T_32117_row2_col8\" class=\"data row2 col8\" >0.04</td>\n",
       "      <td id=\"T_32117_row2_col9\" class=\"data row2 col9\" >0.12</td>\n",
       "      <td id=\"T_32117_row2_col10\" class=\"data row2 col10\" >0.19</td>\n",
       "      <td id=\"T_32117_row2_col11\" class=\"data row2 col11\" >0.01</td>\n",
       "    </tr>\n",
       "    <tr>\n",
       "      <th id=\"T_32117_level0_row3\" class=\"row_heading level0 row3\" >DEPO-C: PVT-L + QT-B + Spatial. pred.</th>\n",
       "      <td id=\"T_32117_row3_col0\" class=\"data row3 col0\" >0.24</td>\n",
       "      <td id=\"T_32117_row3_col1\" class=\"data row3 col1\" >0.45</td>\n",
       "      <td id=\"T_32117_row3_col2\" class=\"data row3 col2\" >0.57</td>\n",
       "      <td id=\"T_32117_row3_col3\" class=\"data row3 col3\" >0.09</td>\n",
       "      <td id=\"T_32117_row3_col4\" class=\"data row3 col4\" >0.02</td>\n",
       "      <td id=\"T_32117_row3_col5\" class=\"data row3 col5\" >0.08</td>\n",
       "      <td id=\"T_32117_row3_col6\" class=\"data row3 col6\" >0.15</td>\n",
       "      <td id=\"T_32117_row3_col7\" class=\"data row3 col7\" >0.00</td>\n",
       "      <td id=\"T_32117_row3_col8\" class=\"data row3 col8\" >0.04</td>\n",
       "      <td id=\"T_32117_row3_col9\" class=\"data row3 col9\" >0.11</td>\n",
       "      <td id=\"T_32117_row3_col10\" class=\"data row3 col10\" >0.19</td>\n",
       "      <td id=\"T_32117_row3_col11\" class=\"data row3 col11\" >0.01</td>\n",
       "    </tr>\n",
       "  </tbody>\n",
       "</table>\n"
      ],
      "text/plain": [
       "<pandas.io.formats.style.Styler at 0x7fd9e62be820>"
      ]
     },
     "execution_count": 37,
     "metadata": {},
     "output_type": "execute_result"
    }
   ],
   "source": [
    "df = pd.DataFrame(index=metrics.keys())\n",
    "\n",
    "for t in (5, 10, 20, 30):\n",
    "    df[f'mAA_R_{t}'] = None\n",
    "    df[f'mAA_t_{t}'] = None\n",
    "    df[f'mAA_max_{t}'] = None\n",
    "    for key, val in metrics.items():\n",
    "        df.loc[key, f'mAA_R_{t}'] = mAA_sep(val[\"R_angle_distances\"], t, 10000)\n",
    "        df.loc[key, f'mAA_t_{t}'] = mAA_sep(val[\"t_angle_distances\"], t, 10000)\n",
    "        df.loc[key, f'mAA_max_{t}'] = mAA_max(val[\"R_angle_distances\"], val[\"t_angle_distances\"], t, 10000)\n",
    "        d = df.style.format(precision=2)\n",
    "df.sort_index(axis=1, inplace=True)\n",
    "df.sort_index(axis=0, inplace=True)\n",
    "\n",
    "for col in df.columns:\n",
    "    d.background_gradient(cmap=\"RdYlGn\", subset=col)\n",
    "d"
   ]
  },
  {
   "cell_type": "markdown",
   "id": "aee68faf-cf0c-4a93-ba76-29bd7f14b60c",
   "metadata": {},
   "source": [
    "### 2.2 Plots"
   ]
  },
  {
   "cell_type": "code",
   "execution_count": 6,
   "id": "d2540881-f539-441c-af65-74ccc8e8b8e7",
   "metadata": {
    "tags": []
   },
   "outputs": [],
   "source": [
    "plt.style.use('default')\n",
    "\n",
    "rc('text', usetex=True)\n",
    "\n",
    "SMALL_SIZE = 8\n",
    "MEDIUM_SIZE = 10\n",
    "BIGGER_SIZE = 12\n",
    "\n",
    "rc('font', size=MEDIUM_SIZE)          # controls default text sizes\n",
    "rc('axes', titlesize=MEDIUM_SIZE)     # fontsize of the axes title\n",
    "rc('axes', labelsize=MEDIUM_SIZE)    # fontsize of the x and y labels\n",
    "rc('xtick', labelsize=MEDIUM_SIZE)    # fontsize of the tick labels\n",
    "rc('ytick', labelsize=MEDIUM_SIZE)    # fontsize of the tick labels\n",
    "rc('legend', fontsize=MEDIUM_SIZE)    # legend fontsize\n",
    "rc('figure', titlesize=BIGGER_SIZE)  # fontsize of the figure title\n"
   ]
  },
  {
   "cell_type": "code",
   "execution_count": 7,
   "id": "49270898-fa2e-4300-9e8b-598017b92039",
   "metadata": {
    "tags": []
   },
   "outputs": [],
   "source": [
    "def calculate_metric_on_subset(metric_values, values_dependent_on, agg_func, thresholds, sign):\n",
    "    thresholds_ = thresholds[:, None]\n",
    "    if sign == '>':\n",
    "        inliers_bool = values_dependent_on > thresholds_\n",
    "    else:\n",
    "        inliers_bool = values_dependent_on <= thresholds_\n",
    "    scores = np.array([agg_func(metric_values[subset]) for subset in inliers_bool])\n",
    "    return scores"
   ]
  },
  {
   "cell_type": "code",
   "execution_count": 12,
   "id": "b3f3e06a-c054-44bf-ae0b-a2ee07e22423",
   "metadata": {
    "tags": []
   },
   "outputs": [
    {
     "data": {
      "image/png": "[encoded data removed]",
      "text/plain": [
       "<Figure size 1000x800 with 6 Axes>"
      ]
     },
     "metadata": {},
     "output_type": "display_data"
    }
   ],
   "source": [
    "fig, ax = plt.subplots(2, 2, figsize=(10, 8))\n",
    "\n",
    "colors = ['b', 'darkorange' ,'g', '#8B008B',\n",
    "          '#A52A2A','#FFC0CB','#808080','#556B2F','#00FFFF',\n",
    "         '#FF00FF','#32CD32','#008080','#E6E6FA',\n",
    "         '#D2B48C','#FA8072','#FFD700', '#000080']\n",
    "\n",
    "exp_colors = {exp: col for  exp, col in zip(metrics.keys(), colors)}\n",
    "\n",
    "for exp, m in metrics.items():\n",
    "    sns.ecdfplot(x=m['R_angle_distances'], complementary=False, ax=ax[0,0], c=exp_colors[exp], linewidth=1)    \n",
    "\n",
    "    sns.ecdfplot(x=m['t_distances_l2'], complementary=False, ax=ax[0,1], c=exp_colors[exp], linewidth=1, log_scale=False)\n",
    "\n",
    "    R_on_gt = calculate_metric_on_subset(\n",
    "        m['R_angle_distances'], m['R_gt_distances'], np.mean, np.linspace(0, 180, 180), '<')\n",
    "    R_on_gt[np.isnan(R_on_gt)] = 0\n",
    "    ax[1, 0].plot(np.linspace(0, 180, 180), R_on_gt, label=exp, c=exp_colors[exp], linewidth=1)\n",
    "    \n",
    "    t_on_gt = calculate_metric_on_subset(\n",
    "        m['t_distances_l2'], m['t_gt_distances'], np.mean, np.linspace(0, 6.66, 100), '<')\n",
    "    t_on_gt[np.isnan(t_on_gt)] = 0\n",
    "    ax[1, 1].plot(np.linspace(0, 6.66, 100), t_on_gt, c=exp_colors[exp], linewidth=1)\n",
    "\n",
    "    \n",
    "    \n",
    "ax[0, 0].set_xlim([0., 50.])\n",
    "ax[0, 0].set_xticks(np.linspace(0, 50, 11, dtype='int'))\n",
    "ax[0, 0].set_yticks(np.linspace(0, 1, 11))\n",
    "ax[0, 0].set_ylabel('Fraction of observations')\n",
    "ax[0, 0].set_xlabel('Angle error, degrees')\n",
    "ax[0, 0].set_title('CDF of angle error')\n",
    "ax[0, 0].grid(alpha=0.5)\n",
    "\n",
    "\n",
    "ax[0, 1].set_xlim([0., 3.])\n",
    "ax[0, 1].set_yticks(np.linspace(0, 1, 11))\n",
    "ax[0, 1].set_ylabel('Fraction of observations')\n",
    "ax[0, 1].set_xlabel('$\\|t_{gt} - t\\|_2$, meters')\n",
    "ax[0, 1].set_title('CDF of translation error')\n",
    "ax[0, 1].grid(alpha=0.5)\n",
    "\n",
    "\n",
    "n_bins = 100 # number of bins for histogram calculation \n",
    "counts, bin_edges = np.histogram(np.sort(m['R_gt_distances']), bins=n_bins)\n",
    "cdf_values = np.cumsum(counts) / len(m['R_gt_distances'])\n",
    "bin_centers = (bin_edges[1:] + bin_edges[:-1]) / 2.\n",
    "ax_10 = ax[1, 0].twinx() # create secondary axis with shared x-axis  \n",
    "ax_10.step(bin_centers,cdf_values,'r', label='Fraction of observations')\n",
    "ax_10.set_ylabel('Fraction of observations')\n",
    "ax_10.set_yticks(np.linspace(0, 1, 11))\n",
    "ax_10.grid(alpha=0.5)\n",
    "ax[1, 0].set_xlabel('Ground-truth rotation distance $<$ than, degrees')\n",
    "ax[1, 0].set_ylabel('Mean error, degrees')\n",
    "ax[1, 0].set_title('Dependence of mean angle error on \\n ground-truth rotation distance')\n",
    "ax[1, 0].grid(axis='x', alpha=0.5)\n",
    "\n",
    "n_bins = 100 # number of bins for histogram calculation \n",
    "counts, bin_edges = np.histogram(np.sort(m['t_gt_distances']), bins=n_bins)\n",
    "cdf_values = np.cumsum(counts) / len(m['t_gt_distances'])\n",
    "bin_centers = (bin_edges[1:] + bin_edges[:-1]) / 2.\n",
    "ax_11 = ax[1, 1].twinx() # create secondary axis with shared x-axis  \n",
    "ax_11.step(bin_centers, cdf_values, 'r', label='Fraction of observations')\n",
    "ax_11.set_ylabel('Fraction of observations')\n",
    "ax_11.set_yticks(np.linspace(0, 1, 11))\n",
    "ax_11.grid(alpha=0.5)\n",
    "ax[1, 1].set_xticks(np.linspace(0, 6.5, 14))\n",
    "ax[1, 1].set_yticks(np.linspace(0, 0.9, 10))\n",
    "ax[1, 1].set_xlabel('Ground-truth $l_2$ distance $<$ than, meters')\n",
    "ax[1, 1].set_ylabel('Mean error, meters')\n",
    "ax[1, 1].set_title('Dependence of mean translation error on \\n ground-truth $l_2$ distance')\n",
    "ax[1, 1].grid(axis='x', alpha=0.5)\n",
    "\n",
    "\n",
    "handles, labels = ax[1, 0].get_legend_handles_labels()\n",
    "handles.extend(ax_11.get_legend_handles_labels()[0])\n",
    "labels.extend(ax_11.get_legend_handles_labels()[1])\n",
    "fig.legend(handles, labels, bbox_to_anchor=(.9, 0), borderaxespad=0.0, ncol=2)\n",
    "fig.tight_layout()\n",
    "plt.savefig('/home/project/code/results/images/scannet_cdfs_depo.pdf', bbox_inches='tight')"
   ]
  }
 ],
 "metadata": {
  "kernelspec": {
   "display_name": "Python 3 (ipykernel)",
   "language": "python",
   "name": "python3"
  },
  "language_info": {
   "codemirror_mode": {
    "name": "ipython",
    "version": 3
   },
   "file_extension": ".py",
   "mimetype": "text/x-python",
   "name": "python",
   "nbconvert_exporter": "python",
   "pygments_lexer": "ipython3",
   "version": "3.8.10"
  }
 },
 "nbformat": 4,
 "nbformat_minor": 5
}
