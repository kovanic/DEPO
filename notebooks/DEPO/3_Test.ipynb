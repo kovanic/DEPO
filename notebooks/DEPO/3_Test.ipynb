{
 "cells": [
  {
   "cell_type": "code",
   "execution_count": 1,
   "id": "19161acc-2995-4209-918f-3bc601b465fc",
   "metadata": {
    "tags": []
   },
   "outputs": [],
   "source": [
    "%load_ext autoreload\n",
    "%autoreload 2"
   ]
  },
  {
   "cell_type": "code",
   "execution_count": 2,
   "id": "decedb4d-afe7-40d6-81be-9edfbf15d955",
   "metadata": {
    "tags": []
   },
   "outputs": [],
   "source": [
    "import sys\n",
    "sys.path.append('../../src')"
   ]
  },
  {
   "cell_type": "code",
   "execution_count": 3,
   "id": "a7ca3437-a97d-4dbf-a5ed-635ab14464eb",
   "metadata": {
    "tags": []
   },
   "outputs": [],
   "source": [
    "import warnings\n",
    "warnings.filterwarnings('ignore')"
   ]
  },
  {
   "cell_type": "code",
   "execution_count": 4,
   "id": "011cdf9c-599d-4a97-a8db-6ebd0a12c186",
   "metadata": {
    "tags": []
   },
   "outputs": [],
   "source": [
    "import torch\n",
    "from torch.utils.data import DataLoader\n",
    "\n",
    "from data.scannet.utils_scannet_fast import ScanNetDataset\n",
    "from DEPO.depo import depo_v2, depo_v3, depo_v4, depo_v6, depo_v7, depo_v8, depo_v13, depo_best\n",
    "from DEPO.depo_ablations import A5\n",
    "\n",
    "from training.train_depo_pose import test as test_pose\n",
    "from training.train_depo_pose_and_flow import test as test_pose_and_flow\n",
    "\n",
    "from utils.model import load_checkpoint, count_parameters\n",
    "from utils.metrics import mAA, rotation_angle_distance_batch, vector_angle_distance_batch, mAA_max, mAA_sep\n",
    "\n",
    "import numpy as np\n",
    "from numpy.linalg import norm\n",
    "\n",
    "import matplotlib.pyplot as plt\n",
    "import seaborn as sns\n",
    "from matplotlib import rc\n",
    "import pandas as pd \n",
    "\n",
    "from tqdm.auto import tqdm\n",
    "import pickle\n",
    "from pathlib import Path\n",
    "import time"
   ]
  },
  {
   "cell_type": "code",
   "execution_count": 5,
   "id": "0f910f7d-6cc9-4959-aafc-5f9669913198",
   "metadata": {
    "tags": []
   },
   "outputs": [],
   "source": [
    "device = torch.device('cuda:0' if torch.cuda.is_available() else 'cpu')"
   ]
  },
  {
   "cell_type": "markdown",
   "id": "a9bfd19c-0ef4-4edc-9497-3269196f27a4",
   "metadata": {
    "tags": []
   },
   "source": [
    "## 0. Data"
   ]
  },
  {
   "cell_type": "code",
   "execution_count": 6,
   "id": "be5ba0ac-f8fb-4f5a-8bf1-42a536b0e0d1",
   "metadata": {
    "tags": []
   },
   "outputs": [],
   "source": [
    "test_data = ScanNetDataset(\n",
    "    root_dir='/home/project/ScanNet/scannet_test_1500/',\n",
    "    npz_path='/home/project/ScanNet/test.npz',\n",
    "    intrinsics_path='/home/project/ScanNet/intrinsics_test.npz',\n",
    "    calculate_flow=True\n",
    ")\n",
    "\n",
    "test_loader = DataLoader(test_data, batch_size=4, shuffle=False, drop_last=False, pin_memory=True, num_workers=0)"
   ]
  },
  {
   "cell_type": "markdown",
   "id": "e213275c-6f31-4e5a-b905-0f6400c30bba",
   "metadata": {},
   "source": [
    "## 1. Metrics"
   ]
  },
  {
   "cell_type": "code",
   "execution_count": 7,
   "id": "9b0380e8-8596-4c83-a589-67f19847d646",
   "metadata": {
    "tags": []
   },
   "outputs": [],
   "source": [
    "metrics = {}\n",
    "\n",
    "if Path('/home/project/code/results/scannet/metrics_depo').is_file():\n",
    "    with open('/home/project/code/results/scannet/metrics_depo', 'rb') as f:\n",
    "        metrics = pickle.load(f)"
   ]
  },
  {
   "cell_type": "markdown",
   "id": "2b5b3e8e-45fe-4453-8f1a-a7a559a8c019",
   "metadata": {},
   "source": [
    "### 1. DEPO-A: PCPVT-L + QT-B + Spatial. pred. "
   ]
  },
  {
   "cell_type": "code",
   "execution_count": 26,
   "id": "99327e5c-129e-445d-9f01-7b72e2d1a246",
   "metadata": {
    "tags": []
   },
   "outputs": [],
   "source": [
    "checkpoint = load_checkpoint(\n",
    "    '/home/project/code/src/weights/flow_to_pose_v2_8.pth',\n",
    "    device)"
   ]
  },
  {
   "cell_type": "code",
   "execution_count": 27,
   "id": "5fcb5f1c-7994-4781-9e63-cf75dd580ca7",
   "metadata": {
    "tags": []
   },
   "outputs": [],
   "source": [
    "model = depo_v2()\n",
    "model.load_state_dict(checkpoint['model'])\n",
    "model.to(device);"
   ]
  },
  {
   "cell_type": "code",
   "execution_count": 42,
   "id": "72449462-c81a-4cb0-9a2d-291e9eb2394e",
   "metadata": {
    "tags": []
   },
   "outputs": [
    {
     "name": "stdout",
     "output_type": "stream",
     "text": [
      "Model has 9.73m of paraeters in total:\n",
      "________________________________________\n",
      "self-encoder: 5.81m\n",
      "cross-encoder: 0.07m\n",
      "pose regressor: 1.88m\n"
     ]
    }
   ],
   "source": [
    "print(f'Model has {count_parameters(model):.2f}m of paraeters in total:')\n",
    "print('_' * 40)\n",
    "print(f'self-encoder: {count_parameters(model.self_encoder):.2f}m')\n",
    "print(f'cross-encoder: {count_parameters(model.cross_encoder):.2f}m')\n",
    "print(f'pose regressor: {count_parameters(model.pose_regressor):.2f}m')"
   ]
  },
  {
   "cell_type": "code",
   "execution_count": 13,
   "id": "dc1d8846-0ef3-4259-afaa-8ae44c102f85",
   "metadata": {
    "tags": []
   },
   "outputs": [
    {
     "name": "stderr",
     "output_type": "stream",
     "text": [
      "100%|█████████████████████████████████████████████████████████████████████████████████████████████████████████████████████| 375/375 [04:08<00:00,  1.51it/s]\n"
     ]
    }
   ],
   "source": [
    "results = test_pose_and_flow(model, test_loader, device)"
   ]
  },
  {
   "cell_type": "code",
   "execution_count": 17,
   "id": "2dec66d1-7264-45d8-ab98-2a5a97d1223e",
   "metadata": {
    "tags": []
   },
   "outputs": [],
   "source": [
    "name = \"DEPO-A: PCPVT-L + QT-B + Spatial pred.\"\n",
    "metrics[name] = {\n",
    "    'R_angle_distances': rotation_angle_distance_batch(results['R_gt'], results['R']),\n",
    "    't_angle_distances': vector_angle_distance_batch(results['t_gt'], results['t']),\n",
    "    't_distances_l2': norm(results['t_gt'] - results['t'], ord=2, axis=1),\n",
    "    'R_gt_distances': rotation_angle_distance_batch(results['R_gt'], np.tile(np.eye(3, 3), (results['R_gt'].shape[0], 1, 1))),\n",
    "    't_gt_distances': norm(results['t_gt'], ord=2, axis=1)\n",
    "}"
   ]
  },
  {
   "cell_type": "code",
   "execution_count": 18,
   "id": "4c32cad1-2452-4135-bafe-c7f28a54575d",
   "metadata": {
    "tags": []
   },
   "outputs": [
    {
     "name": "stdout",
     "output_type": "stream",
     "text": [
      "mAA 5 rotation       0.0223\n",
      "mAA 10 rotation      0.1120\n",
      "mAA 20 rotation      0.3018\n"
     ]
    }
   ],
   "source": [
    "name = \"DEPO-A: PCPVT-L + QT-B + Spatial pred.\"\n",
    "print(f'{\"mAA 5 rotation\":<20} {mAA(metrics[name][\"R_angle_distances\"], metrics[name][\"t_distances_l2\"], thresh=(5, 0.2), N=10000):.4f}')\n",
    "print(f'{\"mAA 10 rotation\":<20} {mAA(metrics[name][\"R_angle_distances\"], metrics[name][\"t_distances_l2\"], thresh=(10, 0.5), N=10000):.4f}')\n",
    "print(f'{\"mAA 20 rotation\":<20} {mAA(metrics[name][\"R_angle_distances\"], metrics[name][\"t_distances_l2\"], thresh=(20, 1), N=10000):.4f}')"
   ]
  },
  {
   "cell_type": "markdown",
   "id": "2ac07e01-d3ed-4258-bfd1-c2fecac429bf",
   "metadata": {},
   "source": [
    "### 2. DEPO-B: PCPVT-L + QT-B + Spatial. pred. "
   ]
  },
  {
   "cell_type": "code",
   "execution_count": 43,
   "id": "a80f962a-cac5-4c05-87d2-56aecd818508",
   "metadata": {
    "tags": []
   },
   "outputs": [],
   "source": [
    "checkpoint = load_checkpoint(\n",
    "    '/home/project/code/src/weights/pose_v6_9.pth',\n",
    "    device)"
   ]
  },
  {
   "cell_type": "code",
   "execution_count": 44,
   "id": "45439e37-78c4-4183-af07-9edf4a22c2fa",
   "metadata": {
    "tags": []
   },
   "outputs": [],
   "source": [
    "model = depo_v6()\n",
    "model.load_state_dict(checkpoint['model'])\n",
    "model.to(device);"
   ]
  },
  {
   "cell_type": "code",
   "execution_count": 45,
   "id": "01d0700a-1076-4482-bff0-9644da8f926b",
   "metadata": {
    "tags": []
   },
   "outputs": [
    {
     "name": "stdout",
     "output_type": "stream",
     "text": [
      "Model has 13.39m of paraeters in total:\n",
      "________________________________________\n",
      "self-encoder: 5.81m\n",
      "cross-encoder: 0.07m\n",
      "pose regressor: 6.08m\n"
     ]
    }
   ],
   "source": [
    "print(f'Model has {count_parameters(model):.2f}m of paraeters in total:')\n",
    "print('_' * 40)\n",
    "print(f'self-encoder: {count_parameters(model.self_encoder):.2f}m')\n",
    "print(f'cross-encoder: {count_parameters(model.cross_encoder):.2f}m')\n",
    "print(f'pose regressor: {count_parameters(model.pose_regressor):.2f}m')"
   ]
  },
  {
   "cell_type": "code",
   "execution_count": 21,
   "id": "18971f0c-291b-45c3-8b92-51d63f9ce39c",
   "metadata": {
    "tags": []
   },
   "outputs": [
    {
     "name": "stderr",
     "output_type": "stream",
     "text": [
      "100%|█████████████████████████████████████████████████████████████████████████████████████████████████████████████████████| 375/375 [04:05<00:00,  1.53it/s]\n"
     ]
    }
   ],
   "source": [
    "results = test_pose(model, test_loader, device)"
   ]
  },
  {
   "cell_type": "code",
   "execution_count": 22,
   "id": "492e1880-42ca-4dba-a33c-e0921207577e",
   "metadata": {
    "tags": []
   },
   "outputs": [],
   "source": [
    "name = \"DEPO-B: PCPVT-L + QT-B + Spatial pred.\"\n",
    "metrics[name] = {\n",
    "    'R_angle_distances': rotation_angle_distance_batch(results['R_gt'], results['R']),\n",
    "    't_angle_distances': vector_angle_distance_batch(results['t_gt'], results['t']),\n",
    "    't_distances_l2': norm(results['t_gt'] - results['t'], ord=2, axis=1),\n",
    "    'R_gt_distances': rotation_angle_distance_batch(results['R_gt'], np.tile(np.eye(3, 3), (results['R_gt'].shape[0], 1, 1))),\n",
    "    't_gt_distances': norm(results['t_gt'], ord=2, axis=1)\n",
    "}"
   ]
  },
  {
   "cell_type": "code",
   "execution_count": 23,
   "id": "e65aa3f9-55a5-40fe-adbb-352a1913a76e",
   "metadata": {
    "tags": []
   },
   "outputs": [
    {
     "name": "stdout",
     "output_type": "stream",
     "text": [
      "mAA 5 rotation       0.0242\n",
      "mAA 10 rotation      0.1395\n",
      "mAA 20 rotation      0.3435\n"
     ]
    }
   ],
   "source": [
    "name = \"DEPO-B: PCPVT-L + QT-B + Spatial pred.\"\n",
    "print(f'{\"mAA 5 rotation\":<20} {mAA(metrics[name][\"R_angle_distances\"], metrics[name][\"t_distances_l2\"], thresh=(5, 0.2), N=10000):.4f}')\n",
    "print(f'{\"mAA 10 rotation\":<20} {mAA(metrics[name][\"R_angle_distances\"], metrics[name][\"t_distances_l2\"], thresh=(10, 0.5), N=10000):.4f}')\n",
    "print(f'{\"mAA 20 rotation\":<20} {mAA(metrics[name][\"R_angle_distances\"], metrics[name][\"t_distances_l2\"], thresh=(20, 1), N=10000):.4f}')"
   ]
  },
  {
   "cell_type": "markdown",
   "id": "cd9cc3f0-ac63-47ec-911b-15296bb4175c",
   "metadata": {},
   "source": [
    "### 3. DEPO-C: PCPVT-L + QT-B + Spatial. pred. "
   ]
  },
  {
   "cell_type": "code",
   "execution_count": 46,
   "id": "b8807aa6-5d2b-4895-b781-7191a9a253c6",
   "metadata": {
    "tags": []
   },
   "outputs": [],
   "source": [
    "checkpoint = load_checkpoint(\n",
    "    '/home/project/code/src/weights/flow_and_pose_v3_4_5.pth',\n",
    "    device)"
   ]
  },
  {
   "cell_type": "code",
   "execution_count": 47,
   "id": "c9c0d13e-2f8f-4024-80ad-a7349c4ed698",
   "metadata": {
    "tags": []
   },
   "outputs": [],
   "source": [
    "model = depo_v3()\n",
    "model.load_state_dict(checkpoint['model'])\n",
    "model.to(device);"
   ]
  },
  {
   "cell_type": "code",
   "execution_count": 51,
   "id": "6fedd95c-748c-4ff0-b248-6b83597c8007",
   "metadata": {
    "tags": []
   },
   "outputs": [
    {
     "name": "stdout",
     "output_type": "stream",
     "text": [
      "Model has 13.58m of paraeters in total:\n",
      "________________________________________\n",
      "self-encoder: 5.81m\n",
      "intrinsics-mlp: 0.10m\n",
      "cross-encoder: 0.07m\n",
      "geometry-decoder: 1.31m\n",
      "pose regressor: 5.63m\n"
     ]
    }
   ],
   "source": [
    "print(f'Model has {count_parameters(model):.2f}m of paraeters in total:')\n",
    "print('_' * 40)\n",
    "print(f'self-encoder: {count_parameters(model.self_encoder):.2f}m')\n",
    "print(f'intrinsics-mlp: {count_parameters(model.intrinsics_mlp):.2f}m')\n",
    "print(f'cross-encoder: {count_parameters(model.cross_encoder):.2f}m')\n",
    "print(f'geometry-decoder: {count_parameters(model.geometry_decoder):.2f}m')\n",
    "print(f'pose regressor: {count_parameters(model.pose_regressor):.2f}m')"
   ]
  },
  {
   "cell_type": "code",
   "execution_count": 26,
   "id": "907b0122-473d-4feb-99dc-ecac999f4678",
   "metadata": {
    "tags": []
   },
   "outputs": [
    {
     "name": "stderr",
     "output_type": "stream",
     "text": [
      "100%|█████████████████████████████████████████████████████████████████████████████████████████████████████████████████████| 375/375 [04:05<00:00,  1.52it/s]\n"
     ]
    }
   ],
   "source": [
    "results = test_pose_and_flow(model, test_loader, device)"
   ]
  },
  {
   "cell_type": "code",
   "execution_count": 27,
   "id": "e7149682-b881-4d51-8c5b-15a1ac491590",
   "metadata": {
    "tags": []
   },
   "outputs": [],
   "source": [
    "name = \"DEPO-C: PCPVT-L + QT-B + Spatial pred.\"\n",
    "metrics[name] = {\n",
    "    'R_angle_distances': rotation_angle_distance_batch(results['R_gt'], results['R']),\n",
    "    't_angle_distances': vector_angle_distance_batch(results['t_gt'], results['t']),\n",
    "    't_distances_l2': norm(results['t_gt'] - results['t'], ord=2, axis=1),\n",
    "    'R_gt_distances': rotation_angle_distance_batch(results['R_gt'], np.tile(np.eye(3, 3), (results['R_gt'].shape[0], 1, 1))),\n",
    "    't_gt_distances': norm(results['t_gt'], ord=2, axis=1)\n",
    "}"
   ]
  },
  {
   "cell_type": "code",
   "execution_count": 28,
   "id": "03f4a119-1d5e-4915-b23c-163538ed0904",
   "metadata": {
    "tags": []
   },
   "outputs": [
    {
     "name": "stdout",
     "output_type": "stream",
     "text": [
      "mAA 5 rotation       0.0565\n",
      "mAA 10 rotation      0.2258\n",
      "mAA 20 rotation      0.4624\n"
     ]
    }
   ],
   "source": [
    "name = \"DEPO-C: PCPVT-L + QT-B + Spatial. pred.\"\n",
    "print(f'{\"mAA 5 rotation\":<20} {mAA(metrics[name][\"R_angle_distances\"], metrics[name][\"t_distances_l2\"], thresh=(5, 0.2), N=10000):.4f}')\n",
    "print(f'{\"mAA 10 rotation\":<20} {mAA(metrics[name][\"R_angle_distances\"], metrics[name][\"t_distances_l2\"], thresh=(10, 0.5), N=10000):.4f}')\n",
    "print(f'{\"mAA 20 rotation\":<20} {mAA(metrics[name][\"R_angle_distances\"], metrics[name][\"t_distances_l2\"], thresh=(20, 1), N=10000):.4f}')"
   ]
  },
  {
   "cell_type": "markdown",
   "id": "c35c1afe-fcba-43a9-afbb-fa31be7cc542",
   "metadata": {},
   "source": [
    "### 4. DEPO-C: PVT-L + QT-B + Spatial. pred. "
   ]
  },
  {
   "cell_type": "code",
   "execution_count": 52,
   "id": "b773a9b4-f01a-4223-9747-33444bc7d6d6",
   "metadata": {
    "tags": []
   },
   "outputs": [],
   "source": [
    "checkpoint = load_checkpoint(\n",
    "    '/home/project/code/src/weights/flow_and_pose_v4_9.pth',\n",
    "    device)"
   ]
  },
  {
   "cell_type": "code",
   "execution_count": 53,
   "id": "0eac0516-d37e-42dc-ab78-cdcc407d10fc",
   "metadata": {
    "tags": []
   },
   "outputs": [],
   "source": [
    "model = depo_v4()\n",
    "model.load_state_dict(checkpoint['model'])\n",
    "model.to(device);"
   ]
  },
  {
   "cell_type": "code",
   "execution_count": 54,
   "id": "8b4f6f08-f48c-48dc-8700-cfc31456e454",
   "metadata": {
    "tags": []
   },
   "outputs": [
    {
     "name": "stdout",
     "output_type": "stream",
     "text": [
      "Model has 12.76m of paraeters in total:\n",
      "________________________________________\n",
      "self-encoder: 4.22m\n",
      "intrinsics-mlp: 0.10m\n",
      "cross-encoder: 0.26m\n",
      "geometry-decoder: 1.61m\n",
      "pose regressor: 5.63m\n"
     ]
    }
   ],
   "source": [
    "print(f'Model has {count_parameters(model):.2f}m of paraeters in total:')\n",
    "print('_' * 40)\n",
    "print(f'self-encoder: {count_parameters(model.self_encoder):.2f}m')\n",
    "print(f'intrinsics-mlp: {count_parameters(model.intrinsics_mlp):.2f}m')\n",
    "print(f'cross-encoder: {count_parameters(model.cross_encoder):.2f}m')\n",
    "print(f'geometry-decoder: {count_parameters(model.geometry_decoder):.2f}m')\n",
    "print(f'pose regressor: {count_parameters(model.pose_regressor):.2f}m')"
   ]
  },
  {
   "cell_type": "code",
   "execution_count": 32,
   "id": "1188eb4b-0c65-4b59-b120-d3112ae5d0bc",
   "metadata": {
    "tags": []
   },
   "outputs": [
    {
     "name": "stderr",
     "output_type": "stream",
     "text": [
      "100%|█████████████████████████████████████████████████████████████████████████████████████████████████████████████████████| 375/375 [04:06<00:00,  1.52it/s]\n"
     ]
    }
   ],
   "source": [
    "results = test_pose_and_flow(model, test_loader, device)"
   ]
  },
  {
   "cell_type": "code",
   "execution_count": 33,
   "id": "97686375-d529-4186-a593-cd9a61f9a70b",
   "metadata": {
    "tags": []
   },
   "outputs": [],
   "source": [
    "name = \"DEPO-C: PVT-L + QT-B + Spatial pred.\"\n",
    "metrics[name] = {\n",
    "    'R_angle_distances': rotation_angle_distance_batch(results['R_gt'], results['R']),\n",
    "    't_angle_distances': vector_angle_distance_batch(results['t_gt'], results['t']),\n",
    "    't_distances_l2': norm(results['t_gt'] - results['t'], ord=2, axis=1),\n",
    "    'R_gt_distances': rotation_angle_distance_batch(results['R_gt'], np.tile(np.eye(3, 3), (results['R_gt'].shape[0], 1, 1))),\n",
    "    't_gt_distances': norm(results['t_gt'], ord=2, axis=1)\n",
    "}"
   ]
  },
  {
   "cell_type": "code",
   "execution_count": 34,
   "id": "eeffd0ae-bae4-484d-a4ba-76821af060f5",
   "metadata": {
    "tags": []
   },
   "outputs": [
    {
     "name": "stdout",
     "output_type": "stream",
     "text": [
      "mAA 5 rotation       0.0588\n",
      "mAA 10 rotation      0.2075\n",
      "mAA 20 rotation      0.4310\n"
     ]
    }
   ],
   "source": [
    "name = \"DEPO-C: PVT-L + QT-B + Spatial pred.\"\n",
    "print(f'{\"mAA 5 rotation\":<20} {mAA(metrics[name][\"R_angle_distances\"], metrics[name][\"t_distances_l2\"], thresh=(5, 0.2), N=10000):.4f}')\n",
    "print(f'{\"mAA 10 rotation\":<20} {mAA(metrics[name][\"R_angle_distances\"], metrics[name][\"t_distances_l2\"], thresh=(10, 0.5), N=10000):.4f}')\n",
    "print(f'{\"mAA 20 rotation\":<20} {mAA(metrics[name][\"R_angle_distances\"], metrics[name][\"t_distances_l2\"], thresh=(20, 1), N=10000):.4f}')"
   ]
  },
  {
   "cell_type": "markdown",
   "id": "f00df43d-8e0c-4d61-a79c-e5cce69c4776",
   "metadata": {},
   "source": [
    "### 5. DEPO-C: PVT-L + QT-B + Spatial. pred. (after ablations) "
   ]
  },
  {
   "cell_type": "code",
   "execution_count": 7,
   "id": "ea1eed38-0116-4daa-9567-87592a729344",
   "metadata": {
    "tags": []
   },
   "outputs": [],
   "source": [
    "checkpoint = load_checkpoint(\n",
    "    '/home/project/code/src/weights/depo_with_modifications_9.pth',\n",
    "    device)"
   ]
  },
  {
   "cell_type": "code",
   "execution_count": 8,
   "id": "8e9a03d1-f339-454c-8475-c1be21fe7518",
   "metadata": {
    "tags": []
   },
   "outputs": [],
   "source": [
    "model = A5()\n",
    "model.load_state_dict(checkpoint['model'])\n",
    "model.to(device);"
   ]
  },
  {
   "cell_type": "code",
   "execution_count": 57,
   "id": "ecb10b1e-8e38-4d09-aab6-88f9bd740ad5",
   "metadata": {
    "tags": []
   },
   "outputs": [
    {
     "name": "stdout",
     "output_type": "stream",
     "text": [
      "Model has 12.89m of paraeters in total:\n",
      "________________________________________\n",
      "self-encoder: 4.22m\n",
      "intrinsics-mlp: 0.10m\n",
      "cross-encoder: 0.26m\n",
      "geometry-decoder: 1.61m\n",
      "pose regressor: 5.63m\n"
     ]
    }
   ],
   "source": [
    "print(f'Model has {count_parameters(model):.2f}m of paraeters in total:')\n",
    "print('_' * 40)\n",
    "print(f'self-encoder: {count_parameters(model.self_encoder):.2f}m')\n",
    "print(f'intrinsics-mlp: {count_parameters(model.intrinsics_mlp):.2f}m')\n",
    "print(f'cross-encoder: {count_parameters(model.cross_encoder):.2f}m')\n",
    "print(f'geometry-decoder: {count_parameters(model.geometry_decoder):.2f}m')\n",
    "print(f'pose regressor: {count_parameters(model.pose_regressor):.2f}m')"
   ]
  },
  {
   "cell_type": "code",
   "execution_count": 9,
   "id": "b21453a0-4760-4fcc-80bb-371c3c783a70",
   "metadata": {
    "tags": []
   },
   "outputs": [
    {
     "data": {
      "application/vnd.jupyter.widget-view+json": {
       "model_id": "905feecb10e24aa2aa9101956a7b6456",
       "version_major": 2,
       "version_minor": 0
      },
      "text/plain": [
       "  0%|          | 0/375 [00:00<?, ?it/s]"
      ]
     },
     "metadata": {},
     "output_type": "display_data"
    }
   ],
   "source": [
    "results = test_pose_and_flow(model, test_loader, device)"
   ]
  },
  {
   "cell_type": "code",
   "execution_count": 10,
   "id": "2949ad65-0e4a-425f-a728-e0ebcd615930",
   "metadata": {
    "tags": []
   },
   "outputs": [],
   "source": [
    "np.savez('results.npz', **results)"
   ]
  },
  {
   "cell_type": "code",
   "execution_count": 11,
   "id": "948b072a-83e8-44ce-84f0-33f69262e52a",
   "metadata": {
    "tags": []
   },
   "outputs": [],
   "source": [
    "name = \"DEPO-C: PVT-L + QT-B + Spatial pred. (after ablations)\"\n",
    "metrics[name] = {\n",
    "    'R_angle_distances': rotation_angle_distance_batch(results['R_gt'], results['R']),\n",
    "    't_angle_distances': vector_angle_distance_batch(results['t_gt'], results['t']),\n",
    "    't_distances_l2': norm(results['t_gt'] - results['t'], ord=2, axis=1),\n",
    "    'R_gt_distances': rotation_angle_distance_batch(results['R_gt'], np.tile(np.eye(3, 3), (results['R_gt'].shape[0], 1, 1))),\n",
    "    't_gt_distances': norm(results['t_gt'], ord=2, axis=1)\n",
    "}"
   ]
  },
  {
   "cell_type": "code",
   "execution_count": 12,
   "id": "06f8be07-96d7-41cc-aec0-913be305f45b",
   "metadata": {
    "tags": []
   },
   "outputs": [
    {
     "name": "stdout",
     "output_type": "stream",
     "text": [
      "mAA 5 rotation       0.1256\n",
      "mAA 10 rotation      0.3466\n",
      "mAA 20 rotation      0.5733\n"
     ]
    }
   ],
   "source": [
    "name = \"DEPO-C: PVT-L + QT-B + Spatial pred. (after ablations)\"\n",
    "print(f'{\"mAA 5 rotation\":<20} {mAA(metrics[name][\"R_angle_distances\"], metrics[name][\"t_distances_l2\"], thresh=(5, 0.2), N=10000):.4f}')\n",
    "print(f'{\"mAA 10 rotation\":<20} {mAA(metrics[name][\"R_angle_distances\"], metrics[name][\"t_distances_l2\"], thresh=(10, 0.5), N=10000):.4f}')\n",
    "print(f'{\"mAA 20 rotation\":<20} {mAA(metrics[name][\"R_angle_distances\"], metrics[name][\"t_distances_l2\"], thresh=(20, 1), N=10000):.4f}')"
   ]
  },
  {
   "cell_type": "markdown",
   "id": "b48603de-09b6-45d0-b29b-29791bc137f9",
   "metadata": {},
   "source": [
    "### 6. LaDEPO-C: PVT-L + QT-B + latent"
   ]
  },
  {
   "cell_type": "code",
   "execution_count": 48,
   "id": "05a81eba-5d90-4178-8b76-7c47cd017703",
   "metadata": {
    "tags": []
   },
   "outputs": [],
   "source": [
    "checkpoint = load_checkpoint(\n",
    "    '/home/project/code/src/weights/ladepo_flow_and_pose_9.pth',\n",
    "    device)"
   ]
  },
  {
   "cell_type": "code",
   "execution_count": 49,
   "id": "54c89b36-10de-4b11-ad6a-adb745e36166",
   "metadata": {
    "tags": []
   },
   "outputs": [],
   "source": [
    "model = depo_v7(calculate_flow=False)\n",
    "model.load_state_dict(checkpoint['model'])\n",
    "model.to(device);"
   ]
  },
  {
   "cell_type": "code",
   "execution_count": 50,
   "id": "81779315-839d-4421-8d29-2ac274488c9b",
   "metadata": {
    "tags": []
   },
   "outputs": [
    {
     "name": "stdout",
     "output_type": "stream",
     "text": [
      "Model has 31.37m of paraeters in total:\n",
      "________________________________________\n",
      "self-encoder: 4.22m\n",
      "intrinsics-mlp: 0.40m\n",
      "cross-encoder: 0.26m\n",
      "geometry-decoder: 1.64m\n",
      "pose regressor: 23.21m\n"
     ]
    }
   ],
   "source": [
    "print(f'Model has {count_parameters(model):.2f}m of paraeters in total:')\n",
    "print('_' * 40)\n",
    "print(f'self-encoder: {count_parameters(model.self_encoder):.2f}m')\n",
    "print(f'intrinsics-mlp: {count_parameters(model.intrinsics_mlp):.2f}m')\n",
    "print(f'cross-encoder: {count_parameters(model.cross_encoder):.2f}m')\n",
    "print(f'geometry-decoder: {count_parameters(model.geometry_decoder):.2f}m')\n",
    "print(f'pose regressor: {count_parameters(model.pose_regressor):.2f}m')"
   ]
  },
  {
   "cell_type": "code",
   "execution_count": 10,
   "id": "dced7885-306d-4a74-9479-9c91bef0653b",
   "metadata": {
    "tags": []
   },
   "outputs": [
    {
     "name": "stderr",
     "output_type": "stream",
     "text": [
      "100%|███████████████████████████████████████████████████████████████████████████████████████████████████████████████████| 1500/1500 [03:21<00:00,  7.46it/s]\n"
     ]
    }
   ],
   "source": [
    "results = test_pose_and_flow(model, test_loader, device)"
   ]
  },
  {
   "cell_type": "code",
   "execution_count": 12,
   "id": "a0d100e8-ce12-441b-8c47-7e5748cf1f1e",
   "metadata": {
    "tags": []
   },
   "outputs": [],
   "source": [
    "name = \"LaDEPO-C: PVT-L + QT-B + latent\"\n",
    "metrics[name] = {\n",
    "    'R_angle_distances': rotation_angle_distance_batch(results['R_gt'], results['R']),\n",
    "    't_angle_distances': vector_angle_distance_batch(results['t_gt'], results['t']),\n",
    "    't_distances_l2': norm(results['t_gt'] - results['t'], ord=2, axis=1),\n",
    "    'R_gt_distances': rotation_angle_distance_batch(results['R_gt'], np.tile(np.eye(3, 3), (results['R_gt'].shape[0], 1, 1))),\n",
    "    't_gt_distances': norm(results['t_gt'], ord=2, axis=1)\n",
    "}"
   ]
  },
  {
   "cell_type": "code",
   "execution_count": 13,
   "id": "b02d2cb0-10ac-4663-902c-8bb5d0ce1e13",
   "metadata": {
    "tags": []
   },
   "outputs": [
    {
     "name": "stdout",
     "output_type": "stream",
     "text": [
      "mAA 5 rotation       0.0917\n",
      "mAA 10 rotation      0.3008\n",
      "mAA 20 rotation      0.5434\n"
     ]
    }
   ],
   "source": [
    "name = \"LaDEPO-C: PVT-L + QT-B + latent\"\n",
    "print(f'{\"mAA 5 rotation\":<20} {mAA(metrics[name][\"R_angle_distances\"], metrics[name][\"t_distances_l2\"], thresh=(5, 0.2), N=10000):.4f}')\n",
    "print(f'{\"mAA 10 rotation\":<20} {mAA(metrics[name][\"R_angle_distances\"], metrics[name][\"t_distances_l2\"], thresh=(10, 0.5), N=10000):.4f}')\n",
    "print(f'{\"mAA 20 rotation\":<20} {mAA(metrics[name][\"R_angle_distances\"], metrics[name][\"t_distances_l2\"], thresh=(20, 1), N=10000):.4f}')"
   ]
  },
  {
   "cell_type": "markdown",
   "id": "02bb841f-d323-42fc-91d0-51701f7a5c4c",
   "metadata": {},
   "source": [
    "### Speed computation"
   ]
  },
  {
   "cell_type": "code",
   "execution_count": 53,
   "id": "31d7fddc-80e0-4ec3-8cc8-b292e2d806e2",
   "metadata": {},
   "outputs": [
    {
     "name": "stdout",
     "output_type": "stream",
     "text": [
      "Running time is 23.716632503094058 ms $\\pm$ 0.1916254425588172 ms\n"
     ]
    }
   ],
   "source": [
    "time_eval = []\n",
    "N=0\n",
    "model.eval()\n",
    "with torch.no_grad():\n",
    "    while N < 101:\n",
    "        N+=1\n",
    "        data = next(iter(test_loader))\n",
    "        for key in data.keys():\n",
    "            if key in ('image_0', 'image_1', 'K_0', 'K_1', 'flow_0to1', 'mask'):\n",
    "                data[key] = data[key].to(device)   \n",
    "        B = data['image_0'].size(0)\n",
    "\n",
    "        start = time.time() * 1000\n",
    "        flow, q, t = model(\n",
    "            img_q=data['image_0'], img_s=data['image_1'],\n",
    "            K_q=data['K_0'], K_s=data['K_1'],\n",
    "            scales_q=0.125 * torch.ones((B, 2), device=device),\n",
    "            scales_s=0.125 * torch.ones((B, 2), device=device),\n",
    "            H=60, W=80)\n",
    "        end = time.time() * 1000\n",
    "        time_eval.append(end-start)\n",
    "\n",
    "    time_eval = np.array(time_eval)\n",
    "    print(f'Running time is {np.mean(time_eval)} ms $\\pm$ {np.std(time_eval)} ms')"
   ]
  },
  {
   "cell_type": "markdown",
   "id": "bbbbc388-b64b-4a0f-ba9c-b17a03b79cbb",
   "metadata": {},
   "source": [
    "### 7. DEPO-C: PVT-L + QT-B + Spatial pred. (relative)"
   ]
  },
  {
   "cell_type": "code",
   "execution_count": 8,
   "id": "734b700a-7a4c-4e03-8331-b6ef95bd3269",
   "metadata": {
    "tags": []
   },
   "outputs": [],
   "source": [
    "checkpoint = load_checkpoint(\n",
    "    '/home/project/code/src/weights/flow_and_pose_best_relative_2.pth',\n",
    "    device)"
   ]
  },
  {
   "cell_type": "code",
   "execution_count": 9,
   "id": "2b40ee2b-7d91-4698-bdcb-0f8d5120bd70",
   "metadata": {
    "tags": []
   },
   "outputs": [],
   "source": [
    "model = depo_best(calculate_flow=False)\n",
    "model.load_state_dict(checkpoint['model'])\n",
    "model.to(device);"
   ]
  },
  {
   "cell_type": "code",
   "execution_count": 10,
   "id": "4bea31c4-5a97-44e2-a1c8-824fbd8006d2",
   "metadata": {
    "tags": []
   },
   "outputs": [
    {
     "name": "stdout",
     "output_type": "stream",
     "text": [
      "Model has 12.89m of paraeters in total:\n",
      "________________________________________\n",
      "self-encoder: 4.22m\n",
      "intrinsics-mlp: 0.10m\n",
      "cross-encoder: 0.26m\n",
      "geometry-decoder: 1.61m\n",
      "pose regressor: 5.63m\n"
     ]
    }
   ],
   "source": [
    "print(f'Model has {count_parameters(model):.2f}m of paraeters in total:')\n",
    "print('_' * 40)\n",
    "print(f'self-encoder: {count_parameters(model.self_encoder):.2f}m')\n",
    "print(f'intrinsics-mlp: {count_parameters(model.intrinsics_mlp):.2f}m')\n",
    "print(f'cross-encoder: {count_parameters(model.cross_encoder):.2f}m')\n",
    "print(f'geometry-decoder: {count_parameters(model.geometry_decoder):.2f}m')\n",
    "print(f'pose regressor: {count_parameters(model.pose_regressor):.2f}m')"
   ]
  },
  {
   "cell_type": "code",
   "execution_count": 12,
   "id": "e116eecf-a6f8-4aa2-925e-77254d688aa0",
   "metadata": {
    "tags": []
   },
   "outputs": [],
   "source": [
    "results = test_pose_and_flow(model, test_loader, device)"
   ]
  },
  {
   "cell_type": "code",
   "execution_count": 12,
   "id": "4a124dcf-991d-44f5-8983-ec55c2303581",
   "metadata": {
    "tags": []
   },
   "outputs": [],
   "source": [
    "name = \"DEPO-C: PVT-L + QT-B + Spatial pred. (relative)\"\n",
    "metrics[name] = {\n",
    "    'R_angle_distances': rotation_angle_distance_batch(results['R_gt'], results['R']),\n",
    "    't_angle_distances': vector_angle_distance_batch(results['t_gt'], results['t']),\n",
    "    't_distances_l2': norm(results['t_gt'] - results['t'], ord=2, axis=1),\n",
    "    'R_gt_distances': rotation_angle_distance_batch(results['R_gt'], np.tile(np.eye(3, 3), (results['R_gt'].shape[0], 1, 1))),\n",
    "    't_gt_distances': norm(results['t_gt'], ord=2, axis=1)\n",
    "}"
   ]
  },
  {
   "cell_type": "code",
   "execution_count": 13,
   "id": "37f0030d-f842-4d14-ac70-55fd1382b7a4",
   "metadata": {
    "tags": []
   },
   "outputs": [
    {
     "name": "stdout",
     "output_type": "stream",
     "text": [
      "mAA 5 rotation       0.0000\n",
      "mAA 10 rotation      0.0007\n",
      "mAA 20 rotation      0.0076\n"
     ]
    }
   ],
   "source": [
    "name = \"DEPO-C: PVT-L + QT-B + Spatial pred. (relative)\"\n",
    "print(f'{\"mAA 5 rotation\":<20} {mAA(metrics[name][\"R_angle_distances\"], metrics[name][\"t_distances_l2\"], thresh=(5, 0.2), N=10000):.4f}')\n",
    "print(f'{\"mAA 10 rotation\":<20} {mAA(metrics[name][\"R_angle_distances\"], metrics[name][\"t_distances_l2\"], thresh=(10, 0.5), N=10000):.4f}')\n",
    "print(f'{\"mAA 20 rotation\":<20} {mAA(metrics[name][\"R_angle_distances\"], metrics[name][\"t_distances_l2\"], thresh=(20, 1), N=10000):.4f}')"
   ]
  },
  {
   "cell_type": "markdown",
   "id": "b0befa34-08de-4670-85aa-1a99d2b7dbb8",
   "metadata": {},
   "source": [
    "### 8. DEPO-C: PVT-L + QT-B + Spatial pred. (absolute)"
   ]
  },
  {
   "cell_type": "code",
   "execution_count": 8,
   "id": "f76683ad-f2a1-44c8-aa00-9215dc41afff",
   "metadata": {
    "tags": []
   },
   "outputs": [],
   "source": [
    "checkpoint = load_checkpoint(\n",
    "    '/home/project/code/src/weights/flow_and_pose_best_abs_0.pth',\n",
    "    device)"
   ]
  },
  {
   "cell_type": "code",
   "execution_count": 9,
   "id": "a34af319-975e-436a-9846-d3faede433ec",
   "metadata": {
    "tags": []
   },
   "outputs": [],
   "source": [
    "model = depo_best(calculate_flow=False)\n",
    "model.load_state_dict(checkpoint['model'])\n",
    "model.to(device);"
   ]
  },
  {
   "cell_type": "code",
   "execution_count": 10,
   "id": "f3cf6898-2fff-40bb-be65-b9e97a15aa15",
   "metadata": {
    "tags": []
   },
   "outputs": [
    {
     "name": "stderr",
     "output_type": "stream",
     "text": [
      "100%|█████████████████████████████████████████████████████████████████████████████████████████████████████████████████████| 375/375 [02:12<00:00,  2.84it/s]\n"
     ]
    }
   ],
   "source": [
    "results = test_pose_and_flow(model, test_loader, device)"
   ]
  },
  {
   "cell_type": "code",
   "execution_count": 11,
   "id": "36704cf8-6d10-494e-8c71-932d769a8107",
   "metadata": {
    "tags": []
   },
   "outputs": [],
   "source": [
    "name = \"DEPO-C-f: PVT-L + QT-B + Spatial pred. (absolute)\"\n",
    "metrics[name] = {\n",
    "    'R_angle_distances': rotation_angle_distance_batch(results['R_gt'], results['R']),\n",
    "    't_angle_distances': vector_angle_distance_batch(results['t_gt'], results['t']),\n",
    "    't_distances_l2': norm(results['t_gt'] - results['t'], ord=2, axis=1),\n",
    "    'R_gt_distances': rotation_angle_distance_batch(results['R_gt'], np.tile(np.eye(3, 3), (results['R_gt'].shape[0], 1, 1))),\n",
    "    't_gt_distances': norm(results['t_gt'], ord=2, axis=1)\n",
    "}"
   ]
  },
  {
   "cell_type": "code",
   "execution_count": 12,
   "id": "5ceb2556-b51a-4727-a18c-f5dcb234c3d2",
   "metadata": {
    "tags": []
   },
   "outputs": [
    {
     "name": "stdout",
     "output_type": "stream",
     "text": [
      "mAA 5 rotation       0.2227\n",
      "mAA 10 rotation      0.4940\n",
      "mAA 20 rotation      0.6979\n"
     ]
    }
   ],
   "source": [
    "name = \"DEPO-C-f: PVT-L + QT-B + Spatial pred. (absolute)\"\n",
    "print(f'{\"mAA 5 rotation\":<20} {mAA(metrics[name][\"R_angle_distances\"], metrics[name][\"t_distances_l2\"], thresh=(5, 0.2), N=10000):.4f}')\n",
    "print(f'{\"mAA 10 rotation\":<20} {mAA(metrics[name][\"R_angle_distances\"], metrics[name][\"t_distances_l2\"], thresh=(10, 0.5), N=10000):.4f}')\n",
    "print(f'{\"mAA 20 rotation\":<20} {mAA(metrics[name][\"R_angle_distances\"], metrics[name][\"t_distances_l2\"], thresh=(20, 1), N=10000):.4f}')"
   ]
  },
  {
   "cell_type": "code",
   "execution_count": 19,
   "id": "03fc07a4-cd86-4498-aaca-b4d7cc10e0d5",
   "metadata": {
    "tags": []
   },
   "outputs": [],
   "source": [
    "np.savez('results.npz', **results)"
   ]
  },
  {
   "cell_type": "markdown",
   "id": "cf7b0733-4706-46ed-a4d9-8ea32cab3a32",
   "metadata": {},
   "source": [
    "### Speed computation"
   ]
  },
  {
   "cell_type": "code",
   "execution_count": 45,
   "id": "df361dbf-9ef7-4678-b71c-b213f2be6d2d",
   "metadata": {},
   "outputs": [
    {
     "name": "stdout",
     "output_type": "stream",
     "text": [
      "Running time is 18.419448097153467 ms $\\pm$ 0.26127333797487184 ms\n"
     ]
    }
   ],
   "source": [
    "time_eval = []\n",
    "N=0\n",
    "model.eval()\n",
    "with torch.no_grad():\n",
    "    while N < 101:\n",
    "        N+=1\n",
    "        data = next(iter(test_loader))\n",
    "        for key in data.keys():\n",
    "            if key in ('image_0', 'image_1', 'K_0', 'K_1', 'flow_0to1', 'mask'):\n",
    "                data[key] = data[key].to(device)   \n",
    "        B = data['image_0'].size(0)\n",
    "\n",
    "        start = time.time() * 1000\n",
    "        flow, q, t = model(\n",
    "            img_q=data['image_0'], img_s=data['image_1'],\n",
    "            K_q=data['K_0'], K_s=data['K_1'],\n",
    "            scales_q=0.125 * torch.ones((B, 2), device=device),\n",
    "            scales_s=0.125 * torch.ones((B, 2), device=device),\n",
    "            H=60, W=80)\n",
    "        end = time.time() * 1000\n",
    "        time_eval.append(end-start)\n",
    "\n",
    "    time_eval = np.array(time_eval)\n",
    "    print(f'Running time is {np.mean(time_eval)} ms $\\pm$ {np.std(time_eval)} ms')"
   ]
  },
  {
   "cell_type": "markdown",
   "id": "9f1c6c87-02a6-425d-ad31-5c533b511af3",
   "metadata": {},
   "source": [
    "#### Saving metrics"
   ]
  },
  {
   "cell_type": "code",
   "execution_count": 13,
   "id": "d641089f-2eb9-4135-81e1-19bdec795063",
   "metadata": {
    "tags": []
   },
   "outputs": [],
   "source": [
    "with open('/home/project/code/results/scannet/metrics_depo', 'wb') as f:\n",
    "    pickle.dump(metrics, f)"
   ]
  },
  {
   "cell_type": "markdown",
   "id": "0786a0c0-821b-4820-a848-8d764d1939cb",
   "metadata": {},
   "source": [
    "# 2. Results\n",
    "### 2.1 Table form\n"
   ]
  },
  {
   "cell_type": "code",
   "execution_count": 14,
   "id": "05ab49dc-8aaf-46a7-b798-62be275bfa1b",
   "metadata": {
    "tags": []
   },
   "outputs": [
    {
     "data": {
      "text/html": [
       "<style type=\"text/css\">\n",
       "#T_eaa6a_row0_col0, #T_eaa6a_row0_col1, #T_eaa6a_row0_col2, #T_eaa6a_row0_col3, #T_eaa6a_row0_col4, #T_eaa6a_row0_col5, #T_eaa6a_row0_col6, #T_eaa6a_row0_col7, #T_eaa6a_row6_col8, #T_eaa6a_row6_col9, #T_eaa6a_row6_col10, #T_eaa6a_row6_col11 {\n",
       "  background-color: #a50026;\n",
       "  color: #f1f1f1;\n",
       "}\n",
       "#T_eaa6a_row0_col8 {\n",
       "  background-color: #0d8044;\n",
       "  color: #f1f1f1;\n",
       "}\n",
       "#T_eaa6a_row0_col9 {\n",
       "  background-color: #148e4b;\n",
       "  color: #f1f1f1;\n",
       "}\n",
       "#T_eaa6a_row0_col10, #T_eaa6a_row1_col11 {\n",
       "  background-color: #219c52;\n",
       "  color: #f1f1f1;\n",
       "}\n",
       "#T_eaa6a_row0_col11 {\n",
       "  background-color: #30a356;\n",
       "  color: #f1f1f1;\n",
       "}\n",
       "#T_eaa6a_row1_col0 {\n",
       "  background-color: #e34933;\n",
       "  color: #f1f1f1;\n",
       "}\n",
       "#T_eaa6a_row1_col1 {\n",
       "  background-color: #e24731;\n",
       "  color: #f1f1f1;\n",
       "}\n",
       "#T_eaa6a_row1_col2 {\n",
       "  background-color: #d62f27;\n",
       "  color: #f1f1f1;\n",
       "}\n",
       "#T_eaa6a_row1_col3 {\n",
       "  background-color: #be1827;\n",
       "  color: #f1f1f1;\n",
       "}\n",
       "#T_eaa6a_row1_col4, #T_eaa6a_row1_col5 {\n",
       "  background-color: #fb9d59;\n",
       "  color: #000000;\n",
       "}\n",
       "#T_eaa6a_row1_col6 {\n",
       "  background-color: #f88950;\n",
       "  color: #f1f1f1;\n",
       "}\n",
       "#T_eaa6a_row1_col7 {\n",
       "  background-color: #f46d43;\n",
       "  color: #f1f1f1;\n",
       "}\n",
       "#T_eaa6a_row1_col8, #T_eaa6a_row2_col9, #T_eaa6a_row5_col10 {\n",
       "  background-color: #0b7d42;\n",
       "  color: #f1f1f1;\n",
       "}\n",
       "#T_eaa6a_row1_col9 {\n",
       "  background-color: #108647;\n",
       "  color: #f1f1f1;\n",
       "}\n",
       "#T_eaa6a_row1_col10, #T_eaa6a_row6_col3 {\n",
       "  background-color: #17934e;\n",
       "  color: #f1f1f1;\n",
       "}\n",
       "#T_eaa6a_row2_col0 {\n",
       "  background-color: #fffcba;\n",
       "  color: #000000;\n",
       "}\n",
       "#T_eaa6a_row2_col1, #T_eaa6a_row2_col2 {\n",
       "  background-color: #ebf7a3;\n",
       "  color: #000000;\n",
       "}\n",
       "#T_eaa6a_row2_col3 {\n",
       "  background-color: #fcaa5f;\n",
       "  color: #000000;\n",
       "}\n",
       "#T_eaa6a_row2_col4 {\n",
       "  background-color: #cfeb85;\n",
       "  color: #000000;\n",
       "}\n",
       "#T_eaa6a_row2_col5 {\n",
       "  background-color: #f1f9ac;\n",
       "  color: #000000;\n",
       "}\n",
       "#T_eaa6a_row2_col6 {\n",
       "  background-color: #fff6b0;\n",
       "  color: #000000;\n",
       "}\n",
       "#T_eaa6a_row2_col7 {\n",
       "  background-color: #feea9b;\n",
       "  color: #000000;\n",
       "}\n",
       "#T_eaa6a_row2_col8, #T_eaa6a_row3_col8, #T_eaa6a_row4_col10, #T_eaa6a_row4_col11, #T_eaa6a_row6_col4 {\n",
       "  background-color: #07753e;\n",
       "  color: #f1f1f1;\n",
       "}\n",
       "#T_eaa6a_row2_col10 {\n",
       "  background-color: #128a49;\n",
       "  color: #f1f1f1;\n",
       "}\n",
       "#T_eaa6a_row2_col11 {\n",
       "  background-color: #199750;\n",
       "  color: #f1f1f1;\n",
       "}\n",
       "#T_eaa6a_row3_col0 {\n",
       "  background-color: #fee18d;\n",
       "  color: #000000;\n",
       "}\n",
       "#T_eaa6a_row3_col1 {\n",
       "  background-color: #fee797;\n",
       "  color: #000000;\n",
       "}\n",
       "#T_eaa6a_row3_col2 {\n",
       "  background-color: #fed481;\n",
       "  color: #000000;\n",
       "}\n",
       "#T_eaa6a_row3_col3 {\n",
       "  background-color: #fdc372;\n",
       "  color: #000000;\n",
       "}\n",
       "#T_eaa6a_row3_col4 {\n",
       "  background-color: #d7ee8a;\n",
       "  color: #000000;\n",
       "}\n",
       "#T_eaa6a_row3_col5 {\n",
       "  background-color: #e8f59f;\n",
       "  color: #000000;\n",
       "}\n",
       "#T_eaa6a_row3_col6 {\n",
       "  background-color: #feffbe;\n",
       "  color: #000000;\n",
       "}\n",
       "#T_eaa6a_row3_col7 {\n",
       "  background-color: #feec9f;\n",
       "  color: #000000;\n",
       "}\n",
       "#T_eaa6a_row3_col9 {\n",
       "  background-color: #0c7f43;\n",
       "  color: #f1f1f1;\n",
       "}\n",
       "#T_eaa6a_row3_col10, #T_eaa6a_row5_col11, #T_eaa6a_row6_col0 {\n",
       "  background-color: #118848;\n",
       "  color: #f1f1f1;\n",
       "}\n",
       "#T_eaa6a_row3_col11 {\n",
       "  background-color: #18954f;\n",
       "  color: #f1f1f1;\n",
       "}\n",
       "#T_eaa6a_row4_col0, #T_eaa6a_row4_col2 {\n",
       "  background-color: #75c465;\n",
       "  color: #000000;\n",
       "}\n",
       "#T_eaa6a_row4_col1 {\n",
       "  background-color: #78c565;\n",
       "  color: #000000;\n",
       "}\n",
       "#T_eaa6a_row4_col3 {\n",
       "  background-color: #a5d86a;\n",
       "  color: #000000;\n",
       "}\n",
       "#T_eaa6a_row4_col4, #T_eaa6a_row4_col5 {\n",
       "  background-color: #36a657;\n",
       "  color: #f1f1f1;\n",
       "}\n",
       "#T_eaa6a_row4_col6 {\n",
       "  background-color: #51b35e;\n",
       "  color: #f1f1f1;\n",
       "}\n",
       "#T_eaa6a_row4_col7 {\n",
       "  background-color: #6ec064;\n",
       "  color: #000000;\n",
       "}\n",
       "#T_eaa6a_row4_col8, #T_eaa6a_row6_col7 {\n",
       "  background-color: #036e3a;\n",
       "  color: #f1f1f1;\n",
       "}\n",
       "#T_eaa6a_row4_col9, #T_eaa6a_row6_col5 {\n",
       "  background-color: #05713c;\n",
       "  color: #f1f1f1;\n",
       "}\n",
       "#T_eaa6a_row5_col0 {\n",
       "  background-color: #a7d96b;\n",
       "  color: #000000;\n",
       "}\n",
       "#T_eaa6a_row5_col1 {\n",
       "  background-color: #96d268;\n",
       "  color: #000000;\n",
       "}\n",
       "#T_eaa6a_row5_col2 {\n",
       "  background-color: #87cb67;\n",
       "  color: #000000;\n",
       "}\n",
       "#T_eaa6a_row5_col3 {\n",
       "  background-color: #c9e881;\n",
       "  color: #000000;\n",
       "}\n",
       "#T_eaa6a_row5_col4 {\n",
       "  background-color: #70c164;\n",
       "  color: #000000;\n",
       "}\n",
       "#T_eaa6a_row5_col5 {\n",
       "  background-color: #84ca66;\n",
       "  color: #000000;\n",
       "}\n",
       "#T_eaa6a_row5_col6 {\n",
       "  background-color: #c3e67d;\n",
       "  color: #000000;\n",
       "}\n",
       "#T_eaa6a_row5_col7 {\n",
       "  background-color: #d1ec86;\n",
       "  color: #000000;\n",
       "}\n",
       "#T_eaa6a_row5_col8 {\n",
       "  background-color: #04703b;\n",
       "  color: #f1f1f1;\n",
       "}\n",
       "#T_eaa6a_row5_col9, #T_eaa6a_row6_col6 {\n",
       "  background-color: #06733d;\n",
       "  color: #f1f1f1;\n",
       "}\n",
       "#T_eaa6a_row6_col1 {\n",
       "  background-color: #0f8446;\n",
       "  color: #f1f1f1;\n",
       "}\n",
       "#T_eaa6a_row6_col2 {\n",
       "  background-color: #16914d;\n",
       "  color: #f1f1f1;\n",
       "}\n",
       "#T_eaa6a_row7_col0, #T_eaa6a_row7_col1, #T_eaa6a_row7_col2, #T_eaa6a_row7_col3, #T_eaa6a_row7_col4, #T_eaa6a_row7_col5, #T_eaa6a_row7_col6, #T_eaa6a_row7_col7, #T_eaa6a_row7_col8, #T_eaa6a_row7_col9, #T_eaa6a_row7_col10, #T_eaa6a_row7_col11 {\n",
       "  background-color: #006837;\n",
       "  color: #f1f1f1;\n",
       "}\n",
       "</style>\n",
       "<table id=\"T_eaa6a\">\n",
       "  <thead>\n",
       "    <tr>\n",
       "      <th class=\"blank level0\" >&nbsp;</th>\n",
       "      <th id=\"T_eaa6a_level0_col0\" class=\"col_heading level0 col0\" >R_q=0.25</th>\n",
       "      <th id=\"T_eaa6a_level0_col1\" class=\"col_heading level0 col1\" >R_q=0.5</th>\n",
       "      <th id=\"T_eaa6a_level0_col2\" class=\"col_heading level0 col2\" >R_q=0.75</th>\n",
       "      <th id=\"T_eaa6a_level0_col3\" class=\"col_heading level0 col3\" >R_q=0.9</th>\n",
       "      <th id=\"T_eaa6a_level0_col4\" class=\"col_heading level0 col4\" >angle_t_q=0.25</th>\n",
       "      <th id=\"T_eaa6a_level0_col5\" class=\"col_heading level0 col5\" >angle_t_q=0.5</th>\n",
       "      <th id=\"T_eaa6a_level0_col6\" class=\"col_heading level0 col6\" >angle_t_q=0.75</th>\n",
       "      <th id=\"T_eaa6a_level0_col7\" class=\"col_heading level0 col7\" >angle_t_q=0.9</th>\n",
       "      <th id=\"T_eaa6a_level0_col8\" class=\"col_heading level0 col8\" >t_q=0.25</th>\n",
       "      <th id=\"T_eaa6a_level0_col9\" class=\"col_heading level0 col9\" >t_q=0.5</th>\n",
       "      <th id=\"T_eaa6a_level0_col10\" class=\"col_heading level0 col10\" >t_q=0.75</th>\n",
       "      <th id=\"T_eaa6a_level0_col11\" class=\"col_heading level0 col11\" >t_q=0.9</th>\n",
       "    </tr>\n",
       "  </thead>\n",
       "  <tbody>\n",
       "    <tr>\n",
       "      <th id=\"T_eaa6a_level0_row0\" class=\"row_heading level0 row0\" >DEPO-A: PCPVT-L + QT-B + Spatial. pred.</th>\n",
       "      <td id=\"T_eaa6a_row0_col0\" class=\"data row0 col0\" >7.18</td>\n",
       "      <td id=\"T_eaa6a_row0_col1\" class=\"data row0 col1\" >13.70</td>\n",
       "      <td id=\"T_eaa6a_row0_col2\" class=\"data row0 col2\" >27.76</td>\n",
       "      <td id=\"T_eaa6a_row0_col3\" class=\"data row0 col3\" >57.63</td>\n",
       "      <td id=\"T_eaa6a_row0_col4\" class=\"data row0 col4\" >36.93</td>\n",
       "      <td id=\"T_eaa6a_row0_col5\" class=\"data row0 col5\" >64.14</td>\n",
       "      <td id=\"T_eaa6a_row0_col6\" class=\"data row0 col6\" >100.29</td>\n",
       "      <td id=\"T_eaa6a_row0_col7\" class=\"data row0 col7\" >134.73</td>\n",
       "      <td id=\"T_eaa6a_row0_col8\" class=\"data row0 col8\" >0.27</td>\n",
       "      <td id=\"T_eaa6a_row0_col9\" class=\"data row0 col9\" >0.57</td>\n",
       "      <td id=\"T_eaa6a_row0_col10\" class=\"data row0 col10\" >1.11</td>\n",
       "      <td id=\"T_eaa6a_row0_col11\" class=\"data row0 col11\" >1.96</td>\n",
       "    </tr>\n",
       "    <tr>\n",
       "      <th id=\"T_eaa6a_level0_row1\" class=\"row_heading level0 row1\" >DEPO-B: PCPVT-L + QT-B + Spatial. pred.</th>\n",
       "      <td id=\"T_eaa6a_row1_col0\" class=\"data row1 col0\" >6.45</td>\n",
       "      <td id=\"T_eaa6a_row1_col1\" class=\"data row1 col1\" >12.29</td>\n",
       "      <td id=\"T_eaa6a_row1_col2\" class=\"data row1 col2\" >25.68</td>\n",
       "      <td id=\"T_eaa6a_row1_col3\" class=\"data row1 col3\" >55.30</td>\n",
       "      <td id=\"T_eaa6a_row1_col4\" class=\"data row1 col4\" >28.85</td>\n",
       "      <td id=\"T_eaa6a_row1_col5\" class=\"data row1 col5\" >50.66</td>\n",
       "      <td id=\"T_eaa6a_row1_col6\" class=\"data row1 col6\" >82.64</td>\n",
       "      <td id=\"T_eaa6a_row1_col7\" class=\"data row1 col7\" >118.23</td>\n",
       "      <td id=\"T_eaa6a_row1_col8\" class=\"data row1 col8\" >0.24</td>\n",
       "      <td id=\"T_eaa6a_row1_col9\" class=\"data row1 col9\" >0.50</td>\n",
       "      <td id=\"T_eaa6a_row1_col10\" class=\"data row1 col10\" >0.99</td>\n",
       "      <td id=\"T_eaa6a_row1_col11\" class=\"data row1 col11\" >1.84</td>\n",
       "    </tr>\n",
       "    <tr>\n",
       "      <th id=\"T_eaa6a_level0_row2\" class=\"row_heading level0 row2\" >DEPO-C: PCPVT-L + QT-B + Spatial. pred.</th>\n",
       "      <td id=\"T_eaa6a_row2_col0\" class=\"data row2 col0\" >4.65</td>\n",
       "      <td id=\"T_eaa6a_row2_col1\" class=\"data row2 col1\" >8.11</td>\n",
       "      <td id=\"T_eaa6a_row2_col2\" class=\"data row2 col2\" >16.08</td>\n",
       "      <td id=\"T_eaa6a_row2_col3\" class=\"data row2 col3\" >44.58</td>\n",
       "      <td id=\"T_eaa6a_row2_col4\" class=\"data row2 col4\" >18.87</td>\n",
       "      <td id=\"T_eaa6a_row2_col5\" class=\"data row2 col5\" >37.98</td>\n",
       "      <td id=\"T_eaa6a_row2_col6\" class=\"data row2 col6\" >66.28</td>\n",
       "      <td id=\"T_eaa6a_row2_col7\" class=\"data row2 col7\" >99.36</td>\n",
       "      <td id=\"T_eaa6a_row2_col8\" class=\"data row2 col8\" >0.20</td>\n",
       "      <td id=\"T_eaa6a_row2_col9\" class=\"data row2 col9\" >0.42</td>\n",
       "      <td id=\"T_eaa6a_row2_col10\" class=\"data row2 col10\" >0.87</td>\n",
       "      <td id=\"T_eaa6a_row2_col11\" class=\"data row2 col11\" >1.76</td>\n",
       "    </tr>\n",
       "    <tr>\n",
       "      <th id=\"T_eaa6a_level0_row3\" class=\"row_heading level0 row3\" >DEPO-C: PVT-L + QT-B + Spatial. pred.</th>\n",
       "      <td id=\"T_eaa6a_row3_col0\" class=\"data row3 col0\" >5.09</td>\n",
       "      <td id=\"T_eaa6a_row3_col1\" class=\"data row3 col1\" >9.40</td>\n",
       "      <td id=\"T_eaa6a_row3_col2\" class=\"data row3 col2\" >19.79</td>\n",
       "      <td id=\"T_eaa6a_row3_col3\" class=\"data row3 col3\" >42.60</td>\n",
       "      <td id=\"T_eaa6a_row3_col4\" class=\"data row3 col4\" >19.33</td>\n",
       "      <td id=\"T_eaa6a_row3_col5\" class=\"data row3 col5\" >36.95</td>\n",
       "      <td id=\"T_eaa6a_row3_col6\" class=\"data row3 col6\" >64.09</td>\n",
       "      <td id=\"T_eaa6a_row3_col7\" class=\"data row3 col7\" >98.71</td>\n",
       "      <td id=\"T_eaa6a_row3_col8\" class=\"data row3 col8\" >0.20</td>\n",
       "      <td id=\"T_eaa6a_row3_col9\" class=\"data row3 col9\" >0.42</td>\n",
       "      <td id=\"T_eaa6a_row3_col10\" class=\"data row3 col10\" >0.85</td>\n",
       "      <td id=\"T_eaa6a_row3_col11\" class=\"data row3 col11\" >1.70</td>\n",
       "    </tr>\n",
       "    <tr>\n",
       "      <th id=\"T_eaa6a_level0_row4\" class=\"row_heading level0 row4\" >DEPO-C: PVT-L + QT-B + Spatial pred. (after ablations)</th>\n",
       "      <td id=\"T_eaa6a_row4_col0\" class=\"data row4 col0\" >3.19</td>\n",
       "      <td id=\"T_eaa6a_row4_col1\" class=\"data row4 col1\" >5.90</td>\n",
       "      <td id=\"T_eaa6a_row4_col2\" class=\"data row4 col2\" >11.46</td>\n",
       "      <td id=\"T_eaa6a_row4_col3\" class=\"data row4 col3\" >26.58</td>\n",
       "      <td id=\"T_eaa6a_row4_col4\" class=\"data row4 col4\" >11.80</td>\n",
       "      <td id=\"T_eaa6a_row4_col5\" class=\"data row4 col5\" >22.18</td>\n",
       "      <td id=\"T_eaa6a_row4_col6\" class=\"data row4 col6\" >40.77</td>\n",
       "      <td id=\"T_eaa6a_row4_col7\" class=\"data row4 col7\" >70.11</td>\n",
       "      <td id=\"T_eaa6a_row4_col8\" class=\"data row4 col8\" >0.15</td>\n",
       "      <td id=\"T_eaa6a_row4_col9\" class=\"data row4 col9\" >0.30</td>\n",
       "      <td id=\"T_eaa6a_row4_col10\" class=\"data row4 col10\" >0.61</td>\n",
       "      <td id=\"T_eaa6a_row4_col11\" class=\"data row4 col11\" >1.24</td>\n",
       "    </tr>\n",
       "    <tr>\n",
       "      <th id=\"T_eaa6a_level0_row5\" class=\"row_heading level0 row5\" >LaDEPO-C: PVT-L + QT-B + latent</th>\n",
       "      <td id=\"T_eaa6a_row5_col0\" class=\"data row5 col0\" >3.59</td>\n",
       "      <td id=\"T_eaa6a_row5_col1\" class=\"data row5 col1\" >6.38</td>\n",
       "      <td id=\"T_eaa6a_row5_col2\" class=\"data row5 col2\" >12.02</td>\n",
       "      <td id=\"T_eaa6a_row5_col3\" class=\"data row5 col3\" >29.74</td>\n",
       "      <td id=\"T_eaa6a_row5_col4\" class=\"data row5 col4\" >14.02</td>\n",
       "      <td id=\"T_eaa6a_row5_col5\" class=\"data row5 col5\" >27.52</td>\n",
       "      <td id=\"T_eaa6a_row5_col6\" class=\"data row5 col6\" >53.91</td>\n",
       "      <td id=\"T_eaa6a_row5_col7\" class=\"data row5 col7\" >84.27</td>\n",
       "      <td id=\"T_eaa6a_row5_col8\" class=\"data row5 col8\" >0.16</td>\n",
       "      <td id=\"T_eaa6a_row5_col9\" class=\"data row5 col9\" >0.33</td>\n",
       "      <td id=\"T_eaa6a_row5_col10\" class=\"data row5 col10\" >0.71</td>\n",
       "      <td id=\"T_eaa6a_row5_col11\" class=\"data row5 col11\" >1.52</td>\n",
       "    </tr>\n",
       "    <tr>\n",
       "      <th id=\"T_eaa6a_level0_row6\" class=\"row_heading level0 row6\" >DEPO-C: PVT-L + QT-B + Spatial pred. (relative)</th>\n",
       "      <td id=\"T_eaa6a_row6_col0\" class=\"data row6 col0\" >2.38</td>\n",
       "      <td id=\"T_eaa6a_row6_col1\" class=\"data row6 col1\" >4.21</td>\n",
       "      <td id=\"T_eaa6a_row6_col2\" class=\"data row6 col2\" >8.51</td>\n",
       "      <td id=\"T_eaa6a_row6_col3\" class=\"data row6 col3\" >17.44</td>\n",
       "      <td id=\"T_eaa6a_row6_col4\" class=\"data row6 col4\" >8.58</td>\n",
       "      <td id=\"T_eaa6a_row6_col5\" class=\"data row6 col5\" >16.43</td>\n",
       "      <td id=\"T_eaa6a_row6_col6\" class=\"data row6 col6\" >30.10</td>\n",
       "      <td id=\"T_eaa6a_row6_col7\" class=\"data row6 col7\" >53.68</td>\n",
       "      <td id=\"T_eaa6a_row6_col8\" class=\"data row6 col8\" >2.98</td>\n",
       "      <td id=\"T_eaa6a_row6_col9\" class=\"data row6 col9\" >4.62</td>\n",
       "      <td id=\"T_eaa6a_row6_col10\" class=\"data row6 col10\" >6.60</td>\n",
       "      <td id=\"T_eaa6a_row6_col11\" class=\"data row6 col11\" >8.41</td>\n",
       "    </tr>\n",
       "    <tr>\n",
       "      <th id=\"T_eaa6a_level0_row7\" class=\"row_heading level0 row7\" >DEPO-C-f: PVT-L + QT-B + Spatial pred. (absolute)</th>\n",
       "      <td id=\"T_eaa6a_row7_col0\" class=\"data row7 col0\" >2.03</td>\n",
       "      <td id=\"T_eaa6a_row7_col1\" class=\"data row7 col1\" >3.59</td>\n",
       "      <td id=\"T_eaa6a_row7_col2\" class=\"data row7 col2\" >6.69</td>\n",
       "      <td id=\"T_eaa6a_row7_col3\" class=\"data row7 col3\" >13.45</td>\n",
       "      <td id=\"T_eaa6a_row7_col4\" class=\"data row7 col4\" >7.73</td>\n",
       "      <td id=\"T_eaa6a_row7_col5\" class=\"data row7 col5\" >15.48</td>\n",
       "      <td id=\"T_eaa6a_row7_col6\" class=\"data row7 col6\" >28.33</td>\n",
       "      <td id=\"T_eaa6a_row7_col7\" class=\"data row7 col7\" >52.61</td>\n",
       "      <td id=\"T_eaa6a_row7_col8\" class=\"data row7 col8\" >0.11</td>\n",
       "      <td id=\"T_eaa6a_row7_col9\" class=\"data row7 col9\" >0.21</td>\n",
       "      <td id=\"T_eaa6a_row7_col10\" class=\"data row7 col10\" >0.43</td>\n",
       "      <td id=\"T_eaa6a_row7_col11\" class=\"data row7 col11\" >1.01</td>\n",
       "    </tr>\n",
       "  </tbody>\n",
       "</table>\n"
      ],
      "text/plain": [
       "<pandas.io.formats.style.Styler at 0x7f027484a340>"
      ]
     },
     "execution_count": 14,
     "metadata": {},
     "output_type": "execute_result"
    }
   ],
   "source": [
    "df = pd.DataFrame(index=metrics.keys())\n",
    "\n",
    "for q in (0.25, 0.5, 0.75, 0.9):\n",
    "    df[f'R_q={q}'] = None\n",
    "    df[f't_q={q}'] = None\n",
    "    df[f'angle_t_q={q}'] = None\n",
    "    for key, val in metrics.items():\n",
    "        df.loc[key, f't_q={q}'] = np.quantile(val[\"t_distances_l2\"], q)\n",
    "        df.loc[key, f'R_q={q}'] = np.quantile(val[\"R_angle_distances\"], q)\n",
    "        df.loc[key, f'angle_t_q={q}'] = np.quantile(val[\"t_angle_distances\"], q)\n",
    "        d = df.style.format(precision=2)\n",
    "df.sort_index(axis=1, inplace=True)\n",
    "\n",
    "\n",
    "for col in df.columns:\n",
    "    d.background_gradient(cmap=\"RdYlGn_r\", subset=col)\n",
    "d"
   ]
  },
  {
   "cell_type": "code",
   "execution_count": null,
   "id": "3ece4299-0d70-420b-8461-365d724b4bd1",
   "metadata": {},
   "outputs": [],
   "source": []
  },
  {
   "cell_type": "code",
   "execution_count": 15,
   "id": "4114e173-85a1-45f1-8f36-519df5c072a7",
   "metadata": {
    "tags": []
   },
   "outputs": [
    {
     "data": {
      "text/html": [
       "<style type=\"text/css\">\n",
       "#T_294ad_row0_col0, #T_294ad_row0_col1, #T_294ad_row0_col2, #T_294ad_row0_col3, #T_294ad_row0_col4, #T_294ad_row0_col5, #T_294ad_row0_col6, #T_294ad_row0_col7, #T_294ad_row0_col8, #T_294ad_row0_col9, #T_294ad_row0_col10, #T_294ad_row0_col11 {\n",
       "  background-color: #a50026;\n",
       "  color: #f1f1f1;\n",
       "}\n",
       "#T_294ad_row1_col0 {\n",
       "  background-color: #c01a27;\n",
       "  color: #f1f1f1;\n",
       "}\n",
       "#T_294ad_row1_col1, #T_294ad_row1_col2 {\n",
       "  background-color: #ca2427;\n",
       "  color: #f1f1f1;\n",
       "}\n",
       "#T_294ad_row1_col3 {\n",
       "  background-color: #b30d26;\n",
       "  color: #f1f1f1;\n",
       "}\n",
       "#T_294ad_row1_col4 {\n",
       "  background-color: #b71126;\n",
       "  color: #f1f1f1;\n",
       "}\n",
       "#T_294ad_row1_col5, #T_294ad_row1_col8 {\n",
       "  background-color: #c62027;\n",
       "  color: #f1f1f1;\n",
       "}\n",
       "#T_294ad_row1_col6 {\n",
       "  background-color: #d62f27;\n",
       "  color: #f1f1f1;\n",
       "}\n",
       "#T_294ad_row1_col7 {\n",
       "  background-color: #a70226;\n",
       "  color: #f1f1f1;\n",
       "}\n",
       "#T_294ad_row1_col9 {\n",
       "  background-color: #cc2627;\n",
       "  color: #f1f1f1;\n",
       "}\n",
       "#T_294ad_row1_col10 {\n",
       "  background-color: #d83128;\n",
       "  color: #f1f1f1;\n",
       "}\n",
       "#T_294ad_row1_col11 {\n",
       "  background-color: #be1827;\n",
       "  color: #f1f1f1;\n",
       "}\n",
       "#T_294ad_row2_col0, #T_294ad_row2_col1, #T_294ad_row2_col2, #T_294ad_row2_col3, #T_294ad_row2_col4, #T_294ad_row2_col5, #T_294ad_row2_col6, #T_294ad_row2_col7, #T_294ad_row2_col8, #T_294ad_row2_col9, #T_294ad_row2_col10, #T_294ad_row2_col11 {\n",
       "  background-color: #006837;\n",
       "  color: #f1f1f1;\n",
       "}\n",
       "#T_294ad_row3_col0, #T_294ad_row3_col10 {\n",
       "  background-color: #fdb567;\n",
       "  color: #000000;\n",
       "}\n",
       "#T_294ad_row3_col1 {\n",
       "  background-color: #fee18d;\n",
       "  color: #000000;\n",
       "}\n",
       "#T_294ad_row3_col2, #T_294ad_row7_col5 {\n",
       "  background-color: #feec9f;\n",
       "  color: #000000;\n",
       "}\n",
       "#T_294ad_row3_col3 {\n",
       "  background-color: #f57547;\n",
       "  color: #f1f1f1;\n",
       "}\n",
       "#T_294ad_row3_col4 {\n",
       "  background-color: #ec5c3b;\n",
       "  color: #f1f1f1;\n",
       "}\n",
       "#T_294ad_row3_col5, #T_294ad_row3_col8 {\n",
       "  background-color: #f88950;\n",
       "  color: #f1f1f1;\n",
       "}\n",
       "#T_294ad_row3_col6, #T_294ad_row3_col9, #T_294ad_row6_col1, #T_294ad_row6_col6 {\n",
       "  background-color: #fca55d;\n",
       "  color: #000000;\n",
       "}\n",
       "#T_294ad_row3_col7 {\n",
       "  background-color: #d22b27;\n",
       "  color: #f1f1f1;\n",
       "}\n",
       "#T_294ad_row3_col11 {\n",
       "  background-color: #f16640;\n",
       "  color: #f1f1f1;\n",
       "}\n",
       "#T_294ad_row4_col0 {\n",
       "  background-color: #d9ef8b;\n",
       "  color: #000000;\n",
       "}\n",
       "#T_294ad_row4_col1 {\n",
       "  background-color: #b3df72;\n",
       "  color: #000000;\n",
       "}\n",
       "#T_294ad_row4_col2 {\n",
       "  background-color: #a7d96b;\n",
       "  color: #000000;\n",
       "}\n",
       "#T_294ad_row4_col3, #T_294ad_row7_col0, #T_294ad_row7_col10 {\n",
       "  background-color: #f8fcb6;\n",
       "  color: #000000;\n",
       "}\n",
       "#T_294ad_row4_col4 {\n",
       "  background-color: #fee593;\n",
       "  color: #000000;\n",
       "}\n",
       "#T_294ad_row4_col5 {\n",
       "  background-color: #e6f59d;\n",
       "  color: #000000;\n",
       "}\n",
       "#T_294ad_row4_col6 {\n",
       "  background-color: #c5e67e;\n",
       "  color: #000000;\n",
       "}\n",
       "#T_294ad_row4_col7 {\n",
       "  background-color: #fca85e;\n",
       "  color: #000000;\n",
       "}\n",
       "#T_294ad_row4_col8 {\n",
       "  background-color: #f5fbb2;\n",
       "  color: #000000;\n",
       "}\n",
       "#T_294ad_row4_col9 {\n",
       "  background-color: #d5ed88;\n",
       "  color: #000000;\n",
       "}\n",
       "#T_294ad_row4_col10 {\n",
       "  background-color: #b5df74;\n",
       "  color: #000000;\n",
       "}\n",
       "#T_294ad_row4_col11 {\n",
       "  background-color: #fffebe;\n",
       "  color: #000000;\n",
       "}\n",
       "#T_294ad_row5_col0, #T_294ad_row5_col8 {\n",
       "  background-color: #3ca959;\n",
       "  color: #f1f1f1;\n",
       "}\n",
       "#T_294ad_row5_col1 {\n",
       "  background-color: #249d53;\n",
       "  color: #f1f1f1;\n",
       "}\n",
       "#T_294ad_row5_col2 {\n",
       "  background-color: #1b9950;\n",
       "  color: #f1f1f1;\n",
       "}\n",
       "#T_294ad_row5_col3 {\n",
       "  background-color: #51b35e;\n",
       "  color: #f1f1f1;\n",
       "}\n",
       "#T_294ad_row5_col4 {\n",
       "  background-color: #5db961;\n",
       "  color: #f1f1f1;\n",
       "}\n",
       "#T_294ad_row5_col5 {\n",
       "  background-color: #1e9a51;\n",
       "  color: #f1f1f1;\n",
       "}\n",
       "#T_294ad_row5_col6 {\n",
       "  background-color: #148e4b;\n",
       "  color: #f1f1f1;\n",
       "}\n",
       "#T_294ad_row5_col7 {\n",
       "  background-color: #a9da6c;\n",
       "  color: #000000;\n",
       "}\n",
       "#T_294ad_row5_col9 {\n",
       "  background-color: #17934e;\n",
       "  color: #f1f1f1;\n",
       "}\n",
       "#T_294ad_row5_col10 {\n",
       "  background-color: #128a49;\n",
       "  color: #f1f1f1;\n",
       "}\n",
       "#T_294ad_row5_col11 {\n",
       "  background-color: #69be63;\n",
       "  color: #f1f1f1;\n",
       "}\n",
       "#T_294ad_row6_col0 {\n",
       "  background-color: #f67c4a;\n",
       "  color: #f1f1f1;\n",
       "}\n",
       "#T_294ad_row6_col2 {\n",
       "  background-color: #fdb163;\n",
       "  color: #000000;\n",
       "}\n",
       "#T_294ad_row6_col3 {\n",
       "  background-color: #ea5739;\n",
       "  color: #f1f1f1;\n",
       "}\n",
       "#T_294ad_row6_col4 {\n",
       "  background-color: #e54e35;\n",
       "  color: #f1f1f1;\n",
       "}\n",
       "#T_294ad_row6_col5 {\n",
       "  background-color: #f67f4b;\n",
       "  color: #f1f1f1;\n",
       "}\n",
       "#T_294ad_row6_col7 {\n",
       "  background-color: #c41e27;\n",
       "  color: #f1f1f1;\n",
       "}\n",
       "#T_294ad_row6_col8 {\n",
       "  background-color: #f88c51;\n",
       "  color: #f1f1f1;\n",
       "}\n",
       "#T_294ad_row6_col9 {\n",
       "  background-color: #fba05b;\n",
       "  color: #000000;\n",
       "}\n",
       "#T_294ad_row6_col10, #T_294ad_row7_col11 {\n",
       "  background-color: #fdb768;\n",
       "  color: #000000;\n",
       "}\n",
       "#T_294ad_row6_col11 {\n",
       "  background-color: #f36b42;\n",
       "  color: #f1f1f1;\n",
       "}\n",
       "#T_294ad_row7_col1 {\n",
       "  background-color: #d1ec86;\n",
       "  color: #000000;\n",
       "}\n",
       "#T_294ad_row7_col2 {\n",
       "  background-color: #c1e57b;\n",
       "  color: #000000;\n",
       "}\n",
       "#T_294ad_row7_col3 {\n",
       "  background-color: #fee491;\n",
       "  color: #000000;\n",
       "}\n",
       "#T_294ad_row7_col4 {\n",
       "  background-color: #fdb365;\n",
       "  color: #000000;\n",
       "}\n",
       "#T_294ad_row7_col6 {\n",
       "  background-color: #fbfdba;\n",
       "  color: #000000;\n",
       "}\n",
       "#T_294ad_row7_col7 {\n",
       "  background-color: #f57748;\n",
       "  color: #f1f1f1;\n",
       "}\n",
       "#T_294ad_row7_col8 {\n",
       "  background-color: #fed683;\n",
       "  color: #000000;\n",
       "}\n",
       "#T_294ad_row7_col9 {\n",
       "  background-color: #fff5ae;\n",
       "  color: #000000;\n",
       "}\n",
       "</style>\n",
       "<table id=\"T_294ad\">\n",
       "  <thead>\n",
       "    <tr>\n",
       "      <th class=\"blank level0\" >&nbsp;</th>\n",
       "      <th id=\"T_294ad_level0_col0\" class=\"col_heading level0 col0\" >mAA_R_10</th>\n",
       "      <th id=\"T_294ad_level0_col1\" class=\"col_heading level0 col1\" >mAA_R_20</th>\n",
       "      <th id=\"T_294ad_level0_col2\" class=\"col_heading level0 col2\" >mAA_R_30</th>\n",
       "      <th id=\"T_294ad_level0_col3\" class=\"col_heading level0 col3\" >mAA_R_5</th>\n",
       "      <th id=\"T_294ad_level0_col4\" class=\"col_heading level0 col4\" >mAA_max_10</th>\n",
       "      <th id=\"T_294ad_level0_col5\" class=\"col_heading level0 col5\" >mAA_max_20</th>\n",
       "      <th id=\"T_294ad_level0_col6\" class=\"col_heading level0 col6\" >mAA_max_30</th>\n",
       "      <th id=\"T_294ad_level0_col7\" class=\"col_heading level0 col7\" >mAA_max_5</th>\n",
       "      <th id=\"T_294ad_level0_col8\" class=\"col_heading level0 col8\" >mAA_t_10</th>\n",
       "      <th id=\"T_294ad_level0_col9\" class=\"col_heading level0 col9\" >mAA_t_20</th>\n",
       "      <th id=\"T_294ad_level0_col10\" class=\"col_heading level0 col10\" >mAA_t_30</th>\n",
       "      <th id=\"T_294ad_level0_col11\" class=\"col_heading level0 col11\" >mAA_t_5</th>\n",
       "    </tr>\n",
       "  </thead>\n",
       "  <tbody>\n",
       "    <tr>\n",
       "      <th id=\"T_294ad_level0_row0\" class=\"row_heading level0 row0\" >DEPO-A: PCPVT-L + QT-B + Spatial. pred.</th>\n",
       "      <td id=\"T_294ad_row0_col0\" class=\"data row0 col0\" >0.15</td>\n",
       "      <td id=\"T_294ad_row0_col1\" class=\"data row0 col1\" >0.34</td>\n",
       "      <td id=\"T_294ad_row0_col2\" class=\"data row0 col2\" >0.47</td>\n",
       "      <td id=\"T_294ad_row0_col3\" class=\"data row0 col3\" >0.04</td>\n",
       "      <td id=\"T_294ad_row0_col4\" class=\"data row0 col4\" >0.00</td>\n",
       "      <td id=\"T_294ad_row0_col5\" class=\"data row0 col5\" >0.02</td>\n",
       "      <td id=\"T_294ad_row0_col6\" class=\"data row0 col6\" >0.04</td>\n",
       "      <td id=\"T_294ad_row0_col7\" class=\"data row0 col7\" >0.00</td>\n",
       "      <td id=\"T_294ad_row0_col8\" class=\"data row0 col8\" >0.01</td>\n",
       "      <td id=\"T_294ad_row0_col9\" class=\"data row0 col9\" >0.03</td>\n",
       "      <td id=\"T_294ad_row0_col10\" class=\"data row0 col10\" >0.07</td>\n",
       "      <td id=\"T_294ad_row0_col11\" class=\"data row0 col11\" >0.00</td>\n",
       "    </tr>\n",
       "    <tr>\n",
       "      <th id=\"T_294ad_level0_row1\" class=\"row_heading level0 row1\" >DEPO-B: PCPVT-L + QT-B + Spatial. pred.</th>\n",
       "      <td id=\"T_294ad_row1_col0\" class=\"data row1 col0\" >0.18</td>\n",
       "      <td id=\"T_294ad_row1_col1\" class=\"data row1 col1\" >0.37</td>\n",
       "      <td id=\"T_294ad_row1_col2\" class=\"data row1 col2\" >0.49</td>\n",
       "      <td id=\"T_294ad_row1_col3\" class=\"data row1 col3\" >0.05</td>\n",
       "      <td id=\"T_294ad_row1_col4\" class=\"data row1 col4\" >0.01</td>\n",
       "      <td id=\"T_294ad_row1_col5\" class=\"data row1 col5\" >0.04</td>\n",
       "      <td id=\"T_294ad_row1_col6\" class=\"data row1 col6\" >0.08</td>\n",
       "      <td id=\"T_294ad_row1_col7\" class=\"data row1 col7\" >0.00</td>\n",
       "      <td id=\"T_294ad_row1_col8\" class=\"data row1 col8\" >0.02</td>\n",
       "      <td id=\"T_294ad_row1_col9\" class=\"data row1 col9\" >0.06</td>\n",
       "      <td id=\"T_294ad_row1_col10\" class=\"data row1 col10\" >0.11</td>\n",
       "      <td id=\"T_294ad_row1_col11\" class=\"data row1 col11\" >0.00</td>\n",
       "    </tr>\n",
       "    <tr>\n",
       "      <th id=\"T_294ad_level0_row2\" class=\"row_heading level0 row2\" >DEPO-C-f: PVT-L + QT-B + Spatial pred. (absolute)</th>\n",
       "      <td id=\"T_294ad_row2_col0\" class=\"data row2 col0\" >0.55</td>\n",
       "      <td id=\"T_294ad_row2_col1\" class=\"data row2 col1\" >0.72</td>\n",
       "      <td id=\"T_294ad_row2_col2\" class=\"data row2 col2\" >0.80</td>\n",
       "      <td id=\"T_294ad_row2_col3\" class=\"data row2 col3\" >0.32</td>\n",
       "      <td id=\"T_294ad_row2_col4\" class=\"data row2 col4\" >0.12</td>\n",
       "      <td id=\"T_294ad_row2_col5\" class=\"data row2 col5\" >0.29</td>\n",
       "      <td id=\"T_294ad_row2_col6\" class=\"data row2 col6\" >0.42</td>\n",
       "      <td id=\"T_294ad_row2_col7\" class=\"data row2 col7\" >0.03</td>\n",
       "      <td id=\"T_294ad_row2_col8\" class=\"data row2 col8\" >0.14</td>\n",
       "      <td id=\"T_294ad_row2_col9\" class=\"data row2 col9\" >0.31</td>\n",
       "      <td id=\"T_294ad_row2_col10\" class=\"data row2 col10\" >0.44</td>\n",
       "      <td id=\"T_294ad_row2_col11\" class=\"data row2 col11\" >0.05</td>\n",
       "    </tr>\n",
       "    <tr>\n",
       "      <th id=\"T_294ad_level0_row3\" class=\"row_heading level0 row3\" >DEPO-C: PCPVT-L + QT-B + Spatial. pred.</th>\n",
       "      <td id=\"T_294ad_row3_col0\" class=\"data row3 col0\" >0.28</td>\n",
       "      <td id=\"T_294ad_row3_col1\" class=\"data row3 col1\" >0.50</td>\n",
       "      <td id=\"T_294ad_row3_col2\" class=\"data row3 col2\" >0.61</td>\n",
       "      <td id=\"T_294ad_row3_col3\" class=\"data row3 col3\" >0.10</td>\n",
       "      <td id=\"T_294ad_row3_col4\" class=\"data row3 col4\" >0.02</td>\n",
       "      <td id=\"T_294ad_row3_col5\" class=\"data row3 col5\" >0.08</td>\n",
       "      <td id=\"T_294ad_row3_col6\" class=\"data row3 col6\" >0.15</td>\n",
       "      <td id=\"T_294ad_row3_col7\" class=\"data row3 col7\" >0.00</td>\n",
       "      <td id=\"T_294ad_row3_col8\" class=\"data row3 col8\" >0.04</td>\n",
       "      <td id=\"T_294ad_row3_col9\" class=\"data row3 col9\" >0.12</td>\n",
       "      <td id=\"T_294ad_row3_col10\" class=\"data row3 col10\" >0.19</td>\n",
       "      <td id=\"T_294ad_row3_col11\" class=\"data row3 col11\" >0.01</td>\n",
       "    </tr>\n",
       "    <tr>\n",
       "      <th id=\"T_294ad_level0_row4\" class=\"row_heading level0 row4\" >DEPO-C: PVT-L + QT-B + Spatial pred. (after ablations)</th>\n",
       "      <td id=\"T_294ad_row4_col0\" class=\"data row4 col0\" >0.39</td>\n",
       "      <td id=\"T_294ad_row4_col1\" class=\"data row4 col1\" >0.60</td>\n",
       "      <td id=\"T_294ad_row4_col2\" class=\"data row4 col2\" >0.70</td>\n",
       "      <td id=\"T_294ad_row4_col3\" class=\"data row4 col3\" >0.18</td>\n",
       "      <td id=\"T_294ad_row4_col4\" class=\"data row4 col4\" >0.05</td>\n",
       "      <td id=\"T_294ad_row4_col5\" class=\"data row4 col5\" >0.17</td>\n",
       "      <td id=\"T_294ad_row4_col6\" class=\"data row4 col6\" >0.29</td>\n",
       "      <td id=\"T_294ad_row4_col7\" class=\"data row4 col7\" >0.01</td>\n",
       "      <td id=\"T_294ad_row4_col8\" class=\"data row4 col8\" >0.08</td>\n",
       "      <td id=\"T_294ad_row4_col9\" class=\"data row4 col9\" >0.20</td>\n",
       "      <td id=\"T_294ad_row4_col10\" class=\"data row4 col10\" >0.32</td>\n",
       "      <td id=\"T_294ad_row4_col11\" class=\"data row4 col11\" >0.03</td>\n",
       "    </tr>\n",
       "    <tr>\n",
       "      <th id=\"T_294ad_level0_row5\" class=\"row_heading level0 row5\" >DEPO-C: PVT-L + QT-B + Spatial pred. (relative)</th>\n",
       "      <td id=\"T_294ad_row5_col0\" class=\"data row5 col0\" >0.49</td>\n",
       "      <td id=\"T_294ad_row5_col1\" class=\"data row5 col1\" >0.68</td>\n",
       "      <td id=\"T_294ad_row5_col2\" class=\"data row5 col2\" >0.76</td>\n",
       "      <td id=\"T_294ad_row5_col3\" class=\"data row5 col3\" >0.27</td>\n",
       "      <td id=\"T_294ad_row5_col4\" class=\"data row5 col4\" >0.10</td>\n",
       "      <td id=\"T_294ad_row5_col5\" class=\"data row5 col5\" >0.26</td>\n",
       "      <td id=\"T_294ad_row5_col6\" class=\"data row5 col6\" >0.39</td>\n",
       "      <td id=\"T_294ad_row5_col7\" class=\"data row5 col7\" >0.02</td>\n",
       "      <td id=\"T_294ad_row5_col8\" class=\"data row5 col8\" >0.12</td>\n",
       "      <td id=\"T_294ad_row5_col9\" class=\"data row5 col9\" >0.29</td>\n",
       "      <td id=\"T_294ad_row5_col10\" class=\"data row5 col10\" >0.42</td>\n",
       "      <td id=\"T_294ad_row5_col11\" class=\"data row5 col11\" >0.04</td>\n",
       "    </tr>\n",
       "    <tr>\n",
       "      <th id=\"T_294ad_level0_row6\" class=\"row_heading level0 row6\" >DEPO-C: PVT-L + QT-B + Spatial. pred.</th>\n",
       "      <td id=\"T_294ad_row6_col0\" class=\"data row6 col0\" >0.24</td>\n",
       "      <td id=\"T_294ad_row6_col1\" class=\"data row6 col1\" >0.45</td>\n",
       "      <td id=\"T_294ad_row6_col2\" class=\"data row6 col2\" >0.57</td>\n",
       "      <td id=\"T_294ad_row6_col3\" class=\"data row6 col3\" >0.09</td>\n",
       "      <td id=\"T_294ad_row6_col4\" class=\"data row6 col4\" >0.02</td>\n",
       "      <td id=\"T_294ad_row6_col5\" class=\"data row6 col5\" >0.08</td>\n",
       "      <td id=\"T_294ad_row6_col6\" class=\"data row6 col6\" >0.15</td>\n",
       "      <td id=\"T_294ad_row6_col7\" class=\"data row6 col7\" >0.00</td>\n",
       "      <td id=\"T_294ad_row6_col8\" class=\"data row6 col8\" >0.04</td>\n",
       "      <td id=\"T_294ad_row6_col9\" class=\"data row6 col9\" >0.11</td>\n",
       "      <td id=\"T_294ad_row6_col10\" class=\"data row6 col10\" >0.19</td>\n",
       "      <td id=\"T_294ad_row6_col11\" class=\"data row6 col11\" >0.01</td>\n",
       "    </tr>\n",
       "    <tr>\n",
       "      <th id=\"T_294ad_level0_row7\" class=\"row_heading level0 row7\" >LaDEPO-C: PVT-L + QT-B + latent</th>\n",
       "      <td id=\"T_294ad_row7_col0\" class=\"data row7 col0\" >0.36</td>\n",
       "      <td id=\"T_294ad_row7_col1\" class=\"data row7 col1\" >0.58</td>\n",
       "      <td id=\"T_294ad_row7_col2\" class=\"data row7 col2\" >0.68</td>\n",
       "      <td id=\"T_294ad_row7_col3\" class=\"data row7 col3\" >0.16</td>\n",
       "      <td id=\"T_294ad_row7_col4\" class=\"data row7 col4\" >0.04</td>\n",
       "      <td id=\"T_294ad_row7_col5\" class=\"data row7 col5\" >0.14</td>\n",
       "      <td id=\"T_294ad_row7_col6\" class=\"data row7 col6\" >0.24</td>\n",
       "      <td id=\"T_294ad_row7_col7\" class=\"data row7 col7\" >0.01</td>\n",
       "      <td id=\"T_294ad_row7_col8\" class=\"data row7 col8\" >0.06</td>\n",
       "      <td id=\"T_294ad_row7_col9\" class=\"data row7 col9\" >0.16</td>\n",
       "      <td id=\"T_294ad_row7_col10\" class=\"data row7 col10\" >0.26</td>\n",
       "      <td id=\"T_294ad_row7_col11\" class=\"data row7 col11\" >0.02</td>\n",
       "    </tr>\n",
       "  </tbody>\n",
       "</table>\n"
      ],
      "text/plain": [
       "<pandas.io.formats.style.Styler at 0x7f02747edd30>"
      ]
     },
     "execution_count": 15,
     "metadata": {},
     "output_type": "execute_result"
    }
   ],
   "source": [
    "df = pd.DataFrame(index=metrics.keys())\n",
    "\n",
    "for t in (5, 10, 20, 30):\n",
    "    df[f'mAA_R_{t}'] = None\n",
    "    df[f'mAA_t_{t}'] = None\n",
    "    df[f'mAA_max_{t}'] = None\n",
    "    for key, val in metrics.items():\n",
    "        df.loc[key, f'mAA_R_{t}'] = mAA_sep(val[\"R_angle_distances\"], t, 10000)\n",
    "        df.loc[key, f'mAA_t_{t}'] = mAA_sep(val[\"t_angle_distances\"], t, 10000)\n",
    "        df.loc[key, f'mAA_max_{t}'] = mAA_max(val[\"R_angle_distances\"], val[\"t_angle_distances\"], t, 100)\n",
    "        d = df.style.format(precision=2)\n",
    "df.sort_index(axis=1, inplace=True)\n",
    "df.sort_index(axis=0, inplace=True)\n",
    "\n",
    "for col in df.columns:\n",
    "    d.background_gradient(cmap=\"RdYlGn\", subset=col)\n",
    "d"
   ]
  },
  {
   "cell_type": "markdown",
   "id": "aee68faf-cf0c-4a93-ba76-29bd7f14b60c",
   "metadata": {},
   "source": [
    "### 2.2 Plots"
   ]
  },
  {
   "cell_type": "code",
   "execution_count": 16,
   "id": "d2540881-f539-441c-af65-74ccc8e8b8e7",
   "metadata": {
    "tags": []
   },
   "outputs": [],
   "source": [
    "plt.style.use('default')\n",
    "\n",
    "rc('text', usetex=True)\n",
    "\n",
    "SMALL_SIZE = 8\n",
    "MEDIUM_SIZE = 10\n",
    "BIGGER_SIZE = 12\n",
    "\n",
    "rc('font', size=MEDIUM_SIZE)          # controls default text sizes\n",
    "rc('axes', titlesize=MEDIUM_SIZE)     # fontsize of the axes title\n",
    "rc('axes', labelsize=MEDIUM_SIZE)    # fontsize of the x and y labels\n",
    "rc('xtick', labelsize=MEDIUM_SIZE)    # fontsize of the tick labels\n",
    "rc('ytick', labelsize=MEDIUM_SIZE)    # fontsize of the tick labels\n",
    "rc('legend', fontsize=MEDIUM_SIZE)    # legend fontsize\n",
    "rc('figure', titlesize=BIGGER_SIZE)  # fontsize of the figure title\n"
   ]
  },
  {
   "cell_type": "code",
   "execution_count": 17,
   "id": "49270898-fa2e-4300-9e8b-598017b92039",
   "metadata": {
    "tags": []
   },
   "outputs": [],
   "source": [
    "def calculate_metric_on_subset(metric_values, values_dependent_on, agg_func, thresholds, sign):\n",
    "    thresholds_ = thresholds[:, None]\n",
    "    if sign == '>':\n",
    "        inliers_bool = values_dependent_on > thresholds_\n",
    "    else:\n",
    "        inliers_bool = values_dependent_on <= thresholds_\n",
    "    scores = np.array([agg_func(metric_values[subset]) for subset in inliers_bool])\n",
    "    return scores"
   ]
  },
  {
   "cell_type": "code",
   "execution_count": 18,
   "id": "b3f3e06a-c054-44bf-ae0b-a2ee07e22423",
   "metadata": {
    "tags": []
   },
   "outputs": [
    {
     "ename": "FileNotFoundError",
     "evalue": "[Errno 2] No such file or directory: '/home/project/code/results/images/scannet_cdfs_depo.pdf'",
     "output_type": "error",
     "traceback": [
      "\u001b[0;31m---------------------------------------------------------------------------\u001b[0m",
      "\u001b[0;31mFileNotFoundError\u001b[0m                         Traceback (most recent call last)",
      "Cell \u001b[0;32mIn[18], line 80\u001b[0m\n\u001b[1;32m     78\u001b[0m fig\u001b[38;5;241m.\u001b[39mlegend(handles, labels, bbox_to_anchor\u001b[38;5;241m=\u001b[39m(\u001b[38;5;241m.9\u001b[39m, \u001b[38;5;241m0\u001b[39m), borderaxespad\u001b[38;5;241m=\u001b[39m\u001b[38;5;241m0.0\u001b[39m, ncol\u001b[38;5;241m=\u001b[39m\u001b[38;5;241m2\u001b[39m)\n\u001b[1;32m     79\u001b[0m fig\u001b[38;5;241m.\u001b[39mtight_layout()\n\u001b[0;32m---> 80\u001b[0m \u001b[43mplt\u001b[49m\u001b[38;5;241;43m.\u001b[39;49m\u001b[43msavefig\u001b[49m\u001b[43m(\u001b[49m\u001b[38;5;124;43m'\u001b[39;49m\u001b[38;5;124;43m/home/project/code/results/images/scannet_cdfs_depo.pdf\u001b[39;49m\u001b[38;5;124;43m'\u001b[39;49m\u001b[43m,\u001b[49m\u001b[43m \u001b[49m\u001b[43mbbox_inches\u001b[49m\u001b[38;5;241;43m=\u001b[39;49m\u001b[38;5;124;43m'\u001b[39;49m\u001b[38;5;124;43mtight\u001b[39;49m\u001b[38;5;124;43m'\u001b[39;49m\u001b[43m)\u001b[49m\n",
      "File \u001b[0;32m/usr/local/lib/python3.8/dist-packages/matplotlib/pyplot.py:1023\u001b[0m, in \u001b[0;36msavefig\u001b[0;34m(*args, **kwargs)\u001b[0m\n\u001b[1;32m   1020\u001b[0m \u001b[38;5;129m@_copy_docstring_and_deprecators\u001b[39m(Figure\u001b[38;5;241m.\u001b[39msavefig)\n\u001b[1;32m   1021\u001b[0m \u001b[38;5;28;01mdef\u001b[39;00m \u001b[38;5;21msavefig\u001b[39m(\u001b[38;5;241m*\u001b[39margs, \u001b[38;5;241m*\u001b[39m\u001b[38;5;241m*\u001b[39mkwargs):\n\u001b[1;32m   1022\u001b[0m     fig \u001b[38;5;241m=\u001b[39m gcf()\n\u001b[0;32m-> 1023\u001b[0m     res \u001b[38;5;241m=\u001b[39m \u001b[43mfig\u001b[49m\u001b[38;5;241;43m.\u001b[39;49m\u001b[43msavefig\u001b[49m\u001b[43m(\u001b[49m\u001b[38;5;241;43m*\u001b[39;49m\u001b[43margs\u001b[49m\u001b[43m,\u001b[49m\u001b[43m \u001b[49m\u001b[38;5;241;43m*\u001b[39;49m\u001b[38;5;241;43m*\u001b[39;49m\u001b[43mkwargs\u001b[49m\u001b[43m)\u001b[49m\n\u001b[1;32m   1024\u001b[0m     fig\u001b[38;5;241m.\u001b[39mcanvas\u001b[38;5;241m.\u001b[39mdraw_idle()  \u001b[38;5;66;03m# Need this if 'transparent=True', to reset colors.\u001b[39;00m\n\u001b[1;32m   1025\u001b[0m     \u001b[38;5;28;01mreturn\u001b[39;00m res\n",
      "File \u001b[0;32m/usr/local/lib/python3.8/dist-packages/matplotlib/figure.py:3343\u001b[0m, in \u001b[0;36mFigure.savefig\u001b[0;34m(self, fname, transparent, **kwargs)\u001b[0m\n\u001b[1;32m   3339\u001b[0m     \u001b[38;5;28;01mfor\u001b[39;00m ax \u001b[38;5;129;01min\u001b[39;00m \u001b[38;5;28mself\u001b[39m\u001b[38;5;241m.\u001b[39maxes:\n\u001b[1;32m   3340\u001b[0m         stack\u001b[38;5;241m.\u001b[39menter_context(\n\u001b[1;32m   3341\u001b[0m             ax\u001b[38;5;241m.\u001b[39mpatch\u001b[38;5;241m.\u001b[39m_cm_set(facecolor\u001b[38;5;241m=\u001b[39m\u001b[38;5;124m'\u001b[39m\u001b[38;5;124mnone\u001b[39m\u001b[38;5;124m'\u001b[39m, edgecolor\u001b[38;5;241m=\u001b[39m\u001b[38;5;124m'\u001b[39m\u001b[38;5;124mnone\u001b[39m\u001b[38;5;124m'\u001b[39m))\n\u001b[0;32m-> 3343\u001b[0m \u001b[38;5;28;43mself\u001b[39;49m\u001b[38;5;241;43m.\u001b[39;49m\u001b[43mcanvas\u001b[49m\u001b[38;5;241;43m.\u001b[39;49m\u001b[43mprint_figure\u001b[49m\u001b[43m(\u001b[49m\u001b[43mfname\u001b[49m\u001b[43m,\u001b[49m\u001b[43m \u001b[49m\u001b[38;5;241;43m*\u001b[39;49m\u001b[38;5;241;43m*\u001b[39;49m\u001b[43mkwargs\u001b[49m\u001b[43m)\u001b[49m\n",
      "File \u001b[0;32m/usr/local/lib/python3.8/dist-packages/matplotlib/backend_bases.py:2366\u001b[0m, in \u001b[0;36mFigureCanvasBase.print_figure\u001b[0;34m(self, filename, dpi, facecolor, edgecolor, orientation, format, bbox_inches, pad_inches, bbox_extra_artists, backend, **kwargs)\u001b[0m\n\u001b[1;32m   2362\u001b[0m \u001b[38;5;28;01mtry\u001b[39;00m:\n\u001b[1;32m   2363\u001b[0m     \u001b[38;5;66;03m# _get_renderer may change the figure dpi (as vector formats\u001b[39;00m\n\u001b[1;32m   2364\u001b[0m     \u001b[38;5;66;03m# force the figure dpi to 72), so we need to set it again here.\u001b[39;00m\n\u001b[1;32m   2365\u001b[0m     \u001b[38;5;28;01mwith\u001b[39;00m cbook\u001b[38;5;241m.\u001b[39m_setattr_cm(\u001b[38;5;28mself\u001b[39m\u001b[38;5;241m.\u001b[39mfigure, dpi\u001b[38;5;241m=\u001b[39mdpi):\n\u001b[0;32m-> 2366\u001b[0m         result \u001b[38;5;241m=\u001b[39m \u001b[43mprint_method\u001b[49m\u001b[43m(\u001b[49m\n\u001b[1;32m   2367\u001b[0m \u001b[43m            \u001b[49m\u001b[43mfilename\u001b[49m\u001b[43m,\u001b[49m\n\u001b[1;32m   2368\u001b[0m \u001b[43m            \u001b[49m\u001b[43mfacecolor\u001b[49m\u001b[38;5;241;43m=\u001b[39;49m\u001b[43mfacecolor\u001b[49m\u001b[43m,\u001b[49m\n\u001b[1;32m   2369\u001b[0m \u001b[43m            \u001b[49m\u001b[43medgecolor\u001b[49m\u001b[38;5;241;43m=\u001b[39;49m\u001b[43medgecolor\u001b[49m\u001b[43m,\u001b[49m\n\u001b[1;32m   2370\u001b[0m \u001b[43m            \u001b[49m\u001b[43morientation\u001b[49m\u001b[38;5;241;43m=\u001b[39;49m\u001b[43morientation\u001b[49m\u001b[43m,\u001b[49m\n\u001b[1;32m   2371\u001b[0m \u001b[43m            \u001b[49m\u001b[43mbbox_inches_restore\u001b[49m\u001b[38;5;241;43m=\u001b[39;49m\u001b[43m_bbox_inches_restore\u001b[49m\u001b[43m,\u001b[49m\n\u001b[1;32m   2372\u001b[0m \u001b[43m            \u001b[49m\u001b[38;5;241;43m*\u001b[39;49m\u001b[38;5;241;43m*\u001b[39;49m\u001b[43mkwargs\u001b[49m\u001b[43m)\u001b[49m\n\u001b[1;32m   2373\u001b[0m \u001b[38;5;28;01mfinally\u001b[39;00m:\n\u001b[1;32m   2374\u001b[0m     \u001b[38;5;28;01mif\u001b[39;00m bbox_inches \u001b[38;5;129;01mand\u001b[39;00m restore_bbox:\n",
      "File \u001b[0;32m/usr/local/lib/python3.8/dist-packages/matplotlib/backend_bases.py:2232\u001b[0m, in \u001b[0;36mFigureCanvasBase._switch_canvas_and_return_print_method.<locals>.<lambda>\u001b[0;34m(*args, **kwargs)\u001b[0m\n\u001b[1;32m   2228\u001b[0m     optional_kws \u001b[38;5;241m=\u001b[39m {  \u001b[38;5;66;03m# Passed by print_figure for other renderers.\u001b[39;00m\n\u001b[1;32m   2229\u001b[0m         \u001b[38;5;124m\"\u001b[39m\u001b[38;5;124mdpi\u001b[39m\u001b[38;5;124m\"\u001b[39m, \u001b[38;5;124m\"\u001b[39m\u001b[38;5;124mfacecolor\u001b[39m\u001b[38;5;124m\"\u001b[39m, \u001b[38;5;124m\"\u001b[39m\u001b[38;5;124medgecolor\u001b[39m\u001b[38;5;124m\"\u001b[39m, \u001b[38;5;124m\"\u001b[39m\u001b[38;5;124morientation\u001b[39m\u001b[38;5;124m\"\u001b[39m,\n\u001b[1;32m   2230\u001b[0m         \u001b[38;5;124m\"\u001b[39m\u001b[38;5;124mbbox_inches_restore\u001b[39m\u001b[38;5;124m\"\u001b[39m}\n\u001b[1;32m   2231\u001b[0m     skip \u001b[38;5;241m=\u001b[39m optional_kws \u001b[38;5;241m-\u001b[39m {\u001b[38;5;241m*\u001b[39minspect\u001b[38;5;241m.\u001b[39msignature(meth)\u001b[38;5;241m.\u001b[39mparameters}\n\u001b[0;32m-> 2232\u001b[0m     print_method \u001b[38;5;241m=\u001b[39m functools\u001b[38;5;241m.\u001b[39mwraps(meth)(\u001b[38;5;28;01mlambda\u001b[39;00m \u001b[38;5;241m*\u001b[39margs, \u001b[38;5;241m*\u001b[39m\u001b[38;5;241m*\u001b[39mkwargs: \u001b[43mmeth\u001b[49m\u001b[43m(\u001b[49m\n\u001b[1;32m   2233\u001b[0m \u001b[43m        \u001b[49m\u001b[38;5;241;43m*\u001b[39;49m\u001b[43margs\u001b[49m\u001b[43m,\u001b[49m\u001b[43m \u001b[49m\u001b[38;5;241;43m*\u001b[39;49m\u001b[38;5;241;43m*\u001b[39;49m\u001b[43m{\u001b[49m\u001b[43mk\u001b[49m\u001b[43m:\u001b[49m\u001b[43m \u001b[49m\u001b[43mv\u001b[49m\u001b[43m \u001b[49m\u001b[38;5;28;43;01mfor\u001b[39;49;00m\u001b[43m \u001b[49m\u001b[43mk\u001b[49m\u001b[43m,\u001b[49m\u001b[43m \u001b[49m\u001b[43mv\u001b[49m\u001b[43m \u001b[49m\u001b[38;5;129;43;01min\u001b[39;49;00m\u001b[43m \u001b[49m\u001b[43mkwargs\u001b[49m\u001b[38;5;241;43m.\u001b[39;49m\u001b[43mitems\u001b[49m\u001b[43m(\u001b[49m\u001b[43m)\u001b[49m\u001b[43m \u001b[49m\u001b[38;5;28;43;01mif\u001b[39;49;00m\u001b[43m \u001b[49m\u001b[43mk\u001b[49m\u001b[43m \u001b[49m\u001b[38;5;129;43;01mnot\u001b[39;49;00m\u001b[43m \u001b[49m\u001b[38;5;129;43;01min\u001b[39;49;00m\u001b[43m \u001b[49m\u001b[43mskip\u001b[49m\u001b[43m}\u001b[49m\u001b[43m)\u001b[49m)\n\u001b[1;32m   2234\u001b[0m \u001b[38;5;28;01melse\u001b[39;00m:  \u001b[38;5;66;03m# Let third-parties do as they see fit.\u001b[39;00m\n\u001b[1;32m   2235\u001b[0m     print_method \u001b[38;5;241m=\u001b[39m meth\n",
      "File \u001b[0;32m/usr/local/lib/python3.8/dist-packages/matplotlib/backends/backend_pdf.py:2808\u001b[0m, in \u001b[0;36mFigureCanvasPdf.print_pdf\u001b[0;34m(self, filename, bbox_inches_restore, metadata)\u001b[0m\n\u001b[1;32m   2806\u001b[0m     file \u001b[38;5;241m=\u001b[39m filename\u001b[38;5;241m.\u001b[39m_file\n\u001b[1;32m   2807\u001b[0m \u001b[38;5;28;01melse\u001b[39;00m:\n\u001b[0;32m-> 2808\u001b[0m     file \u001b[38;5;241m=\u001b[39m \u001b[43mPdfFile\u001b[49m\u001b[43m(\u001b[49m\u001b[43mfilename\u001b[49m\u001b[43m,\u001b[49m\u001b[43m \u001b[49m\u001b[43mmetadata\u001b[49m\u001b[38;5;241;43m=\u001b[39;49m\u001b[43mmetadata\u001b[49m\u001b[43m)\u001b[49m\n\u001b[1;32m   2809\u001b[0m \u001b[38;5;28;01mtry\u001b[39;00m:\n\u001b[1;32m   2810\u001b[0m     file\u001b[38;5;241m.\u001b[39mnewPage(width, height)\n",
      "File \u001b[0;32m/usr/local/lib/python3.8/dist-packages/matplotlib/backends/backend_pdf.py:713\u001b[0m, in \u001b[0;36mPdfFile.__init__\u001b[0;34m(self, filename, metadata)\u001b[0m\n\u001b[1;32m    711\u001b[0m \u001b[38;5;28mself\u001b[39m\u001b[38;5;241m.\u001b[39moriginal_file_like \u001b[38;5;241m=\u001b[39m \u001b[38;5;28;01mNone\u001b[39;00m\n\u001b[1;32m    712\u001b[0m \u001b[38;5;28mself\u001b[39m\u001b[38;5;241m.\u001b[39mtell_base \u001b[38;5;241m=\u001b[39m \u001b[38;5;241m0\u001b[39m\n\u001b[0;32m--> 713\u001b[0m fh, opened \u001b[38;5;241m=\u001b[39m \u001b[43mcbook\u001b[49m\u001b[38;5;241;43m.\u001b[39;49m\u001b[43mto_filehandle\u001b[49m\u001b[43m(\u001b[49m\u001b[43mfilename\u001b[49m\u001b[43m,\u001b[49m\u001b[43m \u001b[49m\u001b[38;5;124;43m\"\u001b[39;49m\u001b[38;5;124;43mwb\u001b[39;49m\u001b[38;5;124;43m\"\u001b[39;49m\u001b[43m,\u001b[49m\u001b[43m \u001b[49m\u001b[43mreturn_opened\u001b[49m\u001b[38;5;241;43m=\u001b[39;49m\u001b[38;5;28;43;01mTrue\u001b[39;49;00m\u001b[43m)\u001b[49m\n\u001b[1;32m    714\u001b[0m \u001b[38;5;28;01mif\u001b[39;00m \u001b[38;5;129;01mnot\u001b[39;00m opened:\n\u001b[1;32m    715\u001b[0m     \u001b[38;5;28;01mtry\u001b[39;00m:\n",
      "File \u001b[0;32m/usr/local/lib/python3.8/dist-packages/matplotlib/cbook/__init__.py:489\u001b[0m, in \u001b[0;36mto_filehandle\u001b[0;34m(fname, flag, return_opened, encoding)\u001b[0m\n\u001b[1;32m    487\u001b[0m         fh \u001b[38;5;241m=\u001b[39m bz2\u001b[38;5;241m.\u001b[39mBZ2File(fname, flag)\n\u001b[1;32m    488\u001b[0m     \u001b[38;5;28;01melse\u001b[39;00m:\n\u001b[0;32m--> 489\u001b[0m         fh \u001b[38;5;241m=\u001b[39m \u001b[38;5;28;43mopen\u001b[39;49m\u001b[43m(\u001b[49m\u001b[43mfname\u001b[49m\u001b[43m,\u001b[49m\u001b[43m \u001b[49m\u001b[43mflag\u001b[49m\u001b[43m,\u001b[49m\u001b[43m \u001b[49m\u001b[43mencoding\u001b[49m\u001b[38;5;241;43m=\u001b[39;49m\u001b[43mencoding\u001b[49m\u001b[43m)\u001b[49m\n\u001b[1;32m    490\u001b[0m     opened \u001b[38;5;241m=\u001b[39m \u001b[38;5;28;01mTrue\u001b[39;00m\n\u001b[1;32m    491\u001b[0m \u001b[38;5;28;01melif\u001b[39;00m \u001b[38;5;28mhasattr\u001b[39m(fname, \u001b[38;5;124m'\u001b[39m\u001b[38;5;124mseek\u001b[39m\u001b[38;5;124m'\u001b[39m):\n",
      "\u001b[0;31mFileNotFoundError\u001b[0m: [Errno 2] No such file or directory: '/home/project/code/results/images/scannet_cdfs_depo.pdf'"
     ]
    },
    {
     "data": {
      "image/png": "[encoded data removed]",
      "text/plain": [
       "<Figure size 1000x800 with 6 Axes>"
      ]
     },
     "metadata": {},
     "output_type": "display_data"
    }
   ],
   "source": [
    "fig, ax = plt.subplots(2, 2, figsize=(10, 8))\n",
    "\n",
    "colors = ['b', 'darkorange' ,'g', '#8B008B',\n",
    "          '#A52A2A','#FFC0CB','#808080','#556B2F','#00FFFF',\n",
    "         '#FF00FF','#32CD32','#008080','#E6E6FA',\n",
    "         '#D2B48C','#FA8072','#FFD700', '#000080']\n",
    "\n",
    "exp_colors = {exp: col for  exp, col in zip(metrics.keys(), colors)}\n",
    "\n",
    "for exp, m in metrics.items():\n",
    "    sns.ecdfplot(x=m['R_angle_distances'], complementary=False, ax=ax[0,0], c=exp_colors[exp], linewidth=1)    \n",
    "\n",
    "    sns.ecdfplot(x=m['t_distances_l2'], complementary=False, ax=ax[0,1], c=exp_colors[exp], linewidth=1, log_scale=False)\n",
    "\n",
    "    R_on_gt = calculate_metric_on_subset(\n",
    "        m['R_angle_distances'], m['R_gt_distances'], np.mean, np.linspace(0, 180, 180), '<')\n",
    "    R_on_gt[np.isnan(R_on_gt)] = 0\n",
    "    ax[1, 0].plot(np.linspace(0, 180, 180), R_on_gt, label=exp, c=exp_colors[exp], linewidth=1)\n",
    "    \n",
    "    t_on_gt = calculate_metric_on_subset(\n",
    "        m['t_distances_l2'], m['t_gt_distances'], np.mean, np.linspace(0, 6.66, 100), '<')\n",
    "    t_on_gt[np.isnan(t_on_gt)] = 0\n",
    "    ax[1, 1].plot(np.linspace(0, 6.66, 100), t_on_gt, c=exp_colors[exp], linewidth=1)\n",
    "\n",
    "    \n",
    "    \n",
    "ax[0, 0].set_xlim([0., 50.])\n",
    "ax[0, 0].set_xticks(np.linspace(0, 50, 11, dtype='int'))\n",
    "ax[0, 0].set_yticks(np.linspace(0, 1, 11))\n",
    "ax[0, 0].set_ylabel('Fraction of observations')\n",
    "ax[0, 0].set_xlabel('Angle error, degrees')\n",
    "ax[0, 0].set_title('CDF of angle error')\n",
    "ax[0, 0].grid(alpha=0.5)\n",
    "\n",
    "\n",
    "ax[0, 1].set_xlim([0., 3.])\n",
    "ax[0, 1].set_yticks(np.linspace(0, 1, 11))\n",
    "ax[0, 1].set_ylabel('Fraction of observations')\n",
    "ax[0, 1].set_xlabel('$\\|t_{gt} - t\\|_2$, meters')\n",
    "ax[0, 1].set_title('CDF of translation error')\n",
    "ax[0, 1].grid(alpha=0.5)\n",
    "\n",
    "\n",
    "n_bins = 100 # number of bins for histogram calculation \n",
    "counts, bin_edges = np.histogram(np.sort(m['R_gt_distances']), bins=n_bins)\n",
    "cdf_values = np.cumsum(counts) / len(m['R_gt_distances'])\n",
    "bin_centers = (bin_edges[1:] + bin_edges[:-1]) / 2.\n",
    "ax_10 = ax[1, 0].twinx() # create secondary axis with shared x-axis  \n",
    "ax_10.step(bin_centers,cdf_values,'r', label='Fraction of observations')\n",
    "ax_10.set_ylabel('Fraction of observations')\n",
    "ax_10.set_yticks(np.linspace(0, 1, 11))\n",
    "ax_10.grid(alpha=0.5)\n",
    "ax[1, 0].set_xlabel('Ground-truth rotation distance $<$ than, degrees')\n",
    "ax[1, 0].set_ylabel('Mean error, degrees')\n",
    "ax[1, 0].set_title('Dependence of mean angle error on \\n ground-truth rotation distance')\n",
    "ax[1, 0].grid(axis='x', alpha=0.5)\n",
    "\n",
    "n_bins = 100 # number of bins for histogram calculation \n",
    "counts, bin_edges = np.histogram(np.sort(m['t_gt_distances']), bins=n_bins)\n",
    "cdf_values = np.cumsum(counts) / len(m['t_gt_distances'])\n",
    "bin_centers = (bin_edges[1:] + bin_edges[:-1]) / 2.\n",
    "ax_11 = ax[1, 1].twinx() # create secondary axis with shared x-axis  \n",
    "ax_11.step(bin_centers, cdf_values, 'r', label='Fraction of observations')\n",
    "ax_11.set_ylabel('Fraction of observations')\n",
    "ax_11.set_yticks(np.linspace(0, 1, 11))\n",
    "ax_11.grid(alpha=0.5)\n",
    "ax[1, 1].set_xticks(np.linspace(0, 6.5, 14))\n",
    "ax[1, 1].set_yticks(np.linspace(0, 0.9, 10))\n",
    "ax[1, 1].set_xlabel('Ground-truth $l_2$ distance $<$ than, meters')\n",
    "ax[1, 1].set_ylabel('Mean error, meters')\n",
    "ax[1, 1].set_title('Dependence of mean translation error on \\n ground-truth $l_2$ distance')\n",
    "ax[1, 1].grid(axis='x', alpha=0.5)\n",
    "\n",
    "\n",
    "handles, labels = ax[1, 0].get_legend_handles_labels()\n",
    "handles.extend(ax_11.get_legend_handles_labels()[0])\n",
    "labels.extend(ax_11.get_legend_handles_labels()[1])\n",
    "fig.legend(handles, labels, bbox_to_anchor=(.9, 0), borderaxespad=0.0, ncol=2)\n",
    "fig.tight_layout()\n",
    "plt.savefig('/home/project/code/results/images/scannet_cdfs_depo.pdf', bbox_inches='tight')"
   ]
  },
  {
   "cell_type": "code",
   "execution_count": null,
   "id": "ea636847-60b6-4491-815c-acbf4bb465a9",
   "metadata": {},
   "outputs": [],
   "source": []
  },
  {
   "cell_type": "markdown",
   "id": "ebe5fbf2-5d19-4824-9595-69fe35de3795",
   "metadata": {},
   "source": [
    "# Time estimation "
   ]
  },
  {
   "cell_type": "code",
   "execution_count": null,
   "id": "9879d6d2-8fd9-466c-bf80-91b256b8213b",
   "metadata": {},
   "outputs": [],
   "source": [
    "time_eval = []\n",
    "for data in test_loader: \n",
    "    for key in data.keys():\n",
    "        if key in ('image_0', 'image_1', 'K_0', 'K_1', 'flow_0to1', 'mask'):\n",
    "            data[key] = data[key].to(device)   \n",
    "    B = data['image_0'].size(0)\n",
    "    \n",
    "    start = time.time() * 1000\n",
    "    flow, q, t = model(\n",
    "        img_q=data['image_0'], img_s=data['image_1'],\n",
    "        K_q=data['K_0'], K_s=data['K_1'],\n",
    "        scales_q=0.125 * torch.ones((B, 2), device=device),\n",
    "        scales_s=0.125 * torch.ones((B, 2), device=device),\n",
    "        H=60, W=80)\n",
    "    end = time.time() * 1000\n",
    "    time_eval.append(end-start)\n",
    "    \n",
    "time_eval = np.array(time_eval)\n",
    "print(f'Running time is {np.mean(time_eval)} ms $\\pm$ {np.std(time_eval)} ms')"
   ]
  }
 ],
 "metadata": {
  "kernelspec": {
   "display_name": "Python 3 (ipykernel)",
   "language": "python",
   "name": "python3"
  },
  "language_info": {
   "codemirror_mode": {
    "name": "ipython",
    "version": 3
   },
   "file_extension": ".py",
   "mimetype": "text/x-python",
   "name": "python",
   "nbconvert_exporter": "python",
   "pygments_lexer": "ipython3",
   "version": "3.8.10"
  }
 },
 "nbformat": 4,
 "nbformat_minor": 5
}
