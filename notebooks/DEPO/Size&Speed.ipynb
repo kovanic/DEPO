{
 "cells": [
  {
   "cell_type": "code",
   "execution_count": null,
   "id": "5a0da0de-6d5d-4772-bade-de65f70990c9",
   "metadata": {},
   "outputs": [],
   "source": [
    "%load_ext autoreload\n",
    "%autoreload 2"
   ]
  },
  {
   "cell_type": "code",
   "execution_count": 25,
   "id": "0cc6370e-b462-4581-b3f4-59808a6f030f",
   "metadata": {
    "tags": []
   },
   "outputs": [],
   "source": [
    "import numpy as np"
   ]
  },
  {
   "cell_type": "code",
   "execution_count": 26,
   "id": "a5c2811b-7d36-4b00-b0d6-91bae8463f45",
   "metadata": {
    "tags": []
   },
   "outputs": [],
   "source": [
    "train = np.load('/home/project/code/data/scannet_splits/smart_sample_train.npz')\n",
    "val = np.load('/home/project/code/data/scannet_splits/smart_sample_val.npz')"
   ]
  },
  {
   "cell_type": "code",
   "execution_count": 44,
   "id": "4864e4a5-872f-401b-b569-33f8ae1db9fa",
   "metadata": {
    "tags": []
   },
   "outputs": [
    {
     "data": {
      "text/plain": [
       "4.37990625"
      ]
     },
     "execution_count": 44,
     "metadata": {},
     "output_type": "execute_result"
    }
   ],
   "source": [
    "# 1 epoch in days\n",
    "\n",
    "e = 100 * train['name'].shape[0] / 10 ** 5 / 60 / 24\n",
    "e * 5"
   ]
  },
  {
   "cell_type": "code",
   "execution_count": 43,
   "id": "7914ff30-998f-40b0-9b4a-c4fac9cc8625",
   "metadata": {
    "tags": []
   },
   "outputs": [
    {
     "data": {
      "text/plain": [
       "60"
      ]
     },
     "execution_count": 43,
     "metadata": {},
     "output_type": "execute_result"
    }
   ],
   "source": [
    "12 * 5"
   ]
  },
  {
   "cell_type": "code",
   "execution_count": 29,
   "id": "9df24c66-f714-49ad-b964-c01be014976b",
   "metadata": {
    "tags": []
   },
   "outputs": [
    {
     "data": {
      "text/plain": [
       "0.4"
      ]
     },
     "execution_count": 29,
     "metadata": {},
     "output_type": "execute_result"
    }
   ],
   "source": [
    "val['name'].shape[0] / 10 ** 5"
   ]
  }
 ],
 "metadata": {
  "kernelspec": {
   "display_name": "Python 3 (ipykernel)",
   "language": "python",
   "name": "python3"
  },
  "language_info": {
   "codemirror_mode": {
    "name": "ipython",
    "version": 3
   },
   "file_extension": ".py",
   "mimetype": "text/x-python",
   "name": "python",
   "nbconvert_exporter": "python",
   "pygments_lexer": "ipython3",
   "version": "3.8.10"
  }
 },
 "nbformat": 4,
 "nbformat_minor": 5
}
