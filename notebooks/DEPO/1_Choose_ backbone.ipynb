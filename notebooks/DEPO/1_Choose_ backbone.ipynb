{
 "cells": [
  {
   "cell_type": "code",
   "execution_count": 6,
   "metadata": {
    "tags": []
   },
   "outputs": [
    {
     "name": "stdout",
     "output_type": "stream",
     "text": [
      "Collecting timm==0.3.2\n",
      "  Downloading timm-0.3.2-py3-none-any.whl (244 kB)\n",
      "\u001b[K     |████████████████████████████████| 244 kB 1.4 MB/s eta 0:00:01\n",
      "\u001b[?25hRequirement already satisfied: torch>=1.0 in /usr/local/lib/python3.8/dist-packages (from timm==0.3.2) (1.8.1+cu111)\n",
      "Requirement already satisfied: torchvision in /usr/local/lib/python3.8/dist-packages (from timm==0.3.2) (0.9.1+cu111)\n",
      "Requirement already satisfied: numpy in /usr/local/lib/python3.8/dist-packages (from torch>=1.0->timm==0.3.2) (1.24.3)\n",
      "Requirement already satisfied: typing-extensions in /usr/local/lib/python3.8/dist-packages (from torch>=1.0->timm==0.3.2) (4.5.0)\n",
      "Requirement already satisfied: pillow>=4.1.1 in /usr/local/lib/python3.8/dist-packages (from torchvision->timm==0.3.2) (9.5.0)\n",
      "Installing collected packages: timm\n",
      "Successfully installed timm-0.3.2\n"
     ]
    }
   ],
   "source": [
    "!pip install timm==\"0.3.2\""
   ]
  },
  {
   "cell_type": "markdown",
   "metadata": {
    "tags": []
   },
   "source": [
    "Summary [speed of one forward pass on eval NVIDIA 3090 | output dim]\n",
    "\n",
    "1.TWINS-PCPVT\n",
    " - small [3, 4]: 6.25 ms ± 3.03 µs, 128\n",
    " - base [3, 4]: 6.25 ms ± 3.3 µs, 128\n",
    " - **large [3, 8]: 8.63 ms ± 3.18 µs, 128**\n",
    " \n",
    "2.TWINS-PVT:\n",
    " - small [2, 2]: 3.59 ms ± 9.39 µs, 128 \n",
    " - base [2, 2]: 5.16 ms ± 3.73 µs, 192\n",
    " - large [2, 2]: 6.62 ms ± 3.97 µs, 256"
   ]
  },
  {
   "cell_type": "code",
   "execution_count": 3,
   "metadata": {
    "id": "uWIRo8Ukp0Ac",
    "tags": []
   },
   "outputs": [],
   "source": [
    "%load_ext autoreload\n",
    "%autoreload 2"
   ]
  },
  {
   "cell_type": "code",
   "execution_count": 4,
   "metadata": {
    "tags": []
   },
   "outputs": [],
   "source": [
    "import sys\n",
    "sys.path.append('../../src')"
   ]
  },
  {
   "cell_type": "code",
   "execution_count": 5,
   "metadata": {
    "id": "pc29x05TwHL5",
    "tags": []
   },
   "outputs": [
    {
     "name": "stderr",
     "output_type": "stream",
     "text": [
      "/usr/local/lib/python3.8/dist-packages/tqdm/auto.py:21: TqdmWarning: IProgress not found. Please update jupyter and ipywidgets. See https://ipywidgets.readthedocs.io/en/stable/user_install.html\n",
      "  from .autonotebook import tqdm as notebook_tqdm\n"
     ]
    }
   ],
   "source": [
    "import torch\n",
    "import torchvision\n",
    "\n",
    "import os\n",
    "import gdown\n",
    "\n",
    "from DEPO.twins_backbone import (\n",
    "    pcpvt_small_v0_partial, pcpvt_base_v0_partial, pcpvt_large_v0_partial,\n",
    "    alt_gvt_small_partial, alt_gvt_base_partial, alt_gvt_large_partial\n",
    ")"
   ]
  },
  {
   "cell_type": "markdown",
   "metadata": {
    "id": "K2cuwE9vv7ky"
   },
   "source": [
    "# TWINS-PCPVT"
   ]
  },
  {
   "cell_type": "code",
   "execution_count": 5,
   "metadata": {
    "colab": {
     "base_uri": "https://localhost:8080/",
     "height": 182
    },
    "id": "KYO8QtX6wgZC",
    "outputId": "008873a0-4a45-4bc9-f47c-43f8d1592bea",
    "tags": []
   },
   "outputs": [
    {
     "name": "stderr",
     "output_type": "stream",
     "text": [
      "Downloading...\n",
      "From (uriginal): https://drive.google.com/uc?id=1TWIx_8M-4y6UOKtbCgm1v-UVQ-_lYe6X\n",
      "From (redirected): https://drive.google.com/uc?id=1TWIx_8M-4y6UOKtbCgm1v-UVQ-_lYe6X&confirm=t&uuid=71c047fe-f5a0-4d82-bb50-9712980cca6d\n",
      "To: /home/project/code/src/DEPO/weights_external/pcpvt_small.pth\n",
      "100%|██████████████████████████████████████████████████████████████████████████████| 96.5M/96.5M [00:06<00:00, 15.6MB/s]\n",
      "Downloading...\n",
      "From (uriginal): https://drive.google.com/uc?id=1BsD3ZRivvPsHoZB1AX-tbirFLtCln8ky\n",
      "From (redirected): https://drive.google.com/uc?id=1BsD3ZRivvPsHoZB1AX-tbirFLtCln8ky&confirm=t&uuid=0d30dae4-fe2c-4716-97fc-93ca2f85d648\n",
      "To: /home/project/code/src/DEPO/weights_external/pcpvt_base.pth\n",
      "100%|████████████████████████████████████████████████████████████████████████████████| 176M/176M [00:13<00:00, 13.0MB/s]\n",
      "Downloading...\n",
      "From (uriginal): https://drive.google.com/uc?id=17xZXOWEcSGs0quBmMEkBYCxjPRYH-L45\n",
      "From (redirected): https://drive.google.com/uc?id=17xZXOWEcSGs0quBmMEkBYCxjPRYH-L45&confirm=t&uuid=3ef82b5c-a495-4eb3-8973-2891ec185bc4\n",
      "To: /home/project/code/src/DEPO/weights_external/pcpvt_large.pth\n",
      "100%|████████████████████████████████████████████████████████████████████████████████| 244M/244M [00:15<00:00, 16.1MB/s]\n"
     ]
    },
    {
     "data": {
      "text/plain": [
       "'../../src/DEPO/weights_external/pcpvt_large.pth'"
      ]
     },
     "execution_count": 5,
     "metadata": {},
     "output_type": "execute_result"
    }
   ],
   "source": [
    "# PCPVT-Small (Classification task)\n",
    "gdown.download(id='1TWIx_8M-4y6UOKtbCgm1v-UVQ-_lYe6X', output='../../src/DEPO/weights_external/pcpvt_small.pth')\n",
    "# # PCPVT-Base (Classification task)\n",
    "gdown.download(id='1BsD3ZRivvPsHoZB1AX-tbirFLtCln8ky', output='../../src/DEPO/weights_external/pcpvt_base.pth')\n",
    "# # PCPVT-Large (Classification task)\n",
    "gdown.download(id='17xZXOWEcSGs0quBmMEkBYCxjPRYH-L45', output='../../src/DEPO/weights_external/pcpvt_large.pth')"
   ]
  },
  {
   "cell_type": "code",
   "execution_count": 5,
   "metadata": {
    "id": "jUDbwLpSx1LL",
    "tags": []
   },
   "outputs": [],
   "source": [
    "x = torch.rand(1, 3, 480, 640).cuda()"
   ]
  },
  {
   "cell_type": "markdown",
   "metadata": {
    "id": "QIUyKfv8x4JW"
   },
   "source": [
    "### Small"
   ]
  },
  {
   "cell_type": "code",
   "execution_count": 14,
   "metadata": {
    "id": "OGih34aUjL6z",
    "tags": []
   },
   "outputs": [],
   "source": [
    "model = pcpvt_small_v0_partial(img_size=(480, 640))\n",
    "model.load_state_dict(torch.load('../../src/DEPO/weights_external/pcpvt_small.pth'), strict=False)\n",
    "model.cuda();"
   ]
  },
  {
   "cell_type": "code",
   "execution_count": 10,
   "metadata": {
    "colab": {
     "base_uri": "https://localhost:8080/"
    },
    "id": "vsv-5eS_k9RK",
    "outputId": "35a034e8-9b32-475e-8965-5897eb162ff2",
    "tags": []
   },
   "outputs": [
    {
     "name": "stdout",
     "output_type": "stream",
     "text": [
      "6.16 ms ± 2.55 µs per loop (mean ± std. dev. of 7 runs, 100 loops each)\n"
     ]
    }
   ],
   "source": [
    "%%timeit \n",
    "with torch.no_grad():\n",
    "    out = model(x)"
   ]
  },
  {
   "cell_type": "code",
   "execution_count": 11,
   "metadata": {
    "id": "UWe9UhZxsKeY",
    "tags": []
   },
   "outputs": [],
   "source": [
    "with torch.no_grad():\n",
    "    out = model(x)"
   ]
  },
  {
   "cell_type": "code",
   "execution_count": 12,
   "metadata": {
    "colab": {
     "base_uri": "https://localhost:8080/"
    },
    "id": "Fkg_ySzDsP8e",
    "outputId": "b248b1a2-e307-4d90-f26f-2fe3427f17c3",
    "tags": []
   },
   "outputs": [
    {
     "data": {
      "text/plain": [
       "torch.Size([1, 128, 60, 80])"
      ]
     },
     "execution_count": 12,
     "metadata": {},
     "output_type": "execute_result"
    }
   ],
   "source": [
    "out.shape"
   ]
  },
  {
   "cell_type": "markdown",
   "metadata": {
    "id": "33HxTus9yBPL"
   },
   "source": [
    "### Base"
   ]
  },
  {
   "cell_type": "code",
   "execution_count": 11,
   "metadata": {
    "id": "UtwUvkmUyBPM",
    "tags": []
   },
   "outputs": [],
   "source": [
    "model = pcpvt_base_v0_partial(img_size=(640, 480))\n",
    "model.load_state_dict(torch.load('../../src/DEPO/weights_external/pcpvt_base.pth'), strict=False)\n",
    "model.cuda();"
   ]
  },
  {
   "cell_type": "code",
   "execution_count": 12,
   "metadata": {
    "colab": {
     "base_uri": "https://localhost:8080/"
    },
    "id": "1SLUM3lAyBPO",
    "outputId": "47742b0f-6c56-49fa-8456-02880e1c7ce8",
    "tags": []
   },
   "outputs": [
    {
     "name": "stdout",
     "output_type": "stream",
     "text": [
      "6.25 ms ± 3.3 µs per loop (mean ± std. dev. of 7 runs, 100 loops each)\n"
     ]
    }
   ],
   "source": [
    "%%timeit \n",
    "with torch.no_grad():\n",
    "    out = model(x)"
   ]
  },
  {
   "cell_type": "code",
   "execution_count": null,
   "metadata": {
    "id": "IeO7BHecyBPQ"
   },
   "outputs": [],
   "source": [
    "with torch.no_grad():\n",
    "    out = model(x)"
   ]
  },
  {
   "cell_type": "code",
   "execution_count": null,
   "metadata": {
    "colab": {
     "base_uri": "https://localhost:8080/"
    },
    "id": "zi6So-IHyBPR",
    "outputId": "d5ffffcc-bdf1-4bd3-85ba-5ecc86aa81d0"
   },
   "outputs": [
    {
     "data": {
      "text/plain": [
       "torch.Size([1, 128, 60, 80])"
      ]
     },
     "execution_count": 76,
     "metadata": {},
     "output_type": "execute_result"
    }
   ],
   "source": [
    "out.shape"
   ]
  },
  {
   "cell_type": "markdown",
   "metadata": {
    "id": "5DvBwxyoybFk"
   },
   "source": [
    "### Large"
   ]
  },
  {
   "cell_type": "code",
   "execution_count": 15,
   "metadata": {
    "id": "IqwlGnbEybFu",
    "tags": []
   },
   "outputs": [],
   "source": [
    "model = pcpvt_large_v0_partial(img_size=(640, 480))\n",
    "model.load_state_dict(torch.load('../../src/DEPO/weights_external/pcpvt_large.pth'), strict=False)\n",
    "model.cuda();"
   ]
  },
  {
   "cell_type": "code",
   "execution_count": 16,
   "metadata": {
    "colab": {
     "base_uri": "https://localhost:8080/"
    },
    "id": "Cb3xfMECybFu",
    "outputId": "246faf37-d38e-4e10-ef99-de9dc9de99e5",
    "tags": []
   },
   "outputs": [
    {
     "name": "stdout",
     "output_type": "stream",
     "text": [
      "8.63 ms ± 3.18 µs per loop (mean ± std. dev. of 7 runs, 100 loops each)\n"
     ]
    }
   ],
   "source": [
    "%%timeit \n",
    "with torch.no_grad():\n",
    "    out = model(x)"
   ]
  },
  {
   "cell_type": "code",
   "execution_count": 17,
   "metadata": {
    "id": "EdHNPXl0ybFv",
    "tags": []
   },
   "outputs": [],
   "source": [
    "with torch.no_grad():\n",
    "    out = model(x)"
   ]
  },
  {
   "cell_type": "code",
   "execution_count": 18,
   "metadata": {
    "colab": {
     "base_uri": "https://localhost:8080/"
    },
    "id": "pdRIfK7wybFv",
    "outputId": "52071f70-47ec-4ba5-ca99-3a762412fdb6",
    "tags": []
   },
   "outputs": [
    {
     "data": {
      "text/plain": [
       "torch.Size([1, 128, 60, 80])"
      ]
     },
     "execution_count": 18,
     "metadata": {},
     "output_type": "execute_result"
    }
   ],
   "source": [
    "out.shape"
   ]
  },
  {
   "cell_type": "markdown",
   "metadata": {
    "id": "YGFNG0z42zt3"
   },
   "source": [
    "# Twins-PVT"
   ]
  },
  {
   "cell_type": "code",
   "execution_count": 8,
   "metadata": {
    "colab": {
     "base_uri": "https://localhost:8080/",
     "height": 255
    },
    "id": "jmAtApKn2yaH",
    "outputId": "d75528ad-caf3-4446-c165-b2f8f22bf1ec",
    "tags": []
   },
   "outputs": [
    {
     "name": "stderr",
     "output_type": "stream",
     "text": [
      "Downloading...\n",
      "From (uriginal): https://drive.google.com/uc?id=131SVOphM_-SaBytf4kWjo3ony5hpOt4S\n",
      "From (redirected): https://drive.google.com/uc?id=131SVOphM_-SaBytf4kWjo3ony5hpOt4S&confirm=t&uuid=d497f9bc-9350-44fd-a7e5-2496f8a69790\n",
      "To: /home/project/code/src/DEPO/weights_external/pvt_small.pth\n",
      "100%|██████████████████████████████████████████████████████████████████████████████| 96.4M/96.4M [00:08<00:00, 11.2MB/s]\n",
      "Downloading...\n",
      "From (uriginal): https://drive.google.com/uc?id=1s83To8xgDWY6Ad8VBP3Nx9gqY709rrGu\n",
      "From (redirected): https://drive.google.com/uc?id=1s83To8xgDWY6Ad8VBP3Nx9gqY709rrGu&confirm=t&uuid=70af8814-6f76-4fe4-ab58-6a1c6885ecb8\n",
      "To: /home/project/code/src/DEPO/weights_external/pvt_base.pth\n",
      "100%|████████████████████████████████████████████████████████████████████████████████| 224M/224M [00:10<00:00, 21.9MB/s]\n",
      "Downloading...\n",
      "From (uriginal): https://drive.google.com/uc?id=1um39wxIaicmOquP2fr_SiZdxNCUou8w-\n",
      "From (redirected): https://drive.google.com/uc?id=1um39wxIaicmOquP2fr_SiZdxNCUou8w-&confirm=t&uuid=d3a70ea7-c792-43e8-82a3-39320b1cc725\n",
      "To: /home/project/code/src/DEPO/weights_external/pvt_large.pth\n",
      "100%|████████████████████████████████████████████████████████████████████████████████| 397M/397M [00:17<00:00, 23.1MB/s]\n"
     ]
    },
    {
     "data": {
      "text/plain": [
       "'../../src/DEPO/weights_external/pvt_large.pth'"
      ]
     },
     "execution_count": 8,
     "metadata": {},
     "output_type": "execute_result"
    }
   ],
   "source": [
    "# PVT-Small (Classification task)\n",
    "gdown.download(id='131SVOphM_-SaBytf4kWjo3ony5hpOt4S', output='../../src/DEPO/weights_external/pvt_small.pth')\n",
    "# PVT-Base (Classification task)\n",
    "gdown.download(id='1s83To8xgDWY6Ad8VBP3Nx9gqY709rrGu', output='../../src/DEPO/weights_external/pvt_base.pth')\n",
    "# PVT-Large (Classification task)\n",
    "gdown.download(id='1um39wxIaicmOquP2fr_SiZdxNCUou8w-', output='../../src/DEPO/weights_external/pvt_large.pth')"
   ]
  },
  {
   "cell_type": "code",
   "execution_count": 6,
   "metadata": {
    "tags": []
   },
   "outputs": [],
   "source": [
    "x = torch.rand(1, 3, 480, 640).cuda()"
   ]
  },
  {
   "cell_type": "markdown",
   "metadata": {
    "id": "kyja5qiI3f8G"
   },
   "source": [
    "### Small"
   ]
  },
  {
   "cell_type": "code",
   "execution_count": 9,
   "metadata": {
    "id": "q-8OQBM63f8I",
    "tags": []
   },
   "outputs": [],
   "source": [
    "model = alt_gvt_small_partial(img_size=(640, 480))\n",
    "model.load_state_dict(torch.load('../../src/DEPO/weights_external/pvt_small.pth'), strict=False)\n",
    "model.cuda();"
   ]
  },
  {
   "cell_type": "code",
   "execution_count": 28,
   "metadata": {
    "tags": []
   },
   "outputs": [
    {
     "name": "stdout",
     "output_type": "stream",
     "text": [
      "3.59 ms ± 9.39 µs per loop (mean ± std. dev. of 7 runs, 100 loops each)\n"
     ]
    }
   ],
   "source": [
    "%%timeit\n",
    "with torch.no_grad():\n",
    "    out = model(x)"
   ]
  },
  {
   "cell_type": "code",
   "execution_count": 10,
   "metadata": {
    "colab": {
     "base_uri": "https://localhost:8080/",
     "height": 341
    },
    "id": "oXaaSudG3f8I",
    "outputId": "e2110148-8404-48bf-b0ce-da576b0d857e",
    "tags": []
   },
   "outputs": [],
   "source": [
    "with torch.no_grad():\n",
    "    out = model(x)"
   ]
  },
  {
   "cell_type": "code",
   "execution_count": 31,
   "metadata": {
    "colab": {
     "base_uri": "https://localhost:8080/"
    },
    "id": "XeDDw5Qo3f8J",
    "outputId": "b248b1a2-e307-4d90-f26f-2fe3427f17c3",
    "tags": []
   },
   "outputs": [
    {
     "data": {
      "text/plain": [
       "torch.Size([1, 128, 60, 80])"
      ]
     },
     "execution_count": 31,
     "metadata": {},
     "output_type": "execute_result"
    }
   ],
   "source": [
    "out.shape"
   ]
  },
  {
   "cell_type": "markdown",
   "metadata": {
    "id": "XgPGRJz13f8J"
   },
   "source": [
    "### Base"
   ]
  },
  {
   "cell_type": "code",
   "execution_count": 33,
   "metadata": {
    "id": "lA2Thpqf3f8J",
    "tags": []
   },
   "outputs": [],
   "source": [
    "model = alt_gvt_base_partial(img_size=(640, 480))\n",
    "model.load_state_dict(torch.load('../../src/DEPO/weights_external/pvt_base.pth'), strict=False)\n",
    "model.cuda();"
   ]
  },
  {
   "cell_type": "code",
   "execution_count": 34,
   "metadata": {
    "colab": {
     "base_uri": "https://localhost:8080/"
    },
    "id": "PeiYdKfy3f8K",
    "outputId": "47742b0f-6c56-49fa-8456-02880e1c7ce8",
    "tags": []
   },
   "outputs": [
    {
     "name": "stdout",
     "output_type": "stream",
     "text": [
      "5.16 ms ± 3.73 µs per loop (mean ± std. dev. of 7 runs, 100 loops each)\n"
     ]
    }
   ],
   "source": [
    "%%timeit \n",
    "with torch.no_grad():\n",
    "    out = model(x)"
   ]
  },
  {
   "cell_type": "code",
   "execution_count": 35,
   "metadata": {
    "id": "o9sw5YWA3f8L",
    "tags": []
   },
   "outputs": [],
   "source": [
    "with torch.no_grad():\n",
    "    out = model(x)"
   ]
  },
  {
   "cell_type": "code",
   "execution_count": 36,
   "metadata": {
    "colab": {
     "base_uri": "https://localhost:8080/"
    },
    "id": "QILsdgNF3f8L",
    "outputId": "d5ffffcc-bdf1-4bd3-85ba-5ecc86aa81d0",
    "tags": []
   },
   "outputs": [
    {
     "data": {
      "text/plain": [
       "torch.Size([1, 192, 60, 80])"
      ]
     },
     "execution_count": 36,
     "metadata": {},
     "output_type": "execute_result"
    }
   ],
   "source": [
    "out.shape"
   ]
  },
  {
   "cell_type": "markdown",
   "metadata": {
    "id": "QMsrjhxk3f8L"
   },
   "source": [
    "### Large"
   ]
  },
  {
   "cell_type": "code",
   "execution_count": 37,
   "metadata": {
    "id": "iDW5Xsr23f8M",
    "tags": []
   },
   "outputs": [],
   "source": [
    "model = alt_gvt_large_partial(img_size=(640, 480))\n",
    "model.load_state_dict(torch.load('../../src/DEPO/weights_external/pvt_large.pth'), strict=False)\n",
    "model.cuda();"
   ]
  },
  {
   "cell_type": "code",
   "execution_count": 38,
   "metadata": {
    "colab": {
     "base_uri": "https://localhost:8080/"
    },
    "id": "9sUeLOqb3f8M",
    "outputId": "246faf37-d38e-4e10-ef99-de9dc9de99e5",
    "tags": []
   },
   "outputs": [
    {
     "name": "stdout",
     "output_type": "stream",
     "text": [
      "6.62 ms ± 3.97 µs per loop (mean ± std. dev. of 7 runs, 100 loops each)\n"
     ]
    }
   ],
   "source": [
    "%%timeit \n",
    "with torch.no_grad():\n",
    "    out = model(x)"
   ]
  },
  {
   "cell_type": "code",
   "execution_count": 39,
   "metadata": {
    "id": "RtyO57Da3f8M",
    "tags": []
   },
   "outputs": [],
   "source": [
    "with torch.no_grad():\n",
    "    out = model(x)"
   ]
  },
  {
   "cell_type": "code",
   "execution_count": 40,
   "metadata": {
    "tags": []
   },
   "outputs": [
    {
     "data": {
      "text/plain": [
       "torch.Size([1, 256, 60, 80])"
      ]
     },
     "execution_count": 40,
     "metadata": {},
     "output_type": "execute_result"
    }
   ],
   "source": [
    "out.shape"
   ]
  }
 ],
 "metadata": {
  "accelerator": "GPU",
  "colab": {
   "gpuType": "T4",
   "provenance": [],
   "toc_visible": true
  },
  "gpuClass": "standard",
  "kernelspec": {
   "display_name": "Python 3 (ipykernel)",
   "language": "python",
   "name": "python3"
  },
  "language_info": {
   "codemirror_mode": {
    "name": "ipython",
    "version": 3
   },
   "file_extension": ".py",
   "mimetype": "text/x-python",
   "name": "python",
   "nbconvert_exporter": "python",
   "pygments_lexer": "ipython3",
   "version": "3.8.10"
  }
 },
 "nbformat": 4,
 "nbformat_minor": 4
}
