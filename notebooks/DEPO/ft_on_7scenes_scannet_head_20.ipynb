{
 "cells": [
  {
   "cell_type": "code",
   "execution_count": 1,
   "id": "8336d20d-54e8-409c-90bd-418339aaf4e7",
   "metadata": {
    "tags": []
   },
   "outputs": [],
   "source": [
    "%load_ext autoreload\n",
    "%autoreload 2"
   ]
  },
  {
   "cell_type": "code",
   "execution_count": 2,
   "id": "b87bc024-e818-418f-a5f8-b57b8fd4c218",
   "metadata": {
    "tags": []
   },
   "outputs": [],
   "source": [
    "import sys\n",
    "sys.path.append('../../src')"
   ]
  },
  {
   "cell_type": "code",
   "execution_count": 3,
   "id": "319dce6d-c8e2-4f2a-a836-34797394333a",
   "metadata": {
    "tags": []
   },
   "outputs": [
    {
     "name": "stderr",
     "output_type": "stream",
     "text": [
      "/usr/local/lib/python3.8/dist-packages/tqdm/auto.py:21: TqdmWarning: IProgress not found. Please update jupyter and ipywidgets. See https://ipywidgets.readthedocs.io/en/stable/user_install.html\n",
      "  from .autonotebook import tqdm as notebook_tqdm\n"
     ]
    }
   ],
   "source": [
    "import torch\n",
    "from torch.utils.data import DataLoader\n",
    "from torch.optim.swa_utils import SWALR\n",
    "\n",
    "from data.seven_scenes.utils_7scenes import SevenScenesEvalDataset\n",
    "from DEPO.depo import depo_best\n",
    "\n",
    "from training.train_depo_pose_and_flow_weighted import MixedScheduler\n",
    "from training.train_depo_pose import train, validate\n",
    "from training.loss_pose import LossPose\n",
    "\n",
    "from utils.model import load_checkpoint, plot_schedule\n",
    "import numpy as np\n",
    "import pandas as pd\n",
    "\n",
    "from transformers import get_scheduler\n",
    "from pathlib import Path\n",
    "import os.path as osp\n",
    "from tqdm.auto import tqdm"
   ]
  },
  {
   "cell_type": "code",
   "execution_count": 4,
   "id": "f630af5b-7629-4567-98a2-415933951a0d",
   "metadata": {
    "tags": []
   },
   "outputs": [],
   "source": [
    "device = torch.device('cuda:0' if torch.cuda.is_available() else 'cpu')"
   ]
  },
  {
   "cell_type": "markdown",
   "id": "7781fb26-35f8-43b2-94e7-b70b6b9eb2fb",
   "metadata": {
    "tags": []
   },
   "source": [
    "#### Data"
   ]
  },
  {
   "cell_type": "code",
   "execution_count": 5,
   "id": "18a18e0f-e3c6-41c9-ae43-bdce3addb399",
   "metadata": {
    "tags": []
   },
   "outputs": [],
   "source": [
    "train_data = SevenScenesEvalDataset(\n",
    "    root_dir='/home/project/data/7scenes/',\n",
    "    pairs_path='/home/project/data/7scenes/db_all_med_hard_train.txt')\n",
    "   \n",
    "train_loader = DataLoader(train_data, batch_size=4, shuffle=True, drop_last=True, pin_memory=True, num_workers=4)\n",
    "\n",
    "val_data = SevenScenesEvalDataset(\n",
    "    root_dir='/home/project/data/7scenes/',\n",
    "    pairs_path='/home/project/data/7scenes/db_all_med_hard_valid.txt')\n",
    "\n",
    "val_loader = DataLoader(val_data, batch_size=4, shuffle=False, drop_last=False, pin_memory=True, num_workers=4)"
   ]
  },
  {
   "cell_type": "markdown",
   "id": "282493d3-ba87-429f-8a70-816282714c5d",
   "metadata": {},
   "source": [
    "#### Config"
   ]
  },
  {
   "cell_type": "code",
   "execution_count": 6,
   "id": "836ef7bc-2fde-46d9-855c-383f8de76e46",
   "metadata": {
    "tags": []
   },
   "outputs": [],
   "source": [
    "torch.backends.cuda.matmul.allow_tf32 = True\n",
    "torch.backends.cudnn.allow_tf32 = True\n",
    "\n",
    "config = dict(\n",
    "    experiment_name='7_scenes_ft_pretrained',\n",
    "    device=device,\n",
    "    n_epochs=11,\n",
    "    n_accum_steps=16,\n",
    "    batch_size=train_loader.batch_size,\n",
    "    n_steps_per_epoch=len(train_loader.dataset) // train_loader.batch_size,\n",
    "    swa=True,\n",
    "    swa_lr=5e-5,\n",
    "    n_epochs_swa=1,\n",
    "    repeat_val_epoch=1,\n",
    "    repeat_save_epoch=1,\n",
    "    scheduler_step='step',\n",
    "    model_save_path='../../src/weights/7_scenes_ft_pretrained'\n",
    ")\n",
    "\n",
    "config['n_effective_steps_per_epoch'] = np.ceil(len(train_loader.dataset) / (train_loader.batch_size * config['n_accum_steps'])) \n",
    "config['n_warmup_steps'] = int(config['n_effective_steps_per_epoch'] * 1.)\n",
    "config['n_training_steps'] = int(config['n_effective_steps_per_epoch'] * (config['n_epochs'] - config['n_epochs_swa']))\n",
    "config['n_swa_anneal_steps'] = int(config['n_effective_steps_per_epoch'] * 0.2)\n",
    "config['n_steps_between_swa_updates'] = (config['n_effective_steps_per_epoch'] - config['n_swa_anneal_steps']) // 10"
   ]
  },
  {
   "cell_type": "markdown",
   "id": "8c60dd77-a302-4449-94e6-f1df9d4cd9b1",
   "metadata": {},
   "source": [
    "#### Model"
   ]
  },
  {
   "cell_type": "code",
   "execution_count": 7,
   "id": "31bdf0d7-42f9-4d73-a4ec-5f92f96ffe45",
   "metadata": {
    "tags": []
   },
   "outputs": [],
   "source": [
    "checkpoint = load_checkpoint(\n",
    "    '/home/project/code/src/weights/flow_and_pose_best_abs_0.pth',\n",
    "    device)\n",
    "\n",
    "model = depo_best(calculate_flow=False)\n",
    "model.load_state_dict(checkpoint['model'])\n",
    "model.to(device);"
   ]
  },
  {
   "cell_type": "markdown",
   "id": "a1f93586-ea65-4ef8-b5bf-b9d73a2d04c4",
   "metadata": {
    "tags": []
   },
   "source": [
    "#### Loss & Optimizer & Scheduler"
   ]
  },
  {
   "cell_type": "code",
   "execution_count": 10,
   "id": "64af6fe6-50e3-449a-850f-fa7c4c2d90b7",
   "metadata": {
    "tags": []
   },
   "outputs": [],
   "source": [
    "val_loss = LossPose(agg_type=None, t_norm='l2')\n",
    "train_loss = LossPose(agg_type='mean', t_norm='l1')"
   ]
  },
  {
   "cell_type": "code",
   "execution_count": 11,
   "id": "563ec8d4-6a56-4161-8886-aa6b35b47b4f",
   "metadata": {
    "tags": []
   },
   "outputs": [],
   "source": [
    "for name, module in model.named_parameters():\n",
    "    if ('pose_regressor' in name) or ('intrinsics_mlp' in name):\n",
    "        module.requires_grad = True\n",
    "    else:\n",
    "        module.requires_grad = False\n",
    "        \n",
    "optimizer = torch.optim.AdamW(model.parameters(), lr=1e-4)"
   ]
  },
  {
   "cell_type": "code",
   "execution_count": 12,
   "id": "c36f7b7e-719b-4b4e-a6fc-c0959d6037c5",
   "metadata": {
    "tags": []
   },
   "outputs": [],
   "source": [
    "base_scheduler = get_scheduler(\n",
    "    \"cosine\",    \n",
    "    optimizer=optimizer,\n",
    "    num_warmup_steps=config['n_warmup_steps'],\n",
    "    num_training_steps=config['n_training_steps'])\n",
    "\n",
    "swa_scheduler = SWALR(\n",
    "    optimizer,\n",
    "    swa_lr=config['swa_lr'],\n",
    "    anneal_epochs=config['n_swa_anneal_steps'])\n",
    "\n",
    "scheduler = MixedScheduler(\n",
    "    base_scheduler,\n",
    "    swa_scheduler,\n",
    "    n_epochs=config['n_epochs'],\n",
    "    n_epochs_swa=config['n_epochs_swa'],\n",
    "    n_steps_per_epoch=config['n_effective_steps_per_epoch'],\n",
    "    n_swa_anneal_steps=config['n_swa_anneal_steps'],\n",
    "    n_steps_between_swa_updates=config['n_steps_between_swa_updates']\n",
    ")"
   ]
  },
  {
   "cell_type": "markdown",
   "id": "a277733b-2356-45be-ac93-9de2d1933d1a",
   "metadata": {},
   "source": [
    "#### Train & val"
   ]
  },
  {
   "cell_type": "code",
   "execution_count": null,
   "id": "65ad928b-2f17-43d7-98ab-9b46a4c85d7f",
   "metadata": {
    "tags": []
   },
   "outputs": [
    {
     "name": "stderr",
     "output_type": "stream",
     "text": [
      "\u001b[34m\u001b[1mwandb\u001b[0m: Currently logged in as: \u001b[33mkovanic\u001b[0m. Use \u001b[1m`wandb login --relogin`\u001b[0m to force relogin\n"
     ]
    },
    {
     "data": {
      "text/html": [
       "wandb version 0.15.3 is available!  To upgrade, please run:\n",
       " $ pip install wandb --upgrade"
      ],
      "text/plain": [
       "<IPython.core.display.HTML object>"
      ]
     },
     "metadata": {},
     "output_type": "display_data"
    },
    {
     "data": {
      "text/html": [
       "Tracking run with wandb version 0.14.0"
      ],
      "text/plain": [
       "<IPython.core.display.HTML object>"
      ]
     },
     "metadata": {},
     "output_type": "display_data"
    },
    {
     "data": {
      "text/html": [
       "Run data is saved locally in <code>/home/project/code/notebooks/DEPO/wandb/run-20230605_164312-tomnzkdk</code>"
      ],
      "text/plain": [
       "<IPython.core.display.HTML object>"
      ]
     },
     "metadata": {},
     "output_type": "display_data"
    },
    {
     "data": {
      "text/html": [
       "Syncing run <strong><a href='https://wandb.ai/kovanic/Diploma/runs/tomnzkdk' target=\"_blank\">7_scenes_ft_pretrained</a></strong> to <a href='https://wandb.ai/kovanic/Diploma' target=\"_blank\">Weights & Biases</a> (<a href='https://wandb.me/run' target=\"_blank\">docs</a>)<br/>"
      ],
      "text/plain": [
       "<IPython.core.display.HTML object>"
      ]
     },
     "metadata": {},
     "output_type": "display_data"
    },
    {
     "data": {
      "text/html": [
       " View project at <a href='https://wandb.ai/kovanic/Diploma' target=\"_blank\">https://wandb.ai/kovanic/Diploma</a>"
      ],
      "text/plain": [
       "<IPython.core.display.HTML object>"
      ]
     },
     "metadata": {},
     "output_type": "display_data"
    },
    {
     "data": {
      "text/html": [
       " View run at <a href='https://wandb.ai/kovanic/Diploma/runs/tomnzkdk' target=\"_blank\">https://wandb.ai/kovanic/Diploma/runs/tomnzkdk</a>"
      ],
      "text/plain": [
       "<IPython.core.display.HTML object>"
      ]
     },
     "metadata": {},
     "output_type": "display_data"
    },
    {
     "name": "stderr",
     "output_type": "stream",
     "text": [
      "100%|█████████████████████████████████████████████████████████████████████████████████████████████████████████████████| 10399/10399 [24:48<00:00,  6.99it/s]\n",
      "100%|███████████████████████████████████████████████████████████████████████████████████████████████████████████████████| 2601/2601 [05:17<00:00,  8.20it/s]\n"
     ]
    },
    {
     "name": "stdout",
     "output_type": "stream",
     "text": [
      "epoch 0: val loss(q)=0.18653163213945342, val loss(t)=0.633743319009341\n"
     ]
    },
    {
     "name": "stderr",
     "output_type": "stream",
     "text": [
      "100%|█████████████████████████████████████████████████████████████████████████████████████████████████████████████████| 10399/10399 [24:50<00:00,  6.98it/s]\n",
      "100%|███████████████████████████████████████████████████████████████████████████████████████████████████████████████████| 2601/2601 [05:18<00:00,  8.17it/s]\n"
     ]
    },
    {
     "name": "stdout",
     "output_type": "stream",
     "text": [
      "epoch 1: val loss(q)=0.17704658279097588, val loss(t)=0.5815676708469893\n"
     ]
    },
    {
     "name": "stderr",
     "output_type": "stream",
     "text": [
      "100%|████████████████████████████████████████████████████████████████████████████████████████████████████████████████▍| 10352/10399 [24:45<00:06,  6.93it/s]"
     ]
    }
   ],
   "source": [
    "train(model, optimizer, scheduler, train_loss, val_loss, train_loader, val_loader, config, **config)"
   ]
  }
 ],
 "metadata": {
  "kernelspec": {
   "display_name": "Python 3 (ipykernel)",
   "language": "python",
   "name": "python3"
  },
  "language_info": {
   "codemirror_mode": {
    "name": "ipython",
    "version": 3
   },
   "file_extension": ".py",
   "mimetype": "text/x-python",
   "name": "python",
   "nbconvert_exporter": "python",
   "pygments_lexer": "ipython3",
   "version": "3.8.10"
  }
 },
 "nbformat": 4,
 "nbformat_minor": 5
}
