{
 "cells": [
  {
   "cell_type": "code",
   "execution_count": 1,
   "id": "cada4a4d-a0cb-457b-9295-0269c8a9cf0a",
   "metadata": {
    "tags": []
   },
   "outputs": [],
   "source": [
    "%load_ext autoreload\n",
    "%autoreload 2"
   ]
  },
  {
   "cell_type": "code",
   "execution_count": 2,
   "id": "894e6479-9606-4e4b-bcfd-e7b0595a89e4",
   "metadata": {
    "tags": []
   },
   "outputs": [],
   "source": [
    "import sys\n",
    "sys.path.append('../../src')"
   ]
  },
  {
   "cell_type": "code",
   "execution_count": 28,
   "id": "9a37ace4-08d7-4a25-8d14-22b898b3981a",
   "metadata": {
    "tags": []
   },
   "outputs": [],
   "source": [
    "from data.scannet.utils_scannet import ScanNetDataset\n",
    "\n",
    "import open3d as o3d\n",
    "from open3d.visualization.draw_plotly import get_plotly_fig, draw_plotly\n",
    "\n",
    "import plotly.io as pio\n",
    "pio.renderers.default = \"iframe\"\n",
    "\n",
    "import numpy as np\n",
    "from utils.cameras_geometry_numpy import geometries_for_one_frame\n",
    "\n",
    "import torch"
   ]
  },
  {
   "cell_type": "code",
   "execution_count": 36,
   "id": "495c9079-8279-4f20-afbc-53a8784efe81",
   "metadata": {
    "tags": []
   },
   "outputs": [],
   "source": [
    "test_data = ScanNetDataset(\n",
    "    root_dir='/home/project/ScanNet/scannet_test_1500/',\n",
    "    npz_path='/home/project/ScanNet/test.npz',\n",
    "    intrinsics_path='/home/project/ScanNet/intrinsics_test.npz',\n",
    "    calculate_flow=False\n",
    ")"
   ]
  },
  {
   "cell_type": "code",
   "execution_count": 94,
   "id": "fbdb69d2-7f64-4a63-a7c4-9d25c3f38c4a",
   "metadata": {},
   "outputs": [
    {
     "data": {
      "text/plain": [
       "tensor([[ 0.9760,  0.0592,  0.2097, -0.0397],\n",
       "        [-0.0820,  0.9914,  0.1017,  0.0075],\n",
       "        [-0.2018, -0.1165,  0.9725,  0.5425],\n",
       "        [ 0.0000,  0.0000,  0.0000,  1.0000]])"
      ]
     },
     "execution_count": 94,
     "metadata": {},
     "output_type": "execute_result"
    }
   ],
   "source": [
    "test_data[0]['T_0to1']"
   ]
  },
  {
   "cell_type": "code",
   "execution_count": 92,
   "id": "48b88c3f-2b95-4d8f-b24c-ed962d44b389",
   "metadata": {
    "tags": []
   },
   "outputs": [],
   "source": [
    "def get_geometries(i, dataset):\n",
    "    data = dataset[i]\n",
    "    image_0 = data['image0'].permute(1, 2, 0).numpy()\n",
    "    depth_0 = data['depth_0'].numpy()\n",
    "    T_0 = data['T_0'].numpy()\n",
    "    K_0 = data['K0']\n",
    "    \n",
    "    image_1 = data['image1'].permute(1, 2, 0).numpy()\n",
    "    depth_1 = data['depth_1'].numpy()\n",
    "    T_1 = data['T_1'].numpy()\n",
    "    K_1 = data['K1']\n",
    "    \n",
    "    #q -> s\n",
    "    T_rel = test_data[0]['T_0to1']\n",
    "    \n",
    "    geometries = geometries_for_one_frame(image_0, depth_0, T_0, K_0)\n",
    "    geometries.extend(geometries_for_one_frame(image_1, depth_1, T_1, K_1))\n",
    "    \n",
    "    return geometries"
   ]
  },
  {
   "cell_type": "code",
   "execution_count": 93,
   "id": "5f3bf97d-88c7-4e84-8b8d-2b7f5da4f76f",
   "metadata": {
    "tags": []
   },
   "outputs": [],
   "source": [
    "geometries = get_geometries(0, test_data)"
   ]
  },
  {
   "cell_type": "code",
   "execution_count": 85,
   "id": "1bab03c9-2415-4909-9c31-172dcf6e8a40",
   "metadata": {
    "tags": []
   },
   "outputs": [],
   "source": [
    "fig = get_plotly_fig(geometries, point_sample_factor=0.1, mesh_show_wireframe=True)"
   ]
  },
  {
   "cell_type": "code",
   "execution_count": 86,
   "id": "e37e625d-5cb2-4722-90b6-898d6d6a6b3a",
   "metadata": {
    "tags": []
   },
   "outputs": [
    {
     "data": {
      "text/html": [
       "<iframe\n",
       "    scrolling=\"no\"\n",
       "    width=\"620px\"\n",
       "    height=\"420\"\n",
       "    src=\"iframe_figures/figure_86.html\"\n",
       "    frameborder=\"0\"\n",
       "    allowfullscreen\n",
       "></iframe>\n"
      ]
     },
     "metadata": {},
     "output_type": "display_data"
    }
   ],
   "source": [
    "fig.show()"
   ]
  }
 ],
 "metadata": {
  "kernelspec": {
   "display_name": "Python 3 (ipykernel)",
   "language": "python",
   "name": "python3"
  },
  "language_info": {
   "codemirror_mode": {
    "name": "ipython",
    "version": 3
   },
   "file_extension": ".py",
   "mimetype": "text/x-python",
   "name": "python",
   "nbconvert_exporter": "python",
   "pygments_lexer": "ipython3",
   "version": "3.8.10"
  }
 },
 "nbformat": 4,
 "nbformat_minor": 5
}
