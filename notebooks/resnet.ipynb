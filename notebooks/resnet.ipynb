{
 "cells": [
  {
   "cell_type": "code",
   "execution_count": 2,
   "id": "28402dbc-ba4a-4d07-a1f8-2a10e50cf743",
   "metadata": {
    "tags": []
   },
   "outputs": [],
   "source": [
    "import torch\n",
    "from torch.linalg import norm"
   ]
  },
  {
   "cell_type": "code",
   "execution_count": null,
   "id": "11ac44c5-d434-4a48-a923-3ec519e29f41",
   "metadata": {},
   "outputs": [],
   "source": [
    "norm()"
   ]
  },
  {
   "cell_type": "code",
   "execution_count": 46,
   "id": "e8346c07-cad2-463b-833d-d2ca5e9ffea6",
   "metadata": {
    "tags": []
   },
   "outputs": [],
   "source": [
    "import torch\n",
    "from torch import nn\n",
    "\n",
    "\n",
    "class ResNetBlock(nn.Module):\n",
    "    def __init__(self, in_ch, out_ch, H, W, kernel_size, stride=1, **kwargs):\n",
    "        super(ResNetBlock, self).__init__()\n",
    "        \n",
    "        self.block = nn.Sequential(\n",
    "            nn.Conv2d(in_ch, out_ch, kernel_size=kernel_size, padding=(kernel_size - 1) // 2, bias=False, **kwargs),\n",
    "            nn.LayerNorm([out_ch, H, W]),\n",
    "            nn.LeakyReLU(0.1, inplace=True),\n",
    "            nn.Conv2d(out_ch, out_ch, kernel_size=kernel_size, padding=(kernel_size - 1) // 2, stride=stride, bias=False, **kwargs),\n",
    "            nn.LayerNorm([out_ch, H // stride + H % stride, W // stride + W % stride])\n",
    "        )\n",
    "        \n",
    "        self.conv1x1 = nn.Conv2d(in_ch, out_ch, 1, 1, 0)\n",
    "        self.pooling = nn.AdaptiveAvgPool2d((H // stride + H % stride, W // stride + W % stride))\n",
    "        self.final_act = nn.LeakyReLU(0.1, inplace=True)\n",
    "        \n",
    "    def forward(self, x):\n",
    "        x = self.final_act(self.pooling(self.conv1x1(x)) + self.block(x))\n",
    "        return x\n",
    "\n",
    "\n",
    "def conv_block_v3(in_ch, out_ch, kernel_size, stride, padding, norm=False, W=None, H=None, activation='leaky_relu', dropout=None, **kwargs):\n",
    "     return nn.Sequential(\n",
    "         nn.Conv2d(in_ch, out_ch, kernel_size=kernel_size, stride=stride, padding=padding, **kwargs),\n",
    "         nn.LayerNorm([out_ch, H, W]) if norm else nn.Identity(),\n",
    "         nn.LeakyReLU(0.1, inplace=True) if 'leaky_relu' else nn.ReLU(inplace=True),\n",
    "         nn.Dropout2d(dropout) if dropout is not None else nn.Identity()\n",
    "     )\n",
    "\n",
    "    \n",
    "class DensePoseRegressorV6(nn.Module):\n",
    "    def __init__(self):\n",
    "        super(DensePoseRegressorV6, self).__init__()\n",
    "        \n",
    "        self.decoder = nn.Sequential(\n",
    "            conv_block_v3(4, 64, 5, 1, 2, True, 160, 120, groups=2, bias=False),\n",
    "            ResNetBlock(64, 64, 120, 160, 3, 1, groups=2),\n",
    "            ResNetBlock(64, 64, 120, 160, 3, 2, groups=2),\n",
    "            ResNetBlock(64, 64, 60, 80, 3, 2, groups=2),\n",
    "            ResNetBlock(64, 64, 30, 40, 3, 2, groups=2),\n",
    "            ResNetBlock(64, 64, 15, 20, 3, 2, groups=2),\n",
    "            ResNetBlock(64, 64, 8, 10, 3, 2, groups=2),    \n",
    "            nn.Conv2d(64, 64, (4, 5), 1, 0),\n",
    "        )\n",
    "        \n",
    "        self.translation_conv = nn.Conv2d(32, 3, 1, 1, 0)\n",
    "        self.angle_conv = nn.Conv2d(32, 4, 1, 1, 0)\n",
    "        \n",
    "    def forward(self, x):\n",
    "        x = self.decoder(x)\n",
    "        return x"
   ]
  },
  {
   "cell_type": "code",
   "execution_count": 44,
   "id": "b4835838-e0b6-4cd1-ab27-954357b9d481",
   "metadata": {
    "tags": []
   },
   "outputs": [],
   "source": [
    "x = torch.rand(1, 4, 120, 160)\n",
    "pr = DensePoseRegressorV6()\n",
    "pr.cuda()\n",
    "\n",
    "x = x.cuda()"
   ]
  },
  {
   "cell_type": "code",
   "execution_count": 45,
   "id": "4d6b9a9a-4ff2-46df-a1be-b44a19ec7da5",
   "metadata": {
    "tags": []
   },
   "outputs": [
    {
     "name": "stdout",
     "output_type": "stream",
     "text": [
      "torch.Size([3, 64, 1, 1])\n"
     ]
    }
   ],
   "source": [
    "pr(x)"
   ]
  },
  {
   "cell_type": "markdown",
   "id": "80170204-b353-471e-acff-376bc3c622c9",
   "metadata": {
    "tags": []
   },
   "source": [
    "x = torch.rand(4, 3, 15, 20)\n",
    "m = nn.Conv2d(3, 3, 5, 2, 2)\n",
    "\n",
    "x1 = m(x)\n",
    "print(x1.size())"
   ]
  },
  {
   "cell_type": "code",
   "execution_count": 14,
   "id": "43ac711f-8673-4c9a-b09e-98da051159dd",
   "metadata": {
    "tags": []
   },
   "outputs": [
    {
     "data": {
      "text/plain": [
       "torch.Size([4, 3, 8, 10])"
      ]
     },
     "execution_count": 14,
     "metadata": {},
     "output_type": "execute_result"
    }
   ],
   "source": [
    "p = torch.nn.AdaptiveAvgPool2d((8, 10))\n",
    "p(x).shape"
   ]
  }
 ],
 "metadata": {
  "kernelspec": {
   "display_name": "Python 3 (ipykernel)",
   "language": "python",
   "name": "python3"
  },
  "language_info": {
   "codemirror_mode": {
    "name": "ipython",
    "version": 3
   },
   "file_extension": ".py",
   "mimetype": "text/x-python",
   "name": "python",
   "nbconvert_exporter": "python",
   "pygments_lexer": "ipython3",
   "version": "3.8.10"
  }
 },
 "nbformat": 4,
 "nbformat_minor": 5
}
