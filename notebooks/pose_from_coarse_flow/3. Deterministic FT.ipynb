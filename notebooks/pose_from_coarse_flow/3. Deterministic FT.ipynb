{
 "cells": [
  {
   "cell_type": "code",
   "execution_count": 1,
   "id": "d066fbc0-ffc4-4c63-9524-76fbf4b01980",
   "metadata": {
    "tags": []
   },
   "outputs": [],
   "source": [
    "%load_ext autoreload\n",
    "%autoreload 2"
   ]
  },
  {
   "cell_type": "code",
   "execution_count": 2,
   "id": "7f69ae6a-a849-4380-bed9-0e5628d59316",
   "metadata": {
    "tags": []
   },
   "outputs": [],
   "source": [
    "import sys\n",
    "sys.path.append('../../src')"
   ]
  },
  {
   "cell_type": "code",
   "execution_count": 3,
   "id": "f0ac3ebe-6e7d-494c-a327-4ee59bd14810",
   "metadata": {
    "tags": []
   },
   "outputs": [
    {
     "name": "stderr",
     "output_type": "stream",
     "text": [
      "/usr/local/lib/python3.8/dist-packages/tqdm/auto.py:21: TqdmWarning: IProgress not found. Please update jupyter and ipywidgets. See https://ipywidgets.readthedocs.io/en/stable/user_install.html\n",
      "  from .autonotebook import tqdm as notebook_tqdm\n"
     ]
    }
   ],
   "source": [
    "import torch\n",
    "from torch.utils.data import DataLoader\n",
    "\n",
    "from data.scannet.utils_scannet import ScanNetDataset\n",
    "from matching.gmflow_dense.gmflow_dense import GMflowDensePoseDeterministic\n",
    "from flow_regressors.regressors import DensePoseRegressorV7\n",
    "\n",
    "from training.loss_pose import LossPose\n",
    "from training.loss_deterministic import DeterministicLossMixed\n",
    "from training.train_deterministic import train, validate\n",
    "from utils.model import load_checkpoint\n",
    "\n",
    "from tqdm.auto import tqdm\n",
    "import wandb"
   ]
  },
  {
   "cell_type": "markdown",
   "id": "c8ad3027-9400-4947-a251-25f4c2468f8b",
   "metadata": {},
   "source": [
    "### 1. Data"
   ]
  },
  {
   "cell_type": "code",
   "execution_count": 4,
   "id": "318ac11c-b372-423e-bd1d-1763a3e07860",
   "metadata": {
    "tags": []
   },
   "outputs": [],
   "source": [
    "train_data = ScanNetDataset(\n",
    "    root_dir='/home/project/data/ScanNet/scans/',\n",
    "    npz_path='/home/project/code/data/scannet_splits/smart_sample_train_ft.npz',\n",
    "    intrinsics_path='/home/project/ScanNet/scannet_indices/intrinsics.npz',\n",
    "    calculate_flow=True\n",
    ")\n",
    "\n",
    "train_loader = DataLoader(train_data, batch_size=2, shuffle=True, drop_last=True, pin_memory=True, num_workers=0)\n",
    "\n",
    "val_data = ScanNetDataset(\n",
    "    root_dir='/home/project/data/ScanNet/scans/',\n",
    "    npz_path='/home/project/code/data/scannet_splits/smart_sample_val.npz',\n",
    "    intrinsics_path='/home/project/ScanNet/scannet_indices/intrinsics.npz',\n",
    "    calculate_flow=True\n",
    ")\n",
    "\n",
    "val_loader = DataLoader(val_data, batch_size=2, shuffle=False, drop_last=False, pin_memory=True, num_workers=0)"
   ]
  },
  {
   "cell_type": "markdown",
   "id": "e1978016-6fd1-4d79-9314-f9da9661e6cf",
   "metadata": {},
   "source": [
    "### 2. Configuration"
   ]
  },
  {
   "cell_type": "code",
   "execution_count": 5,
   "id": "1c73c554-3f76-4707-8b44-1bde598b2eaa",
   "metadata": {
    "tags": []
   },
   "outputs": [],
   "source": [
    "torch.backends.cuda.matmul.allow_tf32 = True\n",
    "torch.backends.cudnn.allow_tf32 = True\n",
    "\n",
    "config = dict(\n",
    "    general = dict(\n",
    "        experiment_name='DETERMINISTIC_FT',\n",
    "        device=torch.device('cuda:0' if torch.cuda.is_available() else 'cpu'),\n",
    "        \n",
    "        n_epochs=5,\n",
    "        n_steps_per_epoch=len(train_loader.dataset)//train_loader.batch_size,\n",
    "        n_accum_steps=16,\n",
    "        batch_size=train_loader.batch_size,\n",
    "        \n",
    "        swa=False,\n",
    "        n_epochs_swa=None,\n",
    "        n_steps_between_swa_updates=None,\n",
    "\n",
    "        repeat_val_epoch=1,\n",
    "        repeat_save_epoch=1,\n",
    "          \n",
    "        model_save_path='../../src/weights/DETERMINISTIC_FT'\n",
    "    )\n",
    ")"
   ]
  },
  {
   "cell_type": "markdown",
   "id": "4f0a6d0c-8c63-467b-9075-ce7314fa4e6b",
   "metadata": {},
   "source": [
    "### 3. Model"
   ]
  },
  {
   "cell_type": "code",
   "execution_count": 6,
   "id": "99327e5c-129e-445d-9f01-7b72e2d1a246",
   "metadata": {
    "tags": []
   },
   "outputs": [],
   "source": [
    "checkpoint_gmflow = load_checkpoint('/home/project/code/src/matching/gmflow/weights/pretrained/gmflow_with_refine_kitti-8d3b9786.pth',\n",
    "                             config['general']['device'])\n",
    "\n",
    "checkpoint_regressor = load_checkpoint('/home/project/code/src/weights/COARSE_FLOW_EXP_1_4.pth',\n",
    "                             config['general']['device'])"
   ]
  },
  {
   "cell_type": "code",
   "execution_count": 7,
   "id": "5fcb5f1c-7994-4781-9e63-cf75dd580ca7",
   "metadata": {
    "tags": []
   },
   "outputs": [],
   "source": [
    "regressor = DensePoseRegressorV7(init_loss_weights=[0.0, -3.0, -3.0])\n",
    "regressor.load_state_dict(checkpoint_regressor['model'])\n",
    "\n",
    "model = GMflowDensePoseDeterministic(regressor, fine_tuning=False)\n",
    "model.flow_module.load_state_dict(checkpoint_gmflow['model'])\n",
    "\n",
    "model.to(torch.float32)\n",
    "model.to(config['general']['device']);"
   ]
  },
  {
   "cell_type": "code",
   "execution_count": 8,
   "id": "bde23ebe-d4a2-4ef3-a086-bf624f9cbad3",
   "metadata": {
    "tags": []
   },
   "outputs": [],
   "source": [
    "for name, p in model.named_parameters():\n",
    "    if any(p_name in name for p_name in\n",
    "          ('transformer.layers.5', 'feature_flow_attn', 'upsampler', 'decoder')):\n",
    "        p.requires_grad = True\n",
    "    else:\n",
    "        p.requires_grad = False"
   ]
  },
  {
   "cell_type": "code",
   "execution_count": 9,
   "id": "5ff53868-9eb7-4b9b-86a3-b14d9f7ba8d2",
   "metadata": {
    "tags": []
   },
   "outputs": [],
   "source": [
    "# data = next(iter(train_loader))"
   ]
  },
  {
   "cell_type": "code",
   "execution_count": 10,
   "id": "2985c9c9-1e06-40bf-8af9-c168c996c68f",
   "metadata": {
    "tags": []
   },
   "outputs": [],
   "source": [
    "# for key in data.keys():\n",
    "#     if key in ('image0', 'image1', 'K0', 'K1', 'flow_0to1', 'mask'):\n",
    "#         data[key].to('cpu')\n",
    "\n",
    "# with torch.no_grad():\n",
    "#     preds, q, t = model(\n",
    "#         data['image0'],\n",
    "#         data['image1'],\n",
    "#         attn_splits_list=[2, 8],\n",
    "#         corr_radius_list=[-1, 4],\n",
    "#         prop_radius_list=[-1, 1],\n",
    "#         K_q=data['K0'],\n",
    "#         K_s=data['K1'],\n",
    "#         scales_q=(0.25, 0.25),\n",
    "#         scales_s=(0.25, 0.25))"
   ]
  },
  {
   "cell_type": "code",
   "execution_count": 11,
   "id": "108ef15d-7781-44e4-a56a-35ee325b989d",
   "metadata": {
    "tags": []
   },
   "outputs": [],
   "source": [
    "# loss = train_loss(data['flow_0to1'], data['mask'], data['T_0to1'], preds['flow_preds'], q, t, model.dense_pose_regressor.loss_weights)"
   ]
  },
  {
   "cell_type": "code",
   "execution_count": 12,
   "id": "8545c6ac-bbe3-4b06-9569-01f63af98b92",
   "metadata": {
    "tags": []
   },
   "outputs": [],
   "source": [
    "# loss.requires_grad"
   ]
  },
  {
   "cell_type": "code",
   "execution_count": 13,
   "id": "9acc67fc-5f6a-41ea-832f-b8ffe447fc52",
   "metadata": {
    "tags": []
   },
   "outputs": [],
   "source": [
    "# for name, p in model.named_parameters():\n",
    "#     try:\n",
    "#         print(name, p.data.dtype)\n",
    "#     except:\n",
    "#         continue"
   ]
  },
  {
   "cell_type": "code",
   "execution_count": 14,
   "id": "771b1e97-4e82-465a-9655-98e878327982",
   "metadata": {
    "tags": []
   },
   "outputs": [],
   "source": [
    "# p.data"
   ]
  },
  {
   "cell_type": "code",
   "execution_count": 15,
   "id": "00d36473-a6b9-42ab-9e56-48365f3e0b3e",
   "metadata": {
    "tags": []
   },
   "outputs": [],
   "source": [
    "# (torch.abs(data['flow_0to1'] - preds['flow_preds'][-2]) * data['mask']) .mean()"
   ]
  },
  {
   "cell_type": "code",
   "execution_count": 16,
   "id": "7db9cc54-efd1-4d01-b0af-4dc48ec84474",
   "metadata": {
    "tags": []
   },
   "outputs": [],
   "source": [
    "# preds['flow_preds'][-1].shape"
   ]
  },
  {
   "cell_type": "code",
   "execution_count": 17,
   "id": "89d6a3d5-197f-4bd4-9371-7b10166bcf7e",
   "metadata": {
    "tags": []
   },
   "outputs": [],
   "source": [
    "# for key in data.keys():\n",
    "#     if key in ('image0', 'image1', 'K0', 'K1', 'flow_0to1', 'mask'):\n",
    "#         data[key].to('cpu')\n"
   ]
  },
  {
   "cell_type": "code",
   "execution_count": 18,
   "id": "960c57c4-e05a-4ee5-96ab-24edf397adb4",
   "metadata": {
    "tags": []
   },
   "outputs": [],
   "source": [
    "# data['flow_0to1'].shape"
   ]
  },
  {
   "cell_type": "markdown",
   "id": "b8c95b79-d108-4075-8e92-934f121bc298",
   "metadata": {},
   "source": [
    "### 4. Loss, optimizer, scheduler"
   ]
  },
  {
   "cell_type": "code",
   "execution_count": 19,
   "id": "7b6e7aa3-8426-450b-a611-ab05ebb86468",
   "metadata": {},
   "outputs": [],
   "source": [
    "train_loss = DeterministicLossMixed()\n",
    "val_loss = LossPose()"
   ]
  },
  {
   "cell_type": "code",
   "execution_count": 20,
   "id": "0404e842-ad97-4ac7-a2e1-51af0b9a71f6",
   "metadata": {
    "tags": []
   },
   "outputs": [],
   "source": [
    "optimizer = torch.optim.AdamW(model.parameters(), lr=1e-4, weight_decay=1e-6)\n",
    "config['optimizer'] = optimizer.__dict__['defaults']"
   ]
  },
  {
   "cell_type": "code",
   "execution_count": 21,
   "id": "ecaedfe6-d3a2-41b5-ba94-c2ad90bc3f35",
   "metadata": {
    "tags": []
   },
   "outputs": [],
   "source": [
    "scheduler = torch.optim.lr_scheduler.StepLR(optimizer,\n",
    "                   step_size=2,\n",
    "                   gamma=0.8)"
   ]
  },
  {
   "cell_type": "code",
   "execution_count": 22,
   "id": "b4bbf065-3dae-4f52-baa2-7fec6695ebc5",
   "metadata": {
    "tags": []
   },
   "outputs": [],
   "source": [
    "# validate(model, val_loss, val_loader, config['general']['device'])"
   ]
  },
  {
   "cell_type": "markdown",
   "id": "9a9a85bb-a0df-437d-a18b-63284d2d4daf",
   "metadata": {},
   "source": [
    "### 6. Experiment"
   ]
  },
  {
   "cell_type": "code",
   "execution_count": null,
   "id": "ca7e847c-0faa-4d04-ace8-03ee36794503",
   "metadata": {
    "tags": []
   },
   "outputs": [
    {
     "name": "stderr",
     "output_type": "stream",
     "text": [
      "\u001b[34m\u001b[1mwandb\u001b[0m: Currently logged in as: \u001b[33mkovanic\u001b[0m. Use \u001b[1m`wandb login --relogin`\u001b[0m to force relogin\n"
     ]
    },
    {
     "data": {
      "text/html": [
       "wandb version 0.15.2 is available!  To upgrade, please run:\n",
       " $ pip install wandb --upgrade"
      ],
      "text/plain": [
       "<IPython.core.display.HTML object>"
      ]
     },
     "metadata": {},
     "output_type": "display_data"
    },
    {
     "data": {
      "text/html": [
       "Tracking run with wandb version 0.14.0"
      ],
      "text/plain": [
       "<IPython.core.display.HTML object>"
      ]
     },
     "metadata": {},
     "output_type": "display_data"
    },
    {
     "data": {
      "text/html": [
       "Run data is saved locally in <code>/home/project/code/notebooks/pose_from_coarse_flow/wandb/run-20230510_130801-y6eq7wgt</code>"
      ],
      "text/plain": [
       "<IPython.core.display.HTML object>"
      ]
     },
     "metadata": {},
     "output_type": "display_data"
    },
    {
     "data": {
      "text/html": [
       "Syncing run <strong><a href='https://wandb.ai/kovanic/Diploma/runs/y6eq7wgt' target=\"_blank\">DETERMINISTIC_FT</a></strong> to <a href='https://wandb.ai/kovanic/Diploma' target=\"_blank\">Weights & Biases</a> (<a href='https://wandb.me/run' target=\"_blank\">docs</a>)<br/>"
      ],
      "text/plain": [
       "<IPython.core.display.HTML object>"
      ]
     },
     "metadata": {},
     "output_type": "display_data"
    },
    {
     "data": {
      "text/html": [
       " View project at <a href='https://wandb.ai/kovanic/Diploma' target=\"_blank\">https://wandb.ai/kovanic/Diploma</a>"
      ],
      "text/plain": [
       "<IPython.core.display.HTML object>"
      ]
     },
     "metadata": {},
     "output_type": "display_data"
    },
    {
     "data": {
      "text/html": [
       " View run at <a href='https://wandb.ai/kovanic/Diploma/runs/y6eq7wgt' target=\"_blank\">https://wandb.ai/kovanic/Diploma/runs/y6eq7wgt</a>"
      ],
      "text/plain": [
       "<IPython.core.display.HTML object>"
      ]
     },
     "metadata": {},
     "output_type": "display_data"
    },
    {
     "name": "stderr",
     "output_type": "stream",
     "text": [
      "  0%|                                                                                                                             | 0/50000 [00:00<?, ?it/s]/usr/local/lib/python3.8/dist-packages/torch/functional.py:504: UserWarning: torch.meshgrid: in an upcoming release, it will be required to pass the indexing argument. (Triggered internally at ../aten/src/ATen/native/TensorShape.cpp:3483.)\n",
      "  return _VF.meshgrid(tensors, **kwargs)  # type: ignore[attr-defined]\n",
      " 16%|█████████████████▌                                                                                            | 7986/50000 [1:45:40<9:40:34,  1.21it/s]"
     ]
    }
   ],
   "source": [
    "train(model, optimizer, scheduler, train_loss, val_loss, train_loader, val_loader, config, **config['general'])"
   ]
  }
 ],
 "metadata": {
  "kernelspec": {
   "display_name": "Python 3 (ipykernel)",
   "language": "python",
   "name": "python3"
  },
  "language_info": {
   "codemirror_mode": {
    "name": "ipython",
    "version": 3
   },
   "file_extension": ".py",
   "mimetype": "text/x-python",
   "name": "python",
   "nbconvert_exporter": "python",
   "pygments_lexer": "ipython3",
   "version": "3.8.10"
  }
 },
 "nbformat": 4,
 "nbformat_minor": 5
}
