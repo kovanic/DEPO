{
 "cells": [
  {
   "cell_type": "markdown",
   "id": "92c36880-8c2c-4bc2-98ac-3038f0846728",
   "metadata": {},
   "source": [
    "The 4th experiment with fat model"
   ]
  },
  {
   "cell_type": "code",
   "execution_count": 1,
   "id": "4f13918e-7760-4a5b-bcf2-cbf6648d2c0b",
   "metadata": {
    "tags": []
   },
   "outputs": [],
   "source": [
    "%load_ext autoreload\n",
    "%autoreload 2"
   ]
  },
  {
   "cell_type": "code",
   "execution_count": 2,
   "id": "7e22089f-68c0-45ac-bf90-da50b8e39c5f",
   "metadata": {
    "tags": []
   },
   "outputs": [],
   "source": [
    "import sys\n",
    "sys.path.append('../src')"
   ]
  },
  {
   "cell_type": "code",
   "execution_count": 3,
   "id": "f015570c-5bd0-47d2-9d14-1082300eb57a",
   "metadata": {
    "tags": []
   },
   "outputs": [
    {
     "name": "stderr",
     "output_type": "stream",
     "text": [
      "/usr/local/lib/python3.8/dist-packages/tqdm/auto.py:21: TqdmWarning: IProgress not found. Please update jupyter and ipywidgets. See https://ipywidgets.readthedocs.io/en/stable/user_install.html\n",
      "  from .autonotebook import tqdm as notebook_tqdm\n"
     ]
    }
   ],
   "source": [
    "import torch\n",
    "from torch.utils.data import DataLoader\n",
    "\n",
    "from flow_regressors.flow_dataset import FlowDataset\n",
    "from flow_regressors.regressors import DensePoseRegressorV7\n",
    "\n",
    "from training.train_flow import train\n",
    "from training.loss_pose import LossPose\n",
    "\n",
    "from tqdm.auto import tqdm"
   ]
  },
  {
   "cell_type": "markdown",
   "id": "ec3b3e27-42d7-4948-9e6d-fe9bcb57660c",
   "metadata": {},
   "source": [
    "### 1. Data"
   ]
  },
  {
   "cell_type": "code",
   "execution_count": 4,
   "id": "e9e56e90-0f59-4783-983f-285908579fb8",
   "metadata": {
    "tags": []
   },
   "outputs": [],
   "source": [
    "train_data = FlowDataset(\n",
    "    root_path='/home/project/data_sample/flow/train',\n",
    "    intrinsics_path='/home/project/ScanNet/scannet_indices/intrinsics.npz'\n",
    "    )\n",
    "\n",
    "train_loader = DataLoader(train_data, batch_size=96, shuffle=True, drop_last=True, pin_memory=True, num_workers=0)\n",
    "\n",
    "val_data = FlowDataset(\n",
    "    root_path='/home/project/data_sample/flow/val',\n",
    "    intrinsics_path='/home/project/ScanNet/scannet_indices/intrinsics.npz'\n",
    "    )\n",
    "\n",
    "val_loader = DataLoader(val_data, batch_size=96, shuffle=False, drop_last=False, pin_memory=True, num_workers=0)"
   ]
  },
  {
   "cell_type": "markdown",
   "id": "e65a073e-ede2-42d1-a318-f555c64cf0e1",
   "metadata": {},
   "source": [
    "### 2. Configuration"
   ]
  },
  {
   "cell_type": "code",
   "execution_count": 5,
   "id": "71c19557-48de-4b50-8395-acef29081c50",
   "metadata": {
    "tags": []
   },
   "outputs": [],
   "source": [
    "torch.backends.cuda.matmul.allow_tf32 = False\n",
    "torch.backends.cudnn.allow_tf32 = False\n",
    "\n",
    "config = dict(\n",
    "    general = dict(\n",
    "        experiment_name='FLOW_TO_POSE_EXP_13',\n",
    "        device=torch.device('cuda:0' if torch.cuda.is_available() else 'cpu'),\n",
    "        \n",
    "        n_epochs=10,\n",
    "        n_steps_per_epoch=len(train_loader.dataset) // train_loader.batch_size,\n",
    "        n_accum_steps=1,\n",
    "        batch_size=train_loader.batch_size,\n",
    "        \n",
    "        swa=False,\n",
    "        n_epochs_swa=None,\n",
    "        n_steps_between_swa_updates=None,\n",
    "          \n",
    "        repeat_val_epoch=1,\n",
    "        repeat_save_epoch=5,\n",
    "          \n",
    "        model_save_path='../src/weights/FLOW_TO_POSE_EXP_13'\n",
    "    )\n",
    ")"
   ]
  },
  {
   "cell_type": "markdown",
   "id": "ed2f9fd5-e251-42e3-9067-b797eececdfd",
   "metadata": {},
   "source": [
    "### 3. Model"
   ]
  },
  {
   "cell_type": "code",
   "execution_count": 6,
   "id": "3a7e605a-5b10-4c6a-a6d9-6cfb5529d1a9",
   "metadata": {
    "tags": []
   },
   "outputs": [],
   "source": [
    "# Inference on (120, 160) input:\n",
    "\n",
    "model = DensePoseRegressorV7(init_loss_weights=[0.0, -3.0, 0.0])\n",
    "model.to(config['general']['device']);"
   ]
  },
  {
   "cell_type": "code",
   "execution_count": 7,
   "id": "2b4ba3ed-89f4-4fd7-9635-124f8c5c5961",
   "metadata": {
    "tags": []
   },
   "outputs": [],
   "source": [
    "# data = train_data[0]\n",
    "# data['flow'] = torch.from_numpy(data['flow']).cuda().unsqueeze(0) \n",
    "# data['K_q'] = torch.from_numpy(data['K_q']).cuda().unsqueeze(0) \n",
    "# data['K_s'] = torch.from_numpy(data['K_s']).cuda().unsqueeze(0) \n",
    "# model.eval();"
   ]
  },
  {
   "cell_type": "code",
   "execution_count": 8,
   "id": "021590db-695e-4938-84ea-235b77b155d8",
   "metadata": {
    "tags": []
   },
   "outputs": [],
   "source": [
    "# %%timeit\n",
    "\n",
    "# with torch.no_grad():\n",
    "#     q, t = model(\n",
    "#         data['flow'], data['K_q'], data['K_s'], (0.25, 0.25), (0.25, 0.25)\n",
    "#        )"
   ]
  },
  {
   "cell_type": "markdown",
   "id": "2f9231c9-a661-4169-b7ea-329fd21f870d",
   "metadata": {},
   "source": [
    "### 4. Loss, optimizer, scheduler"
   ]
  },
  {
   "cell_type": "code",
   "execution_count": 9,
   "id": "7b6e7aa3-8426-450b-a611-ab05ebb86468",
   "metadata": {},
   "outputs": [],
   "source": [
    "train_loss = LossPose(agg_type='mean')\n",
    "val_loss = LossPose()"
   ]
  },
  {
   "cell_type": "code",
   "execution_count": 10,
   "id": "0404e842-ad97-4ac7-a2e1-51af0b9a71f6",
   "metadata": {
    "tags": []
   },
   "outputs": [],
   "source": [
    "optimizer = torch.optim.AdamW(model.parameters(), lr=1e-4, weight_decay=1e-6)\n",
    "config['optimizer'] = optimizer.__dict__['defaults']"
   ]
  },
  {
   "cell_type": "code",
   "execution_count": 11,
   "id": "ecaedfe6-d3a2-41b5-ba94-c2ad90bc3f35",
   "metadata": {
    "tags": []
   },
   "outputs": [],
   "source": [
    "scheduler = torch.optim.lr_scheduler.StepLR(optimizer,\n",
    "                   step_size=2,\n",
    "                   gamma=0.8)"
   ]
  },
  {
   "cell_type": "markdown",
   "id": "39b20ffe-caae-4cbd-9026-2f8f34a471f6",
   "metadata": {},
   "source": [
    "### 6. Experiment"
   ]
  },
  {
   "cell_type": "code",
   "execution_count": 12,
   "id": "ca7e847c-0faa-4d04-ace8-03ee36794503",
   "metadata": {
    "tags": []
   },
   "outputs": [
    {
     "name": "stderr",
     "output_type": "stream",
     "text": [
      "\u001b[34m\u001b[1mwandb\u001b[0m: Currently logged in as: \u001b[33mkovanic\u001b[0m. Use \u001b[1m`wandb login --relogin`\u001b[0m to force relogin\n"
     ]
    },
    {
     "data": {
      "text/html": [
       "wandb version 0.15.1 is available!  To upgrade, please run:\n",
       " $ pip install wandb --upgrade"
      ],
      "text/plain": [
       "<IPython.core.display.HTML object>"
      ]
     },
     "metadata": {},
     "output_type": "display_data"
    },
    {
     "data": {
      "text/html": [
       "Tracking run with wandb version 0.14.0"
      ],
      "text/plain": [
       "<IPython.core.display.HTML object>"
      ]
     },
     "metadata": {},
     "output_type": "display_data"
    },
    {
     "data": {
      "text/html": [
       "Run data is saved locally in <code>/home/project/code/notebooks/wandb/run-20230504_164956-u3w55zwi</code>"
      ],
      "text/plain": [
       "<IPython.core.display.HTML object>"
      ]
     },
     "metadata": {},
     "output_type": "display_data"
    },
    {
     "data": {
      "text/html": [
       "Syncing run <strong><a href='https://wandb.ai/kovanic/Diploma/runs/u3w55zwi' target=\"_blank\">FLOW_TO_POSE_EXP_13</a></strong> to <a href='https://wandb.ai/kovanic/Diploma' target=\"_blank\">Weights & Biases</a> (<a href='https://wandb.me/run' target=\"_blank\">docs</a>)<br/>"
      ],
      "text/plain": [
       "<IPython.core.display.HTML object>"
      ]
     },
     "metadata": {},
     "output_type": "display_data"
    },
    {
     "data": {
      "text/html": [
       " View project at <a href='https://wandb.ai/kovanic/Diploma' target=\"_blank\">https://wandb.ai/kovanic/Diploma</a>"
      ],
      "text/plain": [
       "<IPython.core.display.HTML object>"
      ]
     },
     "metadata": {},
     "output_type": "display_data"
    },
    {
     "data": {
      "text/html": [
       " View run at <a href='https://wandb.ai/kovanic/Diploma/runs/u3w55zwi' target=\"_blank\">https://wandb.ai/kovanic/Diploma/runs/u3w55zwi</a>"
      ],
      "text/plain": [
       "<IPython.core.display.HTML object>"
      ]
     },
     "metadata": {},
     "output_type": "display_data"
    },
    {
     "name": "stderr",
     "output_type": "stream",
     "text": [
      "100%|███████████████████████████████████████████████████████████████████████████████████████████████████████████████████| 1034/1034 [18:07<00:00,  1.05s/it]\n",
      "100%|█████████████████████████████████████████████████████████████████████████████████████████████████████████████████████| 444/444 [05:44<00:00,  1.29it/s]\n"
     ]
    },
    {
     "name": "stdout",
     "output_type": "stream",
     "text": [
      "epoch 0: train loss=-9.709765609830738, val loss(q)=0.10286514050810616, val loss(t)=0.45860427408551213\n"
     ]
    },
    {
     "name": "stderr",
     "output_type": "stream",
     "text": [
      "100%|███████████████████████████████████████████████████████████████████████████████████████████████████████████████████| 1034/1034 [18:10<00:00,  1.05s/it]\n",
      "100%|█████████████████████████████████████████████████████████████████████████████████████████████████████████████████████| 444/444 [05:44<00:00,  1.29it/s]\n"
     ]
    },
    {
     "name": "stdout",
     "output_type": "stream",
     "text": [
      "epoch 1: train loss=-11.414719496000034, val loss(q)=0.09130869696219748, val loss(t)=0.4150731075763449\n"
     ]
    },
    {
     "name": "stderr",
     "output_type": "stream",
     "text": [
      "100%|███████████████████████████████████████████████████████████████████████████████████████████████████████████████████| 1034/1034 [18:10<00:00,  1.05s/it]\n",
      "100%|█████████████████████████████████████████████████████████████████████████████████████████████████████████████████████| 444/444 [05:45<00:00,  1.29it/s]\n"
     ]
    },
    {
     "name": "stdout",
     "output_type": "stream",
     "text": [
      "epoch 2: train loss=-12.468309356973856, val loss(q)=0.08271421045395845, val loss(t)=0.383436979990918\n"
     ]
    },
    {
     "name": "stderr",
     "output_type": "stream",
     "text": [
      "100%|███████████████████████████████████████████████████████████████████████████████████████████████████████████████████| 1034/1034 [18:09<00:00,  1.05s/it]\n",
      "100%|█████████████████████████████████████████████████████████████████████████████████████████████████████████████████████| 444/444 [05:44<00:00,  1.29it/s]\n"
     ]
    },
    {
     "name": "stdout",
     "output_type": "stream",
     "text": [
      "epoch 3: train loss=-13.247075649919097, val loss(q)=0.07563915927408546, val loss(t)=0.3778080486014668\n"
     ]
    },
    {
     "name": "stderr",
     "output_type": "stream",
     "text": [
      "100%|███████████████████████████████████████████████████████████████████████████████████████████████████████████████████| 1034/1034 [18:10<00:00,  1.05s/it]\n",
      "100%|█████████████████████████████████████████████████████████████████████████████████████████████████████████████████████| 444/444 [05:44<00:00,  1.29it/s]\n"
     ]
    },
    {
     "name": "stdout",
     "output_type": "stream",
     "text": [
      "epoch 4: train loss=-14.011318464607127, val loss(q)=0.07674841801538014, val loss(t)=0.3551194908327411\n"
     ]
    },
    {
     "name": "stderr",
     "output_type": "stream",
     "text": [
      "100%|███████████████████████████████████████████████████████████████████████████████████████████████████████████████████| 1034/1034 [18:10<00:00,  1.05s/it]\n",
      "100%|█████████████████████████████████████████████████████████████████████████████████████████████████████████████████████| 444/444 [05:45<00:00,  1.29it/s]\n"
     ]
    },
    {
     "name": "stdout",
     "output_type": "stream",
     "text": [
      "epoch 5: train loss=-14.591211925492608, val loss(q)=0.06896121910161283, val loss(t)=0.34249711443012176\n"
     ]
    },
    {
     "name": "stderr",
     "output_type": "stream",
     "text": [
      "100%|███████████████████████████████████████████████████████████████████████████████████████████████████████████████████| 1034/1034 [18:09<00:00,  1.05s/it]\n",
      "100%|█████████████████████████████████████████████████████████████████████████████████████████████████████████████████████| 444/444 [05:44<00:00,  1.29it/s]\n"
     ]
    },
    {
     "name": "stdout",
     "output_type": "stream",
     "text": [
      "epoch 6: train loss=-15.206634338067737, val loss(q)=0.06878472858542103, val loss(t)=0.3332634659511624\n"
     ]
    },
    {
     "name": "stderr",
     "output_type": "stream",
     "text": [
      "100%|███████████████████████████████████████████████████████████████████████████████████████████████████████████████████| 1034/1034 [18:12<00:00,  1.06s/it]\n",
      "100%|█████████████████████████████████████████████████████████████████████████████████████████████████████████████████████| 444/444 [05:46<00:00,  1.28it/s]\n"
     ]
    },
    {
     "name": "stdout",
     "output_type": "stream",
     "text": [
      "epoch 7: train loss=-15.67972773714708, val loss(q)=0.06709512850346035, val loss(t)=0.3338108382503276\n"
     ]
    },
    {
     "name": "stderr",
     "output_type": "stream",
     "text": [
      "100%|███████████████████████████████████████████████████████████████████████████████████████████████████████████████████| 1034/1034 [18:10<00:00,  1.05s/it]\n",
      "100%|█████████████████████████████████████████████████████████████████████████████████████████████████████████████████████| 444/444 [05:44<00:00,  1.29it/s]\n"
     ]
    },
    {
     "name": "stdout",
     "output_type": "stream",
     "text": [
      "epoch 8: train loss=-16.167772798094546, val loss(q)=0.06461971895874337, val loss(t)=0.32228138759087954\n"
     ]
    },
    {
     "name": "stderr",
     "output_type": "stream",
     "text": [
      "100%|███████████████████████████████████████████████████████████████████████████████████████████████████████████████████| 1034/1034 [18:12<00:00,  1.06s/it]\n",
      "100%|█████████████████████████████████████████████████████████████████████████████████████████████████████████████████████| 444/444 [05:44<00:00,  1.29it/s]"
     ]
    },
    {
     "name": "stdout",
     "output_type": "stream",
     "text": [
      "epoch 9: train loss=-16.54327456149026, val loss(q)=0.06411263696492553, val loss(t)=0.3198985508857355\n"
     ]
    },
    {
     "name": "stderr",
     "output_type": "stream",
     "text": [
      "\n"
     ]
    },
    {
     "data": {
      "text/html": [
       "Waiting for W&B process to finish... <strong style=\"color:green\">(success).</strong>"
      ],
      "text/plain": [
       "<IPython.core.display.HTML object>"
      ]
     },
     "metadata": {},
     "output_type": "display_data"
    },
    {
     "data": {
      "text/html": [
       "<style>\n",
       "    table.wandb td:nth-child(1) { padding: 0 10px; text-align: left ; width: auto;} td:nth-child(2) {text-align: left ; width: 100%}\n",
       "    .wandb-row { display: flex; flex-direction: row; flex-wrap: wrap; justify-content: flex-start; width: 100% }\n",
       "    .wandb-col { display: flex; flex-direction: column; flex-basis: 100%; flex: 1; padding: 10px; }\n",
       "    </style>\n",
       "<div class=\"wandb-row\"><div class=\"wandb-col\"><h3>Run history:</h3><br/><table class=\"wandb\"><tr><td>Train batch loss</td><td>█▇▇▆▆▆▆▅▅▅▅▅▅▅▄▄▄▄▄▃▃▃▃▃▃▂▂▂▂▂▂▂▂▂▂▂▂▁▁▁</td></tr><tr><td>Train loss epoch</td><td>█▆▅▄▄▃▂▂▁▁</td></tr><tr><td>Val loss epoch(q)</td><td>█▆▄▃▃▂▂▂▁▁</td></tr><tr><td>Val loss epoch(t)</td><td>█▆▄▄▃▂▂▂▁▁</td></tr></table><br/></div><div class=\"wandb-col\"><h3>Run summary:</h3><br/><table class=\"wandb\"><tr><td>Train batch loss</td><td>-16.86061</td></tr><tr><td>Train loss epoch</td><td>-16.54327</td></tr><tr><td>Val loss epoch(q)</td><td>0.06411</td></tr><tr><td>Val loss epoch(t)</td><td>0.3199</td></tr></table><br/></div></div>"
      ],
      "text/plain": [
       "<IPython.core.display.HTML object>"
      ]
     },
     "metadata": {},
     "output_type": "display_data"
    },
    {
     "data": {
      "text/html": [
       " View run <strong style=\"color:#cdcd00\">FLOW_TO_POSE_EXP_13</strong> at: <a href='https://wandb.ai/kovanic/Diploma/runs/u3w55zwi' target=\"_blank\">https://wandb.ai/kovanic/Diploma/runs/u3w55zwi</a><br/>Synced 5 W&B file(s), 0 media file(s), 0 artifact file(s) and 0 other file(s)"
      ],
      "text/plain": [
       "<IPython.core.display.HTML object>"
      ]
     },
     "metadata": {},
     "output_type": "display_data"
    },
    {
     "data": {
      "text/html": [
       "Find logs at: <code>./wandb/run-20230504_164956-u3w55zwi/logs</code>"
      ],
      "text/plain": [
       "<IPython.core.display.HTML object>"
      ]
     },
     "metadata": {},
     "output_type": "display_data"
    }
   ],
   "source": [
    "train(model, optimizer, scheduler, train_loss, val_loss, train_loader, val_loader, config, **config['general'])"
   ]
  }
 ],
 "metadata": {
  "kernelspec": {
   "display_name": "Python 3 (ipykernel)",
   "language": "python",
   "name": "python3"
  },
  "language_info": {
   "codemirror_mode": {
    "name": "ipython",
    "version": 3
   },
   "file_extension": ".py",
   "mimetype": "text/x-python",
   "name": "python",
   "nbconvert_exporter": "python",
   "pygments_lexer": "ipython3",
   "version": "3.8.10"
  }
 },
 "nbformat": 4,
 "nbformat_minor": 5
}
