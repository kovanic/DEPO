{
 "cells": [
  {
   "cell_type": "markdown",
   "id": "f899575a-98b7-4cd3-b011-d6133c2a5367",
   "metadata": {},
   "source": [
    "In this notebook shallow head is learned upon fixed GMflow to obtain relative pose from dense prediction. The confidences are calculated from raw cross-correlations. **Note**: I haven't fine-tuned the original GMFlow due to scarcity of resources"
   ]
  },
  {
   "cell_type": "code",
   "execution_count": 1,
   "id": "e4056489-16b5-4ad9-97cd-a36009c7431c",
   "metadata": {},
   "outputs": [],
   "source": [
    "%load_ext autoreload\n",
    "%autoreload 2"
   ]
  },
  {
   "cell_type": "code",
   "execution_count": 2,
   "id": "951f0cdb-d3d2-43ed-bd26-17cc758dec20",
   "metadata": {
    "tags": []
   },
   "outputs": [],
   "source": [
    "import sys\n",
    "sys.path.append('../src')"
   ]
  },
  {
   "cell_type": "code",
   "execution_count": 3,
   "id": "47124987-f106-48e4-a565-9d20d8dbad71",
   "metadata": {},
   "outputs": [
    {
     "name": "stderr",
     "output_type": "stream",
     "text": [
      "/usr/local/lib/python3.8/dist-packages/tqdm/auto.py:21: TqdmWarning: IProgress not found. Please update jupyter and ipywidgets. See https://ipywidgets.readthedocs.io/en/stable/user_install.html\n",
      "  from .autonotebook import tqdm as notebook_tqdm\n"
     ]
    }
   ],
   "source": [
    "import torch\n",
    "from torch.utils.data import DataLoader\n",
    "\n",
    "from data.scannet.utils import ScanNetDataset\n",
    "from matching.gmflow_dense.gmflow_dense import GMflowDensePose\n",
    "\n",
    "from training.loss_pose import LossPose\n",
    "from training.train_dense import train\n",
    "from utils.model import load_checkpoint\n",
    "\n",
    "from tqdm.auto import tqdm\n",
    "import wandb"
   ]
  },
  {
   "cell_type": "markdown",
   "id": "ad659a7e-27af-4a98-8c54-2d8089ec1cc5",
   "metadata": {},
   "source": [
    "### 1. Data"
   ]
  },
  {
   "cell_type": "code",
   "execution_count": 4,
   "id": "65036a99-467d-4fb4-b7c3-5ce473d28663",
   "metadata": {
    "tags": []
   },
   "outputs": [],
   "source": [
    "train_data = ScanNetDataset(\n",
    "    root_dir='/home/project/data/ScanNet/scans/',\n",
    "    npz_path='/home/project/ScanNet/train_indicies_subset.npz',\n",
    "    intrinsics_path='/home/project/ScanNet/scannet_indices/intrinsics.npz',\n",
    "    mode='train'\n",
    ")\n",
    "\n",
    "train_loader = DataLoader(train_data, batch_size=2, shuffle=True, drop_last=True, pin_memory=True, num_workers=1)\n",
    "\n",
    "val_data = ScanNetDataset(\n",
    "    root_dir='/home/project/data/ScanNet//scans/',\n",
    "    npz_path='/home/project/ScanNet/val_indicies_subset.npz',\n",
    "    intrinsics_path='/home/project/ScanNet/scannet_indices/intrinsics.npz',\n",
    "    mode='val'\n",
    ")\n",
    "\n",
    "val_loader = DataLoader(val_data, batch_size=2, shuffle=False, drop_last=False, pin_memory=True, num_workers=1)"
   ]
  },
  {
   "cell_type": "markdown",
   "id": "a277c3f7-4345-4add-9810-d7354c34a06b",
   "metadata": {},
   "source": [
    "### 2. Configuration"
   ]
  },
  {
   "cell_type": "code",
   "execution_count": 5,
   "id": "0c8aa5e7-f648-4b92-9183-293c7677c59a",
   "metadata": {
    "tags": []
   },
   "outputs": [],
   "source": [
    "config = dict(\n",
    "    general = dict(\n",
    "        experiment_name='8_gmflow_dense_with_conf_ft',\n",
    "        device=torch.device('cuda:0' if torch.cuda.is_available() else 'cpu'),\n",
    "        \n",
    "        n_epochs=3,\n",
    "        n_steps_per_epoch=len(train_loader.dataset)//train_loader.batch_size,\n",
    "        n_accum_steps=8,\n",
    "        batch_size=train_loader.batch_size,\n",
    "        \n",
    "        swa=False,\n",
    "        n_epochs_swa=None,\n",
    "        n_steps_between_swa_updates=None,\n",
    "          \n",
    "        repeat_val_epoch=1,\n",
    "        repeat_save_epoch=1,\n",
    "          \n",
    "        model_save_path='../src/weights/8_gmflow_dense_with_conf_ft'\n",
    "    )\n",
    ")"
   ]
  },
  {
   "cell_type": "markdown",
   "id": "5d7d3255-b2f7-42fb-a59e-9a42197ca495",
   "metadata": {},
   "source": [
    "### 3. Model"
   ]
  },
  {
   "cell_type": "code",
   "execution_count": 6,
   "id": "65213eaf-564a-4a6d-b205-e4130af53afc",
   "metadata": {
    "tags": []
   },
   "outputs": [],
   "source": [
    "checkpoint = load_checkpoint('/home/project/code/src/matching/gmflow/weights/pretrained/gmflow_with_refine_kitti-8d3b9786.pth', config['general']['device'])\n",
    "# checkpoint = load_checkpoint('/home/project/code/src/weights/3_gmflow_dense_with_conf_1.pth', config['general']['device'])\n"
   ]
  },
  {
   "cell_type": "code",
   "execution_count": 7,
   "id": "f99871b0-3a26-4189-bd47-a347658d638c",
   "metadata": {
    "tags": []
   },
   "outputs": [],
   "source": [
    "model = GMflowDensePose(conf_module=True)\n",
    "model.flow_model.load_state_dict(checkpoint['model'])\n",
    "model.to(config['general']['device']);"
   ]
  },
  {
   "cell_type": "code",
   "execution_count": 8,
   "id": "ba4c6d9c-b5fc-4eff-8ac4-76856956d743",
   "metadata": {
    "tags": []
   },
   "outputs": [],
   "source": [
    "for name, module in list(model.flow_model.named_parameters()):\n",
    "    if ('backbone' in name) or ('mlp' in name) or ('transformer.layers.0' in name) or ('transformer.layers.1' in name) or ('transformer.layers.2' in name):\n",
    "        module.requires_grad = False"
   ]
  },
  {
   "cell_type": "markdown",
   "id": "251b72ba-3d0c-4960-a15e-6fe3cba4b47a",
   "metadata": {},
   "source": [
    "### 4. Loss, optimizer, scheduler"
   ]
  },
  {
   "cell_type": "code",
   "execution_count": 9,
   "id": "0f80bdcc-4894-4b51-b226-56e6c5a65ed4",
   "metadata": {},
   "outputs": [],
   "source": [
    "val_loss = LossPose()\n",
    "train_loss = LossPose(agg_type='mean')"
   ]
  },
  {
   "cell_type": "code",
   "execution_count": 10,
   "id": "fc6b22d0-468c-4962-b5cb-2b3a3b492e19",
   "metadata": {
    "tags": []
   },
   "outputs": [],
   "source": [
    "optimizer = torch.optim.AdamW(model.parameters(), lr=1e-4, weight_decay=1e-6)\n",
    "config['optimizer'] = optimizer.__dict__['defaults']\n",
    "# optimizer.load_state_dict(checkpoint['optimizer'])"
   ]
  },
  {
   "cell_type": "code",
   "execution_count": 11,
   "id": "a061f9f9-e9a9-4773-ae1c-7ef3ff53a612",
   "metadata": {
    "tags": []
   },
   "outputs": [],
   "source": [
    "scheduler = torch.optim.lr_scheduler.StepLR(optimizer,\n",
    "                   step_size=1,\n",
    "                   gamma=0.8)"
   ]
  },
  {
   "cell_type": "markdown",
   "id": "461a102e-efa6-451e-898b-f00fc5a83278",
   "metadata": {},
   "source": [
    "### 6. Experiment"
   ]
  },
  {
   "cell_type": "code",
   "execution_count": null,
   "id": "9b034560-78d9-4f40-bdf6-1bb3a6ea6b57",
   "metadata": {
    "tags": []
   },
   "outputs": [
    {
     "name": "stderr",
     "output_type": "stream",
     "text": [
      "\u001b[34m\u001b[1mwandb\u001b[0m: Currently logged in as: \u001b[33mkovanic\u001b[0m. Use \u001b[1m`wandb login --relogin`\u001b[0m to force relogin\n"
     ]
    },
    {
     "data": {
      "text/html": [
       "wandb version 0.15.0 is available!  To upgrade, please run:\n",
       " $ pip install wandb --upgrade"
      ],
      "text/plain": [
       "<IPython.core.display.HTML object>"
      ]
     },
     "metadata": {},
     "output_type": "display_data"
    },
    {
     "data": {
      "text/html": [
       "Tracking run with wandb version 0.14.0"
      ],
      "text/plain": [
       "<IPython.core.display.HTML object>"
      ]
     },
     "metadata": {},
     "output_type": "display_data"
    },
    {
     "data": {
      "text/html": [
       "Run data is saved locally in <code>/home/project/code/notebooks/wandb/run-20230423_221907-y9r9e8j3</code>"
      ],
      "text/plain": [
       "<IPython.core.display.HTML object>"
      ]
     },
     "metadata": {},
     "output_type": "display_data"
    },
    {
     "data": {
      "text/html": [
       "Syncing run <strong><a href='https://wandb.ai/kovanic/Diploma/runs/y9r9e8j3' target=\"_blank\">8_gmflow_dense_with_conf_ft</a></strong> to <a href='https://wandb.ai/kovanic/Diploma' target=\"_blank\">Weights & Biases</a> (<a href='https://wandb.me/run' target=\"_blank\">docs</a>)<br/>"
      ],
      "text/plain": [
       "<IPython.core.display.HTML object>"
      ]
     },
     "metadata": {},
     "output_type": "display_data"
    },
    {
     "data": {
      "text/html": [
       " View project at <a href='https://wandb.ai/kovanic/Diploma' target=\"_blank\">https://wandb.ai/kovanic/Diploma</a>"
      ],
      "text/plain": [
       "<IPython.core.display.HTML object>"
      ]
     },
     "metadata": {},
     "output_type": "display_data"
    },
    {
     "data": {
      "text/html": [
       " View run at <a href='https://wandb.ai/kovanic/Diploma/runs/y9r9e8j3' target=\"_blank\">https://wandb.ai/kovanic/Diploma/runs/y9r9e8j3</a>"
      ],
      "text/plain": [
       "<IPython.core.display.HTML object>"
      ]
     },
     "metadata": {},
     "output_type": "display_data"
    },
    {
     "name": "stderr",
     "output_type": "stream",
     "text": [
      "  0%|                                                                                                                             | 0/49710 [00:00<?, ?it/s]/usr/local/lib/python3.8/dist-packages/torch/functional.py:504: UserWarning: torch.meshgrid: in an upcoming release, it will be required to pass the indexing argument. (Triggered internally at ../aten/src/ATen/native/TensorShape.cpp:3483.)\n",
      "  return _VF.meshgrid(tensors, **kwargs)  # type: ignore[attr-defined]\n",
      "  0%|▌                                                                                                                | 248/49710 [01:39<5:23:54,  2.55it/s]"
     ]
    }
   ],
   "source": [
    "train(model, optimizer, scheduler, train_loss, val_loss, train_loader, val_loader, config, **config['general'])"
   ]
  }
 ],
 "metadata": {
  "kernelspec": {
   "display_name": "Python 3 (ipykernel)",
   "language": "python",
   "name": "python3"
  },
  "language_info": {
   "codemirror_mode": {
    "name": "ipython",
    "version": 3
   },
   "file_extension": ".py",
   "mimetype": "text/x-python",
   "name": "python",
   "nbconvert_exporter": "python",
   "pygments_lexer": "ipython3",
   "version": "3.8.10"
  }
 },
 "nbformat": 4,
 "nbformat_minor": 5
}
