{
 "cells": [
  {
   "cell_type": "markdown",
   "id": "4a14a419-51b7-4e18-ba20-3a364910d0cc",
   "metadata": {},
   "source": [
    "In this notebook I've added module for calculation of confidences out of raw cross-features scores. The loss is nll, where desnisty is modeled as mixture of Laplacian densities. **Note:** I haven't fine-tuned the original GMFlow because of scarcity of resources"
   ]
  },
  {
   "cell_type": "code",
   "execution_count": 1,
   "id": "5b7e1a3e-2a44-4d6a-b394-21e891dfec9a",
   "metadata": {},
   "outputs": [],
   "source": [
    "%load_ext autoreload\n",
    "%autoreload 2"
   ]
  },
  {
   "cell_type": "code",
   "execution_count": 2,
   "id": "e2b0f962-33d6-4707-b531-e4fcbc59b025",
   "metadata": {
    "tags": []
   },
   "outputs": [],
   "source": [
    "import sys\n",
    "sys.path.append('../src')"
   ]
  },
  {
   "cell_type": "code",
   "execution_count": 3,
   "id": "c8eea944-d799-4a47-a725-5fb4ee8e4f9d",
   "metadata": {
    "tags": []
   },
   "outputs": [
    {
     "name": "stderr",
     "output_type": "stream",
     "text": [
      "/usr/local/lib/python3.8/dist-packages/tqdm/auto.py:21: TqdmWarning: IProgress not found. Please update jupyter and ipywidgets. See https://ipywidgets.readthedocs.io/en/stable/user_install.html\n",
      "  from .autonotebook import tqdm as notebook_tqdm\n"
     ]
    }
   ],
   "source": [
    "import torch\n",
    "from torch.utils.data import DataLoader\n",
    "from torch.optim.swa_utils import AveragedModel\n",
    "\n",
    "from data.scannet.utils import ScanNetDataset\n",
    "from matching.gmflow_confidence.gmflow_with_uncertainty import GMflowWithConfidence\n",
    "\n",
    "from training.loss_gmflow_conf import LossGMflowWithConfidence\n",
    "from training.train_gmflow_conf import train, CustomScheduler\n",
    "\n",
    "from tqdm.auto import tqdm\n",
    "import wandb"
   ]
  },
  {
   "cell_type": "markdown",
   "id": "a9a7ccad-08a4-4fe8-bda6-2864732799e8",
   "metadata": {},
   "source": [
    "### 1. Data"
   ]
  },
  {
   "cell_type": "code",
   "execution_count": 4,
   "id": "65036a99-467d-4fb4-b7c3-5ce473d28663",
   "metadata": {
    "tags": []
   },
   "outputs": [],
   "source": [
    "train_data = ScanNetDataset(\n",
    "    root_dir='/home/project/data/scans/',\n",
    "    npz_path='/home/project/ScanNet/train_indicies_subset.npz',\n",
    "    intrinsics_path='/home/project/ScanNet/scannet_indices/intrinsics.npz',\n",
    "    mode='train'\n",
    ")\n",
    "\n",
    "train_loader = DataLoader(train_data, batch_size=2, shuffle=True, drop_last=True, pin_memory=True, num_workers=1)\n",
    "\n",
    "val_data = ScanNetDataset(\n",
    "    root_dir='/home/project/data/scans/',\n",
    "    npz_path='/home/project/ScanNet/val_indicies_subset.npz',\n",
    "    intrinsics_path='/home/project/ScanNet/scannet_indices/intrinsics.npz',\n",
    "    mode='val'\n",
    ")\n",
    "\n",
    "val_loader = DataLoader(val_data, batch_size=2, shuffle=False, drop_last=False, pin_memory=True, num_workers=1)"
   ]
  },
  {
   "cell_type": "markdown",
   "id": "f0ef7171-bffb-41c4-a103-138fad60af20",
   "metadata": {},
   "source": [
    "### 2. Configuration"
   ]
  },
  {
   "cell_type": "code",
   "execution_count": 5,
   "id": "0c8aa5e7-f648-4b92-9183-293c7677c59a",
   "metadata": {
    "tags": []
   },
   "outputs": [],
   "source": [
    "config = dict(\n",
    "    general = dict(\n",
    "        experiment_name='0_gmflow_with_confidence_ft',\n",
    "        device=torch.device('cuda:0' if torch.cuda.is_available() else 'cpu'),\n",
    "        \n",
    "        n_epochs=5,\n",
    "        n_steps_per_epoch=len(train_loader.dataset)//train_loader.batch_size,\n",
    "        n_accum_steps=8,\n",
    "        batch_size=train_loader.batch_size,\n",
    "        \n",
    "        swa=False,\n",
    "        n_epochs_swa=None,\n",
    "        n_steps_between_swa_updates=None,\n",
    "          \n",
    "        repeat_val_epoch=1,\n",
    "        repeat_save_epoch=1,\n",
    "          \n",
    "        model_save_path='../src/matching/gmflow_confidence/weights/0_gmflow_with_confidence_ft'\n",
    "    )\n",
    ")"
   ]
  },
  {
   "cell_type": "markdown",
   "id": "ace25dbf-8aa5-40f1-ac75-be365761920b",
   "metadata": {},
   "source": [
    "### 3. Model"
   ]
  },
  {
   "cell_type": "code",
   "execution_count": 6,
   "id": "f99871b0-3a26-4189-bd47-a347658d638c",
   "metadata": {
    "tags": []
   },
   "outputs": [],
   "source": [
    "model = GMflowWithConfidence(\n",
    "    path_pretrained_gmflow='../src/matching/gmflow/weights/pretrained/gmflow_with_refine_kitti-8d3b9786.pth'\n",
    ")\n",
    "\n",
    "model.to(config['general']['device']);"
   ]
  },
  {
   "cell_type": "code",
   "execution_count": 7,
   "id": "ba4c6d9c-b5fc-4eff-8ac4-76856956d743",
   "metadata": {
    "tags": []
   },
   "outputs": [],
   "source": [
    "for name, module in list(model.named_parameters()):\n",
    "    if 'confidence' not in name:\n",
    "        module.requires_grad = False"
   ]
  },
  {
   "cell_type": "markdown",
   "id": "5d268068-f207-4a2f-a98c-1c933ced1ebd",
   "metadata": {},
   "source": [
    "### 4. Loss, optimizer, scheduler"
   ]
  },
  {
   "cell_type": "code",
   "execution_count": 8,
   "id": "0f80bdcc-4894-4b51-b226-56e6c5a65ed4",
   "metadata": {},
   "outputs": [],
   "source": [
    "loss = LossGMflowWithConfidence()\n",
    "val_loss = LossGMflowWithConfidence(mode='val')"
   ]
  },
  {
   "cell_type": "code",
   "execution_count": 9,
   "id": "fc6b22d0-468c-4962-b5cb-2b3a3b492e19",
   "metadata": {
    "tags": []
   },
   "outputs": [],
   "source": [
    "opt_parameters = []\n",
    "flow_module_params = []\n",
    "confidence_module_params = []\n",
    "\n",
    "for name, module in list(model.named_parameters()):\n",
    "    if 'flow' in name:\n",
    "        flow_module_params.append(module)\n",
    "    if 'confidence' in name:\n",
    "        confidence_module_params.append(module)\n",
    "        \n",
    "optimizer = torch.optim.AdamW(\n",
    "    [{'params': flow_module_params, 'weight_decay': 1e-6, 'lr': 1e-4},\n",
    "    {'params': confidence_module_params, 'weight_decay': 1e-6, 'lr': 1e-4}]\n",
    ")\n"
   ]
  },
  {
   "cell_type": "code",
   "execution_count": 10,
   "id": "a061f9f9-e9a9-4773-ae1c-7ef3ff53a612",
   "metadata": {
    "tags": []
   },
   "outputs": [],
   "source": [
    "scheduler = CustomScheduler(optimizer, config['general']['n_steps_per_epoch'] // config['general']['n_accum_steps'])"
   ]
  },
  {
   "cell_type": "markdown",
   "id": "2b9f7f05-236a-441d-a1c4-c4908d760c03",
   "metadata": {},
   "source": [
    "### 6. Experiment"
   ]
  },
  {
   "cell_type": "code",
   "execution_count": null,
   "id": "9b034560-78d9-4f40-bdf6-1bb3a6ea6b57",
   "metadata": {
    "tags": []
   },
   "outputs": [
    {
     "name": "stderr",
     "output_type": "stream",
     "text": [
      "\u001b[34m\u001b[1mwandb\u001b[0m: Currently logged in as: \u001b[33mkovanic\u001b[0m. Use \u001b[1m`wandb login --relogin`\u001b[0m to force relogin\n"
     ]
    },
    {
     "data": {
      "text/html": [
       "wandb version 0.14.1 is available!  To upgrade, please run:\n",
       " $ pip install wandb --upgrade"
      ],
      "text/plain": [
       "<IPython.core.display.HTML object>"
      ]
     },
     "metadata": {},
     "output_type": "display_data"
    },
    {
     "data": {
      "text/html": [
       "Tracking run with wandb version 0.14.0"
      ],
      "text/plain": [
       "<IPython.core.display.HTML object>"
      ]
     },
     "metadata": {},
     "output_type": "display_data"
    },
    {
     "data": {
      "text/html": [
       "Run data is saved locally in <code>/home/project/code/notebooks/wandb/run-20230407_140901-7dkxrqni</code>"
      ],
      "text/plain": [
       "<IPython.core.display.HTML object>"
      ]
     },
     "metadata": {},
     "output_type": "display_data"
    },
    {
     "data": {
      "text/html": [
       "Syncing run <strong><a href='https://wandb.ai/kovanic/Diploma/runs/7dkxrqni' target=\"_blank\">0_gmflow_with_confidence_ft</a></strong> to <a href='https://wandb.ai/kovanic/Diploma' target=\"_blank\">Weights & Biases</a> (<a href='https://wandb.me/run' target=\"_blank\">docs</a>)<br/>"
      ],
      "text/plain": [
       "<IPython.core.display.HTML object>"
      ]
     },
     "metadata": {},
     "output_type": "display_data"
    },
    {
     "data": {
      "text/html": [
       " View project at <a href='https://wandb.ai/kovanic/Diploma' target=\"_blank\">https://wandb.ai/kovanic/Diploma</a>"
      ],
      "text/plain": [
       "<IPython.core.display.HTML object>"
      ]
     },
     "metadata": {},
     "output_type": "display_data"
    },
    {
     "data": {
      "text/html": [
       " View run at <a href='https://wandb.ai/kovanic/Diploma/runs/7dkxrqni' target=\"_blank\">https://wandb.ai/kovanic/Diploma/runs/7dkxrqni</a>"
      ],
      "text/plain": [
       "<IPython.core.display.HTML object>"
      ]
     },
     "metadata": {},
     "output_type": "display_data"
    },
    {
     "name": "stderr",
     "output_type": "stream",
     "text": [
      "  0%|                                                                                         | 0/49710 [00:00<?, ?it/s]/usr/local/lib/python3.8/dist-packages/torch/functional.py:504: UserWarning: torch.meshgrid: in an upcoming release, it will be required to pass the indexing argument. (Triggered internally at ../aten/src/ATen/native/TensorShape.cpp:3483.)\n",
      "  return _VF.meshgrid(tensors, **kwargs)  # type: ignore[attr-defined]\n",
      " 34%|█████████████████████████▏                                               | 17135/49710 [1:41:58<3:13:25,  2.81it/s]"
     ]
    }
   ],
   "source": [
    "train(model, optimizer, scheduler, loss, val_loss, train_loader, val_loader, config, **config['general'])"
   ]
  },
  {
   "cell_type": "code",
   "execution_count": null,
   "id": "ee384e42-dcee-46fe-8aec-4c6a35ad6c28",
   "metadata": {},
   "outputs": [],
   "source": [
    "# model.eval()\n",
    "\n",
    "# data = next(iter(train_loader))\n",
    "\n",
    "# img_0 = data['image0'].cuda()\n",
    "# img_1 = data['image1'].cuda()\n",
    "\n",
    "# with torch.no_grad():\n",
    "\n",
    "#     out = model(img_0,\n",
    "#                 img_1,\n",
    "#                 attn_splits_list=[2, 8],\n",
    "#                 corr_radius_list=[-1, 4],\n",
    "#                 prop_radius_list=[-1, 1]\n",
    "#                )\n"
   ]
  },
  {
   "cell_type": "code",
   "execution_count": null,
   "id": "3a1d223c-2c79-482a-8d47-ea80ae7132d6",
   "metadata": {
    "tags": []
   },
   "outputs": [],
   "source": [
    "# out['var'][:, 1].min()"
   ]
  },
  {
   "cell_type": "code",
   "execution_count": null,
   "id": "a589f070-2182-4973-8fad-f33d70daf158",
   "metadata": {
    "tags": []
   },
   "outputs": [],
   "source": [
    "# from training.nll_losses import NLLMixtureLaplace\n",
    "\n",
    "# loss_ = NLLMixtureLaplace()\n",
    "\n",
    "# loss_(data['flow_0to1'].cuda(), out['flow_preds'][0], torch.log(out['var'][:, :2]), out['var'][:, 2:], data['mask'].cuda())"
   ]
  }
 ],
 "metadata": {
  "kernelspec": {
   "display_name": "Python 3 (ipykernel)",
   "language": "python",
   "name": "python3"
  },
  "language_info": {
   "codemirror_mode": {
    "name": "ipython",
    "version": 3
   },
   "file_extension": ".py",
   "mimetype": "text/x-python",
   "name": "python",
   "nbconvert_exporter": "python",
   "pygments_lexer": "ipython3",
   "version": "3.8.10"
  }
 },
 "nbformat": 4,
 "nbformat_minor": 5
}
