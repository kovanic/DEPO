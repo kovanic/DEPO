{
 "cells": [
  {
   "cell_type": "code",
   "execution_count": 1,
   "id": "f105a087-1118-46ee-a512-59cd97df149e",
   "metadata": {
    "tags": []
   },
   "outputs": [],
   "source": [
    "%load_ext autoreload\n",
    "%autoreload 2"
   ]
  },
  {
   "cell_type": "code",
   "execution_count": 2,
   "id": "84602720-d2cc-415a-8fb1-70363fc50f7f",
   "metadata": {
    "tags": []
   },
   "outputs": [],
   "source": [
    "import sys\n",
    "sys.path.append('../src')"
   ]
  },
  {
   "cell_type": "code",
   "execution_count": 6,
   "id": "f922939f-485b-41f3-ab78-90bf7fbf115e",
   "metadata": {
    "tags": []
   },
   "outputs": [],
   "source": [
    "import numpy as np\n",
    "import pandas as pd\n",
    "from tqdm.auto import tqdm\n",
    "import cv2\n",
    "\n",
    "from data.scannet.utils_scannet import ScanNetDataset\n",
    "from descriptors.classical_descriptors import (SIFT_detector, ORB_detector,\n",
    "                                               SIFT_descriptor, ORB_descriptor, apply_modular_extractor_to_image)\n",
    "from matching.classic.nn_matching import NNMatcherPair\n",
    "from utils.metrics import calculate_metrics_simple, mAA_max, mAA_sep\n",
    "from utils.matching import plot_matches"
   ]
  },
  {
   "cell_type": "markdown",
   "id": "a0d6f815-ec0a-4b7b-97ed-e07134501a6d",
   "metadata": {},
   "source": [
    "### ScanNet test"
   ]
  },
  {
   "cell_type": "code",
   "execution_count": 4,
   "id": "be9cb2a4-bbc6-4fec-9a7e-36bf9c40ced1",
   "metadata": {
    "tags": []
   },
   "outputs": [],
   "source": [
    "test_data = ScanNetDataset(\n",
    "    root_dir='/home/project/ScanNet/scannet_test_1500/',\n",
    "    npz_path='/home/project/ScanNet/test.npz',\n",
    "    intrinsics_path='/home/project/ScanNet/intrinsics_test.npz',\n",
    "    mode='test',\n",
    "    mode_rgb_read='gray'\n",
    ")"
   ]
  },
  {
   "cell_type": "markdown",
   "id": "228537d1-df46-4929-9941-19191a8a9488",
   "metadata": {},
   "source": [
    "### SIFT"
   ]
  },
  {
   "cell_type": "code",
   "execution_count": 5,
   "id": "d56ff835-7929-4713-a8ef-cae9015c88c5",
   "metadata": {
    "tags": []
   },
   "outputs": [
    {
     "name": "stderr",
     "output_type": "stream",
     "text": [
      "100%|███████████████████████████████████████████████████████████████████████████████████████████████████████████████████| 1500/1500 [06:30<00:00,  3.85it/s]\n"
     ]
    }
   ],
   "source": [
    "config = dict(\n",
    "    name=\"SIFT-SIFT-Lowe-MMN-MAGSAC\",\n",
    "    normtype=\"l2\",\n",
    "    crosscheck=True,\n",
    "    ratio=0.9, \n",
    "    metrics=dict(\n",
    "        method=cv2.USAC_MAGSAC,\n",
    "        prob=0.99999,\n",
    "        threshold=3., \n",
    "        maxiters=100000\n",
    "        )\n",
    ")\n",
    "\n",
    "\n",
    "nn_matcher = NNMatcherPair(normtype=config['normtype'], ratio=config['ratio'])\n",
    "metrics = {}\n",
    "\n",
    "for i in tqdm(range(len(test_data))):\n",
    "    data = test_data[i]\n",
    "    \n",
    "    img_0 = cv2.normalize(data['image0'].numpy().squeeze(), None, 0, 255, cv2.NORM_MINMAX).astype('uint8')\n",
    "    img_1 = cv2.normalize(data['image1'].numpy().squeeze(), None, 0, 255, cv2.NORM_MINMAX).astype('uint8')\n",
    "    \n",
    "    kp_0, c_0, desc_0 = apply_modular_extractor_to_image(\n",
    "        img_0,\n",
    "        detector=SIFT_detector,\n",
    "        descriptor=SIFT_descriptor, \n",
    "        detector_params={'nfeatures':2000},\n",
    "        descriptor_params={'nfeatures':2000}\n",
    "    )\n",
    "    \n",
    "    kp_1, c_1, desc_1 = apply_modular_extractor_to_image(\n",
    "        img_1,\n",
    "        detector=SIFT_detector,\n",
    "        descriptor=SIFT_descriptor, \n",
    "        detector_params={'nfeatures':2000},\n",
    "        descriptor_params={'nfeatures':2000}\n",
    "    )\n",
    "    \n",
    "    match_0, match_1, c_0, c_1 = nn_matcher.match(kp_0, kp_1, desc_0, desc_1, c_0, c_1) #Nx2, Nx2, Nx1, Nx1\n",
    "   \n",
    "    \n",
    "    metrics[i] = calculate_metrics_simple(\n",
    "                 match_0.astype('int').T, match_1.astype('int').T,\n",
    "                 data['T_0'].numpy(), data['T_1'].numpy(),\n",
    "                 data['K0'], data['K1'],\n",
    "                 **config['metrics']\n",
    "    )\n",
    "\n",
    "metrics = pd.DataFrame.from_dict(metrics, orient='index')"
   ]
  },
  {
   "cell_type": "code",
   "execution_count": 8,
   "id": "a8972a93-f45f-4941-a45b-5b047c73d737",
   "metadata": {
    "tags": []
   },
   "outputs": [
    {
     "name": "stdout",
     "output_type": "stream",
     "text": [
      "mAA 5 rotation       0.2460\n",
      "mAA 10 rotation      0.3695\n",
      "mAA 20 rotation      0.4795\n"
     ]
    }
   ],
   "source": [
    "print(f'{\"mAA 5 rotation\":<20} {mAA_sep(metrics[\"R_distance\"].values, thresh=5, N=10000):.4f}')\n",
    "print(f'{\"mAA 10 rotation\":<20} {mAA_sep(metrics[\"R_distance\"].values, thresh=10, N=10000):.4f}')\n",
    "print(f'{\"mAA 20 rotation\":<20} {mAA_sep(metrics[\"R_distance\"].values, thresh=20, N=10000):.4f}')"
   ]
  },
  {
   "cell_type": "code",
   "execution_count": 7,
   "id": "4224168e-2e95-4481-8fc3-4a8e1ca13991",
   "metadata": {
    "tags": []
   },
   "outputs": [
    {
     "name": "stdout",
     "output_type": "stream",
     "text": [
      "mAA 5 rotation       0.0589\n",
      "mAA 10 rotation      0.1412\n",
      "mAA 20 rotation      0.2489\n"
     ]
    }
   ],
   "source": [
    "print(f'{\"mAA 5 rotation\":<20} {mAA_max(metrics[\"R_distance\"].values, metrics[\"t_distance\"].values, thresh=5, N=10000):.4f}')\n",
    "print(f'{\"mAA 10 rotation\":<20} {mAA_max(metrics[\"R_distance\"].values, metrics[\"t_distance\"].values, thresh=10, N=10000):.4f}')\n",
    "print(f'{\"mAA 20 rotation\":<20} {mAA_max(metrics[\"R_distance\"].values, metrics[\"t_distance\"].values, thresh=20, N=10000):.4f}')"
   ]
  },
  {
   "cell_type": "markdown",
   "id": "0147dcac-9545-4641-a6a1-2f0d3bdef5dd",
   "metadata": {},
   "source": [
    "### ORB"
   ]
  },
  {
   "cell_type": "code",
   "execution_count": 17,
   "id": "742794c6-09d2-4584-b213-c78d5fce5a1e",
   "metadata": {
    "tags": []
   },
   "outputs": [
    {
     "name": "stderr",
     "output_type": "stream",
     "text": [
      "100%|███████████████████████████████████████████████████████████████████████████████| 1500/1500 [09:33<00:00,  2.62it/s]"
     ]
    },
    {
     "name": "stdout",
     "output_type": "stream",
     "text": [
      "mAA 5 rotation       0.0390\n",
      "mAA 10 rotation      0.0995\n",
      "mAA 20 rotation      0.1889\n"
     ]
    },
    {
     "name": "stderr",
     "output_type": "stream",
     "text": [
      "\n"
     ]
    }
   ],
   "source": [
    "config = dict(\n",
    "    name=\"ORB-ORB-Lowe-MMN-MAGSAC\",\n",
    "    normtype=\"hamming\",\n",
    "    crosscheck=True,\n",
    "    ratio=0.9, \n",
    "    metrics=dict(\n",
    "        method=cv2.USAC_MAGSAC,\n",
    "        prob=0.99999,\n",
    "        threshold=3., \n",
    "        maxiters=100000\n",
    "        )\n",
    ")\n",
    "\n",
    "\n",
    "nn_matcher = NNMatcherPair(normtype=config['normtype'], ratio=config['ratio'])\n",
    "metrics = {}\n",
    "\n",
    "for i in tqdm(range(len(test_data))):\n",
    "    data = test_data[i]\n",
    "    \n",
    "    img_0 = cv2.normalize(data['image0'].numpy().squeeze(), None, 0, 255, cv2.NORM_MINMAX).astype('uint8')\n",
    "    img_1 = cv2.normalize(data['image1'].numpy().squeeze(), None, 0, 255, cv2.NORM_MINMAX).astype('uint8')\n",
    "    \n",
    "    kp_0, c_0, desc_0 = apply_modular_extractor_to_image(\n",
    "        img_0,\n",
    "        detector=ORB_detector,\n",
    "        descriptor=ORB_descriptor, \n",
    "        detector_params={'nfeatures':2000},\n",
    "        descriptor_params={'nfeatures':2000}\n",
    "    )\n",
    "    \n",
    "    kp_1, c_1, desc_1 = apply_modular_extractor_to_image(\n",
    "        img_1,\n",
    "        detector=ORB_detector,\n",
    "        descriptor=ORB_descriptor, \n",
    "        detector_params={'nfeatures':2000},\n",
    "        descriptor_params={'nfeatures':2000}\n",
    "    )\n",
    "    \n",
    "    match_0, match_1, c_0, c_1 = nn_matcher.match(kp_0, kp_1, desc_0, desc_1, c_0, c_1) #Nx2, Nx2, Nx1, Nx1\n",
    "   \n",
    "    \n",
    "    metrics[i] = calculate_metrics_simple(\n",
    "                 match_0.astype('int').T, match_1.astype('int').T,\n",
    "                 data['T_0'].numpy(), data['T_1'].numpy(),\n",
    "                 data['K0'], data['K1'],\n",
    "                 **config['metrics']\n",
    "    )\n",
    "\n",
    "metrics = pd.DataFrame.from_dict(metrics, orient='index')\n",
    "\n",
    "print(f'{\"mAA 5 rotation\":<20} {mAA_max(metrics[\"R_distance\"].values, metrics[\"t_distance\"].values, thresh=5, N=10000):.4f}')\n",
    "print(f'{\"mAA 10 rotation\":<20} {mAA_max(metrics[\"R_distance\"].values, metrics[\"t_distance\"].values, thresh=10, N=10000):.4f}')\n",
    "print(f'{\"mAA 20 rotation\":<20} {mAA_max(metrics[\"R_distance\"].values, metrics[\"t_distance\"].values, thresh=20, N=10000):.4f}')"
   ]
  }
 ],
 "metadata": {
  "kernelspec": {
   "display_name": "Python 3 (ipykernel)",
   "language": "python",
   "name": "python3"
  },
  "language_info": {
   "codemirror_mode": {
    "name": "ipython",
    "version": 3
   },
   "file_extension": ".py",
   "mimetype": "text/x-python",
   "name": "python",
   "nbconvert_exporter": "python",
   "pygments_lexer": "ipython3",
   "version": "3.8.10"
  }
 },
 "nbformat": 4,
 "nbformat_minor": 5
}
