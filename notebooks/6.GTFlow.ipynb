{
 "cells": [
  {
   "cell_type": "markdown",
   "id": "9fc97a96-63be-4751-9867-4df17ec8957e",
   "metadata": {},
   "source": [
    "In this notebook I create a dataset, based on ScanNet subsample, which consists of pairs (flow, relative transform)"
   ]
  },
  {
   "cell_type": "code",
   "execution_count": 1,
   "id": "cb69dc33-1c01-4899-ad66-0db6e5e1ae73",
   "metadata": {
    "tags": []
   },
   "outputs": [],
   "source": [
    "%load_ext autoreload\n",
    "%autoreload 2"
   ]
  },
  {
   "cell_type": "code",
   "execution_count": 2,
   "id": "54fa6b7f-4579-492a-baee-06bd5c90ab4f",
   "metadata": {
    "tags": []
   },
   "outputs": [],
   "source": [
    "import sys\n",
    "sys.path.append('../src')"
   ]
  },
  {
   "cell_type": "code",
   "execution_count": 36,
   "id": "881db499-bd50-4ef6-ab36-9ca781a75b2e",
   "metadata": {
    "tags": []
   },
   "outputs": [],
   "source": [
    "from data.scannet.flow import ScanNetFlow\n",
    "from torch.utils.data import DataLoader\n",
    "\n",
    "import matplotlib.pyplot as plt\n",
    "import numpy as np\n",
    "\n",
    "from tqdm.auto import tqdm\n",
    "from pathlib import Path"
   ]
  },
  {
   "cell_type": "code",
   "execution_count": 37,
   "id": "fc89cda3-ae48-4efb-ad59-b4bf52aad2e0",
   "metadata": {
    "tags": []
   },
   "outputs": [],
   "source": [
    "train_data = ScanNetFlow(\n",
    "    root_dir='/home/project/data/ScanNet/scans/',\n",
    "    npz_path='/home/project/ScanNet/flow_train_indices_subset.npz',\n",
    "    intrinsics_path='/home/project/ScanNet/scannet_indices/intrinsics.npz',\n",
    "    mode='train'\n",
    ")\n",
    "\n",
    "val_data = ScanNetFlow(\n",
    "    root_dir='/home/project/data/ScanNet/scans/',\n",
    "    npz_path='/home/project/ScanNet/flow_val_indices_subset.npz',\n",
    "    intrinsics_path='/home/project/ScanNet/scannet_indices/intrinsics.npz',\n",
    "    mode='val'\n",
    ")"
   ]
  },
  {
   "cell_type": "code",
   "execution_count": 95,
   "id": "de06f8fb-6e5b-4928-8d10-7167ebd9bb94",
   "metadata": {
    "tags": []
   },
   "outputs": [
    {
     "data": {
      "text/plain": [
       "99320"
      ]
     },
     "execution_count": 95,
     "metadata": {},
     "output_type": "execute_result"
    }
   ],
   "source": [
    "import os\n",
    "len(os.listdir('/home/project/data_sample/flow/train/'))"
   ]
  },
  {
   "cell_type": "code",
   "execution_count": 96,
   "id": "0377f51c-6df8-499a-b231-dfdbd7a83f57",
   "metadata": {
    "tags": []
   },
   "outputs": [
    {
     "data": {
      "text/plain": [
       "99320"
      ]
     },
     "execution_count": 96,
     "metadata": {},
     "output_type": "execute_result"
    }
   ],
   "source": [
    "names = np.load('/home/project/ScanNet/flow_train_indices_subset.npz')['name']\n",
    "len(names)"
   ]
  },
  {
   "cell_type": "code",
   "execution_count": 72,
   "id": "d31a7b76-eec5-4827-97c2-cf2b8db43903",
   "metadata": {
    "tags": []
   },
   "outputs": [],
   "source": [
    "names = np.load('/home/project/ScanNet/flow_train_indices_subset.npz')['name']\n",
    "\n",
    "names_set = set()\n",
    "for name in names:\n",
    "    names_set.update([f'{name[0]}_{name[1]}_{name[2]}_{name[3]}.npz'])\n",
    "\n",
    "\n"
   ]
  },
  {
   "cell_type": "code",
   "execution_count": 94,
   "id": "2426dcc8-5c91-427b-97e2-a51c6fe980ff",
   "metadata": {
    "tags": []
   },
   "outputs": [
    {
     "data": {
      "text/plain": [
       "7"
      ]
     },
     "execution_count": 94,
     "metadata": {},
     "output_type": "execute_result"
    }
   ],
   "source": [
    "def g(x, y=2, z=9):\n",
    "    return x+y\n",
    "\n",
    "def f(x, **args):\n",
    "    return g(x, **args)\n",
    "    \n",
    "f(3, y=4, z=5)"
   ]
  },
  {
   "cell_type": "code",
   "execution_count": 90,
   "id": "57333c45-80b2-441f-a58a-5177e4a5a6a5",
   "metadata": {
    "tags": []
   },
   "outputs": [
    {
     "data": {
      "text/plain": [
       "list"
      ]
     },
     "execution_count": 90,
     "metadata": {},
     "output_type": "execute_result"
    }
   ],
   "source": [
    "type(np.load('/home/project/ScanNet/flow_train_indices_subset.npz')._files)"
   ]
  },
  {
   "cell_type": "code",
   "execution_count": 78,
   "id": "9dc7f3f0-a9fd-4f77-9274-9da22873be0b",
   "metadata": {
    "tags": []
   },
   "outputs": [
    {
     "data": {
      "text/plain": [
       "'0_1063_3463.npz'"
      ]
     },
     "execution_count": 78,
     "metadata": {},
     "output_type": "execute_result"
    }
   ],
   "source": [
    "os.listdir('/home/project/data_sample/flow/train/')[0]"
   ]
  },
  {
   "cell_type": "code",
   "execution_count": 75,
   "id": "385a3887-f43d-4077-baf0-f98345dd6a16",
   "metadata": {
    "tags": []
   },
   "outputs": [],
   "source": [
    "names_inter = names_set.intersection(set(os.listdir('/home/project/data_sample/flow/train/')))\n"
   ]
  },
  {
   "cell_type": "code",
   "execution_count": 76,
   "id": "07b1ecaa-d00f-4cdd-979a-29db1842bf6f",
   "metadata": {
    "tags": []
   },
   "outputs": [
    {
     "data": {
      "text/plain": [
       "set()"
      ]
     },
     "execution_count": 76,
     "metadata": {},
     "output_type": "execute_result"
    }
   ],
   "source": [
    "names_inter"
   ]
  },
  {
   "cell_type": "code",
   "execution_count": 43,
   "id": "7468ce3a-0b98-45b9-a354-8f42b45ff031",
   "metadata": {
    "tags": []
   },
   "outputs": [],
   "source": [
    "np.savez('test.npz', **out)"
   ]
  },
  {
   "cell_type": "code",
   "execution_count": 60,
   "id": "ff166d0e-b139-489d-8c79-5fcaa8ce7374",
   "metadata": {
    "tags": []
   },
   "outputs": [],
   "source": [
    "np.save('test.npy', out['flow'].astype('float32'))"
   ]
  },
  {
   "cell_type": "code",
   "execution_count": 48,
   "id": "0579deda-360b-4645-8dcf-950a7834f93a",
   "metadata": {
    "tags": []
   },
   "outputs": [
    {
     "data": {
      "text/plain": [
       "2457744"
      ]
     },
     "execution_count": 48,
     "metadata": {},
     "output_type": "execute_result"
    }
   ],
   "source": [
    "\n",
    "sys.getsizeof(out['flow'].astype('int32'))"
   ]
  },
  {
   "cell_type": "code",
   "execution_count": 62,
   "id": "a9080906-55ef-482b-a4ff-f7b47e86a7b0",
   "metadata": {
    "tags": []
   },
   "outputs": [
    {
     "data": {
      "text/plain": [
       "229.99999999999997"
      ]
     },
     "execution_count": 62,
     "metadata": {},
     "output_type": "execute_result"
    }
   ],
   "source": [
    "2.3 * 100_000 / 1000"
   ]
  },
  {
   "cell_type": "code",
   "execution_count": 46,
   "id": "80034b5f-6209-4ad5-9fa2-8b020f6e5da0",
   "metadata": {
    "tags": []
   },
   "outputs": [
    {
     "data": {
      "text/plain": [
       "array([[[185.   , 184.6  , 184.5  , ..., 315.   , 315.5  , 317.   ],\n",
       "        [185.   , 184.6  , 184.5  , ..., 315.   , 315.8  , 317.   ],\n",
       "        [185.   , 184.6  , 184.4  , ..., 315.   , 315.8  , 317.   ],\n",
       "        ...,\n",
       "        [132.8  , 132.8  , 132.6  , ..., 354.   , 355.8  , 356.5  ],\n",
       "        [132.8  , 132.6  , 132.6  , ..., 354.8  , 355.8  , 356.8  ],\n",
       "        [132.6  , 132.6  , 132.5  , ..., 354.8  , 355.8  , 356.8  ]],\n",
       "\n",
       "       [[ 61.22 ,  61.12 ,  61.06 , ..., -10.8  , -10.96 , -11.234],\n",
       "        [ 61.16 ,  61.03 ,  60.97 , ..., -10.48 , -10.63 , -10.91 ],\n",
       "        [ 61.06 ,  60.97 ,  60.88 , ..., -10.15 , -10.31 , -10.58 ],\n",
       "        ...,\n",
       "        [ 86.44 ,  86.6  ,  86.8  , ..., 204.   , 205.   , 205.4  ],\n",
       "        [ 86.56 ,  86.75 ,  86.94 , ..., 205.2  , 205.6  , 205.9  ],\n",
       "        [ 86.7  ,  86.9  ,  87.06 , ..., 205.8  , 206.1  , 206.5  ]]],\n",
       "      dtype=float16)"
      ]
     },
     "execution_count": 46,
     "metadata": {},
     "output_type": "execute_result"
    }
   ],
   "source": [
    "out['flow'].astype('float16')\n"
   ]
  },
  {
   "cell_type": "code",
   "execution_count": 268,
   "id": "2b47440b-fc28-4628-a641-6c9b96556efc",
   "metadata": {
    "tags": []
   },
   "outputs": [
    {
     "name": "stderr",
     "output_type": "stream",
     "text": [
      " 11%|████████████▎                                                                                                  | 11027/99421 [19:43<2:38:06,  9.32it/s]\n"
     ]
    },
    {
     "ename": "ValueError",
     "evalue": "No points given",
     "output_type": "error",
     "traceback": [
      "\u001b[0;31m---------------------------------------------------------------------------\u001b[0m",
      "\u001b[0;31mValueError\u001b[0m                                Traceback (most recent call last)",
      "Cell \u001b[0;32mIn[268], line 2\u001b[0m\n\u001b[1;32m      1\u001b[0m \u001b[38;5;28;01mfor\u001b[39;00m i \u001b[38;5;129;01min\u001b[39;00m tqdm(\u001b[38;5;28mrange\u001b[39m(\u001b[38;5;28mlen\u001b[39m(train_data))): \n\u001b[0;32m----> 2\u001b[0m     out \u001b[38;5;241m=\u001b[39m \u001b[43mtrain_data\u001b[49m\u001b[43m[\u001b[49m\u001b[43mi\u001b[49m\u001b[43m]\u001b[49m\n\u001b[1;32m      3\u001b[0m     pair_id \u001b[38;5;241m=\u001b[39m out\u001b[38;5;241m.\u001b[39mpop(\u001b[38;5;124m'\u001b[39m\u001b[38;5;124mpair_id\u001b[39m\u001b[38;5;124m'\u001b[39m)\n\u001b[1;32m      4\u001b[0m     np\u001b[38;5;241m.\u001b[39msavez(train_dir \u001b[38;5;241m/\u001b[39m (pair_id \u001b[38;5;241m+\u001b[39m \u001b[38;5;124m'\u001b[39m\u001b[38;5;124m.npz\u001b[39m\u001b[38;5;124m'\u001b[39m), \u001b[38;5;241m*\u001b[39m\u001b[38;5;241m*\u001b[39mout)\n",
      "File \u001b[0;32m/home/project/code/notebooks/../src/data/scannet/utils.py:234\u001b[0m, in \u001b[0;36m__getitem__\u001b[0;34m(self, idx)\u001b[0m\n\u001b[1;32m    231\u001b[0m T_0 \u001b[38;5;241m=\u001b[39m \u001b[38;5;28mself\u001b[39m\u001b[38;5;241m.\u001b[39m_read_abs_pose(scene_name, stem_name_0)\n\u001b[1;32m    232\u001b[0m T_1 \u001b[38;5;241m=\u001b[39m \u001b[38;5;28mself\u001b[39m\u001b[38;5;241m.\u001b[39m_read_abs_pose(scene_name, stem_name_1)\n\u001b[0;32m--> 234\u001b[0m depth_0 \u001b[38;5;241m=\u001b[39m read_depth(osp\u001b[38;5;241m.\u001b[39mjoin(\u001b[38;5;28mself\u001b[39m\u001b[38;5;241m.\u001b[39mroot_dir, scene_name, \u001b[38;5;124m'\u001b[39m\u001b[38;5;124mdepth\u001b[39m\u001b[38;5;124m'\u001b[39m, \u001b[38;5;124mf\u001b[39m\u001b[38;5;124m'\u001b[39m\u001b[38;5;132;01m{\u001b[39;00mstem_name_0\u001b[38;5;132;01m}\u001b[39;00m\u001b[38;5;124m.png\u001b[39m\u001b[38;5;124m'\u001b[39m))\n\u001b[1;32m    235\u001b[0m depth_0 \u001b[38;5;241m=\u001b[39m fillMissingValues(depth_0, copy\u001b[38;5;241m=\u001b[39m\u001b[38;5;28;01mFalse\u001b[39;00m)\n\u001b[1;32m    237\u001b[0m flow_0to1, _ \u001b[38;5;241m=\u001b[39m optical_flow(depth_0, T_0, T_1, K_0, K_1, mask\u001b[38;5;241m=\u001b[39m\u001b[38;5;28;01mFalse\u001b[39;00m, normalize\u001b[38;5;241m=\u001b[39m\u001b[38;5;28;01mFalse\u001b[39;00m)\n",
      "File \u001b[0;32m/home/project/code/notebooks/../src/data/scannet/utils.py:173\u001b[0m, in \u001b[0;36mfillMissingValues\u001b[0;34m(target_for_interp, copy, interpolator)\u001b[0m\n\u001b[1;32m    171\u001b[0m \u001b[38;5;66;03m# Interpolate only holes, only using these pixels\u001b[39;00m\n\u001b[1;32m    172\u001b[0m points \u001b[38;5;241m=\u001b[39m np\u001b[38;5;241m.\u001b[39margwhere(mask_for_interp)\n\u001b[0;32m--> 173\u001b[0m values \u001b[38;5;241m=\u001b[39m target_for_interp[mask_for_interp]\n\u001b[1;32m    174\u001b[0m interp \u001b[38;5;241m=\u001b[39m interpolator(points, values)\n\u001b[1;32m    175\u001b[0m target_for_interp[invalid_mask] \u001b[38;5;241m=\u001b[39m interp(np\u001b[38;5;241m.\u001b[39margwhere(invalid_mask))\n",
      "File \u001b[0;32minterpnd.pyx:281\u001b[0m, in \u001b[0;36mscipy.interpolate.interpnd.LinearNDInterpolator.__init__\u001b[0;34m()\u001b[0m\n",
      "File \u001b[0;32m_qhull.pyx:1841\u001b[0m, in \u001b[0;36mscipy.spatial._qhull.Delaunay.__init__\u001b[0;34m()\u001b[0m\n",
      "File \u001b[0;32m_qhull.pyx:276\u001b[0m, in \u001b[0;36mscipy.spatial._qhull._Qhull.__init__\u001b[0;34m()\u001b[0m\n",
      "\u001b[0;31mValueError\u001b[0m: No points given"
     ]
    }
   ],
   "source": [
    "train_dir = Path('/home/project/data_sample/flow/train')\n",
    "train_dir.mkdir(parents=True, exist_ok=True)\n",
    "\n",
    "for i in tqdm(range(len(train_data))): \n",
    "    out = train_data[i]\n",
    "    pair_id = out.pop('pair_id')\n",
    "    np.savez(train_dir / (pair_id + '.npz'), **out)"
   ]
  },
  {
   "cell_type": "code",
   "execution_count": null,
   "id": "40d0d8ba-107a-4cd0-a247-2564c5b6a229",
   "metadata": {
    "tags": []
   },
   "outputs": [],
   "source": [
    "val_dir = Path('/home/project/data_sample/flow/val')\n",
    "val_dir.mkdir(parents=True, exist_ok=True)\n",
    "\n",
    "for i in tqdm(range(len(val_data))): \n",
    "    out = val_data[i]\n",
    "    pair_id = out.pop('pair_id')\n",
    "    np.savez(val_dir / (pair_id + '.npz'), **out)"
   ]
  }
 ],
 "metadata": {
  "kernelspec": {
   "display_name": "Python 3 (ipykernel)",
   "language": "python",
   "name": "python3"
  },
  "language_info": {
   "codemirror_mode": {
    "name": "ipython",
    "version": 3
   },
   "file_extension": ".py",
   "mimetype": "text/x-python",
   "name": "python",
   "nbconvert_exporter": "python",
   "pygments_lexer": "ipython3",
   "version": "3.8.10"
  }
 },
 "nbformat": 4,
 "nbformat_minor": 5
}
