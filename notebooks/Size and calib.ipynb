{
 "cells": [
  {
   "cell_type": "code",
   "execution_count": 1,
   "id": "0b51aa0d-4ecd-4ce6-806a-273a3ce708cb",
   "metadata": {
    "tags": []
   },
   "outputs": [],
   "source": [
    "import torch\n",
    "import numpy as np\n",
    "\n",
    "import cv2"
   ]
  },
  {
   "cell_type": "code",
   "execution_count": 3,
   "id": "86d239c4-91c5-4c74-b7cc-49611374dd5f",
   "metadata": {
    "tags": []
   },
   "outputs": [],
   "source": [
    "x = torch.rand(10, 4)"
   ]
  },
  {
   "cell_type": "code",
   "execution_count": 15,
   "id": "f9f93b81-0254-48e3-aa44-87d2bb4a06ed",
   "metadata": {
    "tags": []
   },
   "outputs": [
    {
     "data": {
      "text/plain": [
       "tensor([[1.2319],\n",
       "        [1.4829],\n",
       "        [1.3308],\n",
       "        [0.9505],\n",
       "        [1.3126],\n",
       "        [1.4152],\n",
       "        [1.1665],\n",
       "        [1.2365],\n",
       "        [0.6988],\n",
       "        [0.8920]])"
      ]
     },
     "execution_count": 15,
     "metadata": {},
     "output_type": "execute_result"
    }
   ],
   "source": [
    "torch.linalg.norm(x, ord=2, dim=1, keepdim=True)"
   ]
  },
  {
   "cell_type": "code",
   "execution_count": 16,
   "id": "9ed46bdb-8f2c-4fa3-a47d-ead8018a7f6a",
   "metadata": {
    "tags": []
   },
   "outputs": [
    {
     "data": {
      "text/plain": [
       "tensor([[1.2319],\n",
       "        [1.4829],\n",
       "        [1.3308],\n",
       "        [0.9505],\n",
       "        [1.3126],\n",
       "        [1.4152],\n",
       "        [1.1665],\n",
       "        [1.2365],\n",
       "        [0.6988],\n",
       "        [0.8920]])"
      ]
     },
     "execution_count": 16,
     "metadata": {},
     "output_type": "execute_result"
    }
   ],
   "source": [
    "x.pow(2).sum(1, keepdim=True).sqrt()"
   ]
  },
  {
   "cell_type": "code",
   "execution_count": 8,
   "id": "0a6be290-b493-430c-bd2d-47f17edc83ef",
   "metadata": {
    "tags": []
   },
   "outputs": [
    {
     "data": {
      "text/plain": [
       "tensor([[0.3953, 0.2838, 0.3821, 0.4943],\n",
       "        [0.5452, 0.3409, 0.3397, 0.4781],\n",
       "        [0.5194, 0.6322, 0.0179, 0.3352],\n",
       "        [0.4220, 0.4440, 0.0718, 0.3771],\n",
       "        [0.4666, 0.3174, 0.5570, 0.2423],\n",
       "        [0.4578, 0.1988, 0.4204, 0.5640],\n",
       "        [0.7281, 0.0205, 0.4669, 0.1200],\n",
       "        [0.0891, 0.1728, 0.6864, 0.4850],\n",
       "        [0.4679, 0.0517, 0.2389, 0.3473],\n",
       "        [0.3398, 0.3482, 0.4792, 0.1196]])"
      ]
     },
     "execution_count": 8,
     "metadata": {},
     "output_type": "execute_result"
    }
   ],
   "source": [
    "x / x.sum(1, keepdim=True).sqrt()"
   ]
  },
  {
   "cell_type": "code",
   "execution_count": 85,
   "id": "3578a0f4-0600-4696-87a3-6ecc1fcef4f8",
   "metadata": {
    "tags": []
   },
   "outputs": [],
   "source": [
    "def normalize_points(grid: torch.Tensor, K: torch.Tensor, scales: tuple=(1., 1.)):\n",
    "    ''' \n",
    "    :param grid: coordinates (u, v), B x 2 x H x W\n",
    "    :param K: intrinsics, B x 3 x 3\n",
    "    :param scales: parameters of resizing of original image\n",
    "    '''    \n",
    "    fx, fy, ox, oy = K[:, 0, 0], K[:, 1, 1], K[:, 0, 2], K[:, 1, 2]\n",
    "    sx, sy = scales[0], scales[1]\n",
    "    fx *= sx\n",
    "    fy *= sy\n",
    "    ox *= sx\n",
    "    oy *= sy\n",
    "    principal_point = torch.cat([ox[..., None], oy[..., None]], -1)[..., None, None]\n",
    "    focal_length = torch.cat([fx[..., None], fy[..., None]], -1)[..., None, None]\n",
    "    return (grid - principal_point) / focal_length\n",
    "\n",
    "def create_normalized_grid(size: tuple, K: torch.Tensor, scales: tuple=(1., 1.)):\n",
    "    '''Given image size, return grid for pixels positions, normalized with intrinsics (K).\n",
    "    :param size: image size (B, H, W)\n",
    "    :param K: intrinsics, B x 3 x 3\n",
    "    :param scales: parameters of resizing of original image\n",
    "    '''\n",
    "    B, H, W = size\n",
    "    grid = torch.meshgrid((torch.arange(H), torch.arange(W)), indexing='ij')\n",
    "    grid = torch.cat((grid[1].unsqueeze(0), grid[0].unsqueeze(0)), dim=0).float()\n",
    "    grid = grid[None, ...].repeat(B, 1, 1, 1)\n",
    "    grid = normalize_points(grid, K, scales)\n",
    "    return grid"
   ]
  },
  {
   "cell_type": "code",
   "execution_count": null,
   "id": "258c6353-6516-4c3d-afa6-cbaeb4ddf663",
   "metadata": {},
   "outputs": [],
   "source": []
  },
  {
   "cell_type": "code",
   "execution_count": 86,
   "id": "086bbf51-60b8-43ea-9dc6-0eec035ac388",
   "metadata": {
    "tags": []
   },
   "outputs": [],
   "source": [
    "grid = create_normalized_grid((2, 120, 160), K_, (1., 1.))"
   ]
  },
  {
   "cell_type": "code",
   "execution_count": 87,
   "id": "4014a176-f9cb-4ec5-927c-5e3a1e0b7d2a",
   "metadata": {
    "tags": []
   },
   "outputs": [
    {
     "data": {
      "text/plain": [
       "tensor([[[[-0.5529, -0.5512, -0.5494,  ..., -0.2812, -0.2795, -0.2777],\n",
       "          [-0.5529, -0.5512, -0.5494,  ..., -0.2812, -0.2795, -0.2777],\n",
       "          [-0.5529, -0.5512, -0.5494,  ..., -0.2812, -0.2795, -0.2777],\n",
       "          ...,\n",
       "          [-0.5529, -0.5512, -0.5494,  ..., -0.2812, -0.2795, -0.2777],\n",
       "          [-0.5529, -0.5512, -0.5494,  ..., -0.2812, -0.2795, -0.2777],\n",
       "          [-0.5529, -0.5512, -0.5494,  ..., -0.2812, -0.2795, -0.2777]],\n",
       "\n",
       "         [[-0.4145, -0.4145, -0.4145,  ..., -0.4145, -0.4145, -0.4145],\n",
       "          [-0.4127, -0.4127, -0.4127,  ..., -0.4127, -0.4127, -0.4127],\n",
       "          [-0.4110, -0.4110, -0.4110,  ..., -0.4110, -0.4110, -0.4110],\n",
       "          ...,\n",
       "          [-0.2120, -0.2120, -0.2120,  ..., -0.2120, -0.2120, -0.2120],\n",
       "          [-0.2103, -0.2103, -0.2103,  ..., -0.2103, -0.2103, -0.2103],\n",
       "          [-0.2085, -0.2085, -0.2085,  ..., -0.2085, -0.2085, -0.2085]]],\n",
       "\n",
       "\n",
       "        [[[-0.5529, -0.5512, -0.5494,  ..., -0.2812, -0.2795, -0.2777],\n",
       "          [-0.5529, -0.5512, -0.5494,  ..., -0.2812, -0.2795, -0.2777],\n",
       "          [-0.5529, -0.5512, -0.5494,  ..., -0.2812, -0.2795, -0.2777],\n",
       "          ...,\n",
       "          [-0.5529, -0.5512, -0.5494,  ..., -0.2812, -0.2795, -0.2777],\n",
       "          [-0.5529, -0.5512, -0.5494,  ..., -0.2812, -0.2795, -0.2777],\n",
       "          [-0.5529, -0.5512, -0.5494,  ..., -0.2812, -0.2795, -0.2777]],\n",
       "\n",
       "         [[-0.4145, -0.4145, -0.4145,  ..., -0.4145, -0.4145, -0.4145],\n",
       "          [-0.4127, -0.4127, -0.4127,  ..., -0.4127, -0.4127, -0.4127],\n",
       "          [-0.4110, -0.4110, -0.4110,  ..., -0.4110, -0.4110, -0.4110],\n",
       "          ...,\n",
       "          [-0.2120, -0.2120, -0.2120,  ..., -0.2120, -0.2120, -0.2120],\n",
       "          [-0.2103, -0.2103, -0.2103,  ..., -0.2103, -0.2103, -0.2103],\n",
       "          [-0.2085, -0.2085, -0.2085,  ..., -0.2085, -0.2085, -0.2085]]]])"
      ]
     },
     "execution_count": 87,
     "metadata": {},
     "output_type": "execute_result"
    }
   ],
   "source": [
    "grid"
   ]
  },
  {
   "cell_type": "code",
   "execution_count": 69,
   "id": "72ee6a7f-2fd1-4f63-808d-5b2a9eca0d2a",
   "metadata": {
    "tags": []
   },
   "outputs": [],
   "source": [
    "K_ = torch.from_numpy(K).unsqueeze(0).repeat(2, 1, 1)"
   ]
  },
  {
   "cell_type": "code",
   "execution_count": 82,
   "id": "d6557e15-926c-4e44-9483-05ee652ec3d4",
   "metadata": {
    "tags": []
   },
   "outputs": [],
   "source": [
    "out = normalize_points(grid, K_)"
   ]
  },
  {
   "cell_type": "code",
   "execution_count": 84,
   "id": "7415b235-4318-40a8-bd36-a6a36ac8dc30",
   "metadata": {
    "tags": []
   },
   "outputs": [
    {
     "data": {
      "text/plain": [
       "tensor([[[-0.5529, -0.5512, -0.5494,  ..., -0.2812, -0.2795, -0.2777],\n",
       "         [-0.5529, -0.5512, -0.5494,  ..., -0.2812, -0.2795, -0.2777],\n",
       "         [-0.5529, -0.5512, -0.5494,  ..., -0.2812, -0.2795, -0.2777],\n",
       "         ...,\n",
       "         [-0.5529, -0.5512, -0.5494,  ..., -0.2812, -0.2795, -0.2777],\n",
       "         [-0.5529, -0.5512, -0.5494,  ..., -0.2812, -0.2795, -0.2777],\n",
       "         [-0.5529, -0.5512, -0.5494,  ..., -0.2812, -0.2795, -0.2777]],\n",
       "\n",
       "        [[-0.4145, -0.4145, -0.4145,  ..., -0.4145, -0.4145, -0.4145],\n",
       "         [-0.4127, -0.4127, -0.4127,  ..., -0.4127, -0.4127, -0.4127],\n",
       "         [-0.4110, -0.4110, -0.4110,  ..., -0.4110, -0.4110, -0.4110],\n",
       "         ...,\n",
       "         [-0.2120, -0.2120, -0.2120,  ..., -0.2120, -0.2120, -0.2120],\n",
       "         [-0.2103, -0.2103, -0.2103,  ..., -0.2103, -0.2103, -0.2103],\n",
       "         [-0.2085, -0.2085, -0.2085,  ..., -0.2085, -0.2085, -0.2085]]])"
      ]
     },
     "execution_count": 84,
     "metadata": {},
     "output_type": "execute_result"
    }
   ],
   "source": [
    "create_normalized_grid()"
   ]
  },
  {
   "cell_type": "code",
   "execution_count": 28,
   "id": "7a67a1d7-ebde-446a-a167-5542a9387b05",
   "metadata": {
    "tags": []
   },
   "outputs": [],
   "source": [
    "K = Ks['scene0609_02'].reshape(3, 3)"
   ]
  },
  {
   "cell_type": "code",
   "execution_count": 46,
   "id": "ad50f25f-3315-4189-ad0e-714b99e4b927",
   "metadata": {
    "tags": []
   },
   "outputs": [
    {
     "data": {
      "text/plain": [
       "-0.5528925190786855"
      ]
     },
     "execution_count": 46,
     "metadata": {},
     "output_type": "execute_result"
    }
   ],
   "source": [
    "(0. - 319.5) / 577.870\n",
    "    "
   ]
  },
  {
   "cell_type": "code",
   "execution_count": 42,
   "id": "7023b928-3bc4-43e2-b576-e69c248e053d",
   "metadata": {
    "tags": []
   },
   "outputs": [
    {
     "data": {
      "text/plain": [
       "tensor([[[[  0.,   1.,   2.,  ..., 157., 158., 159.],\n",
       "          [  0.,   1.,   2.,  ..., 157., 158., 159.],\n",
       "          [  0.,   1.,   2.,  ..., 157., 158., 159.],\n",
       "          ...,\n",
       "          [  0.,   1.,   2.,  ..., 157., 158., 159.],\n",
       "          [  0.,   1.,   2.,  ..., 157., 158., 159.],\n",
       "          [  0.,   1.,   2.,  ..., 157., 158., 159.]],\n",
       "\n",
       "         [[  0.,   0.,   0.,  ...,   0.,   0.,   0.],\n",
       "          [  1.,   1.,   1.,  ...,   1.,   1.,   1.],\n",
       "          [  2.,   2.,   2.,  ...,   2.,   2.,   2.],\n",
       "          ...,\n",
       "          [117., 117., 117.,  ..., 117., 117., 117.],\n",
       "          [118., 118., 118.,  ..., 118., 118., 118.],\n",
       "          [119., 119., 119.,  ..., 119., 119., 119.]]]])"
      ]
     },
     "execution_count": 42,
     "metadata": {},
     "output_type": "execute_result"
    }
   ],
   "source": [
    "grid"
   ]
  },
  {
   "cell_type": "code",
   "execution_count": 41,
   "id": "d074d809-3d92-4529-9758-e136fdcf8834",
   "metadata": {
    "tags": []
   },
   "outputs": [
    {
     "data": {
      "text/plain": [
       "tensor([[[[-1.0000, -0.9983, -0.9965,  ..., -0.7283, -0.7266, -0.7249],\n",
       "          [-1.0000, -0.9983, -0.9965,  ..., -0.7283, -0.7266, -0.7249],\n",
       "          [-1.0000, -0.9983, -0.9965,  ..., -0.7283, -0.7266, -0.7249],\n",
       "          ...,\n",
       "          [-1.0000, -0.9983, -0.9965,  ..., -0.7283, -0.7266, -0.7249],\n",
       "          [-1.0000, -0.9983, -0.9965,  ..., -0.7283, -0.7266, -0.7249],\n",
       "          [-1.0000, -0.9983, -0.9965,  ..., -0.7283, -0.7266, -0.7249]],\n",
       "\n",
       "         [[-0.7496, -0.7496, -0.7496,  ..., -0.7496, -0.7496, -0.7496],\n",
       "          [-0.7465, -0.7465, -0.7465,  ..., -0.7465, -0.7465, -0.7465],\n",
       "          [-0.7433, -0.7433, -0.7433,  ..., -0.7433, -0.7433, -0.7433],\n",
       "          ...,\n",
       "          [-0.3834, -0.3834, -0.3834,  ..., -0.3834, -0.3834, -0.3834],\n",
       "          [-0.3803, -0.3803, -0.3803,  ..., -0.3803, -0.3803, -0.3803],\n",
       "          [-0.3772, -0.3772, -0.3772,  ..., -0.3772, -0.3772, -0.3772]]]])"
      ]
     },
     "execution_count": 41,
     "metadata": {},
     "output_type": "execute_result"
    }
   ],
   "source": [
    "apply_inverse_intrinsics(grid, K, scales=(1., 1.))"
   ]
  },
  {
   "cell_type": "code",
   "execution_count": 31,
   "id": "eba7c78f-3a69-498a-bad6-292529ac979b",
   "metadata": {
    "tags": []
   },
   "outputs": [
    {
     "data": {
      "text/plain": [
       "array([[ 0.00173049,  0.        , -0.55289191]])"
      ]
     },
     "execution_count": 31,
     "metadata": {},
     "output_type": "execute_result"
    }
   ],
   "source": [
    "np.array([[1/K[0, 0], 0., -K[0, 2]/K[0, 0]]])"
   ]
  },
  {
   "cell_type": "code",
   "execution_count": 39,
   "id": "89627130-1e5f-4137-a1ea-a3f813944093",
   "metadata": {
    "tags": []
   },
   "outputs": [
    {
     "data": {
      "text/plain": [
       "tensor([[[[-100.,  -99.,  -98.,  ...,   57.,   58.,   59.],\n",
       "          [-100.,  -99.,  -98.,  ...,   57.,   58.,   59.],\n",
       "          [-100.,  -99.,  -98.,  ...,   57.,   58.,   59.],\n",
       "          ...,\n",
       "          [-100.,  -99.,  -98.,  ...,   57.,   58.,   59.],\n",
       "          [-100.,  -99.,  -98.,  ...,   57.,   58.,   59.],\n",
       "          [-100.,  -99.,  -98.,  ...,   57.,   58.,   59.]],\n",
       "\n",
       "         [[-200., -200., -200.,  ..., -200., -200., -200.],\n",
       "          [-199., -199., -199.,  ..., -199., -199., -199.],\n",
       "          [-198., -198., -198.,  ..., -198., -198., -198.],\n",
       "          ...,\n",
       "          [ -83.,  -83.,  -83.,  ...,  -83.,  -83.,  -83.],\n",
       "          [ -82.,  -82.,  -82.,  ...,  -82.,  -82.,  -82.],\n",
       "          [ -81.,  -81.,  -81.,  ...,  -81.,  -81.,  -81.]]]])"
      ]
     },
     "execution_count": 39,
     "metadata": {},
     "output_type": "execute_result"
    }
   ],
   "source": []
  },
  {
   "cell_type": "code",
   "execution_count": 26,
   "id": "b397b775-6940-4548-86d1-1c2f936c4d11",
   "metadata": {
    "tags": []
   },
   "outputs": [
    {
     "data": {
      "text/plain": [
       "array([[577.870605,   0.      , 319.5     ,   0.      ],\n",
       "       [  0.      , 577.870605, 239.5     ,   0.      ],\n",
       "       [  0.      ,   0.      ,   1.      ,   0.      ],\n",
       "       [  0.      ,   0.      ,   0.      ,   1.      ]])"
      ]
     },
     "execution_count": 26,
     "metadata": {},
     "output_type": "execute_result"
    }
   ],
   "source": [
    "np.loadtxt('/home/project/data/ScanNet/scans/scene0609_02/intrinsic/intrinsic_depth.txt')"
   ]
  },
  {
   "cell_type": "code",
   "execution_count": null,
   "id": "0465b920-ffeb-4a04-af77-69d595228425",
   "metadata": {},
   "outputs": [],
   "source": []
  },
  {
   "cell_type": "code",
   "execution_count": 19,
   "id": "80d8931c-cd64-48da-857e-5461d717fd18",
   "metadata": {
    "tags": []
   },
   "outputs": [
    {
     "data": {
      "text/plain": [
       "array([[0.55462244, 0.41618312, 1.        ]])"
      ]
     },
     "execution_count": 19,
     "metadata": {},
     "output_type": "execute_result"
    }
   ],
   "source": [
    "(np.linalg.inv(Ks['scene0609_02'].reshape(3, 3)) @ np.array([640, 480, 1]).reshape(-1, 1)).T"
   ]
  },
  {
   "cell_type": "code",
   "execution_count": 23,
   "id": "669e3ab1-3ec5-45bf-af5e-d6d64ca53f41",
   "metadata": {
    "tags": []
   },
   "outputs": [
    {
     "data": {
      "text/plain": [
       "(968, 1296, 3)"
      ]
     },
     "execution_count": 23,
     "metadata": {},
     "output_type": "execute_result"
    }
   ],
   "source": [
    "cv2.imread('/home/project/data_sample/scannet_test_1500/scene0707_00/color/105.jpg').shape"
   ]
  }
 ],
 "metadata": {
  "kernelspec": {
   "display_name": "Python 3 (ipykernel)",
   "language": "python",
   "name": "python3"
  },
  "language_info": {
   "codemirror_mode": {
    "name": "ipython",
    "version": 3
   },
   "file_extension": ".py",
   "mimetype": "text/x-python",
   "name": "python",
   "nbconvert_exporter": "python",
   "pygments_lexer": "ipython3",
   "version": "3.8.10"
  }
 },
 "nbformat": 4,
 "nbformat_minor": 5
}
