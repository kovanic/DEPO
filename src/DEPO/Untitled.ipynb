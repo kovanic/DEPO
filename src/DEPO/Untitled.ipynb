{
 "cells": [
  {
   "cell_type": "code",
   "execution_count": 1,
   "id": "1424403c-7c7d-42f8-b9c8-7c0686a23688",
   "metadata": {
    "tags": []
   },
   "outputs": [],
   "source": [
    "%load_ext autoreload\n",
    "%autoreload 2"
   ]
  },
  {
   "cell_type": "code",
   "execution_count": 9,
   "id": "cdee17f9-3d17-4be4-8029-d90d65d79fb5",
   "metadata": {
    "tags": []
   },
   "outputs": [],
   "source": [
    "import sys\n",
    "sys.path.append('../../src')"
   ]
  },
  {
   "cell_type": "code",
   "execution_count": 37,
   "id": "3f7533bf-bc2d-447c-8c5e-929b7d55bb74",
   "metadata": {
    "tags": []
   },
   "outputs": [
    {
     "name": "stdout",
     "output_type": "stream",
     "text": [
      "Collecting timm==0.3.2\n",
      "  Downloading timm-0.3.2-py3-none-any.whl (244 kB)\n",
      "\u001b[K     |████████████████████████████████| 244 kB 1.3 MB/s eta 0:00:01\n",
      "\u001b[?25hRequirement already satisfied: torchvision in /usr/local/lib/python3.8/dist-packages (from timm==0.3.2) (0.9.1+cu111)\n",
      "Requirement already satisfied: torch>=1.0 in /usr/local/lib/python3.8/dist-packages (from timm==0.3.2) (1.8.1+cu111)\n",
      "Requirement already satisfied: pillow>=4.1.1 in /home/user/.local/lib/python3.8/site-packages (from torchvision->timm==0.3.2) (9.5.0)\n",
      "Requirement already satisfied: numpy in /usr/local/lib/python3.8/dist-packages (from torchvision->timm==0.3.2) (1.24.3)\n",
      "Requirement already satisfied: typing-extensions in /usr/local/lib/python3.8/dist-packages (from torch>=1.0->timm==0.3.2) (4.5.0)\n",
      "Installing collected packages: timm\n",
      "Successfully installed timm-0.3.2\n"
     ]
    }
   ],
   "source": [
    "!pip install timm==\"0.3.2\""
   ]
  },
  {
   "cell_type": "code",
   "execution_count": 28,
   "id": "23897b4b-884f-4926-9d68-b5e6352fb773",
   "metadata": {
    "tags": []
   },
   "outputs": [],
   "source": [
    "from depo import depo_v8\n",
    "from utils.model import count_parameters"
   ]
  },
  {
   "cell_type": "code",
   "execution_count": 23,
   "id": "2d73dfab-e639-4728-b19f-260076094ba1",
   "metadata": {
    "tags": []
   },
   "outputs": [
    {
     "name": "stdout",
     "output_type": "stream",
     "text": [
      "13.2 ms ± 2.19 ms per loop (mean ± std. dev. of 10 runs, 10 loops each)\n"
     ]
    }
   ],
   "source": [
    "%%timeit -r 10 -n 10\n",
    "\n",
    "img_q = torch.rand(1, 3, 480, 640).cuda()\n",
    "img_s = torch.rand(1, 3, 480, 640).cuda()\n",
    "K_q = torch.rand(1, 3, 3).cuda()\n",
    "K_s = torch.rand(1, 3, 3).cuda()\n",
    "scales_q = torch.ones(1, 2).cuda()\n",
    "scales_s = torch.ones(1, 2).cuda()"
   ]
  },
  {
   "cell_type": "code",
   "execution_count": 29,
   "id": "7b8d5cd5-f778-415d-8b5b-73b692437b7f",
   "metadata": {
    "tags": []
   },
   "outputs": [],
   "source": [
    "model = depo_v8().cuda()"
   ]
  },
  {
   "cell_type": "code",
   "execution_count": 30,
   "id": "664ebddd-0bec-48ac-8764-7d87e1b6fbc8",
   "metadata": {
    "tags": []
   },
   "outputs": [
    {
     "data": {
      "text/plain": [
       "21.098492"
      ]
     },
     "execution_count": 30,
     "metadata": {},
     "output_type": "execute_result"
    }
   ],
   "source": [
    "count_parameters(model) / 10 ** 6"
   ]
  },
  {
   "cell_type": "code",
   "execution_count": 31,
   "id": "b1247671-2216-49cd-ba57-e8b056bc5bb7",
   "metadata": {
    "tags": []
   },
   "outputs": [
    {
     "name": "stdout",
     "output_type": "stream",
     "text": [
      "64 ms ± 4.74 ms per loop (mean ± std. dev. of 10 runs, 10 loops each)\n"
     ]
    }
   ],
   "source": [
    "%%timeit -r 10 -n 10\n",
    "\n",
    "img_q = torch.rand(1, 3, 480, 640).cuda()\n",
    "img_s = torch.rand(1, 3, 480, 640).cuda()\n",
    "K_q = torch.rand(1, 3, 3).cuda()\n",
    "K_s = torch.rand(1, 3, 3).cuda()\n",
    "scales_q = torch.ones(1, 2).cuda()\n",
    "scales_s = torch.ones(1, 2).cuda()\n",
    "\n",
    "with torch.no_grad():\n",
    "    out = model(img_q, img_s, K_q, K_s, scales_q, scales_s)"
   ]
  },
  {
   "cell_type": "code",
   "execution_count": 25,
   "id": "dcdbb136-e852-448b-9659-84075758f179",
   "metadata": {
    "tags": []
   },
   "outputs": [],
   "source": [
    "img_q = torch.rand(1, 3, 480, 640).cuda()\n",
    "img_s = torch.rand(1, 3, 480, 640).cuda()\n",
    "K_q = torch.rand(1, 3, 3).cuda()\n",
    "K_s = torch.rand(1, 3, 3).cuda()\n",
    "scales_q = torch.ones(1, 2).cuda()\n",
    "scales_s = torch.ones(1, 2).cuda()\n",
    "\n",
    "with torch.no_grad():\n",
    "    out = model(img_q, img_s, K_q, K_s, scales_q, scales_s)"
   ]
  },
  {
   "cell_type": "code",
   "execution_count": 27,
   "id": "6152e939-f22b-40b6-a96e-916fd3cd9006",
   "metadata": {
    "tags": []
   },
   "outputs": [
    {
     "data": {
      "text/plain": [
       "tensor([[[[-0.1781, -0.1955, -0.1908,  ..., -0.2095, -0.2007, -0.2096],\n",
       "          [-0.1724, -0.1880, -0.1848,  ..., -0.2033, -0.2097, -0.2121],\n",
       "          [-0.1819, -0.1706, -0.1859,  ..., -0.2091, -0.2012, -0.2161],\n",
       "          ...,\n",
       "          [-0.1951, -0.2040, -0.2005,  ..., -0.1991, -0.2286, -0.2184],\n",
       "          [-0.2006, -0.2015, -0.1926,  ..., -0.2073, -0.2106, -0.2208],\n",
       "          [-0.1953, -0.1916, -0.1830,  ..., -0.2082, -0.2215, -0.1926]],\n",
       "\n",
       "         [[-0.1419, -0.1575, -0.1502,  ..., -0.1770, -0.1692, -0.1785],\n",
       "          [-0.1362, -0.1483, -0.1453,  ..., -0.1742, -0.1798, -0.1819],\n",
       "          [-0.1420, -0.1358, -0.1480,  ..., -0.1784, -0.1728, -0.1850],\n",
       "          ...,\n",
       "          [-0.1304, -0.1395, -0.1390,  ..., -0.1519, -0.1830, -0.1718],\n",
       "          [-0.1377, -0.1401, -0.1388,  ..., -0.1650, -0.1687, -0.1758],\n",
       "          [-0.1334, -0.1315, -0.1243,  ..., -0.1675, -0.1780, -0.1530]]]],\n",
       "       device='cuda:0')"
      ]
     },
     "execution_count": 27,
     "metadata": {},
     "output_type": "execute_result"
    }
   ],
   "source": [
    "out[0]"
   ]
  },
  {
   "cell_type": "code",
   "execution_count": null,
   "id": "f291d6b2-1d63-4ea5-8d45-2ad5b0a130cf",
   "metadata": {},
   "outputs": [],
   "source": []
  },
  {
   "cell_type": "code",
   "execution_count": 1,
   "id": "e3ede49a-1839-4eb1-8b39-d5122ab1be86",
   "metadata": {
    "tags": []
   },
   "outputs": [
    {
     "name": "stderr",
     "output_type": "stream",
     "text": [
      "/usr/local/lib/python3.8/dist-packages/tqdm/auto.py:21: TqdmWarning: IProgress not found. Please update jupyter and ipywidgets. See https://ipywidgets.readthedocs.io/en/stable/user_install.html\n",
      "  from .autonotebook import tqdm as notebook_tqdm\n"
     ]
    }
   ],
   "source": [
    "import torch"
   ]
  },
  {
   "cell_type": "code",
   "execution_count": 23,
   "id": "b130c950-f9db-4e1f-a0e8-410ac7bdf85c",
   "metadata": {
    "tags": []
   },
   "outputs": [],
   "source": [
    "H = 60\n",
    "W = 80\n",
    "B = 3\n",
    "C = 128\n",
    "\n",
    "x = torch.rand(B, C, H, W)\n",
    "y = x"
   ]
  },
  {
   "cell_type": "code",
   "execution_count": 24,
   "id": "4a6e2ee4-28d3-483e-87dd-cb0ba051ed1c",
   "metadata": {
    "tags": []
   },
   "outputs": [
    {
     "name": "stdout",
     "output_type": "stream",
     "text": [
      "torch.Size([3, 4800, 128])\n",
      "torch.Size([3, 128, 60, 80])\n"
     ]
    }
   ],
   "source": [
    "x = x.contiguous().view((B, C, H*W)).transpose(2, 1)\n",
    "print(x.size())\n",
    "x = x.transpose(2, 1).contiguous().view(B, -1, H, W)\n",
    "print(x.size())"
   ]
  },
  {
   "cell_type": "code",
   "execution_count": 25,
   "id": "43de6b95-4fae-49eb-9269-8fae65e810b8",
   "metadata": {
    "tags": []
   },
   "outputs": [
    {
     "name": "stdout",
     "output_type": "stream",
     "text": [
      "torch.Size([3, 4800, 128])\n",
      "torch.Size([3, 128, 60, 80])\n"
     ]
    }
   ],
   "source": [
    "y = y.flatten(2).transpose(2, 1)\n",
    "print(y.size())\n",
    "y = y.transpose(2, 1).unflatten(2, (H, W))\n",
    "print(y.size())"
   ]
  },
  {
   "cell_type": "code",
   "execution_count": 26,
   "id": "59ebe442-e9ba-4a6d-9844-59cda8318cd2",
   "metadata": {
    "tags": []
   },
   "outputs": [
    {
     "data": {
      "text/plain": [
       "tensor(True)"
      ]
     },
     "execution_count": 26,
     "metadata": {},
     "output_type": "execute_result"
    }
   ],
   "source": [
    "(x == y).all()"
   ]
  }
 ],
 "metadata": {
  "kernelspec": {
   "display_name": "Python 3 (ipykernel)",
   "language": "python",
   "name": "python3"
  },
  "language_info": {
   "codemirror_mode": {
    "name": "ipython",
    "version": 3
   },
   "file_extension": ".py",
   "mimetype": "text/x-python",
   "name": "python",
   "nbconvert_exporter": "python",
   "pygments_lexer": "ipython3",
   "version": "3.8.10"
  }
 },
 "nbformat": 4,
 "nbformat_minor": 5
}
