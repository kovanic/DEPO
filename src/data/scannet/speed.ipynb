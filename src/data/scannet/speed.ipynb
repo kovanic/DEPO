{
 "cells": [
  {
   "cell_type": "code",
   "execution_count": 1,
   "id": "57b233a9-5249-4200-9071-33525554e4e9",
   "metadata": {
    "tags": []
   },
   "outputs": [],
   "source": [
    "%load_ext autoreload\n",
    "%autoreload 2"
   ]
  },
  {
   "cell_type": "code",
   "execution_count": 2,
   "id": "94bda937-e79d-416c-8dff-98158d510b11",
   "metadata": {
    "tags": []
   },
   "outputs": [],
   "source": [
    "import sys\n",
    "sys.path.append('../../../src')"
   ]
  },
  {
   "cell_type": "code",
   "execution_count": 3,
   "id": "94a92bb3-866d-4c5e-a55e-48a082fd865b",
   "metadata": {
    "tags": []
   },
   "outputs": [
    {
     "name": "stderr",
     "output_type": "stream",
     "text": [
      "/usr/local/lib/python3.8/dist-packages/tqdm/auto.py:21: TqdmWarning: IProgress not found. Please update jupyter and ipywidgets. See https://ipywidgets.readthedocs.io/en/stable/user_install.html\n",
      "  from .autonotebook import tqdm as notebook_tqdm\n"
     ]
    }
   ],
   "source": [
    "from utils_scannet_fast import ScanNetDataset\n",
    "from torch.utils.data import DataLoader\n",
    "from utils.optical_flow_batch_torch import optical_flow"
   ]
  },
  {
   "cell_type": "code",
   "execution_count": 7,
   "id": "ebc554af-30e6-49e7-b09f-726fc027f8fc",
   "metadata": {
    "tags": []
   },
   "outputs": [],
   "source": [
    "train_data = ScanNetDataset(\n",
    "    root_dir='/home/project/data/ScanNet/scans/',\n",
    "    npz_path='/home/project/code/data/scannet_splits/smart_sample_train_ft.npz',\n",
    "    intrinsics_path='/home/project/ScanNet/scannet_indices/intrinsics.npz',\n",
    "    calculate_flow=True\n",
    ")\n",
    "\n",
    "train_loader = DataLoader(train_data, batch_size=10, shuffle=True, drop_last=True, pin_memory=False, num_workers=0)\n"
   ]
  },
  {
   "cell_type": "code",
   "execution_count": 8,
   "id": "dd3333ef-2bd3-408b-9c27-dbd18d9d2c2a",
   "metadata": {
    "tags": []
   },
   "outputs": [],
   "source": [
    "\n",
    "    elf.intrinsics = {f: intr[f] for f in intr.files}\n",
    "    "
   ]
  },
  {
   "cell_type": "code",
   "execution_count": 9,
   "id": "289ed2fb-743e-4c03-851e-fa49a1b8a0e4",
   "metadata": {
    "tags": []
   },
   "outputs": [
    {
     "data": {
      "text/plain": [
       "dict_keys(['image_0', 'image_1', 'K_0', 'K_1', 'T_0to1', 'scene_id', 'pair_id', 'pair_name', 'pair_names', 'T_0', 'T_1', 'depth_0'])"
      ]
     },
     "execution_count": 9,
     "metadata": {},
     "output_type": "execute_result"
    }
   ],
   "source": [
    "data.keys()"
   ]
  },
  {
   "cell_type": "code",
   "execution_count": 38,
   "id": "388d5ab2-2626-4eb8-8d04-34bca748725d",
   "metadata": {
    "tags": []
   },
   "outputs": [],
   "source": [
    "out = optical_flow(data['depth_0'], data['T_0'], data['T_1'], data['K_0'], data['K_1'])"
   ]
  },
  {
   "cell_type": "code",
   "execution_count": 41,
   "id": "baa47332-5477-4063-8784-bd3dd8eb7bc5",
   "metadata": {
    "tags": []
   },
   "outputs": [],
   "source": [
    "import numpy as np\n",
    "intr = np.load('/home/project/ScanNet/scannet_indices/intrinsics.npz')\n"
   ]
  },
  {
   "cell_type": "code",
   "execution_count": 45,
   "id": "56a35388-7099-4ca2-af0c-6d5dc5fbed73",
   "metadata": {
    "tags": []
   },
   "outputs": [],
   "source": [
    "intrinsics = {f: intr[f] for f in intr.files}\n",
    " "
   ]
  },
  {
   "cell_type": "code",
   "execution_count": 46,
   "id": "d4134611-8ce7-44c3-b439-567f18a19c92",
   "metadata": {
    "tags": []
   },
   "outputs": [
    {
     "data": {
      "text/plain": [
       "array([577.5907 ,   0.     , 318.90543,   0.     , 578.7298 , 242.68361,\n",
       "         0.     ,   0.     ,   1.     ])"
      ]
     },
     "execution_count": 46,
     "metadata": {},
     "output_type": "execute_result"
    }
   ],
   "source": [
    "intrinsics['scene0000_00']"
   ]
  },
  {
   "cell_type": "code",
   "execution_count": 4,
   "id": "5c78853a-da5b-4725-963d-6f77f26b0d7b",
   "metadata": {
    "tags": []
   },
   "outputs": [],
   "source": [
    "# import cv2\n",
    "\n",
    "# import torch\n",
    "# from torch.utils.data import DataLoader\n",
    "# from torch.utils.data import Dataset\n",
    "\n",
    "# import numpy as np\n",
    "# from numpy.linalg import inv\n",
    "\n",
    "# from os import path as osp\n",
    "# from typing import (\n",
    "#     List, Tuple, Dict, Any,\n",
    "#     Optional, Sequence, Callable\n",
    "# )\n",
    "# from utils.optical_flow_numpy import optical_flow\n",
    "\n",
    "# from turbojpeg import TurboJPEG\n",
    "\n",
    "# import torchvision.transforms as T\n",
    "# import albumentations as A\n",
    "# from albumentations.pytorch.transforms import ToTensorV2"
   ]
  },
  {
   "cell_type": "code",
   "execution_count": 66,
   "id": "a8d86675-5e03-43dc-bc22-18f26c155472",
   "metadata": {
    "tags": []
   },
   "outputs": [],
   "source": [
    "# class ImageTransform:\n",
    "#     def __init__(self):\n",
    "#         self.transforms = A.Compose([    \n",
    "#             A.Normalize((0.485, 0.456, 0.406), (0.229, 0.224, 0.225)),\n",
    "#             A.Resize(*(480, 640)),\n",
    "#             ToTensorV2()\n",
    "#         ])\n",
    "\n",
    "#     def __call__(self, img, *args, **kwargs):\n",
    "#         return self.transforms(image=img)"
   ]
  },
  {
   "cell_type": "code",
   "execution_count": 12,
   "id": "c6ecab5b-a7fc-4f2b-adc2-04d985c66e3c",
   "metadata": {
    "tags": []
   },
   "outputs": [],
   "source": [
    "# \"\"\"Partially adapted from LoFTR code: https://github.com/zju3dv/LoFTR/tree/master/src/utils\"\"\"\n",
    "# \"\"\"Partially adapted from LoFTR code: https://github.com/zju3dv/LoFTR/tree/master/src/datasets/scannet.py\"\"\"\n",
    "\n",
    "\n",
    "# class JPEGReader:\n",
    "#     def __init__(self):\n",
    "#         self.reader = TurboJPEG()\n",
    "        \n",
    "#     def __call__(self, path):\n",
    "#         with open(path, 'rb') as f:\n",
    "#             image = self.reader.decode(f.read(), 0)\n",
    "#         return image\n",
    "\n",
    "    \n",
    "# class ImageTransform:\n",
    "#     def __init__(self, size):\n",
    "#         self.transforms = A.Compose([    \n",
    "#             A.Normalize((0.485, 0.456, 0.406), (0.229, 0.224, 0.225)),\n",
    "#             A.Resize(*size),\n",
    "#             ToTensorV2()\n",
    "#         ])\n",
    "\n",
    "#     def __call__(self, img, *args, **kwargs):\n",
    "#         return self.transforms(image=img)\n",
    "    \n",
    "    \n",
    "# def read_depth(path):\n",
    "#     depth = cv2.imread(str(path), cv2.IMREAD_UNCHANGED)\n",
    "#     depth = depth / 1000\n",
    "#     return depth\n",
    "    \n",
    "\n",
    "# def read_pose(path: np.ndarray):\n",
    "#     \"\"\" Read ScanNet's Camera2World pose and transform it to World2Camera.\n",
    "#     :param pose_w2c: (4, 4)\n",
    "#     \"\"\"\n",
    "#     cam2world = np.loadtxt(path, delimiter=' ')\n",
    "#     world2cam = inv(cam2world)\n",
    "#     return world2cam\n",
    "\n",
    "\n",
    "# class ScanNetDataset(Dataset):\n",
    "#     def __init__(self,\n",
    "#                  root_dir: str,\n",
    "#                  npz_path: str,\n",
    "#                  intrinsics_path: str, \n",
    "#                  mode: str=None,\n",
    "#                  mode_rgb_read: str='rgb',\n",
    "#                  size: Tuple[float, float]=(640, 480),\n",
    "#                  calculate_flow: bool=False,\n",
    "#                  **kwargs):\n",
    "#         \"\"\"Manage one scene of ScanNet Dataset.\n",
    "#         :param root_dir: ScanNet root directory that contains scene folders.\n",
    "#         :param npz_path: {scene_id}.npz path. This contains image pair information of a scene.\n",
    "#         :param intrinsics_path: path to intrinsics.npz\n",
    "#         :param mode: options are ['train', 'val', 'test'].\n",
    "#         :param mode_rgb_read: read in 'gray' or 'rgb' mode\n",
    "#         :param size: the size of depth image\n",
    "#         :param calculate_flow: whether to calculate optical flow\n",
    "#         \"\"\"\n",
    "#         super().__init__()\n",
    "#         self.root_dir = root_dir\n",
    "\n",
    "#         self.mode_rgb_read = mode_rgb_read\n",
    "#         self.size = size\n",
    "#         self.calculate_flow = calculate_flow\n",
    "        \n",
    "#         with np.load(npz_path) as data:\n",
    "#             self.data_names = data['name']\n",
    "#         self.intrinsics = np.load(intrinsics_path)\n",
    "            \n",
    "#         self.jpeg_reader = JPEGReader()\n",
    "#         self.rgb_transform = ImageTransform(size)\n",
    "        \n",
    "#     def __len__(self):\n",
    "#         return len(self.data_names)\n",
    "    \n",
    "#     def _read_abs_pose(self, scene_name, name):\n",
    "#         path = osp.join(self.root_dir, scene_name, 'pose', f'{name}.txt')\n",
    "#         return read_pose(path)\n",
    "\n",
    "#     def _compute_rel_pose(self, scene_name, name0, name1):\n",
    "#         pose0 = self._read_abs_pose(scene_name, name0)\n",
    "#         pose1 = self._read_abs_pose(scene_name, name1)\n",
    "#         return pose1 @ inv(pose0)\n",
    "\n",
    "#     def __getitem__(self, idx):\n",
    "#         data_name = self.data_names[idx]\n",
    "#         scene_name, scene_sub_name, stem_name_0, stem_name_1 = data_name\n",
    "#         pair_name  = f'{scene_name}_{scene_sub_name}_{stem_name_0}_{stem_name_1}'\n",
    "#         scene_name = f'scene{scene_name:04d}_{scene_sub_name:02d}'\n",
    "\n",
    "#         img_name0 = osp.join(self.root_dir, scene_name, 'color', f'{stem_name_0}.jpg')\n",
    "#         img_name1 = osp.join(self.root_dir, scene_name, 'color', f'{stem_name_1}.jpg')\n",
    "        \n",
    "#         image0 = self.rgb_transform(self.jpeg_reader(img_name0))\n",
    "#         image1 = self.rgb_transform(self.jpeg_reader(img_name1))\n",
    "\n",
    "#         K_0 = K_1 = self.intrinsics[scene_name].reshape(3, 3).copy()\n",
    "#         T_0 = self._read_abs_pose(scene_name, stem_name_0)\n",
    "#         T_1 = self._read_abs_pose(scene_name, stem_name_1)\n",
    "        \n",
    "#         if self.calculate_flow:\n",
    "#             depth0 = read_depth(osp.join(self.root_dir, scene_name, 'depth', f'{stem_name_0}.png'))\n",
    "#             flow_0to1, mask = optical_flow(depth0, T_0, T_1, K_0, K_1, mask=True, normalize=False)\n",
    "        \n",
    "#         T_0to1 = torch.tensor(self._compute_rel_pose(scene_name, stem_name_0, stem_name_1),\n",
    "#                               dtype=torch.float32)\n",
    "\n",
    "#         data = {\n",
    "#             'image0': image0,  \n",
    "#             'image1': image1,\n",
    "#             'depth0': depth0.fl,\n",
    "#             'K0': K_0.astype('float32'),\n",
    "#             'K1': K_1.astype('float32'),\n",
    "#             'T_0to1': T_0to1,\n",
    "#             'T_0': torch.from_numpy(self._read_abs_pose(scene_name, stem_name_0,)).float(),\n",
    "#             'T_1': torch.from_numpy(self._read_abs_pose(scene_name, stem_name_1,)).float(),\n",
    "#             'dataset_name': 'ScanNet',\n",
    "#             'scene_id': scene_name,\n",
    "#             'pair_id': idx,\n",
    "#             'pair_name': pair_name,\n",
    "#             'pair_names': (osp.join(scene_name, 'color', f'{stem_name_0}.jpg'),\n",
    "#                            osp.join(scene_name, 'color', f'{stem_name_1}.jpg'))\n",
    "\n",
    "#             }\n",
    "        \n",
    "# #         if self.calculate_flow:\n",
    "# #             data['flow_0to1'] = torch.from_numpy(flow_0to1.astype('float32'))\n",
    "# #             data['mask'] = torch.from_numpy(mask)\n",
    "            \n",
    "#         return data\n",
    "\n",
    "   \n",
    "\n"
   ]
  },
  {
   "cell_type": "code",
   "execution_count": null,
   "id": "92828589-7e9d-46bf-b762-902d2ee2a1f2",
   "metadata": {},
   "outputs": [],
   "source": []
  },
  {
   "cell_type": "code",
   "execution_count": null,
   "id": "644c60fc-f1e6-4c5a-aa34-1e23fd8ee737",
   "metadata": {},
   "outputs": [],
   "source": []
  }
 ],
 "metadata": {
  "kernelspec": {
   "display_name": "Python 3 (ipykernel)",
   "language": "python",
   "name": "python3"
  },
  "language_info": {
   "codemirror_mode": {
    "name": "ipython",
    "version": 3
   },
   "file_extension": ".py",
   "mimetype": "text/x-python",
   "name": "python",
   "nbconvert_exporter": "python",
   "pygments_lexer": "ipython3",
   "version": "3.8.10"
  }
 },
 "nbformat": 4,
 "nbformat_minor": 5
}
